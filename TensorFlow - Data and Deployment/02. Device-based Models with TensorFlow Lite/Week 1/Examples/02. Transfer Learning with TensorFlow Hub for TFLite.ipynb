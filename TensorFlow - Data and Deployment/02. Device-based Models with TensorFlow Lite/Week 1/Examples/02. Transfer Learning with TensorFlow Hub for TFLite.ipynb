{
  "cells": [
    {
      "cell_type": "markdown",
      "metadata": {
        "colab_type": "text",
        "id": "oYM61xrTsP5d"
      },
      "source": [
        "# Transfer Learning with TensorFlow Hub for TFLite"
      ]
    },
    {
      "cell_type": "markdown",
      "metadata": {
        "colab_type": "text",
        "id": "bL54LWCHt5q5"
      },
      "source": [
        "## Setup "
      ]
    },
    {
      "cell_type": "code",
      "execution_count": 1,
      "metadata": {
        "colab": {},
        "colab_type": "code",
        "id": "dlauq-4FWGZM"
      },
      "outputs": [
        {
          "output_type": "stream",
          "name": "stdout",
          "text": [
            "• Using TensorFlow Version: 2.3.1\n• Using TensorFlow Hub Version:  0.9.0\n• GPU Device Found.\n"
          ]
        }
      ],
      "source": [
        "import numpy as np\n",
        "import matplotlib.pylab as plt\n",
        "\n",
        "import tensorflow as tf\n",
        "import tensorflow_hub as hub\n",
        "import tensorflow_datasets as tfds\n",
        "tfds.disable_progress_bar()\n",
        "\n",
        "from tqdm import tqdm\n",
        "\n",
        "print(\"\\u2022 Using TensorFlow Version:\", tf.__version__)\n",
        "print(\"\\u2022 Using TensorFlow Hub Version: \", hub.__version__)\n",
        "print('\\u2022 GPU Device Found.' if tf.config.list_physical_devices('GPU') else '\\u2022 GPU Device Not Found. Running on CPU')"
      ]
    },
    {
      "cell_type": "code",
      "execution_count": 2,
      "metadata": {},
      "outputs": [],
      "source": [
        "import os\n",
        "\n",
        "def check_dir(path):\n",
        "    if not os.path.isdir(path):\n",
        "        os.mkdir(path)\n",
        "\n",
        "TEMP_DIR = 'tmp2'\n",
        "DATA_DIR = '../../../dataset'\n",
        "\n",
        "check_dir(TEMP_DIR)\n",
        "check_dir(DATA_DIR)"
      ]
    },
    {
      "cell_type": "markdown",
      "metadata": {
        "colab_type": "text",
        "id": "mmaHHH7Pvmth"
      },
      "source": [
        "## Select the Hub/TF2 Module to Use\n",
        "\n",
        "Hub modules for TF 1.x won't work here, please use one of the selections provided."
      ]
    },
    {
      "cell_type": "code",
      "execution_count": 3,
      "metadata": {
        "cellView": "both",
        "colab": {},
        "colab_type": "code",
        "id": "FlsEcKVeuCnf"
      },
      "outputs": [
        {
          "output_type": "stream",
          "name": "stdout",
          "text": [
            "Using https://tfhub.dev/google/tf2-preview/mobilenet_v2/feature_vector/4 with input size (224, 224) and output dimension 1280\n"
          ]
        }
      ],
      "source": [
        "module_selection = (\"mobilenet_v2\", 224, 1280) #@param [\"(\\\"mobilenet_v2\\\", 224, 1280)\", \"(\\\"inception_v3\\\", 299, 2048)\"] {type:\"raw\", allow-input: true}\n",
        "handle_base, pixels, FV_SIZE = module_selection\n",
        "MODULE_HANDLE =\"https://tfhub.dev/google/tf2-preview/{}/feature_vector/4\".format(handle_base)\n",
        "IMAGE_SIZE = (pixels, pixels)\n",
        "print(\"Using {} with input size {} and output dimension {}\".format(MODULE_HANDLE, IMAGE_SIZE, FV_SIZE))"
      ]
    },
    {
      "cell_type": "markdown",
      "metadata": {
        "colab_type": "text",
        "id": "sYUsgwCBv87A"
      },
      "source": [
        "## Data Preprocessing"
      ]
    },
    {
      "cell_type": "markdown",
      "metadata": {
        "colab_type": "text",
        "id": "8nqVX3KYwGPh"
      },
      "source": [
        "Use [TensorFlow Datasets](http://tensorflow.org/datasets) to load the cats and dogs dataset.\n",
        "\n",
        "This `tfds` package is the easiest way to load pre-defined data. If you have your own data, and are interested in importing using it with TensorFlow see [loading image data](../load_data/images.ipynb)\n"
      ]
    },
    {
      "cell_type": "markdown",
      "metadata": {
        "colab_type": "text",
        "id": "YkF4Boe5wN7N"
      },
      "source": [
        "The `tfds.load` method downloads and caches the data, and returns a `tf.data.Dataset` object. These objects provide powerful, efficient methods for manipulating data and piping it into your model.\n",
        "\n",
        "Since `\"cats_vs_dog\"` doesn't define standard splits, use the subsplit feature to divide it into (train, validation, test) with 80%, 10%, 10% of the data respectively."
      ]
    },
    {
      "cell_type": "code",
      "execution_count": 4,
      "metadata": {
        "colab": {},
        "colab_type": "code",
        "id": "SQ9xK9F2wGD8"
      },
      "outputs": [],
      "source": [
        "splits, info = tfds.load('cats_vs_dogs', with_info=True, as_supervised=True, \n",
        "                        split=['train[:80%]', 'train[80%:90%]', 'train[90%:]'], \n",
        "                        data_dir=DATA_DIR)\n",
        "\n",
        "(train_examples, validation_examples, test_examples) = splits\n",
        "\n",
        "num_examples = info.splits['train'].num_examples\n",
        "num_classes = info.features['label'].num_classes"
      ]
    },
    {
      "cell_type": "markdown",
      "metadata": {
        "colab_type": "text",
        "id": "pmXQYXNWwf19"
      },
      "source": [
        "### Format the Data\n",
        "\n",
        "Use the `tf.image` module to format the images for the task.\n",
        "\n",
        "Resize the images to a fixes input size, and rescale the input channels"
      ]
    },
    {
      "cell_type": "code",
      "execution_count": 5,
      "metadata": {
        "colab": {},
        "colab_type": "code",
        "id": "y7UyXblSwkUS"
      },
      "outputs": [],
      "source": [
        "def format_image(image, label):\n",
        "    image = tf.image.resize(image, IMAGE_SIZE) / 255.0\n",
        "    return  image, label"
      ]
    },
    {
      "cell_type": "markdown",
      "metadata": {
        "colab_type": "text",
        "id": "1nrDR8CnwrVk"
      },
      "source": [
        "Now shuffle and batch the data\n"
      ]
    },
    {
      "cell_type": "code",
      "execution_count": 6,
      "metadata": {
        "cellView": "both",
        "colab": {},
        "colab_type": "code",
        "id": "zAEUG7vawxLm"
      },
      "outputs": [],
      "source": [
        "BATCH_SIZE = 32 #@param {type:\"integer\"}"
      ]
    },
    {
      "cell_type": "code",
      "execution_count": 7,
      "metadata": {
        "colab": {},
        "colab_type": "code",
        "id": "fHEC9mbswxvM"
      },
      "outputs": [],
      "source": [
        "train_batches = train_examples.shuffle(num_examples // 4).map(format_image).batch(BATCH_SIZE).prefetch(1)\n",
        "validation_batches = validation_examples.map(format_image).batch(BATCH_SIZE).prefetch(1)\n",
        "test_batches = test_examples.map(format_image).batch(1)"
      ]
    },
    {
      "cell_type": "markdown",
      "metadata": {
        "colab_type": "text",
        "id": "ghQhZjgEw1cK"
      },
      "source": [
        "Inspect a batch"
      ]
    },
    {
      "cell_type": "code",
      "execution_count": 8,
      "metadata": {
        "colab": {},
        "colab_type": "code",
        "id": "gz0xsMCjwx54"
      },
      "outputs": [
        {
          "output_type": "execute_result",
          "data": {
            "text/plain": [
              "TensorShape([32, 224, 224, 3])"
            ]
          },
          "metadata": {},
          "execution_count": 8
        }
      ],
      "source": [
        "for image_batch, label_batch in train_batches.take(1):\n",
        "    pass\n",
        "\n",
        "image_batch.shape"
      ]
    },
    {
      "cell_type": "markdown",
      "metadata": {
        "colab_type": "text",
        "id": "FS_gVStowW3G"
      },
      "source": [
        "## Defining the Model\n",
        "\n",
        "All it takes is to put a linear classifier on top of the `feature_extractor_layer` with the Hub module.\n",
        "\n",
        "For speed, we start out with a non-trainable `feature_extractor_layer`, but you can also enable fine-tuning for greater accuracy."
      ]
    },
    {
      "cell_type": "code",
      "execution_count": 9,
      "metadata": {
        "cellView": "form",
        "colab": {},
        "colab_type": "code",
        "id": "RaJW3XrPyFiF"
      },
      "outputs": [],
      "source": [
        "do_fine_tuning = False #@param {type:\"boolean\"}"
      ]
    },
    {
      "cell_type": "markdown",
      "metadata": {
        "colab_type": "text",
        "id": "wd0KfstqaUmE"
      },
      "source": [
        "Load TFHub Module"
      ]
    },
    {
      "cell_type": "code",
      "execution_count": 10,
      "metadata": {
        "colab": {},
        "colab_type": "code",
        "id": "svvDrt3WUrrm"
      },
      "outputs": [],
      "source": [
        "feature_extractor = hub.KerasLayer(MODULE_HANDLE,\n",
        "                                   input_shape=IMAGE_SIZE + (3,), \n",
        "                                   output_shape=[FV_SIZE],\n",
        "                                   trainable=do_fine_tuning)"
      ]
    },
    {
      "cell_type": "code",
      "execution_count": 11,
      "metadata": {
        "colab": {},
        "colab_type": "code",
        "id": "50FYNIb1dmJH"
      },
      "outputs": [
        {
          "output_type": "stream",
          "name": "stdout",
          "text": [
            "Building model with https://tfhub.dev/google/tf2-preview/mobilenet_v2/feature_vector/4\n",
            "Model: \"sequential\"\n",
            "_________________________________________________________________\n",
            "Layer (type)                 Output Shape              Param #   \n",
            "=================================================================\n",
            "keras_layer (KerasLayer)     (None, 1280)              2257984   \n",
            "_________________________________________________________________\n",
            "dense (Dense)                (None, 2)                 2562      \n",
            "=================================================================\n",
            "Total params: 2,260,546\n",
            "Trainable params: 2,562\n",
            "Non-trainable params: 2,257,984\n",
            "_________________________________________________________________\n"
          ]
        }
      ],
      "source": [
        "print(\"Building model with\", MODULE_HANDLE)\n",
        "\n",
        "model = tf.keras.Sequential([\n",
        "        feature_extractor,\n",
        "        tf.keras.layers.Dense(num_classes, activation='softmax')\n",
        "])\n",
        "\n",
        "model.summary()"
      ]
    },
    {
      "cell_type": "code",
      "execution_count": 12,
      "metadata": {},
      "outputs": [],
      "source": [
        "#@title (Optional) Unfreeze some layers\n",
        "NUM_LAYERS = 10 #@param {type:\"slider\", min:1, max:50, step:1}\n",
        "      \n",
        "if do_fine_tuning:\n",
        "    feature_extractor.trainable = True\n",
        "    \n",
        "    for layer in model.layers[-NUM_LAYERS:]:\n",
        "        layer.trainable = True\n",
        "\n",
        "else:\n",
        "    feature_extractor.trainable = False"
      ]
    },
    {
      "cell_type": "markdown",
      "metadata": {
        "colab_type": "text",
        "id": "u2e5WupIw2N2"
      },
      "source": [
        "## Training the Model"
      ]
    },
    {
      "cell_type": "code",
      "execution_count": 13,
      "metadata": {
        "colab": {},
        "colab_type": "code",
        "id": "9f3yBUvkd_VJ"
      },
      "outputs": [],
      "source": [
        "if do_fine_tuning:\n",
        "    model.compile(optimizer=tf.keras.optimizers.SGD(lr=0.002, momentum=0.9),\n",
        "                  loss=tf.keras.losses.SparseCategoricalCrossentropy(),\n",
        "                  metrics=['accuracy'])\n",
        "else:\n",
        "    model.compile(optimizer='adam',\n",
        "                  loss='sparse_categorical_crossentropy',\n",
        "                  metrics=['accuracy'])"
      ]
    },
    {
      "cell_type": "code",
      "execution_count": 14,
      "metadata": {
        "colab": {},
        "colab_type": "code",
        "id": "w_YKX2Qnfg6x"
      },
      "outputs": [
        {
          "output_type": "stream",
          "name": "stdout",
          "text": [
            "Epoch 1/5\n",
            "582/582 [==============================] - 63s 108ms/step - loss: 0.0516 - accuracy: 0.9825 - val_loss: 0.0373 - val_accuracy: 0.9862\n",
            "Epoch 2/5\n",
            "582/582 [==============================] - 57s 97ms/step - loss: 0.0300 - accuracy: 0.9896 - val_loss: 0.0392 - val_accuracy: 0.9867\n",
            "Epoch 3/5\n",
            "582/582 [==============================] - 57s 98ms/step - loss: 0.0246 - accuracy: 0.9915 - val_loss: 0.0375 - val_accuracy: 0.9880\n",
            "Epoch 4/5\n",
            "582/582 [==============================] - 56s 96ms/step - loss: 0.0208 - accuracy: 0.9928 - val_loss: 0.0404 - val_accuracy: 0.9871\n",
            "Epoch 5/5\n",
            "582/582 [==============================] - 56s 96ms/step - loss: 0.0188 - accuracy: 0.9938 - val_loss: 0.0381 - val_accuracy: 0.9893\n"
          ]
        }
      ],
      "source": [
        "EPOCHS = 5\n",
        "\n",
        "hist = model.fit(train_batches,\n",
        "                 epochs=EPOCHS,\n",
        "                 validation_data=validation_batches)"
      ]
    },
    {
      "cell_type": "markdown",
      "metadata": {
        "colab_type": "text",
        "id": "u_psFoTeLpHU"
      },
      "source": [
        "## Export the Model"
      ]
    },
    {
      "cell_type": "code",
      "execution_count": 15,
      "metadata": {
        "colab": {},
        "colab_type": "code",
        "id": "XaSb5nVzHcVv"
      },
      "outputs": [],
      "source": [
        "CATS_VS_DOGS_SAVED_MODEL = f\"{TEMP_DIR}/exp_saved_model\""
      ]
    },
    {
      "cell_type": "markdown",
      "metadata": {
        "colab_type": "text",
        "id": "fZqRAg1uz1Nu"
      },
      "source": [
        "Export the SavedModel"
      ]
    },
    {
      "cell_type": "code",
      "execution_count": 16,
      "metadata": {
        "colab": {},
        "colab_type": "code",
        "id": "yJMue5YgnwtN"
      },
      "outputs": [
        {
          "output_type": "stream",
          "name": "stdout",
          "text": [
            "WARNING:tensorflow:From c:\\users\\wahyu setianto\\appdata\\local\\programs\\python\\python38\\lib\\site-packages\\tensorflow\\python\\training\\tracking\\tracking.py:111: Model.state_updates (from tensorflow.python.keras.engine.training) is deprecated and will be removed in a future version.\n",
            "Instructions for updating:\n",
            "This property should not be used in TensorFlow 2.0, as updates are applied automatically.\n",
            "WARNING:tensorflow:From c:\\users\\wahyu setianto\\appdata\\local\\programs\\python\\python38\\lib\\site-packages\\tensorflow\\python\\training\\tracking\\tracking.py:111: Model.state_updates (from tensorflow.python.keras.engine.training) is deprecated and will be removed in a future version.\n",
            "Instructions for updating:\n",
            "This property should not be used in TensorFlow 2.0, as updates are applied automatically.\n",
            "WARNING:tensorflow:From c:\\users\\wahyu setianto\\appdata\\local\\programs\\python\\python38\\lib\\site-packages\\tensorflow\\python\\training\\tracking\\tracking.py:111: Layer.updates (from tensorflow.python.keras.engine.base_layer) is deprecated and will be removed in a future version.\n",
            "Instructions for updating:\n",
            "This property should not be used in TensorFlow 2.0, as updates are applied automatically.\n",
            "WARNING:tensorflow:From c:\\users\\wahyu setianto\\appdata\\local\\programs\\python\\python38\\lib\\site-packages\\tensorflow\\python\\training\\tracking\\tracking.py:111: Layer.updates (from tensorflow.python.keras.engine.base_layer) is deprecated and will be removed in a future version.\n",
            "Instructions for updating:\n",
            "This property should not be used in TensorFlow 2.0, as updates are applied automatically.\n",
            "INFO:tensorflow:Assets written to: tmp2/exp_saved_model\\assets\n",
            "INFO:tensorflow:Assets written to: tmp2/exp_saved_model\\assets\n"
          ]
        }
      ],
      "source": [
        "tf.saved_model.save(model, CATS_VS_DOGS_SAVED_MODEL)"
      ]
    },
    {
      "cell_type": "code",
      "execution_count": 17,
      "metadata": {
        "colab": {},
        "colab_type": "code",
        "id": "FY7QGBgBytwX"
      },
      "outputs": [],
      "source": [
        "loaded = tf.saved_model.load(CATS_VS_DOGS_SAVED_MODEL)"
      ]
    },
    {
      "cell_type": "code",
      "execution_count": 18,
      "metadata": {
        "colab": {},
        "colab_type": "code",
        "id": "tIhPyMISz952"
      },
      "outputs": [
        {
          "output_type": "stream",
          "name": "stdout",
          "text": [
            "['serving_default']\n((), {'keras_layer_input': TensorSpec(shape=(None, 224, 224, 3), dtype=tf.float32, name='keras_layer_input')})\n{'dense': TensorSpec(shape=(None, 2), dtype=tf.float32, name='dense')}\n"
          ]
        }
      ],
      "source": [
        "print(list(loaded.signatures.keys()))\n",
        "infer = loaded.signatures[\"serving_default\"]\n",
        "print(infer.structured_input_signature)\n",
        "print(infer.structured_outputs)"
      ]
    },
    {
      "cell_type": "markdown",
      "metadata": {
        "colab_type": "text",
        "id": "XxLiLC8n0H16"
      },
      "source": [
        "## Convert Using TFLite's Converter"
      ]
    },
    {
      "cell_type": "markdown",
      "metadata": {
        "colab_type": "text",
        "id": "1aUYvCpfWmrQ"
      },
      "source": [
        "Load the TFLiteConverter with the SavedModel"
      ]
    },
    {
      "cell_type": "code",
      "execution_count": 19,
      "metadata": {
        "colab": {},
        "colab_type": "code",
        "id": "dqJRyIg8Wl1n"
      },
      "outputs": [],
      "source": [
        "converter = tf.lite.TFLiteConverter.from_saved_model(CATS_VS_DOGS_SAVED_MODEL)"
      ]
    },
    {
      "cell_type": "markdown",
      "metadata": {
        "colab_type": "text",
        "id": "AudcNjT0UtfF"
      },
      "source": [
        "### Post-Training Quantization\n",
        "The simplest form of post-training quantization quantizes weights from floating point to 8-bits of precision. This technique is enabled as an option in the TensorFlow Lite converter. At inference, weights are converted from 8-bits of precision to floating point and computed using floating-point kernels. This conversion is done once and cached to reduce latency.\n",
        "\n",
        "To further improve latency, hybrid operators dynamically quantize activations to 8-bits and perform computations with 8-bit weights and activations. This optimization provides latencies close to fully fixed-point inference. However, the outputs are still stored using floating point, so that the speedup with hybrid ops is less than a full fixed-point computation."
      ]
    },
    {
      "cell_type": "code",
      "execution_count": 20,
      "metadata": {
        "colab": {},
        "colab_type": "code",
        "id": "WmSr2-yZoUhz"
      },
      "outputs": [],
      "source": [
        "converter.optimizations = [tf.lite.Optimize.DEFAULT]"
      ]
    },
    {
      "cell_type": "markdown",
      "metadata": {
        "colab_type": "text",
        "id": "YpCijI08UxP0"
      },
      "source": [
        "### Post-Training Integer Quantization\n",
        "We can get further latency improvements, reductions in peak memory usage, and access to integer only hardware accelerators by making sure all model math is quantized. To do this, we need to measure the dynamic range of activations and inputs with a representative data set. You can simply create an input data generator and provide it to our converter."
      ]
    },
    {
      "cell_type": "code",
      "execution_count": 21,
      "metadata": {
        "colab": {},
        "colab_type": "code",
        "id": "clM_dTIkWdIa"
      },
      "outputs": [],
      "source": [
        "def representative_data_gen():\n",
        "    for input_value, _ in test_batches.take(100):\n",
        "        yield [input_value]"
      ]
    },
    {
      "cell_type": "code",
      "execution_count": 22,
      "metadata": {
        "colab": {},
        "colab_type": "code",
        "id": "0oPkAxDvUias"
      },
      "outputs": [],
      "source": [
        "converter.representative_dataset = representative_data_gen"
      ]
    },
    {
      "cell_type": "markdown",
      "metadata": {
        "colab_type": "text",
        "id": "IGUAVTqXVfnu"
      },
      "source": [
        "The resulting model will be fully quantized but still take float input and output for convenience.\n",
        "\n",
        "Ops that do not have quantized implementations will automatically be left in floating point. This allows conversion to occur smoothly but may restrict deployment to accelerators that support float. "
      ]
    },
    {
      "cell_type": "markdown",
      "metadata": {
        "colab_type": "text",
        "id": "cPVdjaEJVkHy"
      },
      "source": [
        "### Full Integer Quantization\n",
        "\n",
        "To require the converter to only output integer operations, one can specify:"
      ]
    },
    {
      "cell_type": "code",
      "execution_count": 23,
      "metadata": {
        "colab": {},
        "colab_type": "code",
        "id": "eQi1aO2cVhoL"
      },
      "outputs": [],
      "source": [
        "converter.target_spec.supported_ops = [tf.lite.OpsSet.TFLITE_BUILTINS_INT8]"
      ]
    },
    {
      "cell_type": "markdown",
      "metadata": {
        "colab_type": "text",
        "id": "snwssESbVtFw"
      },
      "source": [
        "### Finally convert the model"
      ]
    },
    {
      "cell_type": "code",
      "execution_count": 24,
      "metadata": {
        "colab": {},
        "colab_type": "code",
        "id": "tUEgr46WVsqd"
      },
      "outputs": [],
      "source": [
        "tflite_model = converter.convert()\n",
        "tflite_model_file = f'{TEMP_DIR}/converted_model.tflite'\n",
        "\n",
        "with open(tflite_model_file, \"wb\") as f:\n",
        "    f.write(tflite_model)"
      ]
    },
    {
      "cell_type": "markdown",
      "metadata": {
        "colab_type": "text",
        "id": "BbTF6nd1KG2o"
      },
      "source": [
        "## Test the TFLite Model Using the Python Interpreter"
      ]
    },
    {
      "cell_type": "code",
      "execution_count": 25,
      "metadata": {
        "colab": {},
        "colab_type": "code",
        "id": "dg2NkVTmLUdJ"
      },
      "outputs": [],
      "source": [
        "# Load TFLite model and allocate tensors.\n",
        "  \n",
        "interpreter = tf.lite.Interpreter(model_path=tflite_model_file)\n",
        "interpreter.allocate_tensors()\n",
        "\n",
        "input_index = interpreter.get_input_details()[0][\"index\"]\n",
        "output_index = interpreter.get_output_details()[0][\"index\"]"
      ]
    },
    {
      "cell_type": "code",
      "execution_count": 26,
      "metadata": {
        "colab": {},
        "colab_type": "code",
        "id": "snJQVs9JNglv"
      },
      "outputs": [
        {
          "output_type": "stream",
          "name": "stderr",
          "text": [
            "100%|██████████| 10/10 [00:22<00:00,  2.29s/it]\n"
          ]
        }
      ],
      "source": [
        "# Gather results for the randomly sampled test images\n",
        "predictions = []\n",
        "\n",
        "test_labels, test_imgs = [], []\n",
        "for img, label in tqdm(test_batches.take(10)):\n",
        "    interpreter.set_tensor(input_index, img)\n",
        "    interpreter.invoke()\n",
        "    predictions.append(interpreter.get_tensor(output_index))\n",
        "    \n",
        "    test_labels.append(label.numpy()[0])\n",
        "    test_imgs.append(img)"
      ]
    },
    {
      "cell_type": "code",
      "execution_count": 27,
      "metadata": {
        "cellView": "form",
        "colab": {},
        "colab_type": "code",
        "id": "YMTWNqPpNiAI"
      },
      "outputs": [],
      "source": [
        "#@title Utility functions for plotting\n",
        "# Utilities for plotting\n",
        "\n",
        "class_names = ['cat', 'dog']\n",
        "\n",
        "def plot_image(i, predictions_array, true_label, img):\n",
        "    predictions_array, true_label, img = predictions_array[i], true_label[i], img[i]\n",
        "    plt.grid(False)\n",
        "    plt.xticks([])\n",
        "    plt.yticks([])\n",
        "    \n",
        "    img = np.squeeze(img)\n",
        "\n",
        "    plt.imshow(img, cmap=plt.cm.binary)\n",
        "    \n",
        "    predicted_label = np.argmax(predictions_array)\n",
        "    \n",
        "    if predicted_label == true_label:\n",
        "        color = 'green'\n",
        "    else:\n",
        "        color = 'red'\n",
        "    \n",
        "    plt.xlabel(\"{} {:2.0f}% ({})\".format(class_names[predicted_label],\n",
        "                                         100*np.max(predictions_array),\n",
        "                                         class_names[true_label]), color=color)"
      ]
    },
    {
      "cell_type": "markdown",
      "metadata": {
        "colab_type": "text",
        "id": "fK_CTyL3XQt1"
      },
      "source": [
        "NOTE: Colab runs on server CPUs. At the time of writing this, TensorFlow Lite doesn't have super optimized server CPU kernels. For this reason post-training full-integer quantized models  may be slower here than the other kinds of optimized models. But for mobile CPUs, considerable speedup can be observed."
      ]
    },
    {
      "cell_type": "code",
      "execution_count": 28,
      "metadata": {
        "cellView": "form",
        "colab": {},
        "colab_type": "code",
        "id": "1-lbnicPNkZs"
      },
      "outputs": [
        {
          "output_type": "display_data",
          "data": {
            "text/plain": "<Figure size 432x216 with 1 Axes>",
            "image/svg+xml": "<?xml version=\"1.0\" encoding=\"utf-8\" standalone=\"no\"?>\r\n<!DOCTYPE svg PUBLIC \"-//W3C//DTD SVG 1.1//EN\"\r\n  \"http://www.w3.org/Graphics/SVG/1.1/DTD/svg11.dtd\">\r\n<!-- Created with matplotlib (https://matplotlib.org/) -->\r\n<svg height=\"180.259943pt\" version=\"1.1\" viewBox=\"0 0 170.081818 180.259943\" width=\"170.081818pt\" xmlns=\"http://www.w3.org/2000/svg\" xmlns:xlink=\"http://www.w3.org/1999/xlink\">\r\n <metadata>\r\n  <rdf:RDF xmlns:cc=\"http://creativecommons.org/ns#\" xmlns:dc=\"http://purl.org/dc/elements/1.1/\" xmlns:rdf=\"http://www.w3.org/1999/02/22-rdf-syntax-ns#\">\r\n   <cc:Work>\r\n    <dc:type rdf:resource=\"http://purl.org/dc/dcmitype/StillImage\"/>\r\n    <dc:date>2021-04-27T11:09:39.912008</dc:date>\r\n    <dc:format>image/svg+xml</dc:format>\r\n    <dc:creator>\r\n     <cc:Agent>\r\n      <dc:title>Matplotlib v3.3.4, https://matplotlib.org/</dc:title>\r\n     </cc:Agent>\r\n    </dc:creator>\r\n   </cc:Work>\r\n  </rdf:RDF>\r\n </metadata>\r\n <defs>\r\n  <style type=\"text/css\">*{stroke-linecap:butt;stroke-linejoin:round;}</style>\r\n </defs>\r\n <g id=\"figure_1\">\r\n  <g id=\"patch_1\">\r\n   <path d=\"M 0 180.259943 \r\nL 170.081818 180.259943 \r\nL 170.081818 0 \r\nL 0 0 \r\nz\r\n\" style=\"fill:none;\"/>\r\n  </g>\r\n  <g id=\"axes_1\">\r\n   <g id=\"patch_2\">\r\n    <path d=\"M 10.7 159.381818 \r\nL 162.881818 159.381818 \r\nL 162.881818 7.2 \r\nL 10.7 7.2 \r\nz\r\n\" style=\"fill:#ffffff;\"/>\r\n   </g>\r\n   <g clip-path=\"url(#p4aa64b55a4)\">\r\n    <image height=\"153\" id=\"image9c76212886\" transform=\"scale(1 -1)translate(0 -153)\" width=\"153\" x=\"10.7\" xlink:href=\"data:image/png;base64,\r\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\" y=\"-6.381818\"/>\r\n   </g>\r\n   <g id=\"matplotlib.axis_1\">\r\n    <g id=\"text_1\">\r\n     <!-- cat 100% (cat) -->\r\n     <g style=\"fill:#008000;\" transform=\"translate(49.869815 170.980256)scale(0.1 -0.1)\">\r\n      <defs>\r\n       <path d=\"M 48.78125 52.59375 \r\nL 48.78125 44.1875 \r\nQ 44.96875 46.296875 41.140625 47.34375 \r\nQ 37.3125 48.390625 33.40625 48.390625 \r\nQ 24.65625 48.390625 19.8125 42.84375 \r\nQ 14.984375 37.3125 14.984375 27.296875 \r\nQ 14.984375 17.28125 19.8125 11.734375 \r\nQ 24.65625 6.203125 33.40625 6.203125 \r\nQ 37.3125 6.203125 41.140625 7.25 \r\nQ 44.96875 8.296875 48.78125 10.40625 \r\nL 48.78125 2.09375 \r\nQ 45.015625 0.34375 40.984375 -0.53125 \r\nQ 36.96875 -1.421875 32.421875 -1.421875 \r\nQ 20.0625 -1.421875 12.78125 6.34375 \r\nQ 5.515625 14.109375 5.515625 27.296875 \r\nQ 5.515625 40.671875 12.859375 48.328125 \r\nQ 20.21875 56 33.015625 56 \r\nQ 37.15625 56 41.109375 55.140625 \r\nQ 45.0625 54.296875 48.78125 52.59375 \r\nz\r\n\" id=\"DejaVuSans-99\"/>\r\n       <path d=\"M 34.28125 27.484375 \r\nQ 23.390625 27.484375 19.1875 25 \r\nQ 14.984375 22.515625 14.984375 16.5 \r\nQ 14.984375 11.71875 18.140625 8.90625 \r\nQ 21.296875 6.109375 26.703125 6.109375 \r\nQ 34.1875 6.109375 38.703125 11.40625 \r\nQ 43.21875 16.703125 43.21875 25.484375 \r\nL 43.21875 27.484375 \r\nz\r\nM 52.203125 31.203125 \r\nL 52.203125 0 \r\nL 43.21875 0 \r\nL 43.21875 8.296875 \r\nQ 40.140625 3.328125 35.546875 0.953125 \r\nQ 30.953125 -1.421875 24.3125 -1.421875 \r\nQ 15.921875 -1.421875 10.953125 3.296875 \r\nQ 6 8.015625 6 15.921875 \r\nQ 6 25.140625 12.171875 29.828125 \r\nQ 18.359375 34.515625 30.609375 34.515625 \r\nL 43.21875 34.515625 \r\nL 43.21875 35.40625 \r\nQ 43.21875 41.609375 39.140625 45 \r\nQ 35.0625 48.390625 27.6875 48.390625 \r\nQ 23 48.390625 18.546875 47.265625 \r\nQ 14.109375 46.140625 10.015625 43.890625 \r\nL 10.015625 52.203125 \r\nQ 14.9375 54.109375 19.578125 55.046875 \r\nQ 24.21875 56 28.609375 56 \r\nQ 40.484375 56 46.34375 49.84375 \r\nQ 52.203125 43.703125 52.203125 31.203125 \r\nz\r\n\" id=\"DejaVuSans-97\"/>\r\n       <path d=\"M 18.3125 70.21875 \r\nL 18.3125 54.6875 \r\nL 36.8125 54.6875 \r\nL 36.8125 47.703125 \r\nL 18.3125 47.703125 \r\nL 18.3125 18.015625 \r\nQ 18.3125 11.328125 20.140625 9.421875 \r\nQ 21.96875 7.515625 27.59375 7.515625 \r\nL 36.8125 7.515625 \r\nL 36.8125 0 \r\nL 27.59375 0 \r\nQ 17.1875 0 13.234375 3.875 \r\nQ 9.28125 7.765625 9.28125 18.015625 \r\nL 9.28125 47.703125 \r\nL 2.6875 47.703125 \r\nL 2.6875 54.6875 \r\nL 9.28125 54.6875 \r\nL 9.28125 70.21875 \r\nz\r\n\" id=\"DejaVuSans-116\"/>\r\n       <path id=\"DejaVuSans-32\"/>\r\n       <path d=\"M 12.40625 8.296875 \r\nL 28.515625 8.296875 \r\nL 28.515625 63.921875 \r\nL 10.984375 60.40625 \r\nL 10.984375 69.390625 \r\nL 28.421875 72.90625 \r\nL 38.28125 72.90625 \r\nL 38.28125 8.296875 \r\nL 54.390625 8.296875 \r\nL 54.390625 0 \r\nL 12.40625 0 \r\nz\r\n\" id=\"DejaVuSans-49\"/>\r\n       <path d=\"M 31.78125 66.40625 \r\nQ 24.171875 66.40625 20.328125 58.90625 \r\nQ 16.5 51.421875 16.5 36.375 \r\nQ 16.5 21.390625 20.328125 13.890625 \r\nQ 24.171875 6.390625 31.78125 6.390625 \r\nQ 39.453125 6.390625 43.28125 13.890625 \r\nQ 47.125 21.390625 47.125 36.375 \r\nQ 47.125 51.421875 43.28125 58.90625 \r\nQ 39.453125 66.40625 31.78125 66.40625 \r\nz\r\nM 31.78125 74.21875 \r\nQ 44.046875 74.21875 50.515625 64.515625 \r\nQ 56.984375 54.828125 56.984375 36.375 \r\nQ 56.984375 17.96875 50.515625 8.265625 \r\nQ 44.046875 -1.421875 31.78125 -1.421875 \r\nQ 19.53125 -1.421875 13.0625 8.265625 \r\nQ 6.59375 17.96875 6.59375 36.375 \r\nQ 6.59375 54.828125 13.0625 64.515625 \r\nQ 19.53125 74.21875 31.78125 74.21875 \r\nz\r\n\" id=\"DejaVuSans-48\"/>\r\n       <path d=\"M 72.703125 32.078125 \r\nQ 68.453125 32.078125 66.03125 28.46875 \r\nQ 63.625 24.859375 63.625 18.40625 \r\nQ 63.625 12.0625 66.03125 8.421875 \r\nQ 68.453125 4.78125 72.703125 4.78125 \r\nQ 76.859375 4.78125 79.265625 8.421875 \r\nQ 81.6875 12.0625 81.6875 18.40625 \r\nQ 81.6875 24.8125 79.265625 28.4375 \r\nQ 76.859375 32.078125 72.703125 32.078125 \r\nz\r\nM 72.703125 38.28125 \r\nQ 80.421875 38.28125 84.953125 32.90625 \r\nQ 89.5 27.546875 89.5 18.40625 \r\nQ 89.5 9.28125 84.9375 3.921875 \r\nQ 80.375 -1.421875 72.703125 -1.421875 \r\nQ 64.890625 -1.421875 60.34375 3.921875 \r\nQ 55.8125 9.28125 55.8125 18.40625 \r\nQ 55.8125 27.59375 60.375 32.9375 \r\nQ 64.9375 38.28125 72.703125 38.28125 \r\nz\r\nM 22.3125 68.015625 \r\nQ 18.109375 68.015625 15.6875 64.375 \r\nQ 13.28125 60.75 13.28125 54.390625 \r\nQ 13.28125 47.953125 15.671875 44.328125 \r\nQ 18.0625 40.71875 22.3125 40.71875 \r\nQ 26.5625 40.71875 28.96875 44.328125 \r\nQ 31.390625 47.953125 31.390625 54.390625 \r\nQ 31.390625 60.6875 28.953125 64.34375 \r\nQ 26.515625 68.015625 22.3125 68.015625 \r\nz\r\nM 66.40625 74.21875 \r\nL 74.21875 74.21875 \r\nL 28.609375 -1.421875 \r\nL 20.796875 -1.421875 \r\nz\r\nM 22.3125 74.21875 \r\nQ 30.03125 74.21875 34.609375 68.875 \r\nQ 39.203125 63.53125 39.203125 54.390625 \r\nQ 39.203125 45.171875 34.640625 39.84375 \r\nQ 30.078125 34.515625 22.3125 34.515625 \r\nQ 14.546875 34.515625 10.03125 39.859375 \r\nQ 5.515625 45.21875 5.515625 54.390625 \r\nQ 5.515625 63.484375 10.046875 68.84375 \r\nQ 14.59375 74.21875 22.3125 74.21875 \r\nz\r\n\" id=\"DejaVuSans-37\"/>\r\n       <path d=\"M 31 75.875 \r\nQ 24.46875 64.65625 21.28125 53.65625 \r\nQ 18.109375 42.671875 18.109375 31.390625 \r\nQ 18.109375 20.125 21.3125 9.0625 \r\nQ 24.515625 -2 31 -13.1875 \r\nL 23.1875 -13.1875 \r\nQ 15.875 -1.703125 12.234375 9.375 \r\nQ 8.59375 20.453125 8.59375 31.390625 \r\nQ 8.59375 42.28125 12.203125 53.3125 \r\nQ 15.828125 64.359375 23.1875 75.875 \r\nz\r\n\" id=\"DejaVuSans-40\"/>\r\n       <path d=\"M 8.015625 75.875 \r\nL 15.828125 75.875 \r\nQ 23.140625 64.359375 26.78125 53.3125 \r\nQ 30.421875 42.28125 30.421875 31.390625 \r\nQ 30.421875 20.453125 26.78125 9.375 \r\nQ 23.140625 -1.703125 15.828125 -13.1875 \r\nL 8.015625 -13.1875 \r\nQ 14.5 -2 17.703125 9.0625 \r\nQ 20.90625 20.125 20.90625 31.390625 \r\nQ 20.90625 42.671875 17.703125 53.65625 \r\nQ 14.5 64.65625 8.015625 75.875 \r\nz\r\n\" id=\"DejaVuSans-41\"/>\r\n      </defs>\r\n      <use xlink:href=\"#DejaVuSans-99\"/>\r\n      <use x=\"54.980469\" xlink:href=\"#DejaVuSans-97\"/>\r\n      <use x=\"116.259766\" xlink:href=\"#DejaVuSans-116\"/>\r\n      <use x=\"155.46875\" xlink:href=\"#DejaVuSans-32\"/>\r\n      <use x=\"187.255859\" xlink:href=\"#DejaVuSans-49\"/>\r\n      <use x=\"250.878906\" xlink:href=\"#DejaVuSans-48\"/>\r\n      <use x=\"314.501953\" xlink:href=\"#DejaVuSans-48\"/>\r\n      <use x=\"378.125\" xlink:href=\"#DejaVuSans-37\"/>\r\n      <use x=\"473.144531\" xlink:href=\"#DejaVuSans-32\"/>\r\n      <use x=\"504.931641\" xlink:href=\"#DejaVuSans-40\"/>\r\n      <use x=\"543.945312\" xlink:href=\"#DejaVuSans-99\"/>\r\n      <use x=\"598.925781\" xlink:href=\"#DejaVuSans-97\"/>\r\n      <use x=\"660.205078\" xlink:href=\"#DejaVuSans-116\"/>\r\n      <use x=\"699.414062\" xlink:href=\"#DejaVuSans-41\"/>\r\n     </g>\r\n    </g>\r\n   </g>\r\n   <g id=\"matplotlib.axis_2\"/>\r\n   <g id=\"patch_3\">\r\n    <path d=\"M 10.7 159.381818 \r\nL 10.7 7.2 \r\n\" style=\"fill:none;stroke:#000000;stroke-linecap:square;stroke-linejoin:miter;stroke-width:0.8;\"/>\r\n   </g>\r\n   <g id=\"patch_4\">\r\n    <path d=\"M 162.881818 159.381818 \r\nL 162.881818 7.2 \r\n\" style=\"fill:none;stroke:#000000;stroke-linecap:square;stroke-linejoin:miter;stroke-width:0.8;\"/>\r\n   </g>\r\n   <g id=\"patch_5\">\r\n    <path d=\"M 10.7 159.381818 \r\nL 162.881818 159.381818 \r\n\" style=\"fill:none;stroke:#000000;stroke-linecap:square;stroke-linejoin:miter;stroke-width:0.8;\"/>\r\n   </g>\r\n   <g id=\"patch_6\">\r\n    <path d=\"M 10.7 7.2 \r\nL 162.881818 7.2 \r\n\" style=\"fill:none;stroke:#000000;stroke-linecap:square;stroke-linejoin:miter;stroke-width:0.8;\"/>\r\n   </g>\r\n  </g>\r\n </g>\r\n <defs>\r\n  <clipPath id=\"p4aa64b55a4\">\r\n   <rect height=\"152.181818\" width=\"152.181818\" x=\"10.7\" y=\"7.2\"/>\r\n  </clipPath>\r\n </defs>\r\n</svg>\r\n",
            "image/png": "[encoded data removed]"
          },
          "metadata": {}
        }
      ],
      "source": [
        "#@title Visualize the outputs { run: \"auto\" }\n",
        "index = 0 #@param {type:\"slider\", min:0, max:9, step:1}\n",
        "plt.figure(figsize=(6,3))\n",
        "plt.subplot(1,2,1)\n",
        "plot_image(index, predictions, test_labels, test_imgs)\n",
        "plt.show()"
      ]
    },
    {
      "cell_type": "markdown",
      "metadata": {
        "colab_type": "text",
        "id": "PmZRieHmKLY5"
      },
      "source": [
        "Create a file to save the labels."
      ]
    },
    {
      "cell_type": "code",
      "execution_count": 29,
      "metadata": {},
      "outputs": [],
      "source": [
        "labels = ['cat', 'dog']\n",
        "\n",
        "with open(f'{TEMP_DIR}/labels.txt', 'w') as f:\n",
        "    f.write('\\n'.join(labels))"
      ]
    },
    {
      "cell_type": "markdown",
      "metadata": {
        "colab_type": "text",
        "id": "BDlmpjC6VnFZ"
      },
      "source": [
        "# Prepare the Test Images for Download (Optional)"
      ]
    },
    {
      "cell_type": "markdown",
      "metadata": {
        "colab_type": "text",
        "id": "_1ja_WA0WZOH"
      },
      "source": [
        "This part involves downloading additional test images for the Mobile Apps only in case you need to try out more samples"
      ]
    },
    {
      "cell_type": "code",
      "execution_count": 30,
      "metadata": {
        "colab": {},
        "colab_type": "code",
        "id": "fzLKEBrfTREA"
      },
      "outputs": [],
      "source": [
        "os.mkdir(f'{TEMP_DIR}/test_images')"
      ]
    },
    {
      "cell_type": "code",
      "execution_count": 31,
      "metadata": {
        "colab": {},
        "colab_type": "code",
        "id": "Qn7ukNQCSewb"
      },
      "outputs": [],
      "source": [
        "from PIL import Image\n",
        "\n",
        "for index, (image, label) in enumerate(test_batches.take(50)):\n",
        "    image = tf.cast(image * 255.0, tf.uint8)\n",
        "    image = tf.squeeze(image).numpy()\n",
        "    pil_image = Image.fromarray(image)\n",
        "    pil_image.save('{}/test_images/{}_{}.jpg'.format(TEMP_DIR, class_names[label[0]], index))"
      ]
    },
    {
      "cell_type": "code",
      "execution_count": 32,
      "metadata": {
        "colab": {},
        "colab_type": "code",
        "id": "xVKKWUG8UMO5"
      },
      "outputs": [
        {
          "output_type": "execute_result",
          "data": {
            "text/plain": [
              "['cat_0.jpg',\n",
              " 'cat_11.jpg',\n",
              " 'cat_12.jpg',\n",
              " 'cat_14.jpg',\n",
              " 'cat_15.jpg',\n",
              " 'cat_16.jpg',\n",
              " 'cat_18.jpg',\n",
              " 'cat_19.jpg',\n",
              " 'cat_20.jpg',\n",
              " 'cat_21.jpg',\n",
              " 'cat_22.jpg',\n",
              " 'cat_23.jpg',\n",
              " 'cat_24.jpg',\n",
              " 'cat_25.jpg',\n",
              " 'cat_26.jpg',\n",
              " 'cat_28.jpg',\n",
              " 'cat_3.jpg',\n",
              " 'cat_30.jpg',\n",
              " 'cat_31.jpg',\n",
              " 'cat_32.jpg',\n",
              " 'cat_34.jpg',\n",
              " 'cat_35.jpg',\n",
              " 'cat_36.jpg',\n",
              " 'cat_39.jpg',\n",
              " 'cat_4.jpg',\n",
              " 'cat_40.jpg',\n",
              " 'cat_42.jpg',\n",
              " 'cat_43.jpg',\n",
              " 'cat_45.jpg',\n",
              " 'cat_46.jpg',\n",
              " 'cat_47.jpg',\n",
              " 'cat_5.jpg',\n",
              " 'cat_7.jpg',\n",
              " 'cat_8.jpg',\n",
              " 'cat_9.jpg',\n",
              " 'dog_1.jpg',\n",
              " 'dog_10.jpg',\n",
              " 'dog_13.jpg',\n",
              " 'dog_17.jpg',\n",
              " 'dog_2.jpg',\n",
              " 'dog_27.jpg',\n",
              " 'dog_29.jpg',\n",
              " 'dog_33.jpg',\n",
              " 'dog_37.jpg',\n",
              " 'dog_38.jpg',\n",
              " 'dog_41.jpg',\n",
              " 'dog_44.jpg',\n",
              " 'dog_48.jpg',\n",
              " 'dog_49.jpg',\n",
              " 'dog_6.jpg']"
            ]
          },
          "metadata": {},
          "execution_count": 32
        }
      ],
      "source": [
        "os.listdir(f'{TEMP_DIR}/test_images')"
      ]
    },
    {
      "cell_type": "code",
      "execution_count": 33,
      "metadata": {
        "colab": {},
        "colab_type": "code",
        "id": "l_w_-UdlS9Vi"
      },
      "outputs": [],
      "source": [
        "import shutil\n",
        "shutil.make_archive(f'{TEMP_DIR}/cats_vs_dogs_test_images', 'zip', f'{TEMP_DIR}/test_images')\n",
        "shutil.rmtree(f'{TEMP_DIR}/test_images')"
      ]
    }
  ],
  "metadata": {
    "accelerator": "GPU",
    "colab": {
      "collapsed_sections": [],
      "name": "TFLite_Week1_Transfer_Learning.ipynb",
      "private_outputs": true,
      "provenance": [],
      "toc_visible": true
    },
    "kernelspec": {
      "display_name": "Python 3",
      "language": "python",
      "name": "python3"
    },
    "language_info": {
      "codemirror_mode": {
        "name": "ipython",
        "version": 3
      },
      "file_extension": ".py",
      "mimetype": "text/x-python",
      "name": "python",
      "nbconvert_exporter": "python",
      "pygments_lexer": "ipython3",
      "version": "3.8.7"
    }
  },
  "nbformat": 4,
  "nbformat_minor": 1
}