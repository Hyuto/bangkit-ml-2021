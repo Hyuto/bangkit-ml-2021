{
 "cells": [
  {
   "cell_type": "markdown",
   "metadata": {
    "colab_type": "text",
    "id": "HQswfu6M_ZBR"
   },
   "source": [
    "# Exploratory Data Analysis"
   ]
  },
  {
   "cell_type": "markdown",
   "metadata": {
    "colab_type": "text",
    "id": "invE35z3n2Yn"
   },
   "source": [
    "[Exploratory Data Analysis](https://en.wikipedia.org/wiki/Exploratory_data_analysis), often shortened to EDA, is a term that you'll hear quite a bit in the field of data science. EDA is the process of examining a dataset to find facts about the data and communicating those facts, often through visualizations.\n",
    "\n",
    "In order to explore the data and visualize it, some modifications might need to be made to the data along the way. This is often referred to as *data preprocessing*. Though data preprocessing is technically different from EDA, EDA often exposes problems with the data that need to be fixed in order to continue exploring. Because of this tight coupling, we'll clean the data as necessary to help understand the data.\n",
    "\n",
    "In this lab we will apply our Pandas knowledge to explore a dataset about chocolate. Part 1 of the lab will explore each column in our dataset individually. Part 2 will take the results of our preprocessed data and search for patterns across columns and rows."
   ]
  },
  {
   "cell_type": "markdown",
   "metadata": {
    "colab_type": "text",
    "id": "bIxZkNQzBiyc"
   },
   "source": [
    "## Introduction\n",
    "\n"
   ]
  },
  {
   "cell_type": "markdown",
   "metadata": {
    "colab_type": "text",
    "id": "U4nDJfscDH9o"
   },
   "source": [
    "### The Dataset: Chocolate Bar Ratings\n",
    "\n",
    "In this lab we will use a [chocolate bar ratings dataset](https://www.kaggle.com/rtatman/chocolate-bar-ratings). The dataset is from the [Flavors of Cacao](http://flavorsofcacao.com/flavor.html) data.\n",
    "\n",
    "On the [Kaggle page for the dataset](https://www.kaggle.com/rtatman/chocolate-bar-ratings), we can find some basic information about the dataset. For instance, there are over 1,700 chocolate bars that have been rated. We can also preview the columns found in the dataset:\n",
    "\n",
    "Column | Data Type | Description\n",
    "-------|-----------|-------------\n",
    "Company (Maker-if known) | String | Name of the company manufacturing the bar.\n",
    "Specific Bean Origin or Bar Name | String | The specific geo-region of origin for the bar.\n",
    "REF | Number | A value linked to when the review was entered in the database. Higher = more recent.\n",
    "Review Date | Number | Date of publication of the review.\n",
    "Cocoa Percent | String | Cocoa percentage (darkness) of the chocolate bar being reviewed.\n",
    "Company Location | String | Manufacturer base country.\n",
    "Rating | Number | Expert rating for the bar.\n",
    "BeanType | String | The variety (breed) of bean used, if provided.\n",
    "Broad Bean Origin | String | The broad geo-region of origin for the bean.\n",
    "\n",
    "This is an interesting dataset. Think of the questions that you might be able to answer! A few could be:\n",
    "\n",
    "*   Is there a relationship between numeric rating and properties such as percentage of cocoa, bean type, origin, and maker?\n",
    "*   Are some of the properties of cacao beans correlated?\n",
    "*   Where are the top chocolate bars from?\n",
    "*   Are there multiple entries for the same bar from the same maker, but with different ratings over the years? If so, has there been any change in the chocolate bar that could account for the differences?\n",
    "*   Do makers who produce a wide variety of bars have a higher chance of creating a top-rated chocolate bar?\n",
    "\n",
    "I'm sure you can think of even more. So, what are we waiting for? Let's load the data!"
   ]
  },
  {
   "cell_type": "markdown",
   "metadata": {
    "colab_type": "text",
    "id": "GP-kRR_72562"
   },
   "source": [
    "## Acquiring the Data\n",
    "\n",
    "The data is hosted on Kaggle, so we can use our Kaggle credentials to download the data into the lab. The dataset is located at [https://www.kaggle.com/rtatman/chocolate-bar-ratings](https://www.kaggle.com/rtatman/chocolate-bar-ratings). "
   ]
  },
  {
   "cell_type": "code",
   "execution_count": 1,
   "metadata": {
    "colab": {},
    "colab_type": "code",
    "id": "Mo1mS1Jp4c5W"
   },
   "outputs": [
    {
     "output_type": "execute_result",
     "data": {
      "text/plain": [
       "('Assets/chocolate-bar-ratings.zip',\n",
       " <http.client.HTTPMessage at 0x2356af270a0>)"
      ]
     },
     "metadata": {},
     "execution_count": 1
    }
   ],
   "source": [
    "import urllib\n",
    "\n",
    "urllib.request.urlretrieve(\n",
    "    'https://query.data.world/s/4mas3bum4mywpet2okhclsvz5264c5',\n",
    "    'Assets/chocolate-bar-ratings.zip')"
   ]
  },
  {
   "cell_type": "markdown",
   "metadata": {
    "colab_type": "text",
    "id": "PytnXVWU7Lom"
   },
   "source": [
    "We now have our data downloaded to our virtual machine and stored in the file `chocolate-bar-ratings.zip`."
   ]
  },
  {
   "cell_type": "markdown",
   "metadata": {
    "colab_type": "text",
    "id": "A8pOhe8_7YOt"
   },
   "source": [
    "## Creating a `DataFrame`\n",
    "\n",
    "We now need to load the data into memory. We can do this easily using Pandas' `read_csv()` function."
   ]
  },
  {
   "cell_type": "code",
   "execution_count": 2,
   "metadata": {
    "colab": {},
    "colab_type": "code",
    "id": "dEDlbe_L7LEl"
   },
   "outputs": [
    {
     "output_type": "execute_result",
     "data": {
      "text/plain": [
       "     Company \\n(Maker-if known) Specific Bean Origin\\nor Bar Name   REF  \\\n",
       "0                      A. Morin                       Agua Grande  1876   \n",
       "1                      A. Morin                             Kpime  1676   \n",
       "2                      A. Morin                            Atsane  1676   \n",
       "3                      A. Morin                             Akata  1680   \n",
       "4                      A. Morin                            Quilla  1704   \n",
       "...                         ...                               ...   ...   \n",
       "1790                     Zotter                              Peru   647   \n",
       "1791                     Zotter                             Congo   749   \n",
       "1792                     Zotter                      Kerala State   749   \n",
       "1793                     Zotter                      Kerala State   781   \n",
       "1794                     Zotter                Brazil, Mitzi Blue   486   \n",
       "\n",
       "      Review\\nDate Cocoa\\nPercent Company\\nLocation  Rating Bean\\nType  \\\n",
       "0             2016            63%            France    3.75              \n",
       "1             2015            70%            France    2.75              \n",
       "2             2015            70%            France    3.00              \n",
       "3             2015            70%            France    3.50              \n",
       "4             2015            70%            France    3.50              \n",
       "...            ...            ...               ...     ...        ...   \n",
       "1790          2011            70%           Austria    3.75              \n",
       "1791          2011            65%           Austria    3.00  Forastero   \n",
       "1792          2011            65%           Austria    3.50  Forastero   \n",
       "1793          2011            62%           Austria    3.25              \n",
       "1794          2010            65%           Austria    3.00              \n",
       "\n",
       "     Broad Bean\\nOrigin  \n",
       "0              Sao Tome  \n",
       "1                  Togo  \n",
       "2                  Togo  \n",
       "3                  Togo  \n",
       "4                  Peru  \n",
       "...                 ...  \n",
       "1790               Peru  \n",
       "1791              Congo  \n",
       "1792              India  \n",
       "1793              India  \n",
       "1794             Brazil  \n",
       "\n",
       "[1795 rows x 9 columns]"
      ],
      "text/html": "<div>\n<style scoped>\n    .dataframe tbody tr th:only-of-type {\n        vertical-align: middle;\n    }\n\n    .dataframe tbody tr th {\n        vertical-align: top;\n    }\n\n    .dataframe thead th {\n        text-align: right;\n    }\n</style>\n<table border=\"1\" class=\"dataframe\">\n  <thead>\n    <tr style=\"text-align: right;\">\n      <th></th>\n      <th>Company \\n(Maker-if known)</th>\n      <th>Specific Bean Origin\\nor Bar Name</th>\n      <th>REF</th>\n      <th>Review\\nDate</th>\n      <th>Cocoa\\nPercent</th>\n      <th>Company\\nLocation</th>\n      <th>Rating</th>\n      <th>Bean\\nType</th>\n      <th>Broad Bean\\nOrigin</th>\n    </tr>\n  </thead>\n  <tbody>\n    <tr>\n      <th>0</th>\n      <td>A. Morin</td>\n      <td>Agua Grande</td>\n      <td>1876</td>\n      <td>2016</td>\n      <td>63%</td>\n      <td>France</td>\n      <td>3.75</td>\n      <td></td>\n      <td>Sao Tome</td>\n    </tr>\n    <tr>\n      <th>1</th>\n      <td>A. Morin</td>\n      <td>Kpime</td>\n      <td>1676</td>\n      <td>2015</td>\n      <td>70%</td>\n      <td>France</td>\n      <td>2.75</td>\n      <td></td>\n      <td>Togo</td>\n    </tr>\n    <tr>\n      <th>2</th>\n      <td>A. Morin</td>\n      <td>Atsane</td>\n      <td>1676</td>\n      <td>2015</td>\n      <td>70%</td>\n      <td>France</td>\n      <td>3.00</td>\n      <td></td>\n      <td>Togo</td>\n    </tr>\n    <tr>\n      <th>3</th>\n      <td>A. Morin</td>\n      <td>Akata</td>\n      <td>1680</td>\n      <td>2015</td>\n      <td>70%</td>\n      <td>France</td>\n      <td>3.50</td>\n      <td></td>\n      <td>Togo</td>\n    </tr>\n    <tr>\n      <th>4</th>\n      <td>A. Morin</td>\n      <td>Quilla</td>\n      <td>1704</td>\n      <td>2015</td>\n      <td>70%</td>\n      <td>France</td>\n      <td>3.50</td>\n      <td></td>\n      <td>Peru</td>\n    </tr>\n    <tr>\n      <th>...</th>\n      <td>...</td>\n      <td>...</td>\n      <td>...</td>\n      <td>...</td>\n      <td>...</td>\n      <td>...</td>\n      <td>...</td>\n      <td>...</td>\n      <td>...</td>\n    </tr>\n    <tr>\n      <th>1790</th>\n      <td>Zotter</td>\n      <td>Peru</td>\n      <td>647</td>\n      <td>2011</td>\n      <td>70%</td>\n      <td>Austria</td>\n      <td>3.75</td>\n      <td></td>\n      <td>Peru</td>\n    </tr>\n    <tr>\n      <th>1791</th>\n      <td>Zotter</td>\n      <td>Congo</td>\n      <td>749</td>\n      <td>2011</td>\n      <td>65%</td>\n      <td>Austria</td>\n      <td>3.00</td>\n      <td>Forastero</td>\n      <td>Congo</td>\n    </tr>\n    <tr>\n      <th>1792</th>\n      <td>Zotter</td>\n      <td>Kerala State</td>\n      <td>749</td>\n      <td>2011</td>\n      <td>65%</td>\n      <td>Austria</td>\n      <td>3.50</td>\n      <td>Forastero</td>\n      <td>India</td>\n    </tr>\n    <tr>\n      <th>1793</th>\n      <td>Zotter</td>\n      <td>Kerala State</td>\n      <td>781</td>\n      <td>2011</td>\n      <td>62%</td>\n      <td>Austria</td>\n      <td>3.25</td>\n      <td></td>\n      <td>India</td>\n    </tr>\n    <tr>\n      <th>1794</th>\n      <td>Zotter</td>\n      <td>Brazil, Mitzi Blue</td>\n      <td>486</td>\n      <td>2010</td>\n      <td>65%</td>\n      <td>Austria</td>\n      <td>3.00</td>\n      <td></td>\n      <td>Brazil</td>\n    </tr>\n  </tbody>\n</table>\n<p>1795 rows × 9 columns</p>\n</div>"
     },
     "metadata": {},
     "execution_count": 2
    }
   ],
   "source": [
    "import pandas as pd\n",
    "\n",
    "df = pd.read_csv('Assets/chocolate-bar-ratings.zip')\n",
    "df"
   ]
  },
  {
   "cell_type": "markdown",
   "metadata": {
    "colab_type": "text",
    "id": "BNK6_wRAUK8g"
   },
   "source": [
    "Let's also make sure that our data types match what was documented:"
   ]
  },
  {
   "cell_type": "code",
   "execution_count": 3,
   "metadata": {
    "colab": {},
    "colab_type": "code",
    "id": "igRLU1b4UOaK"
   },
   "outputs": [
    {
     "output_type": "execute_result",
     "data": {
      "text/plain": [
       "Company \\n(Maker-if known)            object\n",
       "Specific Bean Origin\\nor Bar Name     object\n",
       "REF                                    int64\n",
       "Review\\nDate                           int64\n",
       "Cocoa\\nPercent                        object\n",
       "Company\\nLocation                     object\n",
       "Rating                               float64\n",
       "Bean\\nType                            object\n",
       "Broad Bean\\nOrigin                    object\n",
       "dtype: object"
      ]
     },
     "metadata": {},
     "execution_count": 3
    }
   ],
   "source": [
    "df.dtypes"
   ]
  },
  {
   "cell_type": "markdown",
   "metadata": {
    "colab_type": "text",
    "id": "RwASf5wWUQvK"
   },
   "source": [
    "In this output, `object` types are strings while `int64` types are whole numbers and `float64` types are fractional numbers. This seems to match the documentation that we saw for the dataset."
   ]
  },
  {
   "cell_type": "markdown",
   "metadata": {
    "colab_type": "text",
    "id": "oHYaN8iV7v8_"
   },
   "source": [
    "From just a glance at the `DataFrame`, we can see a few facts about our data:\n",
    "\n",
    "* There are 1,795 rows and 9 columns.\n",
    "* The columns are the columns we expected based on the documentation, though some have `\\n` (new line) embedded in them. We'll need to clean that up.\n",
    "* The data seems to be sorted by the 'Company' column.\n",
    "* There is definitely some missing data, as we can see in the 'Bean Type' column.\n",
    "\n",
    "We will look more closely at each column throughout this lab."
   ]
  },
  {
   "cell_type": "markdown",
   "metadata": {
    "colab_type": "text",
    "id": "2rQzustf9B4b"
   },
   "source": [
    "## Cleaning Up Column Names\n",
    "\n",
    "One of the more frustrating aspects of this dataset is the poor format of the column names. Typing 'Specific Bean Origin\\nor Bar Name' in order to access the column is painful.\n",
    "\n",
    "So our first order of business will be to update the column names."
   ]
  },
  {
   "cell_type": "code",
   "execution_count": 4,
   "metadata": {
    "colab": {},
    "colab_type": "code",
    "id": "iBb6frD19ZEp"
   },
   "outputs": [
    {
     "output_type": "execute_result",
     "data": {
      "text/plain": [
       "       Company Specific Bean Origin   REF  Review Date Cocoa Percent  \\\n",
       "0     A. Morin          Agua Grande  1876         2016           63%   \n",
       "1     A. Morin                Kpime  1676         2015           70%   \n",
       "2     A. Morin               Atsane  1676         2015           70%   \n",
       "3     A. Morin                Akata  1680         2015           70%   \n",
       "4     A. Morin               Quilla  1704         2015           70%   \n",
       "...        ...                  ...   ...          ...           ...   \n",
       "1790    Zotter                 Peru   647         2011           70%   \n",
       "1791    Zotter                Congo   749         2011           65%   \n",
       "1792    Zotter         Kerala State   749         2011           65%   \n",
       "1793    Zotter         Kerala State   781         2011           62%   \n",
       "1794    Zotter   Brazil, Mitzi Blue   486         2010           65%   \n",
       "\n",
       "     Company Location  Rating  Bean Type Broad Bean Origin  \n",
       "0              France    3.75                     Sao Tome  \n",
       "1              France    2.75                         Togo  \n",
       "2              France    3.00                         Togo  \n",
       "3              France    3.50                         Togo  \n",
       "4              France    3.50                         Peru  \n",
       "...               ...     ...        ...               ...  \n",
       "1790          Austria    3.75                         Peru  \n",
       "1791          Austria    3.00  Forastero             Congo  \n",
       "1792          Austria    3.50  Forastero             India  \n",
       "1793          Austria    3.25                        India  \n",
       "1794          Austria    3.00                       Brazil  \n",
       "\n",
       "[1795 rows x 9 columns]"
      ],
      "text/html": "<div>\n<style scoped>\n    .dataframe tbody tr th:only-of-type {\n        vertical-align: middle;\n    }\n\n    .dataframe tbody tr th {\n        vertical-align: top;\n    }\n\n    .dataframe thead th {\n        text-align: right;\n    }\n</style>\n<table border=\"1\" class=\"dataframe\">\n  <thead>\n    <tr style=\"text-align: right;\">\n      <th></th>\n      <th>Company</th>\n      <th>Specific Bean Origin</th>\n      <th>REF</th>\n      <th>Review Date</th>\n      <th>Cocoa Percent</th>\n      <th>Company Location</th>\n      <th>Rating</th>\n      <th>Bean Type</th>\n      <th>Broad Bean Origin</th>\n    </tr>\n  </thead>\n  <tbody>\n    <tr>\n      <th>0</th>\n      <td>A. Morin</td>\n      <td>Agua Grande</td>\n      <td>1876</td>\n      <td>2016</td>\n      <td>63%</td>\n      <td>France</td>\n      <td>3.75</td>\n      <td></td>\n      <td>Sao Tome</td>\n    </tr>\n    <tr>\n      <th>1</th>\n      <td>A. Morin</td>\n      <td>Kpime</td>\n      <td>1676</td>\n      <td>2015</td>\n      <td>70%</td>\n      <td>France</td>\n      <td>2.75</td>\n      <td></td>\n      <td>Togo</td>\n    </tr>\n    <tr>\n      <th>2</th>\n      <td>A. Morin</td>\n      <td>Atsane</td>\n      <td>1676</td>\n      <td>2015</td>\n      <td>70%</td>\n      <td>France</td>\n      <td>3.00</td>\n      <td></td>\n      <td>Togo</td>\n    </tr>\n    <tr>\n      <th>3</th>\n      <td>A. Morin</td>\n      <td>Akata</td>\n      <td>1680</td>\n      <td>2015</td>\n      <td>70%</td>\n      <td>France</td>\n      <td>3.50</td>\n      <td></td>\n      <td>Togo</td>\n    </tr>\n    <tr>\n      <th>4</th>\n      <td>A. Morin</td>\n      <td>Quilla</td>\n      <td>1704</td>\n      <td>2015</td>\n      <td>70%</td>\n      <td>France</td>\n      <td>3.50</td>\n      <td></td>\n      <td>Peru</td>\n    </tr>\n    <tr>\n      <th>...</th>\n      <td>...</td>\n      <td>...</td>\n      <td>...</td>\n      <td>...</td>\n      <td>...</td>\n      <td>...</td>\n      <td>...</td>\n      <td>...</td>\n      <td>...</td>\n    </tr>\n    <tr>\n      <th>1790</th>\n      <td>Zotter</td>\n      <td>Peru</td>\n      <td>647</td>\n      <td>2011</td>\n      <td>70%</td>\n      <td>Austria</td>\n      <td>3.75</td>\n      <td></td>\n      <td>Peru</td>\n    </tr>\n    <tr>\n      <th>1791</th>\n      <td>Zotter</td>\n      <td>Congo</td>\n      <td>749</td>\n      <td>2011</td>\n      <td>65%</td>\n      <td>Austria</td>\n      <td>3.00</td>\n      <td>Forastero</td>\n      <td>Congo</td>\n    </tr>\n    <tr>\n      <th>1792</th>\n      <td>Zotter</td>\n      <td>Kerala State</td>\n      <td>749</td>\n      <td>2011</td>\n      <td>65%</td>\n      <td>Austria</td>\n      <td>3.50</td>\n      <td>Forastero</td>\n      <td>India</td>\n    </tr>\n    <tr>\n      <th>1793</th>\n      <td>Zotter</td>\n      <td>Kerala State</td>\n      <td>781</td>\n      <td>2011</td>\n      <td>62%</td>\n      <td>Austria</td>\n      <td>3.25</td>\n      <td></td>\n      <td>India</td>\n    </tr>\n    <tr>\n      <th>1794</th>\n      <td>Zotter</td>\n      <td>Brazil, Mitzi Blue</td>\n      <td>486</td>\n      <td>2010</td>\n      <td>65%</td>\n      <td>Austria</td>\n      <td>3.00</td>\n      <td></td>\n      <td>Brazil</td>\n    </tr>\n  </tbody>\n</table>\n<p>1795 rows × 9 columns</p>\n</div>"
     },
     "metadata": {},
     "execution_count": 4
    }
   ],
   "source": [
    "df.columns = [\n",
    "  'Company',\n",
    "  'Specific Bean Origin',\n",
    "  'REF',\n",
    "  'Review Date',\n",
    "  'Cocoa Percent',\n",
    "  'Company Location',\n",
    "  'Rating',\n",
    "  'Bean Type',\n",
    "  'Broad Bean Origin'\n",
    "]\n",
    "\n",
    "df"
   ]
  },
  {
   "cell_type": "markdown",
   "metadata": {
    "colab_type": "text",
    "id": "Pac1xBZk_TtO"
   },
   "source": [
    "That's much better, but the columns are also in an odd order. Information about the company is spread across the columns, and so is the information about the cacao bean. Let's order the columns a little more meaningfully.\n",
    "\n",
    "This order makes a little more sense:\n",
    "\n",
    "**Company Information:**\n",
    "* Company\n",
    "* Company Location\n",
    "\n",
    "**Chocolate Bar Information**\n",
    "* Bean Type\n",
    "* Specific Bean Origin\n",
    "* Broad Bean Origin\n",
    "* Cocoa Percent\n",
    "\n",
    "**Review Information**\n",
    "* REF\n",
    "* Review Date\n",
    "* Rating\n",
    "\n",
    "We can reorder the columns by specifically selecting the columns in order and reassigning them to the `df` variable:"
   ]
  },
  {
   "cell_type": "code",
   "execution_count": 5,
   "metadata": {
    "colab": {},
    "colab_type": "code",
    "id": "8OzxV-x66YKS"
   },
   "outputs": [
    {
     "output_type": "execute_result",
     "data": {
      "text/plain": [
       "       Company Company Location  Bean Type Specific Bean Origin  \\\n",
       "0     A. Morin           France                     Agua Grande   \n",
       "1     A. Morin           France                           Kpime   \n",
       "2     A. Morin           France                          Atsane   \n",
       "3     A. Morin           France                           Akata   \n",
       "4     A. Morin           France                          Quilla   \n",
       "...        ...              ...        ...                  ...   \n",
       "1790    Zotter          Austria                            Peru   \n",
       "1791    Zotter          Austria  Forastero                Congo   \n",
       "1792    Zotter          Austria  Forastero         Kerala State   \n",
       "1793    Zotter          Austria                    Kerala State   \n",
       "1794    Zotter          Austria              Brazil, Mitzi Blue   \n",
       "\n",
       "     Broad Bean Origin Cocoa Percent   REF  Review Date  Rating  \n",
       "0             Sao Tome           63%  1876         2016    3.75  \n",
       "1                 Togo           70%  1676         2015    2.75  \n",
       "2                 Togo           70%  1676         2015    3.00  \n",
       "3                 Togo           70%  1680         2015    3.50  \n",
       "4                 Peru           70%  1704         2015    3.50  \n",
       "...                ...           ...   ...          ...     ...  \n",
       "1790              Peru           70%   647         2011    3.75  \n",
       "1791             Congo           65%   749         2011    3.00  \n",
       "1792             India           65%   749         2011    3.50  \n",
       "1793             India           62%   781         2011    3.25  \n",
       "1794            Brazil           65%   486         2010    3.00  \n",
       "\n",
       "[1795 rows x 9 columns]"
      ],
      "text/html": "<div>\n<style scoped>\n    .dataframe tbody tr th:only-of-type {\n        vertical-align: middle;\n    }\n\n    .dataframe tbody tr th {\n        vertical-align: top;\n    }\n\n    .dataframe thead th {\n        text-align: right;\n    }\n</style>\n<table border=\"1\" class=\"dataframe\">\n  <thead>\n    <tr style=\"text-align: right;\">\n      <th></th>\n      <th>Company</th>\n      <th>Company Location</th>\n      <th>Bean Type</th>\n      <th>Specific Bean Origin</th>\n      <th>Broad Bean Origin</th>\n      <th>Cocoa Percent</th>\n      <th>REF</th>\n      <th>Review Date</th>\n      <th>Rating</th>\n    </tr>\n  </thead>\n  <tbody>\n    <tr>\n      <th>0</th>\n      <td>A. Morin</td>\n      <td>France</td>\n      <td></td>\n      <td>Agua Grande</td>\n      <td>Sao Tome</td>\n      <td>63%</td>\n      <td>1876</td>\n      <td>2016</td>\n      <td>3.75</td>\n    </tr>\n    <tr>\n      <th>1</th>\n      <td>A. Morin</td>\n      <td>France</td>\n      <td></td>\n      <td>Kpime</td>\n      <td>Togo</td>\n      <td>70%</td>\n      <td>1676</td>\n      <td>2015</td>\n      <td>2.75</td>\n    </tr>\n    <tr>\n      <th>2</th>\n      <td>A. Morin</td>\n      <td>France</td>\n      <td></td>\n      <td>Atsane</td>\n      <td>Togo</td>\n      <td>70%</td>\n      <td>1676</td>\n      <td>2015</td>\n      <td>3.00</td>\n    </tr>\n    <tr>\n      <th>3</th>\n      <td>A. Morin</td>\n      <td>France</td>\n      <td></td>\n      <td>Akata</td>\n      <td>Togo</td>\n      <td>70%</td>\n      <td>1680</td>\n      <td>2015</td>\n      <td>3.50</td>\n    </tr>\n    <tr>\n      <th>4</th>\n      <td>A. Morin</td>\n      <td>France</td>\n      <td></td>\n      <td>Quilla</td>\n      <td>Peru</td>\n      <td>70%</td>\n      <td>1704</td>\n      <td>2015</td>\n      <td>3.50</td>\n    </tr>\n    <tr>\n      <th>...</th>\n      <td>...</td>\n      <td>...</td>\n      <td>...</td>\n      <td>...</td>\n      <td>...</td>\n      <td>...</td>\n      <td>...</td>\n      <td>...</td>\n      <td>...</td>\n    </tr>\n    <tr>\n      <th>1790</th>\n      <td>Zotter</td>\n      <td>Austria</td>\n      <td></td>\n      <td>Peru</td>\n      <td>Peru</td>\n      <td>70%</td>\n      <td>647</td>\n      <td>2011</td>\n      <td>3.75</td>\n    </tr>\n    <tr>\n      <th>1791</th>\n      <td>Zotter</td>\n      <td>Austria</td>\n      <td>Forastero</td>\n      <td>Congo</td>\n      <td>Congo</td>\n      <td>65%</td>\n      <td>749</td>\n      <td>2011</td>\n      <td>3.00</td>\n    </tr>\n    <tr>\n      <th>1792</th>\n      <td>Zotter</td>\n      <td>Austria</td>\n      <td>Forastero</td>\n      <td>Kerala State</td>\n      <td>India</td>\n      <td>65%</td>\n      <td>749</td>\n      <td>2011</td>\n      <td>3.50</td>\n    </tr>\n    <tr>\n      <th>1793</th>\n      <td>Zotter</td>\n      <td>Austria</td>\n      <td></td>\n      <td>Kerala State</td>\n      <td>India</td>\n      <td>62%</td>\n      <td>781</td>\n      <td>2011</td>\n      <td>3.25</td>\n    </tr>\n    <tr>\n      <th>1794</th>\n      <td>Zotter</td>\n      <td>Austria</td>\n      <td></td>\n      <td>Brazil, Mitzi Blue</td>\n      <td>Brazil</td>\n      <td>65%</td>\n      <td>486</td>\n      <td>2010</td>\n      <td>3.00</td>\n    </tr>\n  </tbody>\n</table>\n<p>1795 rows × 9 columns</p>\n</div>"
     },
     "metadata": {},
     "execution_count": 5
    }
   ],
   "source": [
    "df = df[[\n",
    "  'Company',\n",
    "  'Company Location',\n",
    "  'Bean Type',\n",
    "  'Specific Bean Origin',\n",
    "  'Broad Bean Origin',\n",
    "  'Cocoa Percent',\n",
    "  'REF',\n",
    "  'Review Date',\n",
    "  'Rating',\n",
    "]]\n",
    "\n",
    "df"
   ]
  },
  {
   "cell_type": "markdown",
   "metadata": {
    "colab_type": "text",
    "id": "y-gRkwD89Ycv"
   },
   "source": [
    "## Examining Each Column\n",
    "\n",
    "\n",
    "In this section we will examine each column to learn about the data in the column. We will also make changes to the data as needed."
   ]
  },
  {
   "cell_type": "markdown",
   "metadata": {
    "colab_type": "text",
    "id": "dEe__vNL_pA4"
   },
   "source": [
    "### Column: Company"
   ]
  },
  {
   "cell_type": "markdown",
   "metadata": {
    "colab_type": "text",
    "id": "uA6heaR7TlmX"
   },
   "source": [
    "The 'Company' column is the first in the list, so let's look at it first.\n",
    "\n",
    "We can tell that the column contains string values. Let's see if any are missing:"
   ]
  },
  {
   "cell_type": "code",
   "execution_count": 6,
   "metadata": {
    "colab": {},
    "colab_type": "code",
    "id": "UWkigEjU_3cn"
   },
   "outputs": [
    {
     "output_type": "execute_result",
     "data": {
      "text/plain": [
       "False"
      ]
     },
     "metadata": {},
     "execution_count": 6
    }
   ],
   "source": [
    "df['Company'].isnull().any()"
   ]
  },
  {
   "cell_type": "markdown",
   "metadata": {
    "colab_type": "text",
    "id": "8qyTNSA3AOWe"
   },
   "source": [
    "No data is missing. Let's now see how many distinct values there are:"
   ]
  },
  {
   "cell_type": "code",
   "execution_count": 7,
   "metadata": {
    "colab": {},
    "colab_type": "code",
    "id": "O-nr1--gATSg"
   },
   "outputs": [
    {
     "output_type": "execute_result",
     "data": {
      "text/plain": [
       "416"
      ]
     },
     "metadata": {},
     "execution_count": 7
    }
   ],
   "source": [
    "df['Company'].unique().size"
   ]
  },
  {
   "cell_type": "markdown",
   "metadata": {
    "colab_type": "text",
    "id": "PjeigrI6AZgo"
   },
   "source": [
    "A few hundred is not a terribly long list. Let's print the list in alphabetical order to see how it looks."
   ]
  },
  {
   "cell_type": "code",
   "execution_count": 8,
   "metadata": {
    "colab": {},
    "colab_type": "code",
    "id": "_POI-9fCAgAi"
   },
   "outputs": [
    {
     "output_type": "stream",
     "name": "stdout",
     "text": [
      "A. Morin\nAMMA\nAcalli\nAdi\nAequare (Gianduja)\nAh Cacao\nAkesson's (Pralus)\nAlain Ducasse\nAlexandre\nAltus aka Cao Artisan\nAmano\nAmatller (Simon Coll)\nAmazona\nAmbrosia\nAmedei\nAnahata\nAnimas\nAra\nArete\nArtisan du Chocolat\nArtisan du Chocolat (Casa Luker)\nAskinosie\nBahen & Co.\nBakau\nBar Au Chocolat\nBaravelli's\nBatch\nBeau Cacao\nBeehive\nBelcolade\nBellflower\nBelyzium\nBenoit Nihant\nBernachon\nBeschle (Felchlin)\nBisou\nBittersweet Origins\nBlack Mountain\nBlack River (A. Morin)\nBlanxart\nBlue Bandana\nBonnat\nBouga Cacao (Tulicorp)\nBowler Man\nBrasstown aka It's Chocolate\nBrazen\nBreeze Mill\nBright\nBritarev\nBronx Grrl Chocolate\nBurnt Fork Bend\nC-Amaro\nCacao Arabuco\nCacao Atlanta\nCacao Barry\nCacao Hunters\nCacao Market\nCacao Prieto\nCacao Sampaka\nCacao Store\nCacao de Origen\nCacao de Origin\nCacaosuyo (Theobroma Inversiones)\nCacaoyere (Ecuatoriana)\nCallebaut\nCao\nCaoni (Tulicorp)\nCaptain Pembleton\nCaribeans\nCarlotta Chocolat\nCastronovo\nCello\nCemoi\nChaleur B\nCharm School\nChchukululu (Tulicorp)\nChequessett\nChloe Chocolat\nChocablog\nChoco Del Sol\nChoco Dong\nChocoReko\nChocola'te\nChocolarder\nChocolate Alchemist-Philly\nChocolate Con Amor\nChocolate Conspiracy\nChocolate Makers\nChocolate Tree, The\nChocolats Privilege\nChocosol\nChocovic\nChocovivo\nChoklat\nChokolat Elot (Girard)\nChoocsol\nChristopher Morel (Felchlin)\nChuao Chocolatier\nChuao Chocolatier (Pralus)\nClaudio Corallo\nCloudforest\nColeman & Davis\nCompania de Chocolate (Salgado)\nCondor\nConfluence\nCoppeneur\nCote d' Or (Kraft)\nCravve\nCreo\nDAR\nDaintree\nDalloway\nDamson\nDandelion\nDanta\nDark Forest\nDavis\nDe Mendes\nDe Villiers\nDeVries\nDean and Deluca (Belcolade)\nDebauve & Gallais (Michel Cluizel)\nDesbarres\nDick Taylor\nDoble & Bignall\nDole (Guittard)\nDolfin (Belcolade)\nDomori\nDormouse\nDuffy's\nDulcinea\nDurand\nDurci\nENNA\nEast Van Roasters\nEau de Rose\nEclat (Felchlin)\nEdelmond\nEl Ceibo\nEl Rey\nEmerald Estate\nEmily's\nEnric Rovira (Claudio Corallo)\nErithaj (A. Morin)\nEscazu\nEthel's Artisan (Mars)\nEthereal\nFearless (AMMA)\nFeitoria Cacao\nFelchlin\nFinca\nForever Cacao\nForteza (Cortes)\nFossa\nFranceschi\nFrederic Blondeel\nFrench Broad\nFresco\nFriis Holm\nFriis Holm (Bonnat)\nFruition\nGarden Island\nGeorgia Ramon\nGlennmade\nGoodnow Farms\nGrand Place\nGreen & Black's (ICAM)\nGreen Bean to Bar\nGrenada Chocolate Co.\nGuido Castagna\nGuittard\nHabitual\nHachez\nHacienda El Castillo\nHaigh\nHarper Macaw\nHeilemann\nHeirloom Cacao Preservation (Brasstown)\nHeirloom Cacao Preservation (Fruition)\nHeirloom Cacao Preservation (Guittard)\nHeirloom Cacao Preservation (Manoa)\nHeirloom Cacao Preservation (Millcreek)\nHeirloom Cacao Preservation (Mindo)\nHeirloom Cacao Preservation (Zokoko)\nHogarth\nHoja Verde (Tulicorp)\nHoly Cacao\nHonest\nHotel Chocolat\nHotel Chocolat (Coppeneur)\nHummingbird\nIdilio (Felchlin)\nIndah\nIndaphoria\nIndi\nIsidro\nIzard\nJacque Torres\nJordis\nJust Good Chocolate\nK'ul\nKah Kow\nKakao\nKallari (Ecuatoriana)\nKaoka (Cemoi)\nKerchner\nKi' Xocolatl\nKiskadee\nKto\nKyya\nL'Amourette\nL.A. Burdick (Felchlin)\nLa Chocolaterie Nanairo\nLa Maison du Chocolat (Valrhona)\nLa Oroquidea\nLa Pepa de Oro\nLaia aka Chat-Noir\nLajedo do Ouro\nLake Champlain (Callebaut)\nLetterpress\nLevy\nLilla\nLillie Belle\nLindt & Sprungli\nLoiza\nLonohana\nLove Bar\nLuker\nMachu Picchu Trading Co.\nMadecasse (Cinagra)\nMadre\nMaglio\nMajani\nMalagasy (Chocolaterie Robert)\nMalagos\nMalie Kai (Guittard)\nMalmo\nMana\nManifesto Cacao\nManoa\nManufaktura Czekolady\nMap Chocolate\nMarana\nMarigold's Finest\nMarou\nMars\nMarsatta\nMartin Mayer\nMast Brothers\nMatale\nMaverick\nMayacama\nMeadowlands\nMenakao (aka Cinagra)\nMesocacao\nMetiisto\nMetropolitan\nMichel Cluizel\nMiddlebury\nMillcreek Cacao Roasters\nMindo\nMinimal\nMission\nMita\nMoho\nMolucca\nMomotombo\nMonarque\nMonsieur Truffe\nMontecristi\nMuchomas (Mesocacao)\nMutari\nNahua\nNaive\nNanea\nNathan Miller\nNa�ve\nNeuhaus (Callebaut)\nNibble\nNight Owl\nNoble Bean aka Jerjobo\nNoir d' Ebine\nNova Monda\nNuance\nNugali\nOakland Chocolate Co.\nObolo\nOcelot\nOcho\nOhiyo\nOialla by Bojessen (Malmo)\nOlive and Sinclair\nOlivia\nOmanhene\nOmnom\nOriginal Beans (Felchlin)\nOriginal Hawaiin Chocolate Factory\nOrquidea\nPacari\nPalette de Bine\nPangea\nPark 75\nParliament\nPascha\nPatric\nPaul Young\nPeppalo\nPierre Marcolini\nPinellas\nPitch Dark\nPomm (aka Dead Dog)\nPotomac\nPralus\nPump Street Bakery\nPura Delizia\nQ Chocolate\nQuetzalli (Wolter)\nRaaka\nRain Republic\nRancho San Jacinto\nRanger\nRaoul Boulanger\nRaw Cocoa\nRepublica del Cacao (aka Confecta)\nRitual\nRoasting Masters\nRobert (aka Chocolaterie Robert)\nRococo (Grenada Chocolate Co.)\nRogue\nRozsavolgyi\nS.A.I.D.\nSRSLY\nSacred\nSalgado\nSantander (Compania Nacional)\nSantome\nScharffen Berger\nSeaforth\nShark Mountain\nShark's\nShattel\nShattell\nSibu\nSibu Sura\nSilvio Bessone\nSirene\nSjolinds\nSmooth Chocolator, The\nSnake & Butterfly\nSol Cacao\nSolkiki\nSolomons Gold\nSolstice\nSoma\nSomerville\nSoul\nSpagnvola\nSpencer\nSprungli (Felchlin)\nStRita Supreme\nStarchild\nStella (aka Bernrain)\nStone Grindz\nSublime Origins\nSummerbird\nSuruca Chocolate\nSvenska Kakaobolaget\nSzanto Tibor\nTCHO\nTabal\nTablette (aka Vanillabeans)\nTan Ban Skrati\nTaza\nTejas\nTerroir\nThe Barn\nTheo\nTheobroma\nTimo A. Meyer\nTo'ak (Ecuatoriana)\nTobago Estate (Pralus)\nTocoti\nTreehouse\nTsara (Cinagra)\nTwo Ravens\nUn Dimanche A Paris\nUndone\nUpchurch\nUrzi\nValrhona\nVanleer (Barry Callebaut)\nVao Vao (Chocolaterie Robert)\nVicuna\nVideri\nVietcacao (A. Morin)\nVintage Plantations\nVintage Plantations (Tulicorp)\nViolet Sky\nVivra\nWellington Chocolate Factory\nWhittakers\nWilkie's Organic\nWillie's Cacao\nWm\nWoodblock\nXocolat\nXocolla\nZak's\nZart Pralinen\nZokoko\nZotter\nhello cocoa\nhexx\niQ Chocolate\norganicfair\ntwenty-four blackbirds\n"
     ]
    }
   ],
   "source": [
    "for company in sorted(df['Company'].unique()):\n",
    "  print(company)"
   ]
  },
  {
   "cell_type": "markdown",
   "metadata": {
    "colab_type": "text",
    "id": "k8E5wwxVCFqd"
   },
   "source": [
    "This is some interesting data. Looking at it raises many questions. For instance:\n",
    "\n",
    "* Should company names like 'Vintage Plantations' and 'Vintage Plantations (Tulicorp)' be changed to the same name?\n",
    "* Is 'Cacao de Origin' a misspelling of 'Cacao de Origen'?\n",
    "* Is 'Shattel' a misspelling of 'Shattell'?\n",
    "\n",
    "These are the types of things you'll see and questions you'll ask when you encounter a new dataset. Rarely is the data in perfect condition. Often you'll spend a considerable amount of time researching topics related to the data in order to make a call about repairing aspects of the data.\n",
    "\n",
    "In this particular case, it would be great if we could find a master list of all of the chocolate makers in the world. We could then cross reference the names in the dataset with the names in the master list.\n",
    "\n",
    "Unfortunately, we don't have a master list of chocolate makers. Instead, we will have to rely on manually inspecting the data and researching when things don't look right.\n",
    "\n",
    "Let's say that for now we are confident that 'Cacao de Origin' and 'Shattel' are misspellings, so we will correct that data. We aren't confident enough to change any of the names with parentheses in them though.\n",
    "\n",
    "Let's fix our misspellings!"
   ]
  },
  {
   "cell_type": "markdown",
   "metadata": {
    "colab_type": "text",
    "id": "2Vc78yFJFLw5"
   },
   "source": [
    "#### Exercise 1: Fixing Misspellings\n",
    "\n",
    "We have decided that we would like to change every instance of 'Cacao de Origin' to 'Cacao de Origen' and every instance of 'Shattel' to 'Shattell' in the 'Company' column of our dataset. Write the code to modify the values. Make sure your code doesn't have any warnings. At the end of the code block, print the number of unique company names when you are done. There should be two less columns than what you saw above."
   ]
  },
  {
   "cell_type": "markdown",
   "metadata": {
    "colab_type": "text",
    "id": "Pag-PfyLG69x"
   },
   "source": [
    "**Student Solution**"
   ]
  },
  {
   "cell_type": "code",
   "execution_count": 9,
   "metadata": {
    "colab": {},
    "colab_type": "code",
    "id": "p4pKMDONG9Z4"
   },
   "outputs": [
    {
     "output_type": "execute_result",
     "data": {
      "text/plain": [
       "415"
      ]
     },
     "metadata": {},
     "execution_count": 9
    }
   ],
   "source": [
    "import pandas as pd\n",
    "\n",
    "df = pd.read_csv('Assets/chocolate-bar-ratings.zip')\n",
    "df.columns = ['Company', 'Specific Bean Origin', 'REF', 'Review Date',\n",
    "              'Cocoa Percent', 'Company Location', 'Rating', 'Bean Type',\n",
    "              'Broad Bean Origin']\n",
    "df = df[['Company', 'Company Location', 'Bean Type', 'Specific Bean Origin',\n",
    "         'Broad Bean Origin', 'Cocoa Percent', 'REF', 'Review Date', 'Rating']]\n",
    "\n",
    "# Change 'Shattel' to 'Shattell'\n",
    "cond = df['Company'] == 'Shattell'\n",
    "df.loc[cond, 'Company'] = 'Shattell'\n",
    "# Change 'Cacao de Origin' to 'Cacao de Origen'\n",
    "cond = df['Company'] == 'Cacao de Origin'\n",
    "df.loc[cond, 'Company'] = 'Cacao de Origen'\n",
    "\n",
    "# Print the number of unique company names\n",
    "len(df['Company'].unique())"
   ]
  },
  {
   "cell_type": "markdown",
   "metadata": {
    "colab_type": "text",
    "id": "dIAOmyuWHMa_"
   },
   "source": [
    "---"
   ]
  },
  {
   "cell_type": "markdown",
   "metadata": {
    "colab_type": "text",
    "id": "ac0L7_QP7OTm"
   },
   "source": [
    "### Column: Company Location"
   ]
  },
  {
   "cell_type": "markdown",
   "metadata": {
    "colab_type": "text",
    "id": "84LQDf9d7OTk"
   },
   "source": [
    "The [documentation](https://www.kaggle.com/rtatman/chocolate-bar-ratings) describes the 'Company Location' column as \"*Manufacturer base country*.\"\n",
    "\n",
    "Let's take a look at the data. As always, we'll first check to see if any data is missing."
   ]
  },
  {
   "cell_type": "code",
   "execution_count": 10,
   "metadata": {
    "colab": {},
    "colab_type": "code",
    "id": "oTTcRMFq7OTe"
   },
   "outputs": [
    {
     "output_type": "execute_result",
     "data": {
      "text/plain": [
       "False"
      ]
     },
     "metadata": {},
     "execution_count": 10
    }
   ],
   "source": [
    "df['Company Location'].isna().any()"
   ]
  },
  {
   "cell_type": "markdown",
   "metadata": {
    "colab_type": "text",
    "id": "NjjMjZqj7OTc"
   },
   "source": [
    "No missing data.\n",
    "\n",
    "Now we can see how many unique values there are:"
   ]
  },
  {
   "cell_type": "code",
   "execution_count": 11,
   "metadata": {
    "colab": {},
    "colab_type": "code",
    "id": "aSzY7dlr7OTT"
   },
   "outputs": [
    {
     "output_type": "execute_result",
     "data": {
      "text/plain": [
       "(60,)"
      ]
     },
     "metadata": {},
     "execution_count": 11
    }
   ],
   "source": [
    "df['Company Location'].unique().shape"
   ]
  },
  {
   "cell_type": "markdown",
   "metadata": {
    "colab_type": "text",
    "id": "MLjkdqps7OTN"
   },
   "source": [
    "There are just 60 locations, which is small enough that we can manually inspect the values. Let's print the data."
   ]
  },
  {
   "cell_type": "code",
   "execution_count": 12,
   "metadata": {
    "colab": {},
    "colab_type": "code",
    "id": "nGFKHE2B7OS5"
   },
   "outputs": [
    {
     "output_type": "stream",
     "name": "stdout",
     "text": [
      "Amsterdam\nArgentina\nAustralia\nAustria\nBelgium\nBolivia\nBrazil\nCanada\nChile\nColombia\nCosta Rica\nCzech Republic\nDenmark\nDomincan Republic\nEcuador\nEucador\nFiji\nFinland\nFrance\nGermany\nGhana\nGrenada\nGuatemala\nHonduras\nHungary\nIceland\nIndia\nIreland\nIsrael\nItaly\nJapan\nLithuania\nMadagascar\nMartinique\nMexico\nNetherlands\nNew Zealand\nNiacragua\nNicaragua\nPeru\nPhilippines\nPoland\nPortugal\nPuerto Rico\nRussia\nSao Tome\nScotland\nSingapore\nSouth Africa\nSouth Korea\nSpain\nSt. Lucia\nSuriname\nSweden\nSwitzerland\nU.K.\nU.S.A.\nVenezuela\nVietnam\nWales\n"
     ]
    }
   ],
   "source": [
    "for location in sorted(df['Company Location'].unique()):\n",
    "  print(location)"
   ]
  },
  {
   "cell_type": "markdown",
   "metadata": {
    "colab_type": "text",
    "id": "sJqm2iCU7OSt"
   },
   "source": [
    "Overall, the data looks pretty clean. The column is supposed to contain countries and *most* entries are countries. There are a few problems with the country data though. We found at least five errors in the data. Let's see what you can find."
   ]
  },
  {
   "cell_type": "markdown",
   "metadata": {
    "colab_type": "text",
    "id": "_d7_RrV_-DPP"
   },
   "source": [
    "#### Exercise 2: Fixing Company Location Data\n",
    "\n",
    "There are at least five errors in the company location data that need to be fixed. Some are fairly easy to spot (spelling errors), but some do require knowledge of what constitutes a country. Take some time to look at the data, and see if you can spot at least two of the issues. Write code to fix the issues."
   ]
  },
  {
   "cell_type": "markdown",
   "metadata": {
    "colab_type": "text",
    "id": "p2uvJNxo-DD8"
   },
   "source": [
    "**Student Solution**"
   ]
  },
  {
   "cell_type": "code",
   "execution_count": 13,
   "metadata": {
    "colab": {},
    "colab_type": "code",
    "id": "1eBSJfCp-C4-"
   },
   "outputs": [
    {
     "output_type": "stream",
     "name": "stdout",
     "text": [
      "Argentina\nAustralia\nAustria\nBelgium\nBolivia\nBrazil\nCanada\nChile\nColombia\nCosta Rica\nCzech Republic\nDenmark\nDomincan Republic\nEcuador\nFiji\nFinland\nFrance\nGermany\nGhana\nGrenada\nGuatemala\nHonduras\nHungary\nIceland\nIndia\nIreland\nIsrael\nItaly\nJapan\nLithuania\nMadagascar\nMexico\nNetherlands\nNew Zealand\nNiacaragua\nNicaragua\nPeru\nPhilippines\nPoland\nPortugal\nPuerto Rico\nRussia\nSao Tome\nScotland\nSingapore\nSouth Africa\nSouth Korea\nSpain\nSt. Lucia\nSuriname\nSweden\nSwitzerland\nU.K.\nU.S.A.\nVenezuela\nVietnam\nWales\n"
     ]
    }
   ],
   "source": [
    "# Fix at least two issues with the 'Company Location' data\n",
    "def fix_location(x):\n",
    "    fixed = {'Eucador' : 'Ecuador',\n",
    "             'Niacragua' : 'Niacaragua',\n",
    "             'Amsterdam' : 'Netherlands',\n",
    "             'Martinique' : 'France'}\n",
    "    if x in fixed.keys():\n",
    "        return fixed[x]\n",
    "    return x\n",
    "\n",
    "df['Company Location'] = df['Company Location'].apply(fix_location)\n",
    "for location in sorted(df['Company Location'].unique()):\n",
    "    print(location)"
   ]
  },
  {
   "cell_type": "markdown",
   "metadata": {
    "colab_type": "text",
    "id": "s5toiHcB-CvH"
   },
   "source": [
    "---"
   ]
  },
  {
   "cell_type": "markdown",
   "metadata": {
    "colab_type": "text",
    "id": "nA_FefG8dtJQ"
   },
   "source": [
    "### Column: Bean Type"
   ]
  },
  {
   "cell_type": "markdown",
   "metadata": {
    "colab_type": "text",
    "id": "4ibiKPxvCCoA"
   },
   "source": [
    "Now that our company data is looking a little better, let's move into data about the cocoa going into the chocolate bar itself. The first piece of data is the 'Bean Type'. 'Bean Type' is defined as \"*The variety (breed) of bean used, if provided*\". This hints that there will be some missing data. Let's check and see."
   ]
  },
  {
   "cell_type": "code",
   "execution_count": 14,
   "metadata": {
    "colab": {},
    "colab_type": "code",
    "id": "ulcp5RH0CbJs"
   },
   "outputs": [
    {
     "output_type": "execute_result",
     "data": {
      "text/plain": [
       "True"
      ]
     },
     "metadata": {},
     "execution_count": 14
    }
   ],
   "source": [
    "df['Bean Type'].isna().any()"
   ]
  },
  {
   "cell_type": "markdown",
   "metadata": {
    "colab_type": "text",
    "id": "ER7siTrsCe4m"
   },
   "source": [
    "Indeed, we have missing data. Let's see how much is missing."
   ]
  },
  {
   "cell_type": "code",
   "execution_count": 15,
   "metadata": {
    "colab": {},
    "colab_type": "code",
    "id": "NEqYfWsxCnlt"
   },
   "outputs": [
    {
     "output_type": "execute_result",
     "data": {
      "text/plain": [
       "Company                 1\n",
       "Company Location        1\n",
       "Bean Type               0\n",
       "Specific Bean Origin    1\n",
       "Broad Bean Origin       1\n",
       "Cocoa Percent           1\n",
       "REF                     1\n",
       "Review Date             1\n",
       "Rating                  1\n",
       "dtype: int64"
      ]
     },
     "metadata": {},
     "execution_count": 15
    }
   ],
   "source": [
    "df[df['Bean Type'].isna()].count()"
   ]
  },
  {
   "cell_type": "markdown",
   "metadata": {
    "colab_type": "text",
    "id": "CZwRD78JC6sK"
   },
   "source": [
    "Only one row of data is missing 'Bean Type'. Let's take a look at that row."
   ]
  },
  {
   "cell_type": "code",
   "execution_count": 16,
   "metadata": {
    "colab": {},
    "colab_type": "code",
    "id": "ZvSyoal2DBCH"
   },
   "outputs": [
    {
     "output_type": "execute_result",
     "data": {
      "text/plain": [
       "     Company Company Location Bean Type  \\\n",
       "1544    Soma           Canada       NaN   \n",
       "\n",
       "                         Specific Bean Origin   Broad Bean Origin  \\\n",
       "1544  Three Amigos(Chuao, Wild Bolivia, D.R.)  Ven, Bolivia, D.R.   \n",
       "\n",
       "     Cocoa Percent  REF  Review Date  Rating  \n",
       "1544           70%  676         2011     4.0  "
      ],
      "text/html": "<div>\n<style scoped>\n    .dataframe tbody tr th:only-of-type {\n        vertical-align: middle;\n    }\n\n    .dataframe tbody tr th {\n        vertical-align: top;\n    }\n\n    .dataframe thead th {\n        text-align: right;\n    }\n</style>\n<table border=\"1\" class=\"dataframe\">\n  <thead>\n    <tr style=\"text-align: right;\">\n      <th></th>\n      <th>Company</th>\n      <th>Company Location</th>\n      <th>Bean Type</th>\n      <th>Specific Bean Origin</th>\n      <th>Broad Bean Origin</th>\n      <th>Cocoa Percent</th>\n      <th>REF</th>\n      <th>Review Date</th>\n      <th>Rating</th>\n    </tr>\n  </thead>\n  <tbody>\n    <tr>\n      <th>1544</th>\n      <td>Soma</td>\n      <td>Canada</td>\n      <td>NaN</td>\n      <td>Three Amigos(Chuao, Wild Bolivia, D.R.)</td>\n      <td>Ven, Bolivia, D.R.</td>\n      <td>70%</td>\n      <td>676</td>\n      <td>2011</td>\n      <td>4.0</td>\n    </tr>\n  </tbody>\n</table>\n</div>"
     },
     "metadata": {},
     "execution_count": 16
    }
   ],
   "source": [
    "df[df['Bean Type'].isna()]"
   ]
  },
  {
   "cell_type": "markdown",
   "metadata": {
    "colab_type": "text",
    "id": "SWnKcJ5HDF5B"
   },
   "source": [
    "Now we have a choice to make about how to handle this missing data. Some options include:\n",
    "\n",
    "* Leave it as is\n",
    "* Remove the entire row\n",
    "* Fill in the data with some value\n",
    "\n",
    "Leaving undefined values lying around in our data can be problematic. Missing values are not counted and can be tricky to program around.\n",
    "\n",
    "Removing the entire row actually isn't a bad option in this case. Since it is only one row out of over 1,700, it likely won't have too much effect on any analysis that we do.\n",
    "\n",
    "As for filling in the row, we can:\n",
    "\n",
    "* Use 'Unknown' or some other placeholder value\n",
    "* Actually do research to find the true missing value\n",
    "* See if there is a reasonable value already in the data\n",
    "\n",
    "In this case, we are just going to replace the missing value with 'Unknown'."
   ]
  },
  {
   "cell_type": "code",
   "execution_count": 17,
   "metadata": {
    "colab": {},
    "colab_type": "code",
    "id": "qCVeiD-2E3MN"
   },
   "outputs": [
    {
     "output_type": "execute_result",
     "data": {
      "text/plain": [
       "Empty DataFrame\n",
       "Columns: [Company, Company Location, Bean Type, Specific Bean Origin, Broad Bean Origin, Cocoa Percent, REF, Review Date, Rating]\n",
       "Index: []"
      ],
      "text/html": "<div>\n<style scoped>\n    .dataframe tbody tr th:only-of-type {\n        vertical-align: middle;\n    }\n\n    .dataframe tbody tr th {\n        vertical-align: top;\n    }\n\n    .dataframe thead th {\n        text-align: right;\n    }\n</style>\n<table border=\"1\" class=\"dataframe\">\n  <thead>\n    <tr style=\"text-align: right;\">\n      <th></th>\n      <th>Company</th>\n      <th>Company Location</th>\n      <th>Bean Type</th>\n      <th>Specific Bean Origin</th>\n      <th>Broad Bean Origin</th>\n      <th>Cocoa Percent</th>\n      <th>REF</th>\n      <th>Review Date</th>\n      <th>Rating</th>\n    </tr>\n  </thead>\n  <tbody>\n  </tbody>\n</table>\n</div>"
     },
     "metadata": {},
     "execution_count": 17
    }
   ],
   "source": [
    "df.loc[df['Bean Type'].isna(), 'Bean Type'] = 'Unknown'\n",
    "df[df['Bean Type'].isna()]"
   ]
  },
  {
   "cell_type": "markdown",
   "metadata": {
    "colab_type": "text",
    "id": "jaoPvnZnHMjg"
   },
   "source": [
    "Now we can see how many unique bean types we have."
   ]
  },
  {
   "cell_type": "code",
   "execution_count": 18,
   "metadata": {
    "colab": {},
    "colab_type": "code",
    "id": "dj_ttYmwFATj"
   },
   "outputs": [
    {
     "output_type": "execute_result",
     "data": {
      "text/plain": [
       "42"
      ]
     },
     "metadata": {},
     "execution_count": 18
    }
   ],
   "source": [
    "df['Bean Type'].unique().size"
   ]
  },
  {
   "cell_type": "markdown",
   "metadata": {
    "colab_type": "text",
    "id": "-PJNVBJAHUgK"
   },
   "source": [
    "Only 42, let's print them out."
   ]
  },
  {
   "cell_type": "code",
   "execution_count": 19,
   "metadata": {
    "colab": {},
    "colab_type": "code",
    "id": "EGITpas9HXwH"
   },
   "outputs": [
    {
     "output_type": "stream",
     "name": "stdout",
     "text": [
      "Amazon\nAmazon mix\nAmazon, ICS\nBeniano\nBlend\nBlend-Forastero,Criollo\nCCN51\nCriollo\nCriollo (Amarru)\nCriollo (Ocumare 61)\nCriollo (Ocumare 67)\nCriollo (Ocumare 77)\nCriollo (Ocumare)\nCriollo (Porcelana)\nCriollo (Wild)\nCriollo, +\nCriollo, Forastero\nCriollo, Trinitario\nEET\nForastero\nForastero (Amelonado)\nForastero (Arriba)\nForastero (Arriba) ASS\nForastero (Arriba) ASSS\nForastero (Catongo)\nForastero (Nacional)\nForastero (Parazinho)\nForastero(Arriba, CCN)\nForastero, Trinitario\nMatina\nNacional\nNacional (Arriba)\nTrinitario\nTrinitario (85% Criollo)\nTrinitario (Amelonado)\nTrinitario (Scavina)\nTrinitario, Criollo\nTrinitario, Forastero\nTrinitario, Nacional\nTrinitario, TCGA\nUnknown\n \n"
     ]
    }
   ],
   "source": [
    "for t in sorted(df['Bean Type'].unique()):\n",
    "  print(t)"
   ]
  },
  {
   "cell_type": "markdown",
   "metadata": {
    "colab_type": "text",
    "id": "BY0UqpgsHjTu"
   },
   "source": [
    "The data looks pretty good. But there is a small little problem. After 'Unknown' there seems to be an empty line. What is that?\n",
    "\n",
    "It turns out that it is a whitespace character. We thought we had only one missing value, but it looks like there are some values that are present but are white space. Let's see how many.\n",
    "\n",
    "White space can be tricky because there are many different encodings that render as white space. Let's find out exactly which space character this is.\n",
    "\n",
    "To get the space(s) we can sort the 'Bean Type' values again and get the last one, since we see the space last in the list. We can then print the space as hexadecimal characters."
   ]
  },
  {
   "cell_type": "code",
   "execution_count": 20,
   "metadata": {
    "colab": {},
    "colab_type": "code",
    "id": "O2E_EcvCH-NH"
   },
   "outputs": [
    {
     "output_type": "stream",
     "name": "stdout",
     "text": [
      "0xa0\n"
     ]
    }
   ],
   "source": [
    "space = sorted(df['Bean Type'].unique())[-1]\n",
    "print(\", \".join(\"0x{:02x}\".format(ord(c)) for c in space))"
   ]
  },
  {
   "cell_type": "markdown",
   "metadata": {
    "colab_type": "text",
    "id": "0TTbLvZSJUZw"
   },
   "source": [
    "We get `0xa0` which is the ASCII code for [non-breaking space](https://en.wikipedia.org/wiki/Non-breaking_space). This is different from the white space that you get when you hit the space bar. That space is encoded `0x20`.\n",
    "\n",
    "Let's see how many of these there are:"
   ]
  },
  {
   "cell_type": "code",
   "execution_count": 21,
   "metadata": {
    "colab": {},
    "colab_type": "code",
    "id": "KDOkj9BTJspc"
   },
   "outputs": [
    {
     "output_type": "execute_result",
     "data": {
      "text/plain": [
       "       Company Company Location Bean Type Specific Bean Origin  \\\n",
       "0     A. Morin           France                    Agua Grande   \n",
       "1     A. Morin           France                          Kpime   \n",
       "2     A. Morin           France                         Atsane   \n",
       "3     A. Morin           France                          Akata   \n",
       "4     A. Morin           France                         Quilla   \n",
       "...        ...              ...       ...                  ...   \n",
       "1787    Zotter          Austria                  Santo Domingo   \n",
       "1789    Zotter          Austria                  Indianer, Raw   \n",
       "1790    Zotter          Austria                           Peru   \n",
       "1793    Zotter          Austria                   Kerala State   \n",
       "1794    Zotter          Austria             Brazil, Mitzi Blue   \n",
       "\n",
       "       Broad Bean Origin Cocoa Percent   REF  Review Date  Rating  \n",
       "0               Sao Tome           63%  1876         2016    3.75  \n",
       "1                   Togo           70%  1676         2015    2.75  \n",
       "2                   Togo           70%  1676         2015    3.00  \n",
       "3                   Togo           70%  1680         2015    3.50  \n",
       "4                   Peru           70%  1704         2015    3.50  \n",
       "...                  ...           ...   ...          ...     ...  \n",
       "1787  Dominican Republic           70%   879         2012    3.75  \n",
       "1789                               58%   883         2012    3.50  \n",
       "1790                Peru           70%   647         2011    3.75  \n",
       "1793               India           62%   781         2011    3.25  \n",
       "1794              Brazil           65%   486         2010    3.00  \n",
       "\n",
       "[887 rows x 9 columns]"
      ],
      "text/html": "<div>\n<style scoped>\n    .dataframe tbody tr th:only-of-type {\n        vertical-align: middle;\n    }\n\n    .dataframe tbody tr th {\n        vertical-align: top;\n    }\n\n    .dataframe thead th {\n        text-align: right;\n    }\n</style>\n<table border=\"1\" class=\"dataframe\">\n  <thead>\n    <tr style=\"text-align: right;\">\n      <th></th>\n      <th>Company</th>\n      <th>Company Location</th>\n      <th>Bean Type</th>\n      <th>Specific Bean Origin</th>\n      <th>Broad Bean Origin</th>\n      <th>Cocoa Percent</th>\n      <th>REF</th>\n      <th>Review Date</th>\n      <th>Rating</th>\n    </tr>\n  </thead>\n  <tbody>\n    <tr>\n      <th>0</th>\n      <td>A. Morin</td>\n      <td>France</td>\n      <td></td>\n      <td>Agua Grande</td>\n      <td>Sao Tome</td>\n      <td>63%</td>\n      <td>1876</td>\n      <td>2016</td>\n      <td>3.75</td>\n    </tr>\n    <tr>\n      <th>1</th>\n      <td>A. Morin</td>\n      <td>France</td>\n      <td></td>\n      <td>Kpime</td>\n      <td>Togo</td>\n      <td>70%</td>\n      <td>1676</td>\n      <td>2015</td>\n      <td>2.75</td>\n    </tr>\n    <tr>\n      <th>2</th>\n      <td>A. Morin</td>\n      <td>France</td>\n      <td></td>\n      <td>Atsane</td>\n      <td>Togo</td>\n      <td>70%</td>\n      <td>1676</td>\n      <td>2015</td>\n      <td>3.00</td>\n    </tr>\n    <tr>\n      <th>3</th>\n      <td>A. Morin</td>\n      <td>France</td>\n      <td></td>\n      <td>Akata</td>\n      <td>Togo</td>\n      <td>70%</td>\n      <td>1680</td>\n      <td>2015</td>\n      <td>3.50</td>\n    </tr>\n    <tr>\n      <th>4</th>\n      <td>A. Morin</td>\n      <td>France</td>\n      <td></td>\n      <td>Quilla</td>\n      <td>Peru</td>\n      <td>70%</td>\n      <td>1704</td>\n      <td>2015</td>\n      <td>3.50</td>\n    </tr>\n    <tr>\n      <th>...</th>\n      <td>...</td>\n      <td>...</td>\n      <td>...</td>\n      <td>...</td>\n      <td>...</td>\n      <td>...</td>\n      <td>...</td>\n      <td>...</td>\n      <td>...</td>\n    </tr>\n    <tr>\n      <th>1787</th>\n      <td>Zotter</td>\n      <td>Austria</td>\n      <td></td>\n      <td>Santo Domingo</td>\n      <td>Dominican Republic</td>\n      <td>70%</td>\n      <td>879</td>\n      <td>2012</td>\n      <td>3.75</td>\n    </tr>\n    <tr>\n      <th>1789</th>\n      <td>Zotter</td>\n      <td>Austria</td>\n      <td></td>\n      <td>Indianer, Raw</td>\n      <td></td>\n      <td>58%</td>\n      <td>883</td>\n      <td>2012</td>\n      <td>3.50</td>\n    </tr>\n    <tr>\n      <th>1790</th>\n      <td>Zotter</td>\n      <td>Austria</td>\n      <td></td>\n      <td>Peru</td>\n      <td>Peru</td>\n      <td>70%</td>\n      <td>647</td>\n      <td>2011</td>\n      <td>3.75</td>\n    </tr>\n    <tr>\n      <th>1793</th>\n      <td>Zotter</td>\n      <td>Austria</td>\n      <td></td>\n      <td>Kerala State</td>\n      <td>India</td>\n      <td>62%</td>\n      <td>781</td>\n      <td>2011</td>\n      <td>3.25</td>\n    </tr>\n    <tr>\n      <th>1794</th>\n      <td>Zotter</td>\n      <td>Austria</td>\n      <td></td>\n      <td>Brazil, Mitzi Blue</td>\n      <td>Brazil</td>\n      <td>65%</td>\n      <td>486</td>\n      <td>2010</td>\n      <td>3.00</td>\n    </tr>\n  </tbody>\n</table>\n<p>887 rows × 9 columns</p>\n</div>"
     },
     "metadata": {},
     "execution_count": 21
    }
   ],
   "source": [
    "df[df['Bean Type'] == chr(0xa0)]"
   ]
  },
  {
   "cell_type": "markdown",
   "metadata": {
    "colab_type": "text",
    "id": "E6iQWvqCK9fM"
   },
   "source": [
    "Almost 900! Let's encode those as 'Unknown' also."
   ]
  },
  {
   "cell_type": "markdown",
   "metadata": {
    "colab_type": "text",
    "id": "xkf_tZeLLECc"
   },
   "source": [
    "#### Exercise 3: Fixing Non-Breaking Space\n",
    "\n",
    "There are non-breaking space characters, `0xa0` in the 'Bean Type' column. Replace these values with the word 'Unknown'."
   ]
  },
  {
   "cell_type": "markdown",
   "metadata": {
    "colab_type": "text",
    "id": "eSXdAvnuLSUT"
   },
   "source": [
    "**Student Solution**"
   ]
  },
  {
   "cell_type": "code",
   "execution_count": 22,
   "metadata": {
    "colab": {},
    "colab_type": "code",
    "id": "8FGsZXdiLUYJ"
   },
   "outputs": [],
   "source": [
    "# Your Code Goes Here\n",
    "cond = df['Bean Type'] == '\\xa0'\n",
    "df.loc[cond, 'Bean Type'] = 'Unknown'"
   ]
  },
  {
   "cell_type": "markdown",
   "metadata": {
    "colab_type": "text",
    "id": "iToRkZ8pLWb4"
   },
   "source": [
    "---"
   ]
  },
  {
   "cell_type": "markdown",
   "metadata": {
    "colab_type": "text",
    "id": "f8c5MvFFHh_4"
   },
   "source": [
    "### Column: Specific Bean Origin"
   ]
  },
  {
   "cell_type": "markdown",
   "metadata": {
    "colab_type": "text",
    "id": "6MAc6snPJ6LK"
   },
   "source": [
    "Let's look at our next column: 'Specific Bean Origin'. 'Specific Bean Origin' is a string column that contains the \"*specific geo-region of origin for the bar*.\"\n",
    "\n",
    "First, we'll see if we are missing any data in the 'Specific Bean Origin' column."
   ]
  },
  {
   "cell_type": "code",
   "execution_count": 23,
   "metadata": {
    "colab": {},
    "colab_type": "code",
    "id": "e9Lk5uA_RKN5"
   },
   "outputs": [
    {
     "output_type": "execute_result",
     "data": {
      "text/plain": [
       "False"
      ]
     },
     "metadata": {},
     "execution_count": 23
    }
   ],
   "source": [
    "df['Specific Bean Origin'].isna().any()"
   ]
  },
  {
   "cell_type": "markdown",
   "metadata": {
    "colab_type": "text",
    "id": "DQh-ivg2RNfS"
   },
   "source": [
    "Good, we don't have any 'N/A' data. But we learned from the 'Bean' column that we also need to check string columns for being only white space.\n",
    "\n",
    "A good way to do this is to apply a function that strips leading and trailing white space from every value in a column, and see if the resulting string is zero-length."
   ]
  },
  {
   "cell_type": "code",
   "execution_count": 24,
   "metadata": {
    "colab": {},
    "colab_type": "code",
    "id": "9-MLWbPgMxZm"
   },
   "outputs": [
    {
     "output_type": "execute_result",
     "data": {
      "text/plain": [
       "Empty DataFrame\n",
       "Columns: [Company, Company Location, Bean Type, Specific Bean Origin, Broad Bean Origin, Cocoa Percent, REF, Review Date, Rating]\n",
       "Index: []"
      ],
      "text/html": "<div>\n<style scoped>\n    .dataframe tbody tr th:only-of-type {\n        vertical-align: middle;\n    }\n\n    .dataframe tbody tr th {\n        vertical-align: top;\n    }\n\n    .dataframe thead th {\n        text-align: right;\n    }\n</style>\n<table border=\"1\" class=\"dataframe\">\n  <thead>\n    <tr style=\"text-align: right;\">\n      <th></th>\n      <th>Company</th>\n      <th>Company Location</th>\n      <th>Bean Type</th>\n      <th>Specific Bean Origin</th>\n      <th>Broad Bean Origin</th>\n      <th>Cocoa Percent</th>\n      <th>REF</th>\n      <th>Review Date</th>\n      <th>Rating</th>\n    </tr>\n  </thead>\n  <tbody>\n  </tbody>\n</table>\n</div>"
     },
     "metadata": {},
     "execution_count": 24
    }
   ],
   "source": [
    "df[df['Specific Bean Origin'].apply(lambda x: x.strip()).str.len() == 0]"
   ]
  },
  {
   "cell_type": "markdown",
   "metadata": {
    "colab_type": "text",
    "id": "Oxyh7ZFKPEJY"
   },
   "source": [
    "Here we can see that no data was returned, so we don't have any 'Specific Bean Origin' values that are only spaces.\n",
    "\n",
    "If you run this function and get an error about numbers/floats not having a strip function, you likely have N/A values in your column. Always check `isna()` first.\n",
    "\n",
    "Now that we know that every row has a 'Specific Bean Origin' value, let's see how many unique values we have."
   ]
  },
  {
   "cell_type": "code",
   "execution_count": 25,
   "metadata": {
    "colab": {},
    "colab_type": "code",
    "id": "MTfjVmwmLMZM"
   },
   "outputs": [
    {
     "output_type": "execute_result",
     "data": {
      "text/plain": [
       "1039"
      ]
     },
     "metadata": {},
     "execution_count": 25
    }
   ],
   "source": [
    "df['Specific Bean Origin'].unique().size"
   ]
  },
  {
   "cell_type": "markdown",
   "metadata": {
    "colab_type": "text",
    "id": "TxRFy8RnLXVk"
   },
   "source": [
    "Over 1,000 values! That is quite a bit of data to manually sift through. Let's look at the first bit of data, up until the first origin that starts with 'B'."
   ]
  },
  {
   "cell_type": "code",
   "execution_count": 26,
   "metadata": {
    "colab": {},
    "colab_type": "code",
    "id": "ibDslHr2HrTw"
   },
   "outputs": [
    {
     "output_type": "stream",
     "name": "stdout",
     "text": [
      "\"heirloom\", Arriba Nacional\n",
      "100 percent\n",
      "2009 Hapa Nibby\n",
      "A case of the Xerces Blues, triple roast\n",
      "ABOCFA Coop\n",
      "Abinao\n",
      "Abstract S. w/ Jamaica nibs,batch abs60323.0\n",
      "Acarigua, w/ nibs\n",
      "Acopagro\n",
      "Acul-du-Nord, 2015\n",
      "Africa\n",
      "Africa meets Latina\n",
      "AgroCriso Plantation\n",
      "Agua Fria; Sucre region\n",
      "Agua Grande\n",
      "Akata\n",
      "Akesson Estate\n",
      "Akesson P.\n",
      "Akesson's E., Sambirano V.\n",
      "Akesson's Estate\n",
      "Akesson's, batch 4411\n",
      "Akessons Estate, Sambirano, 2013\n",
      "Akessons Estate, Sambirano, Ambanja\n",
      "Akosombo\n",
      "Almendra Blanca, batch 1004\n",
      "Alpaco\n",
      "Alta Verapaz, 2014\n",
      "Alto Beni\n",
      "Alto Beni, Covendo Region\n",
      "Alto Beni, Cru Savage\n",
      "Alto Beni, Palos Blanco\n",
      "Alto Beni, Palos Blancos\n",
      "Alto Beni, Upper Rio Beni, 2014\n",
      "Alto Beni, Upper Rio Beni, 2015\n",
      "Alto Beni, Wild Bolivian\n",
      "Alto Beni, Wild Harvest, Itenez R. 24hr c.\n",
      "Alto Beni, Wild Harvest, Itenez R., 60hr c.\n",
      "Alto Beni, Wild Harvest, Limited Ed.\n",
      "Amazon Basin Blend\n",
      "Amazonas\n",
      "Amazonas Frucht\n",
      "Amazonas w/ nibs\n",
      "Amazonia\n",
      "Ambanja, Sambirano Valley\n",
      "Ambanja, Tsara Valley\n",
      "Ambanja, batch 1 SRB\n",
      "Ambolikapiky\n",
      "Ambolikapiky P.\n",
      "Ambolikapkly P.\n",
      "Amina\n",
      "Andoa, Grand Cru blend\n",
      "Ankasa\n",
      "Anselmo Paraiso Estate\n",
      "Antigua, Special Reserve\n",
      "Antilles (Trin/Gren/DR/Ven)\n",
      "Apurimac\n",
      "Apurimac, El Quinacho Co-op\n",
      "Aragua, Trincheras\n",
      "Araguani\n",
      "Aranama\n",
      "Arauca\n",
      "Arawak\n",
      "Arhuacos\n",
      "Arriba\n",
      "Asajaya E, NW Borneo, b. #132/4500\n",
      "Asante\n",
      "Asochivite, batch 1005\n",
      "Atsane\n",
      "Australia\n",
      "Autumn, Primary Harvest, 2012\n",
      "Ayacucho, \"El Guinacho\"\n"
     ]
    }
   ],
   "source": [
    "for origin in sorted(df['Specific Bean Origin'].unique()):\n",
    "  if origin.startswith('B'):\n",
    "    break\n",
    "  print(origin)"
   ]
  },
  {
   "cell_type": "markdown",
   "metadata": {
    "colab_type": "text",
    "id": "X7otjUTJMUhb"
   },
   "source": [
    "This is some pretty ugly data. Most (but not all) rows contain the bean's geographical origin, but some seem to include the year and/or batch numbers as well, and some seem to contain different information entirely (\"100 percent\").\n",
    "\n",
    "Looking at the data, we can also see some things that look odd. For instance, \"Akesson Estate\" and \"Akesson's Estate\" are likely the same origin. Also, \"Ambolikapkly P.\" clearly looks like a misspelling of \"Ambolikapiky P.\"\n",
    "\n",
    "We could make all of the \"Akesson\" origins look the same, but should we? First, let's look at the entire rows for the offending data."
   ]
  },
  {
   "cell_type": "code",
   "execution_count": 27,
   "metadata": {
    "colab": {},
    "colab_type": "code",
    "id": "74DvVEDvNgXF"
   },
   "outputs": [
    {
     "output_type": "execute_result",
     "data": {
      "text/plain": [
       "                     Company Company Location   Bean Type  \\\n",
       "807                  Hogarth      New Zealand  Trinitario   \n",
       "1109                Metiisto           Sweden  Trinitario   \n",
       "1301              Pitch Dark           U.S.A.  Trinitario   \n",
       "1483  Smooth Chocolator, The        Australia  Trinitario   \n",
       "1484  Smooth Chocolator, The        Australia  Trinitario   \n",
       "\n",
       "     Specific Bean Origin Broad Bean Origin Cocoa Percent   REF  Review Date  \\\n",
       "807      Akesson's Estate        Madagascar           70%  1712         2016   \n",
       "1109       Akesson Estate        Madagascar           72%  1267         2014   \n",
       "1301       Akesson Estate        Madagascar           73%  1311         2014   \n",
       "1483     Akesson's Estate        Madagascar           65%  1618         2015   \n",
       "1484     Akesson's Estate        Madagascar           70%  1622         2015   \n",
       "\n",
       "      Rating  \n",
       "807     2.75  \n",
       "1109    3.50  \n",
       "1301    3.25  \n",
       "1483    3.25  \n",
       "1484    3.50  "
      ],
      "text/html": "<div>\n<style scoped>\n    .dataframe tbody tr th:only-of-type {\n        vertical-align: middle;\n    }\n\n    .dataframe tbody tr th {\n        vertical-align: top;\n    }\n\n    .dataframe thead th {\n        text-align: right;\n    }\n</style>\n<table border=\"1\" class=\"dataframe\">\n  <thead>\n    <tr style=\"text-align: right;\">\n      <th></th>\n      <th>Company</th>\n      <th>Company Location</th>\n      <th>Bean Type</th>\n      <th>Specific Bean Origin</th>\n      <th>Broad Bean Origin</th>\n      <th>Cocoa Percent</th>\n      <th>REF</th>\n      <th>Review Date</th>\n      <th>Rating</th>\n    </tr>\n  </thead>\n  <tbody>\n    <tr>\n      <th>807</th>\n      <td>Hogarth</td>\n      <td>New Zealand</td>\n      <td>Trinitario</td>\n      <td>Akesson's Estate</td>\n      <td>Madagascar</td>\n      <td>70%</td>\n      <td>1712</td>\n      <td>2016</td>\n      <td>2.75</td>\n    </tr>\n    <tr>\n      <th>1109</th>\n      <td>Metiisto</td>\n      <td>Sweden</td>\n      <td>Trinitario</td>\n      <td>Akesson Estate</td>\n      <td>Madagascar</td>\n      <td>72%</td>\n      <td>1267</td>\n      <td>2014</td>\n      <td>3.50</td>\n    </tr>\n    <tr>\n      <th>1301</th>\n      <td>Pitch Dark</td>\n      <td>U.S.A.</td>\n      <td>Trinitario</td>\n      <td>Akesson Estate</td>\n      <td>Madagascar</td>\n      <td>73%</td>\n      <td>1311</td>\n      <td>2014</td>\n      <td>3.25</td>\n    </tr>\n    <tr>\n      <th>1483</th>\n      <td>Smooth Chocolator, The</td>\n      <td>Australia</td>\n      <td>Trinitario</td>\n      <td>Akesson's Estate</td>\n      <td>Madagascar</td>\n      <td>65%</td>\n      <td>1618</td>\n      <td>2015</td>\n      <td>3.25</td>\n    </tr>\n    <tr>\n      <th>1484</th>\n      <td>Smooth Chocolator, The</td>\n      <td>Australia</td>\n      <td>Trinitario</td>\n      <td>Akesson's Estate</td>\n      <td>Madagascar</td>\n      <td>70%</td>\n      <td>1622</td>\n      <td>2015</td>\n      <td>3.50</td>\n    </tr>\n  </tbody>\n</table>\n</div>"
     },
     "metadata": {},
     "execution_count": 27
    }
   ],
   "source": [
    "df[(df['Specific Bean Origin'] == 'Akesson Estate') | \\\n",
    "   (df['Specific Bean Origin'] == \"Akesson's Estate\")]"
   ]
  },
  {
   "cell_type": "markdown",
   "metadata": {
    "colab_type": "text",
    "id": "htWHPgw3OUJE"
   },
   "source": [
    "It is interesting that all of the bean types and origins are alike. It looks like Akesson('s) Estate serves many companies though.\n",
    "\n",
    "It is tempting to go ahead and change the \"Specific Bean Origin\" values to make them match, but it is better to do more research into the industry before making those sorts of changes. You might disagree with this decision, and that is perfectly fine. When working with datasets, you will often have to make difficult calls to deal with ambiguous data. Different people will make different decisions, and that's okay.\n",
    "\n",
    "The \"Ambolikapkly P.\" issue is a little more obvious and can be validated with a quick internet search. The \"Ambolikapkly\" spelling shows up very few times and always in the context of this data set. The other spelling is much more common. Let's go ahead and fix that."
   ]
  },
  {
   "cell_type": "code",
   "execution_count": 28,
   "metadata": {
    "colab": {},
    "colab_type": "code",
    "id": "4XB8MPWLO0ZC"
   },
   "outputs": [],
   "source": [
    "df.loc[df['Specific Bean Origin'] == 'Ambolikapkly P.', \n",
    "       'Specific Bean Origin'] = 'Ambolikapiky P.'"
   ]
  },
  {
   "cell_type": "markdown",
   "metadata": {
    "colab_type": "text",
    "id": "Lrm76h5vPORJ"
   },
   "source": [
    "#### Exercise 4: Finding and Repairing Bad Data\n",
    "\n",
    "There are a few more obvious errors in the 'Specific Bean Origin' column of the dataset. Print out the column, scan the output, and see if you can find any more errors. Write the code to fix the errors. Find at least one error to fix.\n",
    "\n",
    "The code to print the dataset is below."
   ]
  },
  {
   "cell_type": "code",
   "execution_count": 29,
   "metadata": {
    "colab": {},
    "colab_type": "code",
    "id": "0yYMKfmIPqOh"
   },
   "outputs": [
    {
     "output_type": "stream",
     "name": "stdout",
     "text": [
      "\"heirloom\", Arriba Nacional\n",
      "100 percent\n",
      "2009 Hapa Nibby\n",
      "A case of the Xerces Blues, triple roast\n",
      "ABOCFA Coop\n",
      "Abinao\n",
      "Abstract S. w/ Jamaica nibs,batch abs60323.0\n",
      "Acarigua, w/ nibs\n",
      "Acopagro\n",
      "Acul-du-Nord, 2015\n",
      "Africa\n",
      "Africa meets Latina\n",
      "AgroCriso Plantation\n",
      "Agua Fria; Sucre region\n",
      "Agua Grande\n",
      "Akata\n",
      "Akesson Estate\n",
      "Akesson P.\n",
      "Akesson's E., Sambirano V.\n",
      "Akesson's Estate\n",
      "Akesson's, batch 4411\n",
      "Akessons Estate, Sambirano, 2013\n",
      "Akessons Estate, Sambirano, Ambanja\n",
      "Akosombo\n",
      "Almendra Blanca, batch 1004\n",
      "Alpaco\n",
      "Alta Verapaz, 2014\n",
      "Alto Beni\n",
      "Alto Beni, Covendo Region\n",
      "Alto Beni, Cru Savage\n",
      "Alto Beni, Palos Blanco\n",
      "Alto Beni, Palos Blancos\n",
      "Alto Beni, Upper Rio Beni, 2014\n",
      "Alto Beni, Upper Rio Beni, 2015\n",
      "Alto Beni, Wild Bolivian\n",
      "Alto Beni, Wild Harvest, Itenez R. 24hr c.\n",
      "Alto Beni, Wild Harvest, Itenez R., 60hr c.\n",
      "Alto Beni, Wild Harvest, Limited Ed.\n",
      "Amazon Basin Blend\n",
      "Amazonas\n",
      "Amazonas Frucht\n",
      "Amazonas w/ nibs\n",
      "Amazonia\n",
      "Ambanja, Sambirano Valley\n",
      "Ambanja, Tsara Valley\n",
      "Ambanja, batch 1 SRB\n",
      "Ambolikapiky\n",
      "Ambolikapiky P.\n",
      "Amina\n",
      "Andoa, Grand Cru blend\n",
      "Ankasa\n",
      "Anselmo Paraiso Estate\n",
      "Antigua, Special Reserve\n",
      "Antilles (Trin/Gren/DR/Ven)\n",
      "Apurimac\n",
      "Apurimac, El Quinacho Co-op\n",
      "Aragua, Trincheras\n",
      "Araguani\n",
      "Aranama\n",
      "Arauca\n",
      "Arawak\n",
      "Arhuacos\n",
      "Arriba\n",
      "Asajaya E, NW Borneo, b. #132/4500\n",
      "Asante\n",
      "Asochivite, batch 1005\n",
      "Atsane\n",
      "Australia\n",
      "Autumn, Primary Harvest, 2012\n",
      "Ayacucho, \"El Guinacho\"\n",
      "Ba Lai\n",
      "Ba Ria\n",
      "Ba Ria Vung Tau Province\n",
      "Bachelor's Hall E., St. Thomas Parish\n",
      "Bahia\n",
      "Bahia Black, batch bra50722.1\n",
      "Bahia Brazil, Fazenda Sao Pedro\n",
      "Bahia Superior\n",
      "Bahia, Agri-Forestal Plantation, 2010\n",
      "Bahia, Batch 148\n",
      "Bahia, Fazenda Camboa\n",
      "Bahia, Fazenda Venturosa\n",
      "Bahia, Floresta Azul,Good Friends Reserve#3\n",
      "Bahia, Scavina\n",
      "Bahia, batch a1213\n",
      "Baking\n",
      "Bali\n",
      "Bali (west), Sukrama Family, Melaya area\n",
      "Bali, Jembrana\n",
      "Bali, Singaraja\n",
      "Bali, Sukrama Bros. Farm, Melaya, 62hr C\n",
      "Balinese, Java\n",
      "Bambamarca, 2015\n",
      "Baracoa\n",
      "Baracoa, Cuba\n",
      "Barba, Xoco\n",
      "Barinas\n",
      "Barlovento, Venezuela\n",
      "Bayou Blend\n",
      "Belize\n",
      "Belize south\n",
      "Belize south, low fermentation\n",
      "Belize, 2013\n",
      "Belize, 2014 Harvest, Batch 9\n",
      "Belize, Batch 2\n",
      "Belize, med roast\n",
      "Bellavista Coop, #225, LR, MC, CG Exclusive\n",
      "Bellavista Gran Pajeten, San Martin\n",
      "Ben Tre\n",
      "Ben Tre, Dong Nai\n",
      "Ben Tre, Mekong Delta\n",
      "Ben Tre, Mekong Delta, MoCay\n",
      "Ben Tre, Surprise Valley\n",
      "Beniamo\n",
      "Birmanie\n",
      "Bittersweet\n",
      "Black Science Blend 1\n",
      "Blend\n",
      "Blend No. 1\n",
      "Blue Mountain\n",
      "Blue Mountain Region\n",
      "Bocas del Toro\n",
      "Bocas del Toro, Cocabo Co-op\n",
      "Bocas del Toro, Tierra Oscura\n",
      "Bolivar\n",
      "Bolivar, Arriba\n",
      "Bolivar, Guaranda\n",
      "Bolivia\n",
      "Bolivia, Bo-nib-ia, w/ nibs\n",
      "Bolivia, Wild Thing\n",
      "Bolivian\n",
      "Boyaca, Aprocampa Coop, Pauna\n",
      "Brazil\n",
      "Brazil Blend\n",
      "Brazil Rio Doce\n",
      "Brazil, Batch 20316\n",
      "Brazil, Mitzi Blue\n",
      "Brazilian\n",
      "Brooklyn Blend\n",
      "Bundibugyo\n",
      "Bundibugyo District\n",
      "Buto\n",
      "CIAAB Coop\n",
      "CSB Chama\n",
      "Cabosse\n",
      "Cacao Blanco\n",
      "Cacao Nacional W.F.\n",
      "Cacao Nib Crunch\n",
      "Cacao Verapaz\n",
      "Cahabon\n",
      "Cahabon Region\n",
      "Camahogne\n",
      "Camino Verde\n",
      "Camino Verde P., 2012, Balao, Guayas\n",
      "Camino Verde P., Balao, 2015 harvest, batch8\n",
      "Camino Verde P., Balao, Guayas\n",
      "Camino Verde P., Balao, Guayas, \"Floral\"\n",
      "Camino Verde P., Balao, Guayas, \"Fruity\"\n",
      "Camino Verde P., Balao, Guayas, 2012\n",
      "Camino Verde P., Balao, Guayas, 2013\n",
      "Camino Verde P., Balao, Guayas, 2014\n",
      "Camino Verde, Balao, Guayas\n",
      "Camino Verde, Black S., batch cvu6030.0\n",
      "Camino Verde, Guayas\n",
      "Campesino w/ nibs\n",
      "Canoabo\n",
      "Canoabo, 2013\n",
      "Canoabo, Hacienda San Jose\n",
      "Capistrano\n",
      "Capistrano*\n",
      "Caracas, Venezuela and Ghana\n",
      "Caraibe\n",
      "Caranero, Choc. Garage Exclusive\n",
      "Caraque\n",
      "Carenero\n",
      "Carenero S., Barlovento, Grand Cru\n",
      "Carenero Superior\n",
      "Carenero Superior, #203, MR, SC\n",
      "Carenero Superior, Apamate\n",
      "Carenero Superior, Bucare\n",
      "Carenero Superior, Concepcion\n",
      "Carenero Superior, Gran Saman\n",
      "Carenero Superior, Mijao\n",
      "Carenero Superior, Urrutia, Barlovento\n",
      "Carenero, Empyrean Sabor\n",
      "Carenero, Guapiles, Ocumare blend\n",
      "Caribe\n",
      "Carre Amer\n",
      "Carre Grand Noir\n",
      "Carribean\n",
      "Carribean-Raw\n",
      "Carupano, H. San Jose\n",
      "Castillo, Hispaniola, unroasted\n",
      "Catongo\n",
      "Cedeno, lot 271\n",
      "Cesar\n",
      "Ceylan\n",
      "Chanchamayo Province\n",
      "Chanchamayo, Pichanadi, 2012, 60hr c.\n",
      "Chef's Blend\n",
      "Chiapan\n",
      "Chiapas\n",
      "Chiapas, Lacandon Jungle\n",
      "Chiapas, Lacandon Jungle, Oaxacom Mtn\n",
      "Chiapas, Mokaya P.\n",
      "Chiapas, Triple Cacao\n",
      "Chimelb, Lanquin, Alta Verapaz, b-GUA001\n",
      "Chocoan Rainforest, Teroro Escondido, ESM\n",
      "Chocolatey-beta\n",
      "Choobua, Kona\n",
      "Choroni\n",
      "Choroni, Finca Torres, 48hr c.\n",
      "Chuao\n",
      "Chuao 100hr\n",
      "Chuao 2002 P.\n",
      "Chuao 70hr\n",
      "Chuao, #217, DR, MC\n",
      "Chuao, #218, MR, MC\n",
      "Chuao, Aragua region\n",
      "Chuao, Dark Roast\n",
      "Chuao, Hacienda San Jose\n",
      "Chuao, Light Roast\n",
      "Chuao, Mantuano blend\n",
      "Chuao, Med. Roast\n",
      "Chuao, Venezuela\n",
      "Chuao, batch 3\n",
      "Chucuri\n",
      "Chulucanas, Batch 1\n",
      "Chulucanas, El Platanal\n",
      "Chuno\n",
      "Chuno, San Jose de Bocay, Pantasma R.,B.S.\n",
      "Chuno, Xoco\n",
      "Chuno, double turned, Xoco\n",
      "Chuno, triple turned, Xoco\n",
      "Citrus-beta\n",
      "Classic\n",
      "Claudio Corallo w/ nibs\n",
      "Colombia\n",
      "Colombia, Batch 9\n",
      "Colombia, Casa Luker\n",
      "Colombian\n",
      "Colombian 2008\n",
      "Colombian Dark\n",
      "Colombian Semi Dark\n",
      "Colombian w/ nibs\n",
      "Colombie\n",
      "Complexite\n",
      "Conacado\n",
      "Conacado Coop\n",
      "Conacado, #212, LR, SC\n",
      "Conacado, #213, DR, -C\n",
      "Conacado, #223, MR, SC\n",
      "Conacado, #224, MR, MC\n",
      "Conacado, 2012, 120hr c.\n",
      "Conacado, Manifesto\n",
      "Concepcion\n",
      "Concepcion*\n",
      "Congo\n",
      "Congo w/ nibs\n",
      "Congo, Gorilla bar\n",
      "Congo, Grand Cru\n",
      "Coopertiva Amazona\n",
      "Coopertiva Amazona w/ nibs\n",
      "Cooproagro\n",
      "Corazon del Ecuador, Calceta beans\n",
      "Cordoba\n",
      "Corona Arriba\n",
      "Cortes\n",
      "Costa Esmeraldas\n",
      "Costa Rica\n",
      "Costa Rica, Oscuro\n",
      "Cota Brus, Terciopelo, 2015\n",
      "Coto Brus\n",
      "Coto Brus, Heirloom, Batch 1\n",
      "Coto Brus, Terciopelo\n",
      "Coucher du Soleil\n",
      "Crayfish Bay Estate, 2014\n",
      "Crayfish Bay aka Non Pariel Estate\n",
      "Crazy 88\n",
      "Criollo Blend\n",
      "Criollo, Dominican Republic\n",
      "Criollo, Hawaii\n",
      "Crudo\n",
      "Cuana, 2008\n",
      "Cuana, 2013\n",
      "Cuba\n",
      "Cuba, Batch 59/100\n",
      "Cumbia\n",
      "Cumboto, farmer Jose Lugo\n",
      "Cusco\n",
      "Cusco, Cacao Cusco\n",
      "Cuyagua\n",
      "Cuyagua Village\n",
      "Cuyagua, 2013\n",
      "D.R. Congo, Cru Virunga\n",
      "DUO, batch 002\n",
      "Daintree Estates, N. Queensland\n",
      "Dak Lak, Batch 2451\n",
      "Dancing in Your Head, 5 bean blend\n",
      "Dark\n",
      "Dark 67\n",
      "Dark 75\n",
      "Dark, Stone Ground\n",
      "Davao\n",
      "Davao, Mt. Talamo foothills\n",
      "Diego 48hr/ W.F. blend prototype\n",
      "Diego 60hr/ W.F. blend prototype\n",
      "Diego/ original micro\n",
      "Djakarta, Java and Ghana\n",
      "Djual Island\n",
      "Dominican\n",
      "Dominican Republic\n",
      "Dominican Republic prototype\n",
      "Dominican Republic w/ nibs\n",
      "Dominican Republic, \"Love Bar\"\n",
      "Dominican Republic, Batch 3\n",
      "Dominican Republic, Batch 31616\n",
      "Dominican Republic, Batch D2\n",
      "Dominican Republic, Coop\n",
      "Dominican Republic, batch 7\n",
      "Dominican Republic, lot D82R\n",
      "Dominican Republic, rustic\n",
      "Dominican Republic-Organic\n",
      "Dominican Republicm, rustic\n",
      "Don Homero- Cerecita Valley\n",
      "Dong Nai\n",
      "Dos Rios\n",
      "Downtown London\n",
      "Dual Origins, Sambirano, Elvesia\n",
      "Duarte Province\n",
      "Duarte, Batch 360\n",
      "Duo- Gran Couva & Camino Verde\n",
      "Eastern Promises\n",
      "Ecuador\n",
      "Ecuador Puristique\n",
      "Ecuador, 2013\n",
      "Ecuador, Batch 1\n",
      "Ecuador, Batch 31516\n",
      "Ecuador, Bob Bar\n",
      "Ecuador, Choc. Garage Exclusive\n",
      "Ecuador, Midnight Dark\n",
      "Ecuador, Puristique\n",
      "Ecuador, Twilght Dark\n",
      "Ecuador, lot E432314L\n",
      "Ecuador, raw\n",
      "Ecuador, w/ nibs\n",
      "El Carmen, batch 1003\n",
      "El Ceibo Coop\n",
      "El Oro\n",
      "El Oro, Hacienda de Oro\n",
      "El Salvador\n",
      "Elvesia\n",
      "Elvesia P.\n",
      "Elvesia P., Batch 32\n",
      "Elvesia P., Black Science\n",
      "Elvesia, 2011\n",
      "Emerald Estate\n",
      "Epique, Blend No. 49\n",
      "Equateur\n",
      "Equator\n",
      "Esmeraldas\n",
      "Esmeraldas, Salazar Farm\n",
      "Espada\n",
      "Espiritu Santo, 'Smoke Monster'\n",
      "Excellence (US Version)\n",
      "Extra Dark\n",
      "Fazenda Camboa\n",
      "Fazenda Camboa, Bahia\n",
      "Fazenda Leolinda\n",
      "Fazenda Sempre Firme P., Bahia\n",
      "Fazenda Sempre Firme, Bahia\n",
      "Finisterra\n",
      "Fleur de Cacao\n",
      "Fortissima\n",
      "French Laundry 20th Anniversary\n",
      "Fruity-beta\n",
      "Gabon\n",
      "Garaua\n",
      "Ghana\n",
      "Ghana Puristique\n",
      "Ghana prototype\n",
      "Ghana, #211, MR, MC\n",
      "Ghana, 2013\n",
      "Ghana, 2013, batch 129\n",
      "Ghana, Kumasi\n",
      "Ghana, Panama, Ecuador\n",
      "Ghana, prototype\n",
      "Goddess Blend\n",
      "Goodman Estate\n",
      "Gran Blanco\n",
      "Gran Couva\n",
      "Gran Couva 2005 P.\n",
      "Grand 'Anse\n",
      "Grand Cru Blend No.1, 5 yr. Anniversary Ed\n",
      "Grand Cru Dominican Republic\n",
      "Grand Cru Ecuador\n",
      "Grand Cru Ghana\n",
      "Granella\n",
      "Grenada\n",
      "Grenada, Black Science\n",
      "Grenade\n",
      "Gru Grococo, St. Andrews\n",
      "Gruppo Salinas\n",
      "Guadalcanal\n",
      "Guadeloupe\n",
      "Guanaja\n",
      "Guaniamo\n",
      "Guaniamo, Amazonas\n",
      "Guantupi River\n",
      "Guapiles\n",
      "Guasare\n",
      "Guasare, La Sierra de Perija, batch gua001\n",
      "Guasare, Zulia Prov.\n",
      "Guasare, Zulia Prov., 2015, batch 124\n",
      "Guatemala\n",
      "Guayas\n",
      "Guyave\n",
      "Hacienda Las Trincheras\n",
      "Hacienda Victoria\n",
      "Hacienda la Trinidad\n",
      "Haiti\n",
      "Haleiwa E, O'ahu, 2014\n",
      "Haleiwa, O'ahu; Lonohana E., Kanahiku\n",
      "Ham Luong\n",
      "Hamakua Coast, Kokoleka\n",
      "Hamakua, Hawaiian Crown, #176\n",
      "Haut Penja, w/ nibs\n",
      "Hawai'i, Kona Estate Grown\n",
      "Hawai'i, Kona Grand Cru E.\n",
      "Hawaiian Crown, Kona Vanilla\n",
      "Hawaiian, Big Island\n",
      "Hilo\n",
      "Hilo, w/ added cocoa butter\n",
      "Hispaniola\n",
      "Hispaniola w/ nibs\n",
      "Hispaniola, 2008\n",
      "Hispaniola, 2013\n",
      "Hispaniola, batch 170104\n",
      "Honduras\n",
      "House Blend, Batch 2\n",
      "Houseblend\n",
      "Huallabamba, 2015\n",
      "Huila\n",
      "Huiwani Coop\n",
      "IL100, H. San Jose\n",
      "Ilblend\n",
      "India\n",
      "India (south)\n",
      "Indianer, Raw\n",
      "Indigena Amazonia, Grand Cru, Quizas\n",
      "Indio Rojo, Xoco\n",
      "Indonesia\n",
      "Island Growers, 120hr c.\n",
      "Island Growers, 2012, 120hr c.\n",
      "Island Growers, 96hr c.\n",
      "Ivory Coast\n",
      "Ivory Coast, Batch 56/100\n",
      "Jamaica\n",
      "Jamaica a l'ancienne\n",
      "Jamaica, #204, DR, SC\n",
      "Jamaica, #205, DR, MC\n",
      "Jamaica, #206, DR, LC\n",
      "Jamaica, #209, DR, SC\n",
      "Jamaica, #210, DR, MC\n",
      "Jamaique\n",
      "Java\n",
      "Java, Grand Cru\n",
      "Java, Indonesian Black\n",
      "Java, Indonesie\n",
      "Java, Javablond\n",
      "Johe\n",
      "Johe, Xoco\n",
      "Juliana\n",
      "Jutiapa, lot 050916D\n",
      "Kafupbo, Petit Bourg, De Borgnes\n",
      "Kakao Kamili, Kilombero Valley\n",
      "Kakoa Kamili, Both Man & Bird & Beast\n",
      "Kaori\n",
      "Kaua'I, Alea Estate +world\n",
      "Kaua'i\n",
      "Kendari\n",
      "Kendem Lembu, Java\n",
      "Kerala State\n",
      "Kilombero Valley\n",
      "Kilombero, batch 41\n",
      "Kokoa Kamili\n",
      "Kokoa Kamili Coop\n",
      "Kokoa Kamili Coop, Kilombero\n",
      "Kokoa Kamili, batch 1 SRB\n",
      "Kolumbia\n",
      "Kongo, Highlands\n",
      "Kpime\n",
      "Kulili Estate\n",
      "Kulili P., 2013\n",
      "Kumasi Sambirano\n",
      "Kuruba\n",
      "La Bahia, w/ cane juice\n",
      "La Bahia, w/ cane sugar\n",
      "La Dalia\n",
      "La Dalia, Matagalpa\n",
      "La Dalia, Matagalpa,cacao Bisesto,green label\n",
      "La Dorado, light roast\n",
      "La Masica, Batch 1, FHIA Research Center\n",
      "La Masica, Batch 7, FHIA\n",
      "La Masica, FHIA\n",
      "La Patriota, cacao Indio, purple label\n",
      "La Red\n",
      "La Red de Guanconejo, N. Highlands coop\n",
      "La Red, 2011\n",
      "La Red, Guaconejo\n",
      "La Red, Guanconjeco\n",
      "La Red, Project Reserva, Guaconejo\n",
      "La Selva\n",
      "La Tronca, Matagalpa\n",
      "Lachua\n",
      "Lachua w/ cane sugar\n",
      "Lachua w/ maple sugar, batch 5\n",
      "Lachua, Q'egchi families\n",
      "Lacri Blend\n",
      "Lago di Como, Blu\n",
      "Lam Dong\n",
      "Lam Dong, Batch 153\n",
      "LamasdelChanka, San Martin, Oro Verde coop\n",
      "Lanquin Estate\n",
      "Las Acacias E.\n",
      "Las Islas\n",
      "Latino\n",
      "Le Chocolat Chaud\n",
      "Le Noir Amer\n",
      "Le Noir Extra Amer\n",
      "Lever du Soleil\n",
      "Libanio\n",
      "Liberia\n",
      "Liberia, #174\n",
      "Little Big Man\n",
      "Loma Los Pinos, Yacao region, D.R.\n",
      "Loma Sotavento\n",
      "Loma Sotavento, 2013\n",
      "Los Ancones P.\n",
      "Los Colorados, Santo Domingo, Equateur\n",
      "Los Llanos\n",
      "Los Rios\n",
      "Los Rios, H. Iara\n",
      "Los Rios, H. Iara, 2012\n",
      "Los Rios, H. Iara, 2012, 120hr c.\n",
      "Los Rios, H. Iara, 96hr c.\n",
      "Los Rios, Hacienda Limon, Heirloom\n",
      "Los Rios, Hacienda Limon, Orecao, 2014\n",
      "Los Rios, Hacienda Limon, Orecao, 2015\n",
      "Los Rios, Puerto Romero, Equateur\n",
      "Los Rios, Quevedo\n",
      "Los Rios, Quevedo, Arriba\n",
      "Los Rios, Rancho Grande 2004/2007\n",
      "Los Rios, Rancho Grande 2007\n",
      "Los Rios, Vinces\n",
      "Los Ujuxtes\n",
      "Lumas, 2015 Harvest, Batch 6, brown sugar\n",
      "Lumas, 2015 Harvest, Batch 7\n",
      "Mababa\n",
      "Machu Pichu\n",
      "Macondo\n",
      "Macuare; Miranda; Chloe formula\n",
      "Madagared\n",
      "Madagascar\n",
      "Madagascar w/ nibs\n",
      "Madagascar, 100% criollo\n",
      "Madagascar, Ambolikapiky P.\n",
      "Madagascar, Batch 2\n",
      "Madagascar, Batch 59/100\n",
      "Madagascar, Batch 8\n",
      "Madagascar, Grand Cru\n",
      "Madagascar, Nosy Be Isle.\n",
      "Madagascar, Sassy Bar\n",
      "Madagascar, lot M0403R\n",
      "Madagascar, w/ shell\n",
      "Mahali, Kasai\n",
      "Makwale Village, Kyela\n",
      "Maleku\n",
      "Malekula Island\n",
      "Malekula P., 2013\n",
      "Malgascio\n",
      "Manabi\n",
      "Mangaro P.\n",
      "Manhattan\n",
      "Manickchand Estate\n",
      "Manjari\n",
      "Mantuano\n",
      "Mantuano, 2012\n",
      "Mara\n",
      "Marabel Farms\n",
      "Maracaibo\n",
      "Maracaibo Clasificado\n",
      "Maracaibo, El Rosario\n",
      "Maracaibo, El Vigia\n",
      "Maragda\n",
      "Maragnam\n",
      "Maralumi P.\n",
      "Maranon\n",
      "Maranon Canyon\n",
      "Maranon Canyon, Fortunato No. 4\n",
      "Maranon, #227, LR, MC\n",
      "Maranon, #228, MR, SC\n",
      "Maranon, #229, MR, LC\n",
      "Maranon, #230, DR, LC\n",
      "Maranon, 2014\n",
      "Maranon, Cajamarca\n",
      "Maranon, Fortunato No. 4\n",
      "Maranon, Good & Evil, w/ nibs\n",
      "Maranon, Joya Rara\n",
      "Maranon, batch 2\n",
      "Maranura\n",
      "Marcial, single Cote, 2012\n",
      "Markham Valley\n",
      "Markham Valley, #219, LR, MC\n",
      "Markham Valley, #220, MR, MC\n",
      "Markham Valley, #221, DR, MC\n",
      "Markham Valley, #222, LR, 0C\n",
      "Matagalpa\n",
      "Matagalpa, Cacao Bisiesto\n",
      "Matasawalevu\n",
      "Matiguas\n",
      "Matina 1-6, prototype\n",
      "Maunawili, O'ahu, Agri Research C., 2014\n",
      "Maunawili, O'ahu, Agri Research C., 2015\n",
      "Maya Belize\n",
      "Maya Mountain\n",
      "Maya Mountain w/ nibs\n",
      "Maya Mountain, Toledo, Batch 29\n",
      "Maya Mtn\n",
      "Maya Mtn, Batch 18, Heirloom\n",
      "Maya Mtn, Batch 454, Heirloom\n",
      "Maya Mtn, Moho R., Toledo D.\n",
      "Maya Mtn, Moho R., Toledo D., 2015\n",
      "Maya Mtn., Break Bar- Snark\n",
      "Medagla, Xoco\n",
      "Mekong Delta & Dong Nai\n",
      "Mekong Delta, early 2014 Harvest\n",
      "Mexico\n",
      "Mexico, Lot 28022016\n",
      "Mid Mountain, 2014\n",
      "Midnight\n",
      "Millot P., Ambanja\n",
      "Millot Plantation\n",
      "Mindo\n",
      "Misterio\n",
      "Moho River\n",
      "Moho River Valley\n",
      "Moho Valley\n",
      "Mombacho\n",
      "Momotombo\n",
      "Montanya\n",
      "Monte Alegre (Itacare), Brazil\n",
      "Monte Alegre, 3 diff. plantations\n",
      "Monte Alegre, D. Badaro, Raw, Organic\n",
      "Monte Alegre, D. Badero\n",
      "Monte Alegre, Diego Badero\n",
      "Montubia\n",
      "Mora Mora 2006\n",
      "Morobe\n",
      "Morogoro\n",
      "Morropon, Norandiono Coop, Piura\n",
      "Moxos\n",
      "Nacional\n",
      "Namau Village\n",
      "Namau Village, N. Taileva P., batch a2812\n",
      "Napa\n",
      "Nativo, Varzea\n",
      "Nature\n",
      "New Ireland\n",
      "Nibby\n",
      "Nicaliso, Xoco\n",
      "Nicalizo\n",
      "Nicaragua\n",
      "Nicaragua, American style\n",
      "Nicaragua, w/ inbs\n",
      "Nicaraqua\n",
      "Nigeria\n",
      "Nine\n",
      "Nocturne\n",
      "Noir\n",
      "Noir Infini\n",
      "Non Pariel Estate\n",
      "Norandino, batch 161208\n",
      "Noula Coop\n",
      "Nourish\n",
      "Nube- prototype\n",
      "Nutty-beta\n",
      "Nyangbo\n",
      "O'Payo\n",
      "O'ahu\n",
      "O'ahu, N. Shore, Waialua E., Kakoleka\n",
      "O'ahu, N. Shore, Waialua Estate\n",
      "O'ahu, N. Shore, Waialua Estate w/ nibs\n",
      "O'payo, Waslala\n",
      "Oahu, Winward, #151, Maunawili district\n",
      "Ocumare\n",
      "Ocumare 61\n",
      "Ocumare 61, Puertomar\n",
      "Ocumare 67, Puertofino\n",
      "Ocumare 77\n",
      "Ocumare de la Costa\n",
      "Ocumare, Cumboto\n",
      "Ocumare, H. Cata, 48hr c.\n",
      "Ocumare, H. Cata, w/ nibs\n",
      "Ocumare, Premier Cru, Quizas No. 2\n",
      "Ocumare, Puerto Cabello\n",
      "Ocumare, Puerto Cabello, Venezuela\n",
      "Ocumare, Venezuela\n",
      "Ocumare, prototype\n",
      "Oko Caribe\n",
      "Oko Caribe, DOR005\n",
      "Oko Caribe, Duarte P.\n",
      "Oko Caribe, Duarte P., Collab w Chocosol\n",
      "Oko Caribe, Duarte Province, 2016 H.\n",
      "Oko Caribe, batch 1 SRB\n",
      "One Hundred\n",
      "Onyx\n",
      "Opaeula Estate, O'ahu, Ele'ele\n",
      "Opaeula Estate, O'ahu, Nene, CG Exclusive\n",
      "Organic Dark\n",
      "Orinoco\n",
      "Orinoqua Region, Arauca\n",
      "Oro\n",
      "Oscuro\n",
      "Oscuro, Finca Chimelb\n",
      "Otucan, Grand Cru\n",
      "PNG, Devotion\n",
      "PNG, Nib Bar\n",
      "PNG, Revolution\n",
      "PNG, Voodoo\n",
      "Pablino\n",
      "Palo Blanco w/ panela, Chulucanas\n",
      "Palo Blanco, Chulucanas\n",
      "Palos Blancos\n",
      "Palos Blancos + nibs\n",
      "Panama\n",
      "Panama, Raven\n",
      "Pangoa\n",
      "Pangoa, w/ nibs\n",
      "Papaua New Guinea\n",
      "Papouasie\n",
      "Papua\n",
      "Papua Kerafat\n",
      "Papua New Guinea\n",
      "Papua New Guinea, Batch 2\n",
      "Papua New Guinea, triple roast, batch 1\n",
      "Paramaribo, batch 20160043-01\n",
      "Patanemo\n",
      "Patanemo Vil., Carabobo State, Tisano family\n",
      "Patanemo, Epoch, Donaldo\n",
      "Pepiniere, single Cote\n",
      "Perfect Illusion\n",
      "Perla Negra\n",
      "Peru\n",
      "Peru + nibs\n",
      "Peru Brutus\n",
      "Peru, Awagum bar\n",
      "Peru, Batch 1\n",
      "Peru, Batch 51/100\n",
      "Peru, Las Pampas P.\n",
      "Peru, Madagascar\n",
      "Peru- Ecuador\n",
      "Peruvian\n",
      "Peruvian Amazon\n",
      "Phantom\n",
      "Philly Blend, 5 plantations\n",
      "Piaroa, Amazonas, Batch 350\n",
      "Pichincha\n",
      "Pinchincha, Mindo, Coop Nueva Esper., 2015\n",
      "Pisa\n",
      "Piura\n",
      "Piura Blanco\n",
      "Piura Blanco, Norandino\n",
      "Piura Select, Cacao Blanc\n",
      "Piura, Apotequil, \"Porcelana\" 72hr c.\n",
      "Piura, Blanco de Criollo\n",
      "Piura, Choc. Garage Exclusive\n",
      "Piura, Illanka, Quemazon\n",
      "Piura, Perou\n",
      "Porcelana\n",
      "Porcelana, Apotequil\n",
      "Porcelana, Batch 5163\n",
      "Porcelana, Colombia, Amazonas\n",
      "Porcelana, Maracaibo, Palmira P. 2005\n",
      "Porcelana, Maracaibo, Palmira P. 2006\n",
      "Porcelana, Pariguan\n",
      "Porcelana, Pedegral\n",
      "Porcelana, Premier Cru, Quizas No. 1\n",
      "Porcelana, S. of Lake Maracaibo\n",
      "Porcelana, Sorotaima,Machiques,batch pcl001\n",
      "Porcelana, Tabasco\n",
      "Porcelana, Tabasco, Finca La Joya\n",
      "Porcelana, Tabasco, La Joya\n",
      "Porcelana, Tabasco, Limited Ed.\n",
      "Porcelana, Tabasco, Marfil de Blanco\n",
      "Porcelana, Tabasco, Mexico\n",
      "Porcelana, Venezuela\n",
      "Porcelana, Zulia\n",
      "Presidio\n",
      "Principe\n",
      "Puerto Cabello\n",
      "Puerto Cabello, Mantuano\n",
      "Puerto Plata\n",
      "Puerto Quito, heirloom\n",
      "Puerto Rico\n",
      "Punta Galera, cacao Nacional, gold label\n",
      "Purple Haze\n",
      "Quetzalcoatl\n",
      "Quilla\n",
      "Quito\n",
      "ROIG\n",
      "ROIG, 2014\n",
      "Rainforest\n",
      "Raw\n",
      "Red Mayan, Xoco\n",
      "Red Vanilla\n",
      "Rico Rugoso, Xoco\n",
      "Rio Arriba\n",
      "Rio Caribe\n",
      "Rio Caribe Superior, Paria Penninsula\n",
      "Rio Caribe, Batch 7\n",
      "Rio Caribe, Cariaco\n",
      "Rio Caribe, Macuro\n",
      "Rio Caribe, Paria Penninsula\n",
      "Rio Caribe, Tepui Treasure\n",
      "Rio Dulce, Xoco\n",
      "Rio Eni\n",
      "Rio Peripa H.\n",
      "Rio Tuma\n",
      "Rizek Cacao, Cibao Valley, Domin. Rep.\n",
      "Rizek Cacao, Domin. Rep.\n",
      "Roberto\n",
      "Robson Estate\n",
      "Roxborough, Tobago\n",
      "Rugoso\n",
      "Rugoso, Bad Fermentation\n",
      "Rugoso, Xoco\n",
      "Saidor Estate, Madang P.\n",
      "Samana\n",
      "Samar, East Visayas region\n",
      "Sambirano\n",
      "Sambirano 2006\n",
      "Sambirano Valley\n",
      "Sambirano Valley, #214, LR, MC\n",
      "Sambirano Valley, #215, MR, MC\n",
      "Sambirano Valley, #216, MR, LC\n",
      "Sambirano Valley, 2012\n",
      "Sambirano Valley, Black Science, B-60307.0\n",
      "Sambirano Valley, Le 100%\n",
      "Sambirano Valley, batch 2477\n",
      "Sambirano, 2008\n",
      "Sambirano, 2009\n",
      "Sambirano, Akesson Estate\n",
      "Sambirano, Ambanja\n",
      "Sambirano, Ambanja, Madagascar\n",
      "Sambirano, Ampamakia 2005, Millot P.\n",
      "Sambirano, Menava P.\n",
      "Sambirano, batch 170102\n",
      "San Andres\n",
      "San Andres, American style\n",
      "San Andres, silk\n",
      "San Francisco de Macoris, Cibao region\n",
      "San Joaquin\n",
      "San Jose\n",
      "San Jose del Tambo\n",
      "San Juan\n",
      "San Juan Estate\n",
      "San Juan Estate, Cherry Blossoms at Night\n",
      "San Juan Estate, Gran Couva\n",
      "San Juan de Cheni\n",
      "San Martin\n",
      "San Martin, Amazonian Highlands\n",
      "San Martin, Batch 2\n",
      "San Martin, Bellavista Coop, #226, DR, MC\n",
      "Sang Yum Coop\n",
      "Sangre Grande P., Trinidad\n",
      "Santander\n",
      "Santo Domingo\n",
      "Sao Tome\n",
      "Sao Tome & Principe\n",
      "Sao Tome, Batch 151\n",
      "Satipo Pangoa region, 16hr conche\n",
      "Satipo Pangoa region, 20hr conche\n",
      "Satipo region, white label\n",
      "Selva\n",
      "Selva Maya\n",
      "Selvagem, Jari\n",
      "Semisweet\n",
      "Sensations Intense\n",
      "Serian E., NW Borneo, b. #134/3800\n",
      "Shake Shack\n",
      "Sharkey\n",
      "Sierra Nevada\n",
      "Sierra Nevada, Tutu Iku\n",
      "Signature Blend\n",
      "Silvestre, Batch 1, 2011\n",
      "Silvestre, Batch 7, 2013\n",
      "Silvestre, La Paz, Beni\n",
      "Sisa 36hr/ W. F. blend prototype\n",
      "Sisa's Secret/ original micro\n",
      "Solomon Island\n",
      "Solomon Island w/ nibs\n",
      "Somia Plantation\n",
      "Somia Plantation, 2012\n",
      "Somia Plantation, Akesson, 2012\n",
      "Somia Plantation, Sambirano, 70hr C\n",
      "Somia, 2013\n",
      "South America\n",
      "South America and Africa\n",
      "Special Maker Reserve\n",
      "Spring, Secondary Harvest, 2012\n",
      "Sri Lanka\n",
      "St. Lucia\n",
      "Star of Ecuador\n",
      "Star of Peru\n",
      "Suchitepequez E.\n",
      "Supremo- SF\n",
      "Sur del Lago\n",
      "Sur del Lago Classificado\n",
      "Sur del Lago, Amiari Meridena, Zulia, 48hr c.\n",
      "Sur del Lago, Amiari Meridena, Zulia, w/ nibs\n",
      "Sur del Lago, Merida\n",
      "Surfin\n",
      "Sylvestre, Oialla\n",
      "TCHOPro 60.5\n",
      "TCHOPro 68\n",
      "Tabasco\n",
      "Taino Secret\n",
      "Tainori\n",
      "Talamanca, Raul-Kekoldo community\n",
      "Tamarina\n",
      "Tan Phu Dong Island, Heart of Darkness\n",
      "Tan Phu Dong, Treasure Island\n",
      "Tangara\n",
      "Tanzania\n",
      "Tanzania, Party Bar\n",
      "Tanzania, batch a1\n",
      "Tapanti, light roast\n",
      "Tarakan\n",
      "Tawau, Oct. 2015 Harvest\n",
      "Tenende, Uwate\n",
      "Tenor\n",
      "Terreiro Velho P.\n",
      "Terreiro Velho P. w/ sugar crystals\n",
      "Teyuna\n",
      "The Other One, Grand Cru\n",
      "Three Amigos(Chuao, Wild Bolivia, D.R.)\n",
      "Tien Giang\n",
      "Tien Giang, 2015, batch 10-2-16\n",
      "Tien Giang, Black S., batch VIT60420.0\n",
      "Tien Giang, Gao Co-op\n",
      "Tien Giang, batch 1 SRB\n",
      "Tingo Maria\n",
      "Tobago\n",
      "Tokiala\n",
      "Toledo District\n",
      "Toledo District, 2015 Harvest\n",
      "Toledo District, Maya\n",
      "Toledo District, w/ nibs\n",
      "Tome Acu\n",
      "Tome Acu E., Amazon Rainforest\n",
      "Toscano Black\n",
      "Tranquilidad, Batch 1\n",
      "Tranquilidad, Baures\n",
      "Tres Hombres\n",
      "Trinatario Treasure\n",
      "Trincheras\n",
      "Trinidad\n",
      "Trinidad & Tobago\n",
      "Trinidad, Heritage, Limited ed.\n",
      "Trinidad-Tobago\n",
      "Trinitario\n",
      "Trinite\n",
      "Trintade, Sao Tome\n",
      "Tsaranta\n",
      "Tumaco\n",
      "Tumbes\n",
      "Tumbes Coop\n",
      "Tumbes, \"Zarumilla\"\n",
      "Tumbes, 2013 Harvest, Batch 8\n",
      "Tumbes, Batch 2\n",
      "Tumbes, Dear Mr. Finley, 2014\n",
      "Tumbes, Norandino\n",
      "Twilight\n",
      "UNOCACE\n",
      "Uba Budo\n",
      "Uganda\n",
      "Umoho R., Toledo District, San Felipe\n",
      "Upala\n",
      "Upala w/ nibs\n",
      "Upala, Batch 12\n",
      "Upala, Batch 18\n",
      "Uranga, Lot 22032016\n",
      "Vale do Juliana E., Atlantic Forest\n",
      "Vale do Juliana, w/ nibs\n",
      "Vanua Levu\n",
      "Vanua Levu, Ami-Ami-CA\n",
      "Vanua Levu, Toto-A\n",
      "Vanuatu\n",
      "Vanuatu, batch 2410\n",
      "Venezuela\n",
      "Venezuela, Trinidad\n",
      "Venezuela, batch 122\n",
      "Venezuela; Barinos, Merida, Tachron\n",
      "Venzuela\n",
      "Vietnam\n",
      "Vietnam, Batch 50/100\n",
      "Vila Gracinda\n",
      "Villa Andina\n",
      "Vinces\n",
      "Virunga\n",
      "Waiahole, O'ahu\n",
      "Wampusirpi Region\n",
      "Wampusirpi, batch 007\n",
      "Wasatch\n",
      "West Africa\n",
      "Wild Beni, Lower Rio Beni, Tranquilidad, 2014\n",
      "Wild Beni, Lower Rio Beni, Tranquilidad, 2015\n",
      "Wild Beniano, 2016, batch 128, Heirloom\n",
      "Wild Bolivia\n",
      "Wild Bolivian\n",
      "Wild Bolivian, Batch 2\n",
      "Wild Bolivian, Jungle Love\n",
      "Wild Thing\n",
      "Winak Coop, Napo\n",
      "Winak, Sumaco\n",
      "Xoconusco\n",
      "Xoconusco, Chiapas\n",
      "Xoconusco, cacao Real\n",
      "Xocunusco, Chiapas, Pichucalco\n",
      "Zorzal Reserva\n",
      "Zorzal Reserva w/ Charles Kerchner\n",
      "Zorzal Reserva, 2015 H., Kerchner\n",
      "black label\n",
      "la Amistad\n",
      "one hundred\n",
      "single estate\n",
      "the lost city, gracias a dias, batch 362\n"
     ]
    }
   ],
   "source": [
    "for origin in sorted(df['Specific Bean Origin'].unique()):\n",
    "    print(origin)"
   ]
  },
  {
   "cell_type": "markdown",
   "metadata": {
    "colab_type": "text",
    "id": "JhuNx5G5R47g"
   },
   "source": [
    "**Student Solution**"
   ]
  },
  {
   "cell_type": "code",
   "execution_count": 30,
   "metadata": {
    "colab": {},
    "colab_type": "code",
    "id": "hxoy0g2iR79D"
   },
   "outputs": [],
   "source": [
    "# Repair the data"
   ]
  },
  {
   "cell_type": "markdown",
   "metadata": {
    "colab_type": "text",
    "id": "YFZQoDvHR_Rb"
   },
   "source": [
    "---"
   ]
  },
  {
   "cell_type": "markdown",
   "metadata": {
    "colab_type": "text",
    "id": "9dyeOcIASyBa"
   },
   "source": [
    "#### Exercise 5: Top Specific Bean Origins\n",
    "\n",
    "There are just over 1,000 unique specific bean origins and over 1,700 entries in the dataset. Write code to find the top five most repeated origins. Print the origins and the number of times that each appears in the dataset."
   ]
  },
  {
   "cell_type": "markdown",
   "metadata": {
    "colab_type": "text",
    "id": "yLz75cOFTE_T"
   },
   "source": [
    "**Student Solution**"
   ]
  },
  {
   "cell_type": "code",
   "execution_count": 31,
   "metadata": {
    "colab": {},
    "colab_type": "code",
    "id": "Ew8c5AknTHuQ"
   },
   "outputs": [
    {
     "output_type": "execute_result",
     "data": {
      "text/plain": [
       "Index(['Madagascar', 'Peru', 'Ecuador', 'Dominican Republic', 'Venezuela'], dtype='object')"
      ]
     },
     "metadata": {},
     "execution_count": 31
    }
   ],
   "source": [
    "# Find the top 5 bar origins\n",
    "df['Specific Bean Origin'].value_counts().index[:5]"
   ]
  },
  {
   "cell_type": "markdown",
   "metadata": {
    "colab_type": "text",
    "id": "0abZ4gATTGtJ"
   },
   "source": [
    "---"
   ]
  },
  {
   "cell_type": "markdown",
   "metadata": {
    "colab_type": "text",
    "id": "OUPRZpCIdvT8"
   },
   "source": [
    "### Column: Broad Bean Origin"
   ]
  },
  {
   "cell_type": "markdown",
   "metadata": {
    "colab_type": "text",
    "id": "lI5_PqH7Tqq3"
   },
   "source": [
    "The 'Broad Bean Origin' is the \"*broad geo-region of origin for the bean.*\" In theory, this should be broader regions than the 'Specific Bean Origin' that we just worked with.\n",
    "\n",
    "Let's dive in. First things first, let's check for N/A values."
   ]
  },
  {
   "cell_type": "code",
   "execution_count": 32,
   "metadata": {
    "colab": {},
    "colab_type": "code",
    "id": "-xfNxS3NUVRw"
   },
   "outputs": [
    {
     "output_type": "execute_result",
     "data": {
      "text/plain": [
       "Company                 1\n",
       "Company Location        1\n",
       "Bean Type               1\n",
       "Specific Bean Origin    1\n",
       "Broad Bean Origin       0\n",
       "Cocoa Percent           1\n",
       "REF                     1\n",
       "Review Date             1\n",
       "Rating                  1\n",
       "dtype: int64"
      ]
     },
     "metadata": {},
     "execution_count": 32
    }
   ],
   "source": [
    "df[df['Broad Bean Origin'].isna()].count()"
   ]
  },
  {
   "cell_type": "markdown",
   "metadata": {
    "colab_type": "text",
    "id": "PDAtc4e6cmot"
   },
   "source": [
    "It looks like we are missing one origin. Let's take a look at the record."
   ]
  },
  {
   "cell_type": "code",
   "execution_count": 33,
   "metadata": {
    "colab": {},
    "colab_type": "code",
    "id": "Yua9pGNhdOcP"
   },
   "outputs": [
    {
     "output_type": "execute_result",
     "data": {
      "text/plain": [
       "            Company Company Location   Bean Type Specific Bean Origin  \\\n",
       "1072  Mast Brothers           U.S.A.  Trinitario           Madagascar   \n",
       "\n",
       "     Broad Bean Origin Cocoa Percent  REF  Review Date  Rating  \n",
       "1072               NaN           72%  999         2012     2.5  "
      ],
      "text/html": "<div>\n<style scoped>\n    .dataframe tbody tr th:only-of-type {\n        vertical-align: middle;\n    }\n\n    .dataframe tbody tr th {\n        vertical-align: top;\n    }\n\n    .dataframe thead th {\n        text-align: right;\n    }\n</style>\n<table border=\"1\" class=\"dataframe\">\n  <thead>\n    <tr style=\"text-align: right;\">\n      <th></th>\n      <th>Company</th>\n      <th>Company Location</th>\n      <th>Bean Type</th>\n      <th>Specific Bean Origin</th>\n      <th>Broad Bean Origin</th>\n      <th>Cocoa Percent</th>\n      <th>REF</th>\n      <th>Review Date</th>\n      <th>Rating</th>\n    </tr>\n  </thead>\n  <tbody>\n    <tr>\n      <th>1072</th>\n      <td>Mast Brothers</td>\n      <td>U.S.A.</td>\n      <td>Trinitario</td>\n      <td>Madagascar</td>\n      <td>NaN</td>\n      <td>72%</td>\n      <td>999</td>\n      <td>2012</td>\n      <td>2.5</td>\n    </tr>\n  </tbody>\n</table>\n</div>"
     },
     "metadata": {},
     "execution_count": 33
    }
   ],
   "source": [
    "df[df['Broad Bean Origin'].isna()]"
   ]
  },
  {
   "cell_type": "markdown",
   "metadata": {
    "colab_type": "text",
    "id": "UUz2RFhHde9o"
   },
   "source": [
    "The one record has a 'Specific Bean Origin' of 'Madagascar'. Let's see if there are any other chocolates from that same specific origin."
   ]
  },
  {
   "cell_type": "code",
   "execution_count": 34,
   "metadata": {
    "colab": {},
    "colab_type": "code",
    "id": "NWwhBGNGdRK7"
   },
   "outputs": [
    {
     "output_type": "execute_result",
     "data": {
      "text/plain": [
       "                               Company Company Location  \\\n",
       "11                            A. Morin           France   \n",
       "37                       Alain Ducasse           France   \n",
       "60                               Amano           U.S.A.   \n",
       "70                            Ambrosia           Canada   \n",
       "83                              Amedei            Italy   \n",
       "95                                 Ara           France   \n",
       "133                Artisan du Chocolat             U.K.   \n",
       "183                 Beschle (Felchlin)      Switzerland   \n",
       "220                       Blue Bandana           U.S.A.   \n",
       "244                             Bonnat           France   \n",
       "309                      Cacao Sampaka            Spain   \n",
       "317                        Cacao Store            Japan   \n",
       "390                         Chocola'te           U.S.A.   \n",
       "410                Chocolate Tree, The         Scotland   \n",
       "451                          Coppeneur          Germany   \n",
       "496                          Dandelion           U.S.A.   \n",
       "511                        Dark Forest           U.S.A.   \n",
       "523        Dean and Deluca (Belcolade)           U.S.A.   \n",
       "569                             Domori            Italy   \n",
       "595                             Durand           France   \n",
       "602                  East Van Roasters           Canada   \n",
       "668                  Frederic Blondeel          Belgium   \n",
       "740                  Green Bean to Bar            Japan   \n",
       "803                               hexx           U.S.A.   \n",
       "872                             Isidro           U.S.A.   \n",
       "879                             Jordis   Czech Republic   \n",
       "881                Just Good Chocolate           U.S.A.   \n",
       "916                               Kyya           U.S.A.   \n",
       "924            L.A. Burdick (Felchlin)           U.S.A.   \n",
       "968                              Lilla          Finland   \n",
       "990                Madecasse (Cinagra)       Madagascar   \n",
       "991                Madecasse (Cinagra)       Madagascar   \n",
       "992                Madecasse (Cinagra)       Madagascar   \n",
       "993                Madecasse (Cinagra)       Madagascar   \n",
       "1072                     Mast Brothers           U.S.A.   \n",
       "1100             Menakao (aka Cinagra)       Madagascar   \n",
       "1101             Menakao (aka Cinagra)       Madagascar   \n",
       "1171                     Nathan Miller           U.S.A.   \n",
       "1224                             Omnom          Iceland   \n",
       "1273                            Patric           U.S.A.   \n",
       "1274                            Patric           U.S.A.   \n",
       "1276                            Patric           U.S.A.   \n",
       "1358                             Raaka           U.S.A.   \n",
       "1384  Robert (aka Chocolaterie Robert)       Madagascar   \n",
       "1493                 Snake & Butterfly           U.S.A.   \n",
       "1496                         Sol Cacao           U.S.A.   \n",
       "1552                              Soma           Canada   \n",
       "1557                              Soul           Canada   \n",
       "1646                           Terroir           U.S.A.   \n",
       "1651                           Terroir           U.S.A.   \n",
       "1655                              Theo           U.S.A.   \n",
       "1671            twenty-four blackbirds           U.S.A.   \n",
       "1705     Vao Vao (Chocolaterie Robert)       Madagascar   \n",
       "1706     Vao Vao (Chocolaterie Robert)       Madagascar   \n",
       "1707     Vao Vao (Chocolaterie Robert)       Madagascar   \n",
       "1708     Vao Vao (Chocolaterie Robert)       Madagascar   \n",
       "1710     Vao Vao (Chocolaterie Robert)       Madagascar   \n",
       "\n",
       "                     Bean Type Specific Bean Origin Broad Bean Origin  \\\n",
       "11                     Criollo           Madagascar        Madagascar   \n",
       "37                  Trinitario           Madagascar        Madagascar   \n",
       "60                  Trinitario           Madagascar        Madagascar   \n",
       "70                  Trinitario           Madagascar        Madagascar   \n",
       "83    Trinitario (85% Criollo)           Madagascar        Madagascar   \n",
       "95                  Trinitario           Madagascar        Madagascar   \n",
       "133        Criollo, Trinitario           Madagascar        Madagascar   \n",
       "183                 Trinitario           Madagascar        Madagascar   \n",
       "220                 Trinitario           Madagascar        Madagascar   \n",
       "244                 Trinitario           Madagascar        Madagascar   \n",
       "309                 Trinitario           Madagascar        Madagascar   \n",
       "317                 Trinitario           Madagascar        Madagascar   \n",
       "390                 Trinitario           Madagascar        Madagascar   \n",
       "410                    Criollo           Madagascar        Madagascar   \n",
       "451                 Trinitario           Madagascar        Madagascar   \n",
       "496                 Trinitario           Madagascar        Madagascar   \n",
       "511                 Trinitario           Madagascar        Madagascar   \n",
       "523                 Trinitario           Madagascar        Madagascar   \n",
       "569                 Trinitario           Madagascar        Madagascar   \n",
       "595                 Trinitario           Madagascar        Madagascar   \n",
       "602                 Trinitario           Madagascar        Madagascar   \n",
       "668                 Trinitario           Madagascar        Madagascar   \n",
       "740                    Unknown           Madagascar        Madagascar   \n",
       "803                 Trinitario           Madagascar        Madagascar   \n",
       "872                 Trinitario           Madagascar        Madagascar   \n",
       "879                 Trinitario           Madagascar        Madagascar   \n",
       "881                 Trinitario           Madagascar        Madagascar   \n",
       "916                 Trinitario           Madagascar        Madagascar   \n",
       "924                 Trinitario           Madagascar        Madagascar   \n",
       "968                 Trinitario           Madagascar        Madagascar   \n",
       "990                 Trinitario           Madagascar        Madagascar   \n",
       "991                 Trinitario           Madagascar        Madagascar   \n",
       "992                 Trinitario           Madagascar        Madagascar   \n",
       "993                 Trinitario           Madagascar        Madagascar   \n",
       "1072                Trinitario           Madagascar               NaN   \n",
       "1100                Trinitario           Madagascar        Madagascar   \n",
       "1101                Trinitario           Madagascar        Madagascar   \n",
       "1171                Trinitario           Madagascar        Madagascar   \n",
       "1224                Trinitario           Madagascar        Madagascar   \n",
       "1273                Trinitario           Madagascar        Madagascar   \n",
       "1274                Trinitario           Madagascar        Madagascar   \n",
       "1276                Trinitario           Madagascar        Madagascar   \n",
       "1358                Trinitario           Madagascar        Madagascar   \n",
       "1384                Trinitario           Madagascar        Madagascar   \n",
       "1493                Trinitario           Madagascar        Madagascar   \n",
       "1496                Trinitario           Madagascar        Madagascar   \n",
       "1552                   Criollo           Madagascar        Madagascar   \n",
       "1557                   Unknown           Madagascar        Madagascar   \n",
       "1646                Trinitario           Madagascar        Madagascar   \n",
       "1651                Trinitario           Madagascar        Madagascar   \n",
       "1655                Trinitario           Madagascar        Madagascar   \n",
       "1671                Trinitario           Madagascar        Madagascar   \n",
       "1705                Trinitario           Madagascar        Madagascar   \n",
       "1706                Trinitario           Madagascar        Madagascar   \n",
       "1707                Trinitario           Madagascar        Madagascar   \n",
       "1708                Trinitario           Madagascar        Madagascar   \n",
       "1710                Trinitario           Madagascar        Madagascar   \n",
       "\n",
       "     Cocoa Percent   REF  Review Date  Rating  \n",
       "11             70%  1011         2013    3.00  \n",
       "37             75%  1215         2014    3.00  \n",
       "60             70%   129         2007    3.50  \n",
       "70             66%  1494         2015    3.25  \n",
       "83             70%   123         2007    4.00  \n",
       "95             75%  1375         2014    3.00  \n",
       "133            80%   363         2009    3.00  \n",
       "183            64%   636         2011    3.00  \n",
       "220            70%   911         2012    3.75  \n",
       "244            75%    75         2006    4.00  \n",
       "309            71%   508         2010    3.50  \n",
       "317            70%  1684         2015    3.00  \n",
       "390            70%   647         2011    3.75  \n",
       "410            72%   919         2012    3.25  \n",
       "451            70%   959         2012    3.50  \n",
       "496            70%   654         2011    3.25  \n",
       "511            70%  1550         2015    3.00  \n",
       "523            66%   170         2007    2.50  \n",
       "569            70%   135         2007    3.50  \n",
       "595            82%   841         2012    2.75  \n",
       "602            70%  1343         2014    3.50  \n",
       "668            65%  1351         2014    3.50  \n",
       "740            70%  1896         2016    3.50  \n",
       "803            74%  1546         2015    3.00  \n",
       "872            72%  1275         2014    3.50  \n",
       "879            63%  1534         2015    2.75  \n",
       "881            70%  1375         2014    3.50  \n",
       "916          72.5%  1363         2014    3.00  \n",
       "924            64%   431         2009    3.50  \n",
       "968            70%  1856         2016    3.00  \n",
       "990            67%   284         2008    3.50  \n",
       "991            70%   284         2008    3.75  \n",
       "992            63%   284         2008    4.00  \n",
       "993            75%   288         2008    3.50  \n",
       "1072           72%   999         2012    2.50  \n",
       "1100           80%   837         2012    2.50  \n",
       "1101           72%   841         2012    2.50  \n",
       "1171         73.5%  1403         2014    2.50  \n",
       "1224           66%  1247         2014    3.50  \n",
       "1273           75%   331         2009    4.00  \n",
       "1274           67%   439         2009    3.50  \n",
       "1276           70%   196         2007    4.00  \n",
       "1358           75%   959         2012    3.25  \n",
       "1384           75%  1061         2013    3.25  \n",
       "1493           68%   502         2010    3.00  \n",
       "1496           72%  1518         2015    3.00  \n",
       "1552           70%   387         2009    3.75  \n",
       "1557           70%  1936         2017    3.50  \n",
       "1646           70%  1478         2015    3.75  \n",
       "1651           67%  1323         2014    3.75  \n",
       "1655           65%   162         2007    3.50  \n",
       "1671           75%  1235         2014    3.50  \n",
       "1705           72%   404         2009    2.75  \n",
       "1706           76%   404         2009    2.75  \n",
       "1707           80%   404         2009    2.75  \n",
       "1708           70%   404         2009    3.00  \n",
       "1710           64%   404         2009    3.25  "
      ],
      "text/html": "<div>\n<style scoped>\n    .dataframe tbody tr th:only-of-type {\n        vertical-align: middle;\n    }\n\n    .dataframe tbody tr th {\n        vertical-align: top;\n    }\n\n    .dataframe thead th {\n        text-align: right;\n    }\n</style>\n<table border=\"1\" class=\"dataframe\">\n  <thead>\n    <tr style=\"text-align: right;\">\n      <th></th>\n      <th>Company</th>\n      <th>Company Location</th>\n      <th>Bean Type</th>\n      <th>Specific Bean Origin</th>\n      <th>Broad Bean Origin</th>\n      <th>Cocoa Percent</th>\n      <th>REF</th>\n      <th>Review Date</th>\n      <th>Rating</th>\n    </tr>\n  </thead>\n  <tbody>\n    <tr>\n      <th>11</th>\n      <td>A. Morin</td>\n      <td>France</td>\n      <td>Criollo</td>\n      <td>Madagascar</td>\n      <td>Madagascar</td>\n      <td>70%</td>\n      <td>1011</td>\n      <td>2013</td>\n      <td>3.00</td>\n    </tr>\n    <tr>\n      <th>37</th>\n      <td>Alain Ducasse</td>\n      <td>France</td>\n      <td>Trinitario</td>\n      <td>Madagascar</td>\n      <td>Madagascar</td>\n      <td>75%</td>\n      <td>1215</td>\n      <td>2014</td>\n      <td>3.00</td>\n    </tr>\n    <tr>\n      <th>60</th>\n      <td>Amano</td>\n      <td>U.S.A.</td>\n      <td>Trinitario</td>\n      <td>Madagascar</td>\n      <td>Madagascar</td>\n      <td>70%</td>\n      <td>129</td>\n      <td>2007</td>\n      <td>3.50</td>\n    </tr>\n    <tr>\n      <th>70</th>\n      <td>Ambrosia</td>\n      <td>Canada</td>\n      <td>Trinitario</td>\n      <td>Madagascar</td>\n      <td>Madagascar</td>\n      <td>66%</td>\n      <td>1494</td>\n      <td>2015</td>\n      <td>3.25</td>\n    </tr>\n    <tr>\n      <th>83</th>\n      <td>Amedei</td>\n      <td>Italy</td>\n      <td>Trinitario (85% Criollo)</td>\n      <td>Madagascar</td>\n      <td>Madagascar</td>\n      <td>70%</td>\n      <td>123</td>\n      <td>2007</td>\n      <td>4.00</td>\n    </tr>\n    <tr>\n      <th>95</th>\n      <td>Ara</td>\n      <td>France</td>\n      <td>Trinitario</td>\n      <td>Madagascar</td>\n      <td>Madagascar</td>\n      <td>75%</td>\n      <td>1375</td>\n      <td>2014</td>\n      <td>3.00</td>\n    </tr>\n    <tr>\n      <th>133</th>\n      <td>Artisan du Chocolat</td>\n      <td>U.K.</td>\n      <td>Criollo, Trinitario</td>\n      <td>Madagascar</td>\n      <td>Madagascar</td>\n      <td>80%</td>\n      <td>363</td>\n      <td>2009</td>\n      <td>3.00</td>\n    </tr>\n    <tr>\n      <th>183</th>\n      <td>Beschle (Felchlin)</td>\n      <td>Switzerland</td>\n      <td>Trinitario</td>\n      <td>Madagascar</td>\n      <td>Madagascar</td>\n      <td>64%</td>\n      <td>636</td>\n      <td>2011</td>\n      <td>3.00</td>\n    </tr>\n    <tr>\n      <th>220</th>\n      <td>Blue Bandana</td>\n      <td>U.S.A.</td>\n      <td>Trinitario</td>\n      <td>Madagascar</td>\n      <td>Madagascar</td>\n      <td>70%</td>\n      <td>911</td>\n      <td>2012</td>\n      <td>3.75</td>\n    </tr>\n    <tr>\n      <th>244</th>\n      <td>Bonnat</td>\n      <td>France</td>\n      <td>Trinitario</td>\n      <td>Madagascar</td>\n      <td>Madagascar</td>\n      <td>75%</td>\n      <td>75</td>\n      <td>2006</td>\n      <td>4.00</td>\n    </tr>\n    <tr>\n      <th>309</th>\n      <td>Cacao Sampaka</td>\n      <td>Spain</td>\n      <td>Trinitario</td>\n      <td>Madagascar</td>\n      <td>Madagascar</td>\n      <td>71%</td>\n      <td>508</td>\n      <td>2010</td>\n      <td>3.50</td>\n    </tr>\n    <tr>\n      <th>317</th>\n      <td>Cacao Store</td>\n      <td>Japan</td>\n      <td>Trinitario</td>\n      <td>Madagascar</td>\n      <td>Madagascar</td>\n      <td>70%</td>\n      <td>1684</td>\n      <td>2015</td>\n      <td>3.00</td>\n    </tr>\n    <tr>\n      <th>390</th>\n      <td>Chocola'te</td>\n      <td>U.S.A.</td>\n      <td>Trinitario</td>\n      <td>Madagascar</td>\n      <td>Madagascar</td>\n      <td>70%</td>\n      <td>647</td>\n      <td>2011</td>\n      <td>3.75</td>\n    </tr>\n    <tr>\n      <th>410</th>\n      <td>Chocolate Tree, The</td>\n      <td>Scotland</td>\n      <td>Criollo</td>\n      <td>Madagascar</td>\n      <td>Madagascar</td>\n      <td>72%</td>\n      <td>919</td>\n      <td>2012</td>\n      <td>3.25</td>\n    </tr>\n    <tr>\n      <th>451</th>\n      <td>Coppeneur</td>\n      <td>Germany</td>\n      <td>Trinitario</td>\n      <td>Madagascar</td>\n      <td>Madagascar</td>\n      <td>70%</td>\n      <td>959</td>\n      <td>2012</td>\n      <td>3.50</td>\n    </tr>\n    <tr>\n      <th>496</th>\n      <td>Dandelion</td>\n      <td>U.S.A.</td>\n      <td>Trinitario</td>\n      <td>Madagascar</td>\n      <td>Madagascar</td>\n      <td>70%</td>\n      <td>654</td>\n      <td>2011</td>\n      <td>3.25</td>\n    </tr>\n    <tr>\n      <th>511</th>\n      <td>Dark Forest</td>\n      <td>U.S.A.</td>\n      <td>Trinitario</td>\n      <td>Madagascar</td>\n      <td>Madagascar</td>\n      <td>70%</td>\n      <td>1550</td>\n      <td>2015</td>\n      <td>3.00</td>\n    </tr>\n    <tr>\n      <th>523</th>\n      <td>Dean and Deluca (Belcolade)</td>\n      <td>U.S.A.</td>\n      <td>Trinitario</td>\n      <td>Madagascar</td>\n      <td>Madagascar</td>\n      <td>66%</td>\n      <td>170</td>\n      <td>2007</td>\n      <td>2.50</td>\n    </tr>\n    <tr>\n      <th>569</th>\n      <td>Domori</td>\n      <td>Italy</td>\n      <td>Trinitario</td>\n      <td>Madagascar</td>\n      <td>Madagascar</td>\n      <td>70%</td>\n      <td>135</td>\n      <td>2007</td>\n      <td>3.50</td>\n    </tr>\n    <tr>\n      <th>595</th>\n      <td>Durand</td>\n      <td>France</td>\n      <td>Trinitario</td>\n      <td>Madagascar</td>\n      <td>Madagascar</td>\n      <td>82%</td>\n      <td>841</td>\n      <td>2012</td>\n      <td>2.75</td>\n    </tr>\n    <tr>\n      <th>602</th>\n      <td>East Van Roasters</td>\n      <td>Canada</td>\n      <td>Trinitario</td>\n      <td>Madagascar</td>\n      <td>Madagascar</td>\n      <td>70%</td>\n      <td>1343</td>\n      <td>2014</td>\n      <td>3.50</td>\n    </tr>\n    <tr>\n      <th>668</th>\n      <td>Frederic Blondeel</td>\n      <td>Belgium</td>\n      <td>Trinitario</td>\n      <td>Madagascar</td>\n      <td>Madagascar</td>\n      <td>65%</td>\n      <td>1351</td>\n      <td>2014</td>\n      <td>3.50</td>\n    </tr>\n    <tr>\n      <th>740</th>\n      <td>Green Bean to Bar</td>\n      <td>Japan</td>\n      <td>Unknown</td>\n      <td>Madagascar</td>\n      <td>Madagascar</td>\n      <td>70%</td>\n      <td>1896</td>\n      <td>2016</td>\n      <td>3.50</td>\n    </tr>\n    <tr>\n      <th>803</th>\n      <td>hexx</td>\n      <td>U.S.A.</td>\n      <td>Trinitario</td>\n      <td>Madagascar</td>\n      <td>Madagascar</td>\n      <td>74%</td>\n      <td>1546</td>\n      <td>2015</td>\n      <td>3.00</td>\n    </tr>\n    <tr>\n      <th>872</th>\n      <td>Isidro</td>\n      <td>U.S.A.</td>\n      <td>Trinitario</td>\n      <td>Madagascar</td>\n      <td>Madagascar</td>\n      <td>72%</td>\n      <td>1275</td>\n      <td>2014</td>\n      <td>3.50</td>\n    </tr>\n    <tr>\n      <th>879</th>\n      <td>Jordis</td>\n      <td>Czech Republic</td>\n      <td>Trinitario</td>\n      <td>Madagascar</td>\n      <td>Madagascar</td>\n      <td>63%</td>\n      <td>1534</td>\n      <td>2015</td>\n      <td>2.75</td>\n    </tr>\n    <tr>\n      <th>881</th>\n      <td>Just Good Chocolate</td>\n      <td>U.S.A.</td>\n      <td>Trinitario</td>\n      <td>Madagascar</td>\n      <td>Madagascar</td>\n      <td>70%</td>\n      <td>1375</td>\n      <td>2014</td>\n      <td>3.50</td>\n    </tr>\n    <tr>\n      <th>916</th>\n      <td>Kyya</td>\n      <td>U.S.A.</td>\n      <td>Trinitario</td>\n      <td>Madagascar</td>\n      <td>Madagascar</td>\n      <td>72.5%</td>\n      <td>1363</td>\n      <td>2014</td>\n      <td>3.00</td>\n    </tr>\n    <tr>\n      <th>924</th>\n      <td>L.A. Burdick (Felchlin)</td>\n      <td>U.S.A.</td>\n      <td>Trinitario</td>\n      <td>Madagascar</td>\n      <td>Madagascar</td>\n      <td>64%</td>\n      <td>431</td>\n      <td>2009</td>\n      <td>3.50</td>\n    </tr>\n    <tr>\n      <th>968</th>\n      <td>Lilla</td>\n      <td>Finland</td>\n      <td>Trinitario</td>\n      <td>Madagascar</td>\n      <td>Madagascar</td>\n      <td>70%</td>\n      <td>1856</td>\n      <td>2016</td>\n      <td>3.00</td>\n    </tr>\n    <tr>\n      <th>990</th>\n      <td>Madecasse (Cinagra)</td>\n      <td>Madagascar</td>\n      <td>Trinitario</td>\n      <td>Madagascar</td>\n      <td>Madagascar</td>\n      <td>67%</td>\n      <td>284</td>\n      <td>2008</td>\n      <td>3.50</td>\n    </tr>\n    <tr>\n      <th>991</th>\n      <td>Madecasse (Cinagra)</td>\n      <td>Madagascar</td>\n      <td>Trinitario</td>\n      <td>Madagascar</td>\n      <td>Madagascar</td>\n      <td>70%</td>\n      <td>284</td>\n      <td>2008</td>\n      <td>3.75</td>\n    </tr>\n    <tr>\n      <th>992</th>\n      <td>Madecasse (Cinagra)</td>\n      <td>Madagascar</td>\n      <td>Trinitario</td>\n      <td>Madagascar</td>\n      <td>Madagascar</td>\n      <td>63%</td>\n      <td>284</td>\n      <td>2008</td>\n      <td>4.00</td>\n    </tr>\n    <tr>\n      <th>993</th>\n      <td>Madecasse (Cinagra)</td>\n      <td>Madagascar</td>\n      <td>Trinitario</td>\n      <td>Madagascar</td>\n      <td>Madagascar</td>\n      <td>75%</td>\n      <td>288</td>\n      <td>2008</td>\n      <td>3.50</td>\n    </tr>\n    <tr>\n      <th>1072</th>\n      <td>Mast Brothers</td>\n      <td>U.S.A.</td>\n      <td>Trinitario</td>\n      <td>Madagascar</td>\n      <td>NaN</td>\n      <td>72%</td>\n      <td>999</td>\n      <td>2012</td>\n      <td>2.50</td>\n    </tr>\n    <tr>\n      <th>1100</th>\n      <td>Menakao (aka Cinagra)</td>\n      <td>Madagascar</td>\n      <td>Trinitario</td>\n      <td>Madagascar</td>\n      <td>Madagascar</td>\n      <td>80%</td>\n      <td>837</td>\n      <td>2012</td>\n      <td>2.50</td>\n    </tr>\n    <tr>\n      <th>1101</th>\n      <td>Menakao (aka Cinagra)</td>\n      <td>Madagascar</td>\n      <td>Trinitario</td>\n      <td>Madagascar</td>\n      <td>Madagascar</td>\n      <td>72%</td>\n      <td>841</td>\n      <td>2012</td>\n      <td>2.50</td>\n    </tr>\n    <tr>\n      <th>1171</th>\n      <td>Nathan Miller</td>\n      <td>U.S.A.</td>\n      <td>Trinitario</td>\n      <td>Madagascar</td>\n      <td>Madagascar</td>\n      <td>73.5%</td>\n      <td>1403</td>\n      <td>2014</td>\n      <td>2.50</td>\n    </tr>\n    <tr>\n      <th>1224</th>\n      <td>Omnom</td>\n      <td>Iceland</td>\n      <td>Trinitario</td>\n      <td>Madagascar</td>\n      <td>Madagascar</td>\n      <td>66%</td>\n      <td>1247</td>\n      <td>2014</td>\n      <td>3.50</td>\n    </tr>\n    <tr>\n      <th>1273</th>\n      <td>Patric</td>\n      <td>U.S.A.</td>\n      <td>Trinitario</td>\n      <td>Madagascar</td>\n      <td>Madagascar</td>\n      <td>75%</td>\n      <td>331</td>\n      <td>2009</td>\n      <td>4.00</td>\n    </tr>\n    <tr>\n      <th>1274</th>\n      <td>Patric</td>\n      <td>U.S.A.</td>\n      <td>Trinitario</td>\n      <td>Madagascar</td>\n      <td>Madagascar</td>\n      <td>67%</td>\n      <td>439</td>\n      <td>2009</td>\n      <td>3.50</td>\n    </tr>\n    <tr>\n      <th>1276</th>\n      <td>Patric</td>\n      <td>U.S.A.</td>\n      <td>Trinitario</td>\n      <td>Madagascar</td>\n      <td>Madagascar</td>\n      <td>70%</td>\n      <td>196</td>\n      <td>2007</td>\n      <td>4.00</td>\n    </tr>\n    <tr>\n      <th>1358</th>\n      <td>Raaka</td>\n      <td>U.S.A.</td>\n      <td>Trinitario</td>\n      <td>Madagascar</td>\n      <td>Madagascar</td>\n      <td>75%</td>\n      <td>959</td>\n      <td>2012</td>\n      <td>3.25</td>\n    </tr>\n    <tr>\n      <th>1384</th>\n      <td>Robert (aka Chocolaterie Robert)</td>\n      <td>Madagascar</td>\n      <td>Trinitario</td>\n      <td>Madagascar</td>\n      <td>Madagascar</td>\n      <td>75%</td>\n      <td>1061</td>\n      <td>2013</td>\n      <td>3.25</td>\n    </tr>\n    <tr>\n      <th>1493</th>\n      <td>Snake &amp; Butterfly</td>\n      <td>U.S.A.</td>\n      <td>Trinitario</td>\n      <td>Madagascar</td>\n      <td>Madagascar</td>\n      <td>68%</td>\n      <td>502</td>\n      <td>2010</td>\n      <td>3.00</td>\n    </tr>\n    <tr>\n      <th>1496</th>\n      <td>Sol Cacao</td>\n      <td>U.S.A.</td>\n      <td>Trinitario</td>\n      <td>Madagascar</td>\n      <td>Madagascar</td>\n      <td>72%</td>\n      <td>1518</td>\n      <td>2015</td>\n      <td>3.00</td>\n    </tr>\n    <tr>\n      <th>1552</th>\n      <td>Soma</td>\n      <td>Canada</td>\n      <td>Criollo</td>\n      <td>Madagascar</td>\n      <td>Madagascar</td>\n      <td>70%</td>\n      <td>387</td>\n      <td>2009</td>\n      <td>3.75</td>\n    </tr>\n    <tr>\n      <th>1557</th>\n      <td>Soul</td>\n      <td>Canada</td>\n      <td>Unknown</td>\n      <td>Madagascar</td>\n      <td>Madagascar</td>\n      <td>70%</td>\n      <td>1936</td>\n      <td>2017</td>\n      <td>3.50</td>\n    </tr>\n    <tr>\n      <th>1646</th>\n      <td>Terroir</td>\n      <td>U.S.A.</td>\n      <td>Trinitario</td>\n      <td>Madagascar</td>\n      <td>Madagascar</td>\n      <td>70%</td>\n      <td>1478</td>\n      <td>2015</td>\n      <td>3.75</td>\n    </tr>\n    <tr>\n      <th>1651</th>\n      <td>Terroir</td>\n      <td>U.S.A.</td>\n      <td>Trinitario</td>\n      <td>Madagascar</td>\n      <td>Madagascar</td>\n      <td>67%</td>\n      <td>1323</td>\n      <td>2014</td>\n      <td>3.75</td>\n    </tr>\n    <tr>\n      <th>1655</th>\n      <td>Theo</td>\n      <td>U.S.A.</td>\n      <td>Trinitario</td>\n      <td>Madagascar</td>\n      <td>Madagascar</td>\n      <td>65%</td>\n      <td>162</td>\n      <td>2007</td>\n      <td>3.50</td>\n    </tr>\n    <tr>\n      <th>1671</th>\n      <td>twenty-four blackbirds</td>\n      <td>U.S.A.</td>\n      <td>Trinitario</td>\n      <td>Madagascar</td>\n      <td>Madagascar</td>\n      <td>75%</td>\n      <td>1235</td>\n      <td>2014</td>\n      <td>3.50</td>\n    </tr>\n    <tr>\n      <th>1705</th>\n      <td>Vao Vao (Chocolaterie Robert)</td>\n      <td>Madagascar</td>\n      <td>Trinitario</td>\n      <td>Madagascar</td>\n      <td>Madagascar</td>\n      <td>72%</td>\n      <td>404</td>\n      <td>2009</td>\n      <td>2.75</td>\n    </tr>\n    <tr>\n      <th>1706</th>\n      <td>Vao Vao (Chocolaterie Robert)</td>\n      <td>Madagascar</td>\n      <td>Trinitario</td>\n      <td>Madagascar</td>\n      <td>Madagascar</td>\n      <td>76%</td>\n      <td>404</td>\n      <td>2009</td>\n      <td>2.75</td>\n    </tr>\n    <tr>\n      <th>1707</th>\n      <td>Vao Vao (Chocolaterie Robert)</td>\n      <td>Madagascar</td>\n      <td>Trinitario</td>\n      <td>Madagascar</td>\n      <td>Madagascar</td>\n      <td>80%</td>\n      <td>404</td>\n      <td>2009</td>\n      <td>2.75</td>\n    </tr>\n    <tr>\n      <th>1708</th>\n      <td>Vao Vao (Chocolaterie Robert)</td>\n      <td>Madagascar</td>\n      <td>Trinitario</td>\n      <td>Madagascar</td>\n      <td>Madagascar</td>\n      <td>70%</td>\n      <td>404</td>\n      <td>2009</td>\n      <td>3.00</td>\n    </tr>\n    <tr>\n      <th>1710</th>\n      <td>Vao Vao (Chocolaterie Robert)</td>\n      <td>Madagascar</td>\n      <td>Trinitario</td>\n      <td>Madagascar</td>\n      <td>Madagascar</td>\n      <td>64%</td>\n      <td>404</td>\n      <td>2009</td>\n      <td>3.25</td>\n    </tr>\n  </tbody>\n</table>\n</div>"
     },
     "metadata": {},
     "execution_count": 34
    }
   ],
   "source": [
    "df[df['Specific Bean Origin'] == 'Madagascar']"
   ]
  },
  {
   "cell_type": "markdown",
   "metadata": {
    "colab_type": "text",
    "id": "N2dcIgIqdr__"
   },
   "source": [
    "Quite a few! And they all have a 'Broad Bean Origin' of 'Madagascar', except for our one missing value. It is probably safe to just set the missing value to 'Madagascar' also."
   ]
  },
  {
   "cell_type": "code",
   "execution_count": 35,
   "metadata": {
    "colab": {},
    "colab_type": "code",
    "id": "4QYJkAFOd8sn"
   },
   "outputs": [
    {
     "output_type": "execute_result",
     "data": {
      "text/plain": [
       "Empty DataFrame\n",
       "Columns: [Company, Company Location, Bean Type, Specific Bean Origin, Broad Bean Origin, Cocoa Percent, REF, Review Date, Rating]\n",
       "Index: []"
      ],
      "text/html": "<div>\n<style scoped>\n    .dataframe tbody tr th:only-of-type {\n        vertical-align: middle;\n    }\n\n    .dataframe tbody tr th {\n        vertical-align: top;\n    }\n\n    .dataframe thead th {\n        text-align: right;\n    }\n</style>\n<table border=\"1\" class=\"dataframe\">\n  <thead>\n    <tr style=\"text-align: right;\">\n      <th></th>\n      <th>Company</th>\n      <th>Company Location</th>\n      <th>Bean Type</th>\n      <th>Specific Bean Origin</th>\n      <th>Broad Bean Origin</th>\n      <th>Cocoa Percent</th>\n      <th>REF</th>\n      <th>Review Date</th>\n      <th>Rating</th>\n    </tr>\n  </thead>\n  <tbody>\n  </tbody>\n</table>\n</div>"
     },
     "metadata": {},
     "execution_count": 35
    }
   ],
   "source": [
    "df.loc[(df['Specific Bean Origin'] == 'Madagascar') &\n",
    "       (df['Broad Bean Origin'].isna()),\n",
    "       'Broad Bean Origin'] = 'Madagascar'\n",
    "\n",
    "df[df['Broad Bean Origin'].isna()]"
   ]
  },
  {
   "cell_type": "markdown",
   "metadata": {
    "colab_type": "text",
    "id": "q9hd_1sUePTY"
   },
   "source": [
    "Now that we have all of the N/A values handled, let's see if we have an issue with spaces."
   ]
  },
  {
   "cell_type": "code",
   "execution_count": 36,
   "metadata": {
    "colab": {},
    "colab_type": "code",
    "id": "fbeQTVRYeUpK"
   },
   "outputs": [
    {
     "output_type": "execute_result",
     "data": {
      "text/plain": [
       "          Company Company Location Bean Type  Specific Bean Origin  \\\n",
       "77         Amedei            Italy     Blend                  Nine   \n",
       "85         Amedei            Italy     Blend         Toscano Black   \n",
       "86         Amedei            Italy     Blend         Toscano Black   \n",
       "87         Amedei            Italy     Blend         Toscano Black   \n",
       "144   Bahen & Co.        Australia   Unknown            Houseblend   \n",
       "...           ...              ...       ...                   ...   \n",
       "1766        Zak's           U.S.A.   Unknown  House Blend, Batch 2   \n",
       "1774       Zokoko        Australia   Unknown         Goddess Blend   \n",
       "1778       Zotter          Austria   Unknown                   Raw   \n",
       "1780       Zotter          Austria   Unknown       Amazonas Frucht   \n",
       "1789       Zotter          Austria   Unknown         Indianer, Raw   \n",
       "\n",
       "     Broad Bean Origin Cocoa Percent   REF  Review Date  Rating  \n",
       "77                               75%   111         2007    4.00  \n",
       "85                               63%   170         2007    3.50  \n",
       "86                               70%    40         2006    5.00  \n",
       "87                               66%    75         2006    4.00  \n",
       "144                              80%  1474         2015    3.25  \n",
       "...                ...           ...   ...          ...     ...  \n",
       "1766                             60%  1582         2015    3.00  \n",
       "1774                             65%  1780         2016    3.25  \n",
       "1778                             80%  1205         2014    2.75  \n",
       "1780                             65%   801         2012    3.50  \n",
       "1789                             58%   883         2012    3.50  \n",
       "\n",
       "[73 rows x 9 columns]"
      ],
      "text/html": "<div>\n<style scoped>\n    .dataframe tbody tr th:only-of-type {\n        vertical-align: middle;\n    }\n\n    .dataframe tbody tr th {\n        vertical-align: top;\n    }\n\n    .dataframe thead th {\n        text-align: right;\n    }\n</style>\n<table border=\"1\" class=\"dataframe\">\n  <thead>\n    <tr style=\"text-align: right;\">\n      <th></th>\n      <th>Company</th>\n      <th>Company Location</th>\n      <th>Bean Type</th>\n      <th>Specific Bean Origin</th>\n      <th>Broad Bean Origin</th>\n      <th>Cocoa Percent</th>\n      <th>REF</th>\n      <th>Review Date</th>\n      <th>Rating</th>\n    </tr>\n  </thead>\n  <tbody>\n    <tr>\n      <th>77</th>\n      <td>Amedei</td>\n      <td>Italy</td>\n      <td>Blend</td>\n      <td>Nine</td>\n      <td></td>\n      <td>75%</td>\n      <td>111</td>\n      <td>2007</td>\n      <td>4.00</td>\n    </tr>\n    <tr>\n      <th>85</th>\n      <td>Amedei</td>\n      <td>Italy</td>\n      <td>Blend</td>\n      <td>Toscano Black</td>\n      <td></td>\n      <td>63%</td>\n      <td>170</td>\n      <td>2007</td>\n      <td>3.50</td>\n    </tr>\n    <tr>\n      <th>86</th>\n      <td>Amedei</td>\n      <td>Italy</td>\n      <td>Blend</td>\n      <td>Toscano Black</td>\n      <td></td>\n      <td>70%</td>\n      <td>40</td>\n      <td>2006</td>\n      <td>5.00</td>\n    </tr>\n    <tr>\n      <th>87</th>\n      <td>Amedei</td>\n      <td>Italy</td>\n      <td>Blend</td>\n      <td>Toscano Black</td>\n      <td></td>\n      <td>66%</td>\n      <td>75</td>\n      <td>2006</td>\n      <td>4.00</td>\n    </tr>\n    <tr>\n      <th>144</th>\n      <td>Bahen &amp; Co.</td>\n      <td>Australia</td>\n      <td>Unknown</td>\n      <td>Houseblend</td>\n      <td></td>\n      <td>80%</td>\n      <td>1474</td>\n      <td>2015</td>\n      <td>3.25</td>\n    </tr>\n    <tr>\n      <th>...</th>\n      <td>...</td>\n      <td>...</td>\n      <td>...</td>\n      <td>...</td>\n      <td>...</td>\n      <td>...</td>\n      <td>...</td>\n      <td>...</td>\n      <td>...</td>\n    </tr>\n    <tr>\n      <th>1766</th>\n      <td>Zak's</td>\n      <td>U.S.A.</td>\n      <td>Unknown</td>\n      <td>House Blend, Batch 2</td>\n      <td></td>\n      <td>60%</td>\n      <td>1582</td>\n      <td>2015</td>\n      <td>3.00</td>\n    </tr>\n    <tr>\n      <th>1774</th>\n      <td>Zokoko</td>\n      <td>Australia</td>\n      <td>Unknown</td>\n      <td>Goddess Blend</td>\n      <td></td>\n      <td>65%</td>\n      <td>1780</td>\n      <td>2016</td>\n      <td>3.25</td>\n    </tr>\n    <tr>\n      <th>1778</th>\n      <td>Zotter</td>\n      <td>Austria</td>\n      <td>Unknown</td>\n      <td>Raw</td>\n      <td></td>\n      <td>80%</td>\n      <td>1205</td>\n      <td>2014</td>\n      <td>2.75</td>\n    </tr>\n    <tr>\n      <th>1780</th>\n      <td>Zotter</td>\n      <td>Austria</td>\n      <td>Unknown</td>\n      <td>Amazonas Frucht</td>\n      <td></td>\n      <td>65%</td>\n      <td>801</td>\n      <td>2012</td>\n      <td>3.50</td>\n    </tr>\n    <tr>\n      <th>1789</th>\n      <td>Zotter</td>\n      <td>Austria</td>\n      <td>Unknown</td>\n      <td>Indianer, Raw</td>\n      <td></td>\n      <td>58%</td>\n      <td>883</td>\n      <td>2012</td>\n      <td>3.50</td>\n    </tr>\n  </tbody>\n</table>\n<p>73 rows × 9 columns</p>\n</div>"
     },
     "metadata": {},
     "execution_count": 36
    }
   ],
   "source": [
    "df[df['Broad Bean Origin'].apply(lambda x: x.strip()).str.len() == 0]"
   ]
  },
  {
   "cell_type": "markdown",
   "metadata": {
    "colab_type": "text",
    "id": "aH6kvNxEeb3T"
   },
   "source": [
    "There are spaces in 73 rows of the data. Let's see what those space values are."
   ]
  },
  {
   "cell_type": "code",
   "execution_count": 37,
   "metadata": {
    "colab": {},
    "colab_type": "code",
    "id": "GNT-nh6sehTp"
   },
   "outputs": [
    {
     "output_type": "stream",
     "name": "stdout",
     "text": [
      "0xa0\n"
     ]
    }
   ],
   "source": [
    "spaces_df = df[df['Broad Bean Origin'].apply(\n",
    "    lambda x: x.strip()).str.len() == 0]\n",
    "\n",
    "for space in spaces_df['Broad Bean Origin'].unique():\n",
    "  print(\", \".join(\"0x{:02x}\".format(ord(c)) for c in space))"
   ]
  },
  {
   "cell_type": "markdown",
   "metadata": {
    "colab_type": "text",
    "id": "DHekK-OUe9sm"
   },
   "source": [
    "It is that pesky `0xa0` again.\n",
    "\n",
    "We can fix this by replacing all of the `0xa0` values with 'Unknown'. However, an even better fix would be if we could find similar chocolates with the same 'Specific Bean Origin' and then derive the 'Broad Bean Origin' from that.\n",
    "\n",
    "Let's see if it is even possible. To do that we can find all of the 'Specific Bean Origin' values for rows with 'Broad Bean Origin' and those without. Then we can use `pd.merge()` to combine the two. If you remember, `pd.merge()` returns only the values which appear in both of the given Series. This means that the return value will show us which values appear both in columns with 'Broad Bean Origin' values and those without."
   ]
  },
  {
   "cell_type": "code",
   "execution_count": 38,
   "metadata": {
    "colab": {},
    "colab_type": "code",
    "id": "3QFKBDMMr-kz"
   },
   "outputs": [
    {
     "output_type": "execute_result",
     "data": {
      "text/plain": [
       "   Specific Bean Origin\n",
       "0       Signature Blend\n",
       "1                 Blend\n",
       "2                 Blend\n",
       "3                 Blend\n",
       "4              Amazonas\n",
       "5              Amazonas\n",
       "6              Amazonas\n",
       "7              Amazonas\n",
       "8                  Dark\n",
       "9                  Dark\n",
       "10                 Dark\n",
       "11                 Dark\n",
       "12                  Raw\n",
       "13                  Raw\n",
       "14                  Raw\n",
       "15                  Raw\n",
       "16              Orinoco"
      ],
      "text/html": "<div>\n<style scoped>\n    .dataframe tbody tr th:only-of-type {\n        vertical-align: middle;\n    }\n\n    .dataframe tbody tr th {\n        vertical-align: top;\n    }\n\n    .dataframe thead th {\n        text-align: right;\n    }\n</style>\n<table border=\"1\" class=\"dataframe\">\n  <thead>\n    <tr style=\"text-align: right;\">\n      <th></th>\n      <th>Specific Bean Origin</th>\n    </tr>\n  </thead>\n  <tbody>\n    <tr>\n      <th>0</th>\n      <td>Signature Blend</td>\n    </tr>\n    <tr>\n      <th>1</th>\n      <td>Blend</td>\n    </tr>\n    <tr>\n      <th>2</th>\n      <td>Blend</td>\n    </tr>\n    <tr>\n      <th>3</th>\n      <td>Blend</td>\n    </tr>\n    <tr>\n      <th>4</th>\n      <td>Amazonas</td>\n    </tr>\n    <tr>\n      <th>5</th>\n      <td>Amazonas</td>\n    </tr>\n    <tr>\n      <th>6</th>\n      <td>Amazonas</td>\n    </tr>\n    <tr>\n      <th>7</th>\n      <td>Amazonas</td>\n    </tr>\n    <tr>\n      <th>8</th>\n      <td>Dark</td>\n    </tr>\n    <tr>\n      <th>9</th>\n      <td>Dark</td>\n    </tr>\n    <tr>\n      <th>10</th>\n      <td>Dark</td>\n    </tr>\n    <tr>\n      <th>11</th>\n      <td>Dark</td>\n    </tr>\n    <tr>\n      <th>12</th>\n      <td>Raw</td>\n    </tr>\n    <tr>\n      <th>13</th>\n      <td>Raw</td>\n    </tr>\n    <tr>\n      <th>14</th>\n      <td>Raw</td>\n    </tr>\n    <tr>\n      <th>15</th>\n      <td>Raw</td>\n    </tr>\n    <tr>\n      <th>16</th>\n      <td>Orinoco</td>\n    </tr>\n  </tbody>\n</table>\n</div>"
     },
     "metadata": {},
     "execution_count": 38
    }
   ],
   "source": [
    "has_bbo_idx = df['Broad Bean Origin'].apply(lambda x: x.strip()).str.len() > 0\n",
    "\n",
    "sbo_bbo = df[has_bbo_idx]['Specific Bean Origin']\n",
    "sbo_no_bbo = df[~has_bbo_idx]['Specific Bean Origin']\n",
    "\n",
    "pd.merge(sbo_bbo, sbo_no_bbo)"
   ]
  },
  {
   "cell_type": "markdown",
   "metadata": {
    "colab_type": "text",
    "id": "pv2qhp-stnDK"
   },
   "source": [
    "We have overlap, which is good. In theory, we could use the 'Broad Bean Origin' values from bars that *have* that value to fill in the 'Broad Bean Origin' for bars from the same specific region that *don't have* it.\n",
    "\n",
    "But look closely at those 'Specific Bean Origin' values. Dark? Raw? Blend?\n",
    "\n",
    "Those are specific origins. The only two origins that seem even close to regions are 'Amazonas' and 'Orinoco'. Let's look closer at the data for those regions."
   ]
  },
  {
   "cell_type": "code",
   "execution_count": 39,
   "metadata": {
    "colab": {},
    "colab_type": "code",
    "id": "E4Rwap-emG7I"
   },
   "outputs": [
    {
     "output_type": "execute_result",
     "data": {
      "text/plain": [
       "                               Company Company Location  Bean Type  \\\n",
       "777                           Habitual           Canada    Unknown   \n",
       "855                        Hummingbird           Canada  Forastero   \n",
       "938   La Maison du Chocolat (Valrhona)           France    Unknown   \n",
       "1503                          Solstice           U.S.A.    Unknown   \n",
       "1531                              Soma           Canada  Forastero   \n",
       "1735                  Wilkie's Organic          Ireland    Criollo   \n",
       "1736                  Wilkie's Organic          Ireland    Criollo   \n",
       "\n",
       "     Specific Bean Origin Broad Bean Origin Cocoa Percent   REF  Review Date  \\\n",
       "777              Amazonas                             80%  1201         2014   \n",
       "855              Amazonas         Venezuela           70%  1097         2013   \n",
       "938               Orinoco                             60%   445         2009   \n",
       "1503             Amazonas         Venezuela           70%  1157         2013   \n",
       "1531              Orinoco         Venezuela           70%  1173         2013   \n",
       "1735             Amazonas              Peru           75%  1169         2013   \n",
       "1736             Amazonas              Peru           89%  1169         2013   \n",
       "\n",
       "      Rating  \n",
       "777     3.00  \n",
       "855     3.75  \n",
       "938     3.75  \n",
       "1503    3.00  \n",
       "1531    3.25  \n",
       "1735    2.50  \n",
       "1736    2.75  "
      ],
      "text/html": "<div>\n<style scoped>\n    .dataframe tbody tr th:only-of-type {\n        vertical-align: middle;\n    }\n\n    .dataframe tbody tr th {\n        vertical-align: top;\n    }\n\n    .dataframe thead th {\n        text-align: right;\n    }\n</style>\n<table border=\"1\" class=\"dataframe\">\n  <thead>\n    <tr style=\"text-align: right;\">\n      <th></th>\n      <th>Company</th>\n      <th>Company Location</th>\n      <th>Bean Type</th>\n      <th>Specific Bean Origin</th>\n      <th>Broad Bean Origin</th>\n      <th>Cocoa Percent</th>\n      <th>REF</th>\n      <th>Review Date</th>\n      <th>Rating</th>\n    </tr>\n  </thead>\n  <tbody>\n    <tr>\n      <th>777</th>\n      <td>Habitual</td>\n      <td>Canada</td>\n      <td>Unknown</td>\n      <td>Amazonas</td>\n      <td></td>\n      <td>80%</td>\n      <td>1201</td>\n      <td>2014</td>\n      <td>3.00</td>\n    </tr>\n    <tr>\n      <th>855</th>\n      <td>Hummingbird</td>\n      <td>Canada</td>\n      <td>Forastero</td>\n      <td>Amazonas</td>\n      <td>Venezuela</td>\n      <td>70%</td>\n      <td>1097</td>\n      <td>2013</td>\n      <td>3.75</td>\n    </tr>\n    <tr>\n      <th>938</th>\n      <td>La Maison du Chocolat (Valrhona)</td>\n      <td>France</td>\n      <td>Unknown</td>\n      <td>Orinoco</td>\n      <td></td>\n      <td>60%</td>\n      <td>445</td>\n      <td>2009</td>\n      <td>3.75</td>\n    </tr>\n    <tr>\n      <th>1503</th>\n      <td>Solstice</td>\n      <td>U.S.A.</td>\n      <td>Unknown</td>\n      <td>Amazonas</td>\n      <td>Venezuela</td>\n      <td>70%</td>\n      <td>1157</td>\n      <td>2013</td>\n      <td>3.00</td>\n    </tr>\n    <tr>\n      <th>1531</th>\n      <td>Soma</td>\n      <td>Canada</td>\n      <td>Forastero</td>\n      <td>Orinoco</td>\n      <td>Venezuela</td>\n      <td>70%</td>\n      <td>1173</td>\n      <td>2013</td>\n      <td>3.25</td>\n    </tr>\n    <tr>\n      <th>1735</th>\n      <td>Wilkie's Organic</td>\n      <td>Ireland</td>\n      <td>Criollo</td>\n      <td>Amazonas</td>\n      <td>Peru</td>\n      <td>75%</td>\n      <td>1169</td>\n      <td>2013</td>\n      <td>2.50</td>\n    </tr>\n    <tr>\n      <th>1736</th>\n      <td>Wilkie's Organic</td>\n      <td>Ireland</td>\n      <td>Criollo</td>\n      <td>Amazonas</td>\n      <td>Peru</td>\n      <td>89%</td>\n      <td>1169</td>\n      <td>2013</td>\n      <td>2.75</td>\n    </tr>\n  </tbody>\n</table>\n</div>"
     },
     "metadata": {},
     "execution_count": 39
    }
   ],
   "source": [
    "df[(df['Specific Bean Origin'] == 'Orinoco') | \n",
    "   (df['Specific Bean Origin'] == 'Amazonas')]"
   ]
  },
  {
   "cell_type": "markdown",
   "metadata": {
    "colab_type": "text",
    "id": "OLd2P63Cur58"
   },
   "source": [
    "Yuck! Amazonas turns out to be a very common location. There are states called Amazonas in Brazil, Venezuela, and Peru. Orinoco is a river that runs through both Venezuela and Columbia.\n",
    "\n",
    "In neither case do we have definitive data to make the call about the 'Broad Bean Origin' for these rows.\n",
    "\n",
    "Unfortunately that is how it goes when working with data. You get imperfect data into your system, and then you try to research and find the best fix. But you sometimes just have to accept that you are missing data."
   ]
  },
  {
   "cell_type": "markdown",
   "metadata": {
    "colab_type": "text",
    "id": "rp4vPDsrvXOd"
   },
   "source": [
    "#### Exercise 6: Unknown Broad Bean Origins\n",
    "\n",
    "We have a few 'Broad Bean Origin' values of `0xa0`. Change those values to the literal string 'Unknown'."
   ]
  },
  {
   "cell_type": "markdown",
   "metadata": {
    "colab_type": "text",
    "id": "Am8-XSgUvnTV"
   },
   "source": [
    "**Student Solution**"
   ]
  },
  {
   "cell_type": "code",
   "execution_count": 40,
   "metadata": {
    "colab": {},
    "colab_type": "code",
    "id": "w-1nztOJvqU0"
   },
   "outputs": [
    {
     "output_type": "execute_result",
     "data": {
      "text/plain": [
       "array(['Sao Tome', 'Togo', 'Peru', 'Venezuela', 'Cuba', 'Panama',\n",
       "       'Madagascar', 'Brazil', 'Ecuador', 'Colombia', 'Burma',\n",
       "       'Papua New Guinea', 'Bolivia', 'Fiji', 'Mexico', 'Indonesia',\n",
       "       'Trinidad', 'Vietnam', 'Nicaragua', 'Tanzania',\n",
       "       'Dominican Republic', 'Ghana', 'Belize', 'Unknown', 'Jamaica',\n",
       "       'Grenada', 'Guatemala', 'Honduras', 'Costa Rica',\n",
       "       'Domincan Republic', 'Haiti', 'Congo', 'Philippines', 'Malaysia',\n",
       "       'Dominican Rep., Bali', 'Venez,Africa,Brasil,Peru,Mex', 'Gabon',\n",
       "       'Ivory Coast', 'Carribean', 'Sri Lanka', 'Puerto Rico', 'Uganda',\n",
       "       'Martinique', 'Sao Tome & Principe', 'Vanuatu', 'Australia',\n",
       "       'Liberia', 'Ecuador, Costa Rica', 'West Africa', 'Hawaii',\n",
       "       'St. Lucia', 'Cost Rica, Ven', 'Peru, Madagascar',\n",
       "       'Venezuela, Trinidad', 'Trinidad, Tobago',\n",
       "       'Ven, Trinidad, Ecuador', 'South America, Africa', 'India',\n",
       "       'Africa, Carribean, C. Am.', 'Tobago', 'Ven., Indonesia, Ecuad.',\n",
       "       'Trinidad-Tobago', 'Peru, Ecuador, Venezuela',\n",
       "       'Venezuela, Dom. Rep.', 'Colombia, Ecuador', 'Solomon Islands',\n",
       "       'Nigeria', 'Peru, Belize', 'Peru, Mad., Dom. Rep.',\n",
       "       'PNG, Vanuatu, Mad', 'El Salvador', 'South America', 'Samoa',\n",
       "       'Ghana, Domin. Rep', 'Trinidad, Ecuador', 'Cameroon',\n",
       "       'Venezuela, Java', 'Venezuela/ Ghana', 'Venezuela, Ghana',\n",
       "       'Indonesia, Ghana', 'Peru(SMartin,Pangoa,nacional)', 'Principe',\n",
       "       'Central and S. America', 'Ven., Trinidad, Mad.',\n",
       "       'Carribean(DR/Jam/Tri)', 'Ghana & Madagascar',\n",
       "       'Ven.,Ecu.,Peru,Nic.', 'Madagascar & Ecuador',\n",
       "       'Guat., D.R., Peru, Mad., PNG', 'Peru, Dom. Rep',\n",
       "       'Dom. Rep., Madagascar', 'Gre., PNG, Haw., Haiti, Mad',\n",
       "       'Mad., Java, PNG', 'Ven, Bolivia, D.R.', 'DR, Ecuador, Peru',\n",
       "       'Suriname', 'Peru, Ecuador', 'Ecuador, Mad., PNG',\n",
       "       'Ghana, Panama, Ecuador', 'Venezuela, Carribean'], dtype=object)"
      ]
     },
     "metadata": {},
     "execution_count": 40
    }
   ],
   "source": [
    "# Your Code Goes Here\n",
    "df.loc[df['Broad Bean Origin'] == '\\xa0', 'Broad Bean Origin'] = 'Unknown'\n",
    "df['Broad Bean Origin'].unique()"
   ]
  },
  {
   "cell_type": "markdown",
   "metadata": {
    "colab_type": "text",
    "id": "eTGo8qRPvpTY"
   },
   "source": [
    "---"
   ]
  },
  {
   "cell_type": "markdown",
   "metadata": {
    "colab_type": "text",
    "id": "u62i8AyedjYS"
   },
   "source": [
    "### Column: Cocoa Percent"
   ]
  },
  {
   "cell_type": "markdown",
   "metadata": {
    "colab_type": "text",
    "id": "R9yoBTgVn2FC"
   },
   "source": [
    "Next we will check out the 'Cocoa Percent' column. Remember that 'Cocoa Percent' is \"*Cocoa percentage (darkness) of the chocolate bar*.\"\n",
    "\n",
    "As usual, we'll first see if there is any missing data:"
   ]
  },
  {
   "cell_type": "code",
   "execution_count": 41,
   "metadata": {
    "colab": {},
    "colab_type": "code",
    "id": "yf9ZR67MO2On"
   },
   "outputs": [
    {
     "output_type": "execute_result",
     "data": {
      "text/plain": [
       "False"
      ]
     },
     "metadata": {},
     "execution_count": 41
    }
   ],
   "source": [
    "df['Cocoa Percent'].isna().any()"
   ]
  },
  {
   "cell_type": "markdown",
   "metadata": {
    "colab_type": "text",
    "id": "obWQn5v_O6Y8"
   },
   "source": [
    "Nothing missing. Great!\n",
    "\n",
    "Next, we should probably check to make sure that the percentages fall within a valid range: 0-100 or 0.0-1.0. You might recall that 'Cocoa Percent' isn't actually a numeric column, though, so we can't easily find the range. If we sample the data, we see that it looks like percentages from 0 to 100, but they are stored as strings with '%' symbols appended."
   ]
  },
  {
   "cell_type": "code",
   "execution_count": 42,
   "metadata": {
    "colab": {},
    "colab_type": "code",
    "id": "PpefxWtCPSLg"
   },
   "outputs": [
    {
     "output_type": "execute_result",
     "data": {
      "text/plain": [
       "736     77%\n",
       "1481    67%\n",
       "1340    70%\n",
       "1581    72%\n",
       "1723    65%\n",
       "6       70%\n",
       "542     72%\n",
       "665     75%\n",
       "332     78%\n",
       "1242    70%\n",
       "Name: Cocoa Percent, dtype: object"
      ]
     },
     "metadata": {},
     "execution_count": 42
    }
   ],
   "source": [
    "df['Cocoa Percent'].sample(10)"
   ]
  },
  {
   "cell_type": "markdown",
   "metadata": {
    "colab_type": "text",
    "id": "0pM0VQeZPw7K"
   },
   "source": [
    "We need to remove those percentage signs and convert the digits that remain into numbers. There are a few ways that we can accomplish this.\n",
    "\n",
    "One is to apply a lambda to each value. The lambda can slice all but the last character of each value and then convert it to a float using core Python syntax."
   ]
  },
  {
   "cell_type": "code",
   "execution_count": 43,
   "metadata": {
    "colab": {},
    "colab_type": "code",
    "id": "0Ck7RSOBP4eV"
   },
   "outputs": [
    {
     "output_type": "execute_result",
     "data": {
      "text/plain": [
       "0       63.0\n",
       "1       70.0\n",
       "2       70.0\n",
       "3       70.0\n",
       "4       70.0\n",
       "        ... \n",
       "1790    70.0\n",
       "1791    65.0\n",
       "1792    65.0\n",
       "1793    62.0\n",
       "1794    65.0\n",
       "Name: Cocoa Percent, Length: 1795, dtype: float64"
      ]
     },
     "metadata": {},
     "execution_count": 43
    }
   ],
   "source": [
    "df['Cocoa Percent'].apply(lambda s: float(s[:-1]))"
   ]
  },
  {
   "cell_type": "markdown",
   "metadata": {
    "colab_type": "text",
    "id": "xbgR_ICHRGxA"
   },
   "source": [
    "An alternative is to use `.str.strip('%')` on the `Series` to remove the percentage sign and then pass the resultant `Series` to `pd.to_numeric()` in order to convert the string values to numbers."
   ]
  },
  {
   "cell_type": "code",
   "execution_count": 44,
   "metadata": {
    "colab": {},
    "colab_type": "code",
    "id": "73zhUkgbPRL_"
   },
   "outputs": [
    {
     "output_type": "execute_result",
     "data": {
      "text/plain": [
       "0       63.0\n",
       "1       70.0\n",
       "2       70.0\n",
       "3       70.0\n",
       "4       70.0\n",
       "        ... \n",
       "1790    70.0\n",
       "1791    65.0\n",
       "1792    65.0\n",
       "1793    62.0\n",
       "1794    65.0\n",
       "Name: Cocoa Percent, Length: 1795, dtype: float64"
      ]
     },
     "metadata": {},
     "execution_count": 44
    }
   ],
   "source": [
    "pd.to_numeric(df['Cocoa Percent'].str.strip('%'))"
   ]
  },
  {
   "cell_type": "markdown",
   "metadata": {
    "colab_type": "text",
    "id": "DEka63nyRWLG"
   },
   "source": [
    "Is one way better than the other? Not necessarily. Feel free to choose whichever feels more natural to you.\n",
    "\n",
    "Either way, we need to do the conversion and save the new values to 'Cocoa Percent'."
   ]
  },
  {
   "cell_type": "code",
   "execution_count": 45,
   "metadata": {
    "colab": {},
    "colab_type": "code",
    "id": "PDHkS3d_Rpyq"
   },
   "outputs": [
    {
     "output_type": "execute_result",
     "data": {
      "text/plain": [
       "count    1795.000000\n",
       "mean       71.698329\n",
       "std         6.323118\n",
       "min        42.000000\n",
       "25%        70.000000\n",
       "50%        70.000000\n",
       "75%        75.000000\n",
       "max       100.000000\n",
       "Name: Cocoa Percent, dtype: float64"
      ]
     },
     "metadata": {},
     "execution_count": 45
    }
   ],
   "source": [
    "df['Cocoa Percent'] = df['Cocoa Percent'].apply(lambda s: float(s[:-1]))\n",
    "df['Cocoa Percent'].describe()"
   ]
  },
  {
   "cell_type": "markdown",
   "metadata": {
    "colab_type": "text",
    "id": "K0v69PWOmpBp"
   },
   "source": [
    "We have now converted our 'Cocoa Percent' column from a string to a floating point number. We can see in the output of the call to `describe()` that the minimum cocoa percentage that we have is 42% and that the maximum is 100%. Both seem like reasonable values for cocoa content in a chocolate bar, so our work here is done."
   ]
  },
  {
   "cell_type": "markdown",
   "metadata": {
    "colab_type": "text",
    "id": "tdmZTO2KTexy"
   },
   "source": [
    "### Column: REF"
   ]
  },
  {
   "cell_type": "markdown",
   "metadata": {
    "colab_type": "text",
    "id": "OTwhzLEZTyi8"
   },
   "source": [
    "The 'REF' column is \"*A value linked to when the review was entered in the database. Higher = more recent*.\" Let's take a look at it.\n",
    "\n",
    "As always, we should check and see if there are any values missing."
   ]
  },
  {
   "cell_type": "code",
   "execution_count": 46,
   "metadata": {
    "colab": {},
    "colab_type": "code",
    "id": "1wHAtxeCVAqD"
   },
   "outputs": [
    {
     "output_type": "execute_result",
     "data": {
      "text/plain": [
       "False"
      ]
     },
     "metadata": {},
     "execution_count": 46
    }
   ],
   "source": [
    "df['REF'].isna().any()"
   ]
  },
  {
   "cell_type": "markdown",
   "metadata": {
    "colab_type": "text",
    "id": "ecfkqlT8VRcY"
   },
   "source": [
    "We can `describe()` the data to see some basic statistics about it."
   ]
  },
  {
   "cell_type": "code",
   "execution_count": 47,
   "metadata": {
    "colab": {},
    "colab_type": "code",
    "id": "Qknt0ahdVH4W"
   },
   "outputs": [
    {
     "output_type": "execute_result",
     "data": {
      "text/plain": [
       "count    1795.000000\n",
       "mean     1035.904735\n",
       "std       552.886365\n",
       "min         5.000000\n",
       "25%       576.000000\n",
       "50%      1069.000000\n",
       "75%      1502.000000\n",
       "max      1952.000000\n",
       "Name: REF, dtype: float64"
      ]
     },
     "metadata": {},
     "execution_count": 47
    }
   ],
   "source": [
    "df['REF'].describe()"
   ]
  },
  {
   "cell_type": "markdown",
   "metadata": {
    "colab_type": "text",
    "id": "0tufVwglVVwY"
   },
   "source": [
    "Here we can see that the data ranges from 5 through 1952 and that the mean is pretty high.\n",
    "\n",
    "Are the values unique?"
   ]
  },
  {
   "cell_type": "code",
   "execution_count": 48,
   "metadata": {
    "colab": {},
    "colab_type": "code",
    "id": "i-6iGJD0VyBf"
   },
   "outputs": [
    {
     "output_type": "execute_result",
     "data": {
      "text/plain": [
       "440"
      ]
     },
     "metadata": {},
     "execution_count": 48
    }
   ],
   "source": [
    "df['REF'].unique().size"
   ]
  },
  {
   "cell_type": "markdown",
   "metadata": {
    "colab_type": "text",
    "id": "b0W32mH0WP8u"
   },
   "source": [
    "Not unique. So 'REF' isn't a unique identifier for our rows of data."
   ]
  },
  {
   "cell_type": "markdown",
   "metadata": {
    "colab_type": "text",
    "id": "s2qh6_MGWdQ4"
   },
   "source": [
    "There isn't much more that we can do with this column. We might want to visualize it to see if we can find any meaning. The numbers themselves aren't particularly interesting, but the quantity of each number might be. Let's find and plot the count of each 'REF'."
   ]
  },
  {
   "cell_type": "code",
   "execution_count": 49,
   "metadata": {
    "colab": {},
    "colab_type": "code",
    "id": "b9zw2eTHWxJB"
   },
   "outputs": [
    {
     "output_type": "display_data",
     "data": {
      "text/plain": "<Figure size 1440x720 with 1 Axes>",
      "image/svg+xml": "<?xml version=\"1.0\" encoding=\"utf-8\" standalone=\"no\"?>\r\n<!DOCTYPE svg PUBLIC \"-//W3C//DTD SVG 1.1//EN\"\r\n  \"http://www.w3.org/Graphics/SVG/1.1/DTD/svg11.dtd\">\r\n<!-- Created with matplotlib (https://matplotlib.org/) -->\r\n<svg height=\"574.678125pt\" version=\"1.1\" viewBox=\"0 0 1150.125 574.678125\" width=\"1150.125pt\" xmlns=\"http://www.w3.org/2000/svg\" xmlns:xlink=\"http://www.w3.org/1999/xlink\">\r\n <metadata>\r\n  <rdf:RDF xmlns:cc=\"http://creativecommons.org/ns#\" xmlns:dc=\"http://purl.org/dc/elements/1.1/\" xmlns:rdf=\"http://www.w3.org/1999/02/22-rdf-syntax-ns#\">\r\n   <cc:Work>\r\n    <dc:type rdf:resource=\"http://purl.org/dc/dcmitype/StillImage\"/>\r\n    <dc:date>2021-04-13T23:11:09.412695</dc:date>\r\n    <dc:format>image/svg+xml</dc:format>\r\n    <dc:creator>\r\n     <cc:Agent>\r\n      <dc:title>Matplotlib v3.3.4, https://matplotlib.org/</dc:title>\r\n     </cc:Agent>\r\n    </dc:creator>\r\n   </cc:Work>\r\n  </rdf:RDF>\r\n </metadata>\r\n <defs>\r\n  <style type=\"text/css\">*{stroke-linecap:butt;stroke-linejoin:round;}</style>\r\n </defs>\r\n <g id=\"figure_1\">\r\n  <g id=\"patch_1\">\r\n   <path d=\"M 0 574.678125 \r\nL 1150.125 574.678125 \r\nL 1150.125 0 \r\nL 0 0 \r\nz\r\n\" style=\"fill:none;\"/>\r\n  </g>\r\n  <g id=\"axes_1\">\r\n   <g id=\"patch_2\">\r\n    <path d=\"M 26.925 550.8 \r\nL 1142.925 550.8 \r\nL 1142.925 7.2 \r\nL 26.925 7.2 \r\nz\r\n\" style=\"fill:#ffffff;\"/>\r\n   </g>\r\n   <g id=\"patch_3\">\r\n    <path clip-path=\"url(#pb86d5e0e6f)\" d=\"M 77.652273 550.8 \r\nL 78.068967 550.8 \r\nL 78.068967 343.714286 \r\nL 77.652273 343.714286 \r\nz\r\n\" style=\"fill:#1f77b4;\"/>\r\n   </g>\r\n   <g id=\"patch_4\">\r\n    <path clip-path=\"url(#pb86d5e0e6f)\" d=\"M 82.860946 550.8 \r\nL 83.27764 550.8 \r\nL 83.27764 240.171429 \r\nL 82.860946 240.171429 \r\nz\r\n\" style=\"fill:#1f77b4;\"/>\r\n   </g>\r\n   <g id=\"patch_5\">\r\n    <path clip-path=\"url(#pb86d5e0e6f)\" d=\"M 87.548753 550.8 \r\nL 87.965447 550.8 \r\nL 87.965447 84.857143 \r\nL 87.548753 84.857143 \r\nz\r\n\" style=\"fill:#1f77b4;\"/>\r\n   </g>\r\n   <g id=\"patch_6\">\r\n    <path clip-path=\"url(#pb86d5e0e6f)\" d=\"M 91.715692 550.8 \r\nL 92.132385 550.8 \r\nL 92.132385 136.628571 \r\nL 91.715692 136.628571 \r\nz\r\n\" style=\"fill:#1f77b4;\"/>\r\n   </g>\r\n   <g id=\"patch_7\">\r\n    <path clip-path=\"url(#pb86d5e0e6f)\" d=\"M 95.882631 550.8 \r\nL 96.299324 550.8 \r\nL 96.299324 240.171429 \r\nL 95.882631 240.171429 \r\nz\r\n\" style=\"fill:#1f77b4;\"/>\r\n   </g>\r\n   <g id=\"patch_8\">\r\n    <path clip-path=\"url(#pb86d5e0e6f)\" d=\"M 100.049569 550.8 \r\nL 100.466263 550.8 \r\nL 100.466263 291.942857 \r\nL 100.049569 291.942857 \r\nz\r\n\" style=\"fill:#1f77b4;\"/>\r\n   </g>\r\n   <g id=\"patch_9\">\r\n    <path clip-path=\"url(#pb86d5e0e6f)\" d=\"M 104.216508 550.8 \r\nL 104.633202 550.8 \r\nL 104.633202 395.485714 \r\nL 104.216508 395.485714 \r\nz\r\n\" style=\"fill:#1f77b4;\"/>\r\n   </g>\r\n   <g id=\"patch_10\">\r\n    <path clip-path=\"url(#pb86d5e0e6f)\" d=\"M 107.86258 550.8 \r\nL 108.279274 550.8 \r\nL 108.279274 395.485714 \r\nL 107.86258 395.485714 \r\nz\r\n\" style=\"fill:#1f77b4;\"/>\r\n   </g>\r\n   <g id=\"patch_11\">\r\n    <path clip-path=\"url(#pb86d5e0e6f)\" d=\"M 114.112988 550.8 \r\nL 114.529682 550.8 \r\nL 114.529682 291.942857 \r\nL 114.112988 291.942857 \r\nz\r\n\" style=\"fill:#1f77b4;\"/>\r\n   </g>\r\n   <g id=\"patch_12\">\r\n    <path clip-path=\"url(#pb86d5e0e6f)\" d=\"M 117.238193 550.8 \r\nL 117.654886 550.8 \r\nL 117.654886 291.942857 \r\nL 117.238193 291.942857 \r\nz\r\n\" style=\"fill:#1f77b4;\"/>\r\n   </g>\r\n   <g id=\"patch_13\">\r\n    <path clip-path=\"url(#pb86d5e0e6f)\" d=\"M 120.363397 550.8 \r\nL 120.780091 550.8 \r\nL 120.780091 291.942857 \r\nL 120.363397 291.942857 \r\nz\r\n\" style=\"fill:#1f77b4;\"/>\r\n   </g>\r\n   <g id=\"patch_14\">\r\n    <path clip-path=\"url(#pb86d5e0e6f)\" d=\"M 123.488601 550.8 \r\nL 123.905295 550.8 \r\nL 123.905295 291.942857 \r\nL 123.488601 291.942857 \r\nz\r\n\" style=\"fill:#1f77b4;\"/>\r\n   </g>\r\n   <g id=\"patch_15\">\r\n    <path clip-path=\"url(#pb86d5e0e6f)\" d=\"M 126.613805 550.8 \r\nL 127.030499 550.8 \r\nL 127.030499 343.714286 \r\nL 126.613805 343.714286 \r\nz\r\n\" style=\"fill:#1f77b4;\"/>\r\n   </g>\r\n   <g id=\"patch_16\">\r\n    <path clip-path=\"url(#pb86d5e0e6f)\" d=\"M 129.739009 550.8 \r\nL 130.155703 550.8 \r\nL 130.155703 343.714286 \r\nL 129.739009 343.714286 \r\nz\r\n\" style=\"fill:#1f77b4;\"/>\r\n   </g>\r\n   <g id=\"patch_17\">\r\n    <path clip-path=\"url(#pb86d5e0e6f)\" d=\"M 132.864213 550.8 \r\nL 133.280907 550.8 \r\nL 133.280907 291.942857 \r\nL 132.864213 291.942857 \r\nz\r\n\" style=\"fill:#1f77b4;\"/>\r\n   </g>\r\n   <g id=\"patch_18\">\r\n    <path clip-path=\"url(#pb86d5e0e6f)\" d=\"M 135.989418 550.8 \r\nL 136.406112 550.8 \r\nL 136.406112 240.171429 \r\nL 135.989418 240.171429 \r\nz\r\n\" style=\"fill:#1f77b4;\"/>\r\n   </g>\r\n   <g id=\"patch_19\">\r\n    <path clip-path=\"url(#pb86d5e0e6f)\" d=\"M 139.114622 550.8 \r\nL 139.531316 550.8 \r\nL 139.531316 240.171429 \r\nL 139.114622 240.171429 \r\nz\r\n\" style=\"fill:#1f77b4;\"/>\r\n   </g>\r\n   <g id=\"patch_20\">\r\n    <path clip-path=\"url(#pb86d5e0e6f)\" d=\"M 142.239826 550.8 \r\nL 142.65652 550.8 \r\nL 142.65652 240.171429 \r\nL 142.239826 240.171429 \r\nz\r\n\" style=\"fill:#1f77b4;\"/>\r\n   </g>\r\n   <g id=\"patch_21\">\r\n    <path clip-path=\"url(#pb86d5e0e6f)\" d=\"M 145.36503 550.8 \r\nL 145.781724 550.8 \r\nL 145.781724 240.171429 \r\nL 145.36503 240.171429 \r\nz\r\n\" style=\"fill:#1f77b4;\"/>\r\n   </g>\r\n   <g id=\"patch_22\">\r\n    <path clip-path=\"url(#pb86d5e0e6f)\" d=\"M 148.490234 550.8 \r\nL 148.906928 550.8 \r\nL 148.906928 343.714286 \r\nL 148.490234 343.714286 \r\nz\r\n\" style=\"fill:#1f77b4;\"/>\r\n   </g>\r\n   <g id=\"patch_23\">\r\n    <path clip-path=\"url(#pb86d5e0e6f)\" d=\"M 151.615439 550.8 \r\nL 152.032133 550.8 \r\nL 152.032133 240.171429 \r\nL 151.615439 240.171429 \r\nz\r\n\" style=\"fill:#1f77b4;\"/>\r\n   </g>\r\n   <g id=\"patch_24\">\r\n    <path clip-path=\"url(#pb86d5e0e6f)\" d=\"M 154.740643 550.8 \r\nL 155.157337 550.8 \r\nL 155.157337 291.942857 \r\nL 154.740643 291.942857 \r\nz\r\n\" style=\"fill:#1f77b4;\"/>\r\n   </g>\r\n   <g id=\"patch_25\">\r\n    <path clip-path=\"url(#pb86d5e0e6f)\" d=\"M 156.824112 550.8 \r\nL 157.240806 550.8 \r\nL 157.240806 447.257143 \r\nL 156.824112 447.257143 \r\nz\r\n\" style=\"fill:#1f77b4;\"/>\r\n   </g>\r\n   <g id=\"patch_26\">\r\n    <path clip-path=\"url(#pb86d5e0e6f)\" d=\"M 159.428449 550.8 \r\nL 159.845143 550.8 \r\nL 159.845143 395.485714 \r\nL 159.428449 395.485714 \r\nz\r\n\" style=\"fill:#1f77b4;\"/>\r\n   </g>\r\n   <g id=\"patch_27\">\r\n    <path clip-path=\"url(#pb86d5e0e6f)\" d=\"M 161.511919 550.8 \r\nL 161.928612 550.8 \r\nL 161.928612 343.714286 \r\nL 161.511919 343.714286 \r\nz\r\n\" style=\"fill:#1f77b4;\"/>\r\n   </g>\r\n   <g id=\"patch_28\">\r\n    <path clip-path=\"url(#pb86d5e0e6f)\" d=\"M 163.595388 550.8 \r\nL 164.012082 550.8 \r\nL 164.012082 395.485714 \r\nL 163.595388 395.485714 \r\nz\r\n\" style=\"fill:#1f77b4;\"/>\r\n   </g>\r\n   <g id=\"patch_29\">\r\n    <path clip-path=\"url(#pb86d5e0e6f)\" d=\"M 166.199725 550.8 \r\nL 166.616419 550.8 \r\nL 166.616419 291.942857 \r\nL 166.199725 291.942857 \r\nz\r\n\" style=\"fill:#1f77b4;\"/>\r\n   </g>\r\n   <g id=\"patch_30\">\r\n    <path clip-path=\"url(#pb86d5e0e6f)\" d=\"M 168.804062 550.8 \r\nL 169.220756 550.8 \r\nL 169.220756 395.485714 \r\nL 168.804062 395.485714 \r\nz\r\n\" style=\"fill:#1f77b4;\"/>\r\n   </g>\r\n   <g id=\"patch_31\">\r\n    <path clip-path=\"url(#pb86d5e0e6f)\" d=\"M 170.887531 550.8 \r\nL 171.304225 550.8 \r\nL 171.304225 343.714286 \r\nL 170.887531 343.714286 \r\nz\r\n\" style=\"fill:#1f77b4;\"/>\r\n   </g>\r\n   <g id=\"patch_32\">\r\n    <path clip-path=\"url(#pb86d5e0e6f)\" d=\"M 172.971001 550.8 \r\nL 173.387695 550.8 \r\nL 173.387695 395.485714 \r\nL 172.971001 395.485714 \r\nz\r\n\" style=\"fill:#1f77b4;\"/>\r\n   </g>\r\n   <g id=\"patch_33\">\r\n    <path clip-path=\"url(#pb86d5e0e6f)\" d=\"M 175.05447 550.8 \r\nL 175.471164 550.8 \r\nL 175.471164 343.714286 \r\nL 175.05447 343.714286 \r\nz\r\n\" style=\"fill:#1f77b4;\"/>\r\n   </g>\r\n   <g id=\"patch_34\">\r\n    <path clip-path=\"url(#pb86d5e0e6f)\" d=\"M 177.13794 550.8 \r\nL 177.554633 550.8 \r\nL 177.554633 447.257143 \r\nL 177.13794 447.257143 \r\nz\r\n\" style=\"fill:#1f77b4;\"/>\r\n   </g>\r\n   <g id=\"patch_35\">\r\n    <path clip-path=\"url(#pb86d5e0e6f)\" d=\"M 178.700542 550.8 \r\nL 179.117236 550.8 \r\nL 179.117236 395.485714 \r\nL 178.700542 395.485714 \r\nz\r\n\" style=\"fill:#1f77b4;\"/>\r\n   </g>\r\n   <g id=\"patch_36\">\r\n    <path clip-path=\"url(#pb86d5e0e6f)\" d=\"M 180.263144 550.8 \r\nL 180.679838 550.8 \r\nL 180.679838 499.028571 \r\nL 180.263144 499.028571 \r\nz\r\n\" style=\"fill:#1f77b4;\"/>\r\n   </g>\r\n   <g id=\"patch_37\">\r\n    <path clip-path=\"url(#pb86d5e0e6f)\" d=\"M 182.346613 550.8 \r\nL 182.763307 550.8 \r\nL 182.763307 395.485714 \r\nL 182.346613 395.485714 \r\nz\r\n\" style=\"fill:#1f77b4;\"/>\r\n   </g>\r\n   <g id=\"patch_38\">\r\n    <path clip-path=\"url(#pb86d5e0e6f)\" d=\"M 183.909215 550.8 \r\nL 184.325909 550.8 \r\nL 184.325909 447.257143 \r\nL 183.909215 447.257143 \r\nz\r\n\" style=\"fill:#1f77b4;\"/>\r\n   </g>\r\n   <g id=\"patch_39\">\r\n    <path clip-path=\"url(#pb86d5e0e6f)\" d=\"M 185.992685 550.8 \r\nL 186.409379 550.8 \r\nL 186.409379 343.714286 \r\nL 185.992685 343.714286 \r\nz\r\n\" style=\"fill:#1f77b4;\"/>\r\n   </g>\r\n   <g id=\"patch_40\">\r\n    <path clip-path=\"url(#pb86d5e0e6f)\" d=\"M 189.638756 550.8 \r\nL 190.05545 550.8 \r\nL 190.05545 447.257143 \r\nL 189.638756 447.257143 \r\nz\r\n\" style=\"fill:#1f77b4;\"/>\r\n   </g>\r\n   <g id=\"patch_41\">\r\n    <path clip-path=\"url(#pb86d5e0e6f)\" d=\"M 191.722226 550.8 \r\nL 192.13892 550.8 \r\nL 192.13892 395.485714 \r\nL 191.722226 395.485714 \r\nz\r\n\" style=\"fill:#1f77b4;\"/>\r\n   </g>\r\n   <g id=\"patch_42\">\r\n    <path clip-path=\"url(#pb86d5e0e6f)\" d=\"M 193.284828 550.8 \r\nL 193.701522 550.8 \r\nL 193.701522 395.485714 \r\nL 193.284828 395.485714 \r\nz\r\n\" style=\"fill:#1f77b4;\"/>\r\n   </g>\r\n   <g id=\"patch_43\">\r\n    <path clip-path=\"url(#pb86d5e0e6f)\" d=\"M 194.84743 550.8 \r\nL 195.264124 550.8 \r\nL 195.264124 447.257143 \r\nL 194.84743 447.257143 \r\nz\r\n\" style=\"fill:#1f77b4;\"/>\r\n   </g>\r\n   <g id=\"patch_44\">\r\n    <path clip-path=\"url(#pb86d5e0e6f)\" d=\"M 196.410032 550.8 \r\nL 196.826726 550.8 \r\nL 196.826726 395.485714 \r\nL 196.410032 395.485714 \r\nz\r\n\" style=\"fill:#1f77b4;\"/>\r\n   </g>\r\n   <g id=\"patch_45\">\r\n    <path clip-path=\"url(#pb86d5e0e6f)\" d=\"M 198.493502 550.8 \r\nL 198.910195 550.8 \r\nL 198.910195 343.714286 \r\nL 198.493502 343.714286 \r\nz\r\n\" style=\"fill:#1f77b4;\"/>\r\n   </g>\r\n   <g id=\"patch_46\">\r\n    <path clip-path=\"url(#pb86d5e0e6f)\" d=\"M 200.576971 550.8 \r\nL 200.993665 550.8 \r\nL 200.993665 343.714286 \r\nL 200.576971 343.714286 \r\nz\r\n\" style=\"fill:#1f77b4;\"/>\r\n   </g>\r\n   <g id=\"patch_47\">\r\n    <path clip-path=\"url(#pb86d5e0e6f)\" d=\"M 202.66044 550.8 \r\nL 203.077134 550.8 \r\nL 203.077134 343.714286 \r\nL 202.66044 343.714286 \r\nz\r\n\" style=\"fill:#1f77b4;\"/>\r\n   </g>\r\n   <g id=\"patch_48\">\r\n    <path clip-path=\"url(#pb86d5e0e6f)\" d=\"M 204.223043 550.8 \r\nL 204.639736 550.8 \r\nL 204.639736 395.485714 \r\nL 204.223043 395.485714 \r\nz\r\n\" style=\"fill:#1f77b4;\"/>\r\n   </g>\r\n   <g id=\"patch_49\">\r\n    <path clip-path=\"url(#pb86d5e0e6f)\" d=\"M 206.306512 550.8 \r\nL 206.723206 550.8 \r\nL 206.723206 343.714286 \r\nL 206.306512 343.714286 \r\nz\r\n\" style=\"fill:#1f77b4;\"/>\r\n   </g>\r\n   <g id=\"patch_50\">\r\n    <path clip-path=\"url(#pb86d5e0e6f)\" d=\"M 208.389981 550.8 \r\nL 208.806675 550.8 \r\nL 208.806675 343.714286 \r\nL 208.389981 343.714286 \r\nz\r\n\" style=\"fill:#1f77b4;\"/>\r\n   </g>\r\n   <g id=\"patch_51\">\r\n    <path clip-path=\"url(#pb86d5e0e6f)\" d=\"M 209.952584 550.8 \r\nL 210.369277 550.8 \r\nL 210.369277 447.257143 \r\nL 209.952584 447.257143 \r\nz\r\n\" style=\"fill:#1f77b4;\"/>\r\n   </g>\r\n   <g id=\"patch_52\">\r\n    <path clip-path=\"url(#pb86d5e0e6f)\" d=\"M 212.036053 550.8 \r\nL 212.452747 550.8 \r\nL 212.452747 447.257143 \r\nL 212.036053 447.257143 \r\nz\r\n\" style=\"fill:#1f77b4;\"/>\r\n   </g>\r\n   <g id=\"patch_53\">\r\n    <path clip-path=\"url(#pb86d5e0e6f)\" d=\"M 213.598655 550.8 \r\nL 214.015349 550.8 \r\nL 214.015349 395.485714 \r\nL 213.598655 395.485714 \r\nz\r\n\" style=\"fill:#1f77b4;\"/>\r\n   </g>\r\n   <g id=\"patch_54\">\r\n    <path clip-path=\"url(#pb86d5e0e6f)\" d=\"M 215.161257 550.8 \r\nL 215.577951 550.8 \r\nL 215.577951 395.485714 \r\nL 215.161257 395.485714 \r\nz\r\n\" style=\"fill:#1f77b4;\"/>\r\n   </g>\r\n   <g id=\"patch_55\">\r\n    <path clip-path=\"url(#pb86d5e0e6f)\" d=\"M 216.723859 550.8 \r\nL 217.140553 550.8 \r\nL 217.140553 395.485714 \r\nL 216.723859 395.485714 \r\nz\r\n\" style=\"fill:#1f77b4;\"/>\r\n   </g>\r\n   <g id=\"patch_56\">\r\n    <path clip-path=\"url(#pb86d5e0e6f)\" d=\"M 218.807329 550.8 \r\nL 219.224023 550.8 \r\nL 219.224023 447.257143 \r\nL 218.807329 447.257143 \r\nz\r\n\" style=\"fill:#1f77b4;\"/>\r\n   </g>\r\n   <g id=\"patch_57\">\r\n    <path clip-path=\"url(#pb86d5e0e6f)\" d=\"M 220.890798 550.8 \r\nL 221.307492 550.8 \r\nL 221.307492 343.714286 \r\nL 220.890798 343.714286 \r\nz\r\n\" style=\"fill:#1f77b4;\"/>\r\n   </g>\r\n   <g id=\"patch_58\">\r\n    <path clip-path=\"url(#pb86d5e0e6f)\" d=\"M 222.974268 550.8 \r\nL 223.390962 550.8 \r\nL 223.390962 343.714286 \r\nL 222.974268 343.714286 \r\nz\r\n\" style=\"fill:#1f77b4;\"/>\r\n   </g>\r\n   <g id=\"patch_59\">\r\n    <path clip-path=\"url(#pb86d5e0e6f)\" d=\"M 225.057737 550.8 \r\nL 225.474431 550.8 \r\nL 225.474431 343.714286 \r\nL 225.057737 343.714286 \r\nz\r\n\" style=\"fill:#1f77b4;\"/>\r\n   </g>\r\n   <g id=\"patch_60\">\r\n    <path clip-path=\"url(#pb86d5e0e6f)\" d=\"M 227.141207 550.8 \r\nL 227.557901 550.8 \r\nL 227.557901 343.714286 \r\nL 227.141207 343.714286 \r\nz\r\n\" style=\"fill:#1f77b4;\"/>\r\n   </g>\r\n   <g id=\"patch_61\">\r\n    <path clip-path=\"url(#pb86d5e0e6f)\" d=\"M 229.224676 550.8 \r\nL 229.64137 550.8 \r\nL 229.64137 343.714286 \r\nL 229.224676 343.714286 \r\nz\r\n\" style=\"fill:#1f77b4;\"/>\r\n   </g>\r\n   <g id=\"patch_62\">\r\n    <path clip-path=\"url(#pb86d5e0e6f)\" d=\"M 231.308146 550.8 \r\nL 231.724839 550.8 \r\nL 231.724839 343.714286 \r\nL 231.308146 343.714286 \r\nz\r\n\" style=\"fill:#1f77b4;\"/>\r\n   </g>\r\n   <g id=\"patch_63\">\r\n    <path clip-path=\"url(#pb86d5e0e6f)\" d=\"M 233.391615 550.8 \r\nL 233.808309 550.8 \r\nL 233.808309 447.257143 \r\nL 233.391615 447.257143 \r\nz\r\n\" style=\"fill:#1f77b4;\"/>\r\n   </g>\r\n   <g id=\"patch_64\">\r\n    <path clip-path=\"url(#pb86d5e0e6f)\" d=\"M 235.475084 550.8 \r\nL 235.891778 550.8 \r\nL 235.891778 395.485714 \r\nL 235.475084 395.485714 \r\nz\r\n\" style=\"fill:#1f77b4;\"/>\r\n   </g>\r\n   <g id=\"patch_65\">\r\n    <path clip-path=\"url(#pb86d5e0e6f)\" d=\"M 237.037687 550.8 \r\nL 237.45438 550.8 \r\nL 237.45438 447.257143 \r\nL 237.037687 447.257143 \r\nz\r\n\" style=\"fill:#1f77b4;\"/>\r\n   </g>\r\n   <g id=\"patch_66\">\r\n    <path clip-path=\"url(#pb86d5e0e6f)\" d=\"M 239.642023 550.8 \r\nL 240.058717 550.8 \r\nL 240.058717 343.714286 \r\nL 239.642023 343.714286 \r\nz\r\n\" style=\"fill:#1f77b4;\"/>\r\n   </g>\r\n   <g id=\"patch_67\">\r\n    <path clip-path=\"url(#pb86d5e0e6f)\" d=\"M 242.767228 550.8 \r\nL 243.183921 550.8 \r\nL 243.183921 447.257143 \r\nL 242.767228 447.257143 \r\nz\r\n\" style=\"fill:#1f77b4;\"/>\r\n   </g>\r\n   <g id=\"patch_68\">\r\n    <path clip-path=\"url(#pb86d5e0e6f)\" d=\"M 245.371564 550.8 \r\nL 245.788258 550.8 \r\nL 245.788258 343.714286 \r\nL 245.371564 343.714286 \r\nz\r\n\" style=\"fill:#1f77b4;\"/>\r\n   </g>\r\n   <g id=\"patch_69\">\r\n    <path clip-path=\"url(#pb86d5e0e6f)\" d=\"M 247.455034 550.8 \r\nL 247.871728 550.8 \r\nL 247.871728 343.714286 \r\nL 247.455034 343.714286 \r\nz\r\n\" style=\"fill:#1f77b4;\"/>\r\n   </g>\r\n   <g id=\"patch_70\">\r\n    <path clip-path=\"url(#pb86d5e0e6f)\" d=\"M 250.059371 550.8 \r\nL 250.476065 550.8 \r\nL 250.476065 291.942857 \r\nL 250.059371 291.942857 \r\nz\r\n\" style=\"fill:#1f77b4;\"/>\r\n   </g>\r\n   <g id=\"patch_71\">\r\n    <path clip-path=\"url(#pb86d5e0e6f)\" d=\"M 252.663708 550.8 \r\nL 253.080401 550.8 \r\nL 253.080401 343.714286 \r\nL 252.663708 343.714286 \r\nz\r\n\" style=\"fill:#1f77b4;\"/>\r\n   </g>\r\n   <g id=\"patch_72\">\r\n    <path clip-path=\"url(#pb86d5e0e6f)\" d=\"M 255.268044 550.8 \r\nL 255.684738 550.8 \r\nL 255.684738 395.485714 \r\nL 255.268044 395.485714 \r\nz\r\n\" style=\"fill:#1f77b4;\"/>\r\n   </g>\r\n   <g id=\"patch_73\">\r\n    <path clip-path=\"url(#pb86d5e0e6f)\" d=\"M 259.955851 550.8 \r\nL 260.372545 550.8 \r\nL 260.372545 188.4 \r\nL 259.955851 188.4 \r\nz\r\n\" style=\"fill:#1f77b4;\"/>\r\n   </g>\r\n   <g id=\"patch_74\">\r\n    <path clip-path=\"url(#pb86d5e0e6f)\" d=\"M 264.12279 550.8 \r\nL 264.539483 550.8 \r\nL 264.539483 240.171429 \r\nL 264.12279 240.171429 \r\nz\r\n\" style=\"fill:#1f77b4;\"/>\r\n   </g>\r\n   <g id=\"patch_75\">\r\n    <path clip-path=\"url(#pb86d5e0e6f)\" d=\"M 267.768861 550.8 \r\nL 268.185555 550.8 \r\nL 268.185555 188.4 \r\nL 267.768861 188.4 \r\nz\r\n\" style=\"fill:#1f77b4;\"/>\r\n   </g>\r\n   <g id=\"patch_76\">\r\n    <path clip-path=\"url(#pb86d5e0e6f)\" d=\"M 271.414933 550.8 \r\nL 271.831627 550.8 \r\nL 271.831627 188.4 \r\nL 271.414933 188.4 \r\nz\r\n\" style=\"fill:#1f77b4;\"/>\r\n   </g>\r\n   <g id=\"patch_77\">\r\n    <path clip-path=\"url(#pb86d5e0e6f)\" d=\"M 276.623606 550.8 \r\nL 277.0403 550.8 \r\nL 277.0403 84.857143 \r\nL 276.623606 84.857143 \r\nz\r\n\" style=\"fill:#1f77b4;\"/>\r\n   </g>\r\n   <g id=\"patch_78\">\r\n    <path clip-path=\"url(#pb86d5e0e6f)\" d=\"M 280.790545 550.8 \r\nL 281.207239 550.8 \r\nL 281.207239 447.257143 \r\nL 280.790545 447.257143 \r\nz\r\n\" style=\"fill:#1f77b4;\"/>\r\n   </g>\r\n   <g id=\"patch_79\">\r\n    <path clip-path=\"url(#pb86d5e0e6f)\" d=\"M 285.478352 550.8 \r\nL 285.895045 550.8 \r\nL 285.895045 84.857143 \r\nL 285.478352 84.857143 \r\nz\r\n\" style=\"fill:#1f77b4;\"/>\r\n   </g>\r\n   <g id=\"patch_80\">\r\n    <path clip-path=\"url(#pb86d5e0e6f)\" d=\"M 290.687025 550.8 \r\nL 291.103719 550.8 \r\nL 291.103719 33.085714 \r\nL 290.687025 33.085714 \r\nz\r\n\" style=\"fill:#1f77b4;\"/>\r\n   </g>\r\n   <g id=\"patch_81\">\r\n    <path clip-path=\"url(#pb86d5e0e6f)\" d=\"M 295.374832 550.8 \r\nL 295.791525 550.8 \r\nL 295.791525 240.171429 \r\nL 295.374832 240.171429 \r\nz\r\n\" style=\"fill:#1f77b4;\"/>\r\n   </g>\r\n   <g id=\"patch_82\">\r\n    <path clip-path=\"url(#pb86d5e0e6f)\" d=\"M 299.54177 550.8 \r\nL 299.958464 550.8 \r\nL 299.958464 136.628571 \r\nL 299.54177 136.628571 \r\nz\r\n\" style=\"fill:#1f77b4;\"/>\r\n   </g>\r\n   <g id=\"patch_83\">\r\n    <path clip-path=\"url(#pb86d5e0e6f)\" d=\"M 303.708709 550.8 \r\nL 304.125403 550.8 \r\nL 304.125403 136.628571 \r\nL 303.708709 136.628571 \r\nz\r\n\" style=\"fill:#1f77b4;\"/>\r\n   </g>\r\n   <g id=\"patch_84\">\r\n    <path clip-path=\"url(#pb86d5e0e6f)\" d=\"M 306.833914 550.8 \r\nL 307.250607 550.8 \r\nL 307.250607 291.942857 \r\nL 306.833914 291.942857 \r\nz\r\n\" style=\"fill:#1f77b4;\"/>\r\n   </g>\r\n   <g id=\"patch_85\">\r\n    <path clip-path=\"url(#pb86d5e0e6f)\" d=\"M 309.959118 550.8 \r\nL 310.375812 550.8 \r\nL 310.375812 291.942857 \r\nL 309.959118 291.942857 \r\nz\r\n\" style=\"fill:#1f77b4;\"/>\r\n   </g>\r\n   <g id=\"patch_86\">\r\n    <path clip-path=\"url(#pb86d5e0e6f)\" d=\"M 313.084322 550.8 \r\nL 313.501016 550.8 \r\nL 313.501016 343.714286 \r\nL 313.084322 343.714286 \r\nz\r\n\" style=\"fill:#1f77b4;\"/>\r\n   </g>\r\n   <g id=\"patch_87\">\r\n    <path clip-path=\"url(#pb86d5e0e6f)\" d=\"M 316.730393 550.8 \r\nL 317.147087 550.8 \r\nL 317.147087 343.714286 \r\nL 316.730393 343.714286 \r\nz\r\n\" style=\"fill:#1f77b4;\"/>\r\n   </g>\r\n   <g id=\"patch_88\">\r\n    <path clip-path=\"url(#pb86d5e0e6f)\" d=\"M 319.855598 550.8 \r\nL 320.272292 550.8 \r\nL 320.272292 240.171429 \r\nL 319.855598 240.171429 \r\nz\r\n\" style=\"fill:#1f77b4;\"/>\r\n   </g>\r\n   <g id=\"patch_89\">\r\n    <path clip-path=\"url(#pb86d5e0e6f)\" d=\"M 324.022537 550.8 \r\nL 324.439231 550.8 \r\nL 324.439231 188.4 \r\nL 324.022537 188.4 \r\nz\r\n\" style=\"fill:#1f77b4;\"/>\r\n   </g>\r\n   <g id=\"patch_90\">\r\n    <path clip-path=\"url(#pb86d5e0e6f)\" d=\"M 328.189476 550.8 \r\nL 328.606169 550.8 \r\nL 328.606169 188.4 \r\nL 328.189476 188.4 \r\nz\r\n\" style=\"fill:#1f77b4;\"/>\r\n   </g>\r\n   <g id=\"patch_91\">\r\n    <path clip-path=\"url(#pb86d5e0e6f)\" d=\"M 332.356414 550.8 \r\nL 332.773108 550.8 \r\nL 332.773108 395.485714 \r\nL 332.356414 395.485714 \r\nz\r\n\" style=\"fill:#1f77b4;\"/>\r\n   </g>\r\n   <g id=\"patch_92\">\r\n    <path clip-path=\"url(#pb86d5e0e6f)\" d=\"M 336.523353 550.8 \r\nL 336.940047 550.8 \r\nL 336.940047 188.4 \r\nL 336.523353 188.4 \r\nz\r\n\" style=\"fill:#1f77b4;\"/>\r\n   </g>\r\n   <g id=\"patch_93\">\r\n    <path clip-path=\"url(#pb86d5e0e6f)\" d=\"M 339.648558 550.8 \r\nL 340.065251 550.8 \r\nL 340.065251 240.171429 \r\nL 339.648558 240.171429 \r\nz\r\n\" style=\"fill:#1f77b4;\"/>\r\n   </g>\r\n   <g id=\"patch_94\">\r\n    <path clip-path=\"url(#pb86d5e0e6f)\" d=\"M 343.815497 550.8 \r\nL 344.23219 550.8 \r\nL 344.23219 395.485714 \r\nL 343.815497 395.485714 \r\nz\r\n\" style=\"fill:#1f77b4;\"/>\r\n   </g>\r\n   <g id=\"patch_95\">\r\n    <path clip-path=\"url(#pb86d5e0e6f)\" d=\"M 347.461568 550.8 \r\nL 347.878262 550.8 \r\nL 347.878262 343.714286 \r\nL 347.461568 343.714286 \r\nz\r\n\" style=\"fill:#1f77b4;\"/>\r\n   </g>\r\n   <g id=\"patch_96\">\r\n    <path clip-path=\"url(#pb86d5e0e6f)\" d=\"M 351.628507 550.8 \r\nL 352.045201 550.8 \r\nL 352.045201 343.714286 \r\nL 351.628507 343.714286 \r\nz\r\n\" style=\"fill:#1f77b4;\"/>\r\n   </g>\r\n   <g id=\"patch_97\">\r\n    <path clip-path=\"url(#pb86d5e0e6f)\" d=\"M 354.753711 550.8 \r\nL 355.170405 550.8 \r\nL 355.170405 343.714286 \r\nL 354.753711 343.714286 \r\nz\r\n\" style=\"fill:#1f77b4;\"/>\r\n   </g>\r\n   <g id=\"patch_98\">\r\n    <path clip-path=\"url(#pb86d5e0e6f)\" d=\"M 358.399783 550.8 \r\nL 358.816477 550.8 \r\nL 358.816477 343.714286 \r\nL 358.399783 343.714286 \r\nz\r\n\" style=\"fill:#1f77b4;\"/>\r\n   </g>\r\n   <g id=\"patch_99\">\r\n    <path clip-path=\"url(#pb86d5e0e6f)\" d=\"M 362.566722 550.8 \r\nL 362.983416 550.8 \r\nL 362.983416 136.628571 \r\nL 362.566722 136.628571 \r\nz\r\n\" style=\"fill:#1f77b4;\"/>\r\n   </g>\r\n   <g id=\"patch_100\">\r\n    <path clip-path=\"url(#pb86d5e0e6f)\" d=\"M 365.691926 550.8 \r\nL 366.10862 550.8 \r\nL 366.10862 291.942857 \r\nL 365.691926 291.942857 \r\nz\r\n\" style=\"fill:#1f77b4;\"/>\r\n   </g>\r\n   <g id=\"patch_101\">\r\n    <path clip-path=\"url(#pb86d5e0e6f)\" d=\"M 369.337997 550.8 \r\nL 369.754691 550.8 \r\nL 369.754691 240.171429 \r\nL 369.337997 240.171429 \r\nz\r\n\" style=\"fill:#1f77b4;\"/>\r\n   </g>\r\n   <g id=\"patch_102\">\r\n    <path clip-path=\"url(#pb86d5e0e6f)\" d=\"M 372.984069 550.8 \r\nL 373.400763 550.8 \r\nL 373.400763 188.4 \r\nL 372.984069 188.4 \r\nz\r\n\" style=\"fill:#1f77b4;\"/>\r\n   </g>\r\n   <g id=\"patch_103\">\r\n    <path clip-path=\"url(#pb86d5e0e6f)\" d=\"M 375.067538 550.8 \r\nL 375.484232 550.8 \r\nL 375.484232 447.257143 \r\nL 375.067538 447.257143 \r\nz\r\n\" style=\"fill:#1f77b4;\"/>\r\n   </g>\r\n   <g id=\"patch_104\">\r\n    <path clip-path=\"url(#pb86d5e0e6f)\" d=\"M 376.630141 550.8 \r\nL 377.046834 550.8 \r\nL 377.046834 499.028571 \r\nL 376.630141 499.028571 \r\nz\r\n\" style=\"fill:#1f77b4;\"/>\r\n   </g>\r\n   <g id=\"patch_105\">\r\n    <path clip-path=\"url(#pb86d5e0e6f)\" d=\"M 380.276212 550.8 \r\nL 380.692906 550.8 \r\nL 380.692906 291.942857 \r\nL 380.276212 291.942857 \r\nz\r\n\" style=\"fill:#1f77b4;\"/>\r\n   </g>\r\n   <g id=\"patch_106\">\r\n    <path clip-path=\"url(#pb86d5e0e6f)\" d=\"M 383.922284 550.8 \r\nL 384.338978 550.8 \r\nL 384.338978 395.485714 \r\nL 383.922284 395.485714 \r\nz\r\n\" style=\"fill:#1f77b4;\"/>\r\n   </g>\r\n   <g id=\"patch_107\">\r\n    <path clip-path=\"url(#pb86d5e0e6f)\" d=\"M 386.005753 550.8 \r\nL 386.422447 550.8 \r\nL 386.422447 499.028571 \r\nL 386.005753 499.028571 \r\nz\r\n\" style=\"fill:#1f77b4;\"/>\r\n   </g>\r\n   <g id=\"patch_108\">\r\n    <path clip-path=\"url(#pb86d5e0e6f)\" d=\"M 387.568355 550.8 \r\nL 387.985049 550.8 \r\nL 387.985049 291.942857 \r\nL 387.568355 291.942857 \r\nz\r\n\" style=\"fill:#1f77b4;\"/>\r\n   </g>\r\n   <g id=\"patch_109\">\r\n    <path clip-path=\"url(#pb86d5e0e6f)\" d=\"M 391.214427 550.8 \r\nL 391.631121 550.8 \r\nL 391.631121 188.4 \r\nL 391.214427 188.4 \r\nz\r\n\" style=\"fill:#1f77b4;\"/>\r\n   </g>\r\n   <g id=\"patch_110\">\r\n    <path clip-path=\"url(#pb86d5e0e6f)\" d=\"M 395.381366 550.8 \r\nL 395.79806 550.8 \r\nL 395.79806 343.714286 \r\nL 395.381366 343.714286 \r\nz\r\n\" style=\"fill:#1f77b4;\"/>\r\n   </g>\r\n   <g id=\"patch_111\">\r\n    <path clip-path=\"url(#pb86d5e0e6f)\" d=\"M 399.548305 550.8 \r\nL 399.964999 550.8 \r\nL 399.964999 188.4 \r\nL 399.548305 188.4 \r\nz\r\n\" style=\"fill:#1f77b4;\"/>\r\n   </g>\r\n   <g id=\"patch_112\">\r\n    <path clip-path=\"url(#pb86d5e0e6f)\" d=\"M 402.673509 550.8 \r\nL 403.090203 550.8 \r\nL 403.090203 240.171429 \r\nL 402.673509 240.171429 \r\nz\r\n\" style=\"fill:#1f77b4;\"/>\r\n   </g>\r\n   <g id=\"patch_113\">\r\n    <path clip-path=\"url(#pb86d5e0e6f)\" d=\"M 406.31958 550.8 \r\nL 406.736274 550.8 \r\nL 406.736274 188.4 \r\nL 406.31958 188.4 \r\nz\r\n\" style=\"fill:#1f77b4;\"/>\r\n   </g>\r\n   <g id=\"patch_114\">\r\n    <path clip-path=\"url(#pb86d5e0e6f)\" d=\"M 408.923917 550.8 \r\nL 409.340611 550.8 \r\nL 409.340611 447.257143 \r\nL 408.923917 447.257143 \r\nz\r\n\" style=\"fill:#1f77b4;\"/>\r\n   </g>\r\n   <g id=\"patch_115\">\r\n    <path clip-path=\"url(#pb86d5e0e6f)\" d=\"M 409.444785 550.8 \r\nL 409.861478 550.8 \r\nL 409.861478 395.485714 \r\nL 409.444785 395.485714 \r\nz\r\n\" style=\"fill:#1f77b4;\"/>\r\n   </g>\r\n   <g id=\"patch_116\">\r\n    <path clip-path=\"url(#pb86d5e0e6f)\" d=\"M 412.049121 550.8 \r\nL 412.465815 550.8 \r\nL 412.465815 240.171429 \r\nL 412.049121 240.171429 \r\nz\r\n\" style=\"fill:#1f77b4;\"/>\r\n   </g>\r\n   <g id=\"patch_117\">\r\n    <path clip-path=\"url(#pb86d5e0e6f)\" d=\"M 415.695193 550.8 \r\nL 416.111887 550.8 \r\nL 416.111887 188.4 \r\nL 415.695193 188.4 \r\nz\r\n\" style=\"fill:#1f77b4;\"/>\r\n   </g>\r\n   <g id=\"patch_118\">\r\n    <path clip-path=\"url(#pb86d5e0e6f)\" d=\"M 419.341265 550.8 \r\nL 419.757958 550.8 \r\nL 419.757958 188.4 \r\nL 419.341265 188.4 \r\nz\r\n\" style=\"fill:#1f77b4;\"/>\r\n   </g>\r\n   <g id=\"patch_119\">\r\n    <path clip-path=\"url(#pb86d5e0e6f)\" d=\"M 421.945601 550.8 \r\nL 422.362295 550.8 \r\nL 422.362295 291.942857 \r\nL 421.945601 291.942857 \r\nz\r\n\" style=\"fill:#1f77b4;\"/>\r\n   </g>\r\n   <g id=\"patch_120\">\r\n    <path clip-path=\"url(#pb86d5e0e6f)\" d=\"M 425.070806 550.8 \r\nL 425.487499 550.8 \r\nL 425.487499 291.942857 \r\nL 425.070806 291.942857 \r\nz\r\n\" style=\"fill:#1f77b4;\"/>\r\n   </g>\r\n   <g id=\"patch_121\">\r\n    <path clip-path=\"url(#pb86d5e0e6f)\" d=\"M 427.154275 550.8 \r\nL 427.570969 550.8 \r\nL 427.570969 343.714286 \r\nL 427.154275 343.714286 \r\nz\r\n\" style=\"fill:#1f77b4;\"/>\r\n   </g>\r\n   <g id=\"patch_122\">\r\n    <path clip-path=\"url(#pb86d5e0e6f)\" d=\"M 430.279479 550.8 \r\nL 430.696173 550.8 \r\nL 430.696173 240.171429 \r\nL 430.279479 240.171429 \r\nz\r\n\" style=\"fill:#1f77b4;\"/>\r\n   </g>\r\n   <g id=\"patch_123\">\r\n    <path clip-path=\"url(#pb86d5e0e6f)\" d=\"M 433.404683 550.8 \r\nL 433.821377 550.8 \r\nL 433.821377 240.171429 \r\nL 433.404683 240.171429 \r\nz\r\n\" style=\"fill:#1f77b4;\"/>\r\n   </g>\r\n   <g id=\"patch_124\">\r\n    <path clip-path=\"url(#pb86d5e0e6f)\" d=\"M 436.00902 550.8 \r\nL 436.425714 550.8 \r\nL 436.425714 343.714286 \r\nL 436.00902 343.714286 \r\nz\r\n\" style=\"fill:#1f77b4;\"/>\r\n   </g>\r\n   <g id=\"patch_125\">\r\n    <path clip-path=\"url(#pb86d5e0e6f)\" d=\"M 438.09249 550.8 \r\nL 438.509184 550.8 \r\nL 438.509184 395.485714 \r\nL 438.09249 395.485714 \r\nz\r\n\" style=\"fill:#1f77b4;\"/>\r\n   </g>\r\n   <g id=\"patch_126\">\r\n    <path clip-path=\"url(#pb86d5e0e6f)\" d=\"M 440.175959 550.8 \r\nL 440.592653 550.8 \r\nL 440.592653 343.714286 \r\nL 440.175959 343.714286 \r\nz\r\n\" style=\"fill:#1f77b4;\"/>\r\n   </g>\r\n   <g id=\"patch_127\">\r\n    <path clip-path=\"url(#pb86d5e0e6f)\" d=\"M 442.259429 550.8 \r\nL 442.676122 550.8 \r\nL 442.676122 343.714286 \r\nL 442.259429 343.714286 \r\nz\r\n\" style=\"fill:#1f77b4;\"/>\r\n   </g>\r\n   <g id=\"patch_128\">\r\n    <path clip-path=\"url(#pb86d5e0e6f)\" d=\"M 444.342898 550.8 \r\nL 444.759592 550.8 \r\nL 444.759592 343.714286 \r\nL 444.342898 343.714286 \r\nz\r\n\" style=\"fill:#1f77b4;\"/>\r\n   </g>\r\n   <g id=\"patch_129\">\r\n    <path clip-path=\"url(#pb86d5e0e6f)\" d=\"M 446.426368 550.8 \r\nL 446.843061 550.8 \r\nL 446.843061 343.714286 \r\nL 446.426368 343.714286 \r\nz\r\n\" style=\"fill:#1f77b4;\"/>\r\n   </g>\r\n   <g id=\"patch_130\">\r\n    <path clip-path=\"url(#pb86d5e0e6f)\" d=\"M 448.509837 550.8 \r\nL 448.926531 550.8 \r\nL 448.926531 343.714286 \r\nL 448.509837 343.714286 \r\nz\r\n\" style=\"fill:#1f77b4;\"/>\r\n   </g>\r\n   <g id=\"patch_131\">\r\n    <path clip-path=\"url(#pb86d5e0e6f)\" d=\"M 450.593306 550.8 \r\nL 451.01 550.8 \r\nL 451.01 343.714286 \r\nL 450.593306 343.714286 \r\nz\r\n\" style=\"fill:#1f77b4;\"/>\r\n   </g>\r\n   <g id=\"patch_132\">\r\n    <path clip-path=\"url(#pb86d5e0e6f)\" d=\"M 452.676776 550.8 \r\nL 453.09347 550.8 \r\nL 453.09347 343.714286 \r\nL 452.676776 343.714286 \r\nz\r\n\" style=\"fill:#1f77b4;\"/>\r\n   </g>\r\n   <g id=\"patch_133\">\r\n    <path clip-path=\"url(#pb86d5e0e6f)\" d=\"M 454.760245 550.8 \r\nL 455.176939 550.8 \r\nL 455.176939 343.714286 \r\nL 454.760245 343.714286 \r\nz\r\n\" style=\"fill:#1f77b4;\"/>\r\n   </g>\r\n   <g id=\"patch_134\">\r\n    <path clip-path=\"url(#pb86d5e0e6f)\" d=\"M 456.843715 550.8 \r\nL 457.260409 550.8 \r\nL 457.260409 343.714286 \r\nL 456.843715 343.714286 \r\nz\r\n\" style=\"fill:#1f77b4;\"/>\r\n   </g>\r\n   <g id=\"patch_135\">\r\n    <path clip-path=\"url(#pb86d5e0e6f)\" d=\"M 458.927184 550.8 \r\nL 459.343878 550.8 \r\nL 459.343878 343.714286 \r\nL 458.927184 343.714286 \r\nz\r\n\" style=\"fill:#1f77b4;\"/>\r\n   </g>\r\n   <g id=\"patch_136\">\r\n    <path clip-path=\"url(#pb86d5e0e6f)\" d=\"M 461.010654 550.8 \r\nL 461.427348 550.8 \r\nL 461.427348 343.714286 \r\nL 461.010654 343.714286 \r\nz\r\n\" style=\"fill:#1f77b4;\"/>\r\n   </g>\r\n   <g id=\"patch_137\">\r\n    <path clip-path=\"url(#pb86d5e0e6f)\" d=\"M 463.094123 550.8 \r\nL 463.510817 550.8 \r\nL 463.510817 343.714286 \r\nL 463.094123 343.714286 \r\nz\r\n\" style=\"fill:#1f77b4;\"/>\r\n   </g>\r\n   <g id=\"patch_138\">\r\n    <path clip-path=\"url(#pb86d5e0e6f)\" d=\"M 465.177593 550.8 \r\nL 465.594287 550.8 \r\nL 465.594287 395.485714 \r\nL 465.177593 395.485714 \r\nz\r\n\" style=\"fill:#1f77b4;\"/>\r\n   </g>\r\n   <g id=\"patch_139\">\r\n    <path clip-path=\"url(#pb86d5e0e6f)\" d=\"M 467.261062 550.8 \r\nL 467.677756 550.8 \r\nL 467.677756 395.485714 \r\nL 467.261062 395.485714 \r\nz\r\n\" style=\"fill:#1f77b4;\"/>\r\n   </g>\r\n   <g id=\"patch_140\">\r\n    <path clip-path=\"url(#pb86d5e0e6f)\" d=\"M 469.344532 550.8 \r\nL 469.761225 550.8 \r\nL 469.761225 395.485714 \r\nL 469.344532 395.485714 \r\nz\r\n\" style=\"fill:#1f77b4;\"/>\r\n   </g>\r\n   <g id=\"patch_141\">\r\n    <path clip-path=\"url(#pb86d5e0e6f)\" d=\"M 471.428001 550.8 \r\nL 471.844695 550.8 \r\nL 471.844695 343.714286 \r\nL 471.428001 343.714286 \r\nz\r\n\" style=\"fill:#1f77b4;\"/>\r\n   </g>\r\n   <g id=\"patch_142\">\r\n    <path clip-path=\"url(#pb86d5e0e6f)\" d=\"M 473.511471 550.8 \r\nL 473.928164 550.8 \r\nL 473.928164 395.485714 \r\nL 473.511471 395.485714 \r\nz\r\n\" style=\"fill:#1f77b4;\"/>\r\n   </g>\r\n   <g id=\"patch_143\">\r\n    <path clip-path=\"url(#pb86d5e0e6f)\" d=\"M 475.59494 550.8 \r\nL 476.011634 550.8 \r\nL 476.011634 395.485714 \r\nL 475.59494 395.485714 \r\nz\r\n\" style=\"fill:#1f77b4;\"/>\r\n   </g>\r\n   <g id=\"patch_144\">\r\n    <path clip-path=\"url(#pb86d5e0e6f)\" d=\"M 477.157542 550.8 \r\nL 477.574236 550.8 \r\nL 477.574236 499.028571 \r\nL 477.157542 499.028571 \r\nz\r\n\" style=\"fill:#1f77b4;\"/>\r\n   </g>\r\n   <g id=\"patch_145\">\r\n    <path clip-path=\"url(#pb86d5e0e6f)\" d=\"M 477.678409 550.8 \r\nL 478.095103 550.8 \r\nL 478.095103 447.257143 \r\nL 477.678409 447.257143 \r\nz\r\n\" style=\"fill:#1f77b4;\"/>\r\n   </g>\r\n   <g id=\"patch_146\">\r\n    <path clip-path=\"url(#pb86d5e0e6f)\" d=\"M 479.761879 550.8 \r\nL 480.178573 550.8 \r\nL 480.178573 343.714286 \r\nL 479.761879 343.714286 \r\nz\r\n\" style=\"fill:#1f77b4;\"/>\r\n   </g>\r\n   <g id=\"patch_147\">\r\n    <path clip-path=\"url(#pb86d5e0e6f)\" d=\"M 481.845348 550.8 \r\nL 482.262042 550.8 \r\nL 482.262042 343.714286 \r\nL 481.845348 343.714286 \r\nz\r\n\" style=\"fill:#1f77b4;\"/>\r\n   </g>\r\n   <g id=\"patch_148\">\r\n    <path clip-path=\"url(#pb86d5e0e6f)\" d=\"M 483.928818 550.8 \r\nL 484.345512 550.8 \r\nL 484.345512 343.714286 \r\nL 483.928818 343.714286 \r\nz\r\n\" style=\"fill:#1f77b4;\"/>\r\n   </g>\r\n   <g id=\"patch_149\">\r\n    <path clip-path=\"url(#pb86d5e0e6f)\" d=\"M 486.012287 550.8 \r\nL 486.428981 550.8 \r\nL 486.428981 343.714286 \r\nL 486.012287 343.714286 \r\nz\r\n\" style=\"fill:#1f77b4;\"/>\r\n   </g>\r\n   <g id=\"patch_150\">\r\n    <path clip-path=\"url(#pb86d5e0e6f)\" d=\"M 488.095757 550.8 \r\nL 488.512451 550.8 \r\nL 488.512451 343.714286 \r\nL 488.095757 343.714286 \r\nz\r\n\" style=\"fill:#1f77b4;\"/>\r\n   </g>\r\n   <g id=\"patch_151\">\r\n    <path clip-path=\"url(#pb86d5e0e6f)\" d=\"M 490.179226 550.8 \r\nL 490.59592 550.8 \r\nL 490.59592 395.485714 \r\nL 490.179226 395.485714 \r\nz\r\n\" style=\"fill:#1f77b4;\"/>\r\n   </g>\r\n   <g id=\"patch_152\">\r\n    <path clip-path=\"url(#pb86d5e0e6f)\" d=\"M 492.262696 550.8 \r\nL 492.67939 550.8 \r\nL 492.67939 343.714286 \r\nL 492.262696 343.714286 \r\nz\r\n\" style=\"fill:#1f77b4;\"/>\r\n   </g>\r\n   <g id=\"patch_153\">\r\n    <path clip-path=\"url(#pb86d5e0e6f)\" d=\"M 494.346165 550.8 \r\nL 494.762859 550.8 \r\nL 494.762859 343.714286 \r\nL 494.346165 343.714286 \r\nz\r\n\" style=\"fill:#1f77b4;\"/>\r\n   </g>\r\n   <g id=\"patch_154\">\r\n    <path clip-path=\"url(#pb86d5e0e6f)\" d=\"M 496.429635 550.8 \r\nL 496.846328 550.8 \r\nL 496.846328 395.485714 \r\nL 496.429635 395.485714 \r\nz\r\n\" style=\"fill:#1f77b4;\"/>\r\n   </g>\r\n   <g id=\"patch_155\">\r\n    <path clip-path=\"url(#pb86d5e0e6f)\" d=\"M 498.513104 550.8 \r\nL 498.929798 550.8 \r\nL 498.929798 395.485714 \r\nL 498.513104 395.485714 \r\nz\r\n\" style=\"fill:#1f77b4;\"/>\r\n   </g>\r\n   <g id=\"patch_156\">\r\n    <path clip-path=\"url(#pb86d5e0e6f)\" d=\"M 500.596574 550.8 \r\nL 501.013267 550.8 \r\nL 501.013267 343.714286 \r\nL 500.596574 343.714286 \r\nz\r\n\" style=\"fill:#1f77b4;\"/>\r\n   </g>\r\n   <g id=\"patch_157\">\r\n    <path clip-path=\"url(#pb86d5e0e6f)\" d=\"M 502.680043 550.8 \r\nL 503.096737 550.8 \r\nL 503.096737 343.714286 \r\nL 502.680043 343.714286 \r\nz\r\n\" style=\"fill:#1f77b4;\"/>\r\n   </g>\r\n   <g id=\"patch_158\">\r\n    <path clip-path=\"url(#pb86d5e0e6f)\" d=\"M 504.763512 550.8 \r\nL 505.180206 550.8 \r\nL 505.180206 343.714286 \r\nL 504.763512 343.714286 \r\nz\r\n\" style=\"fill:#1f77b4;\"/>\r\n   </g>\r\n   <g id=\"patch_159\">\r\n    <path clip-path=\"url(#pb86d5e0e6f)\" d=\"M 506.846982 550.8 \r\nL 507.263676 550.8 \r\nL 507.263676 343.714286 \r\nL 506.846982 343.714286 \r\nz\r\n\" style=\"fill:#1f77b4;\"/>\r\n   </g>\r\n   <g id=\"patch_160\">\r\n    <path clip-path=\"url(#pb86d5e0e6f)\" d=\"M 508.930451 550.8 \r\nL 509.347145 550.8 \r\nL 509.347145 343.714286 \r\nL 508.930451 343.714286 \r\nz\r\n\" style=\"fill:#1f77b4;\"/>\r\n   </g>\r\n   <g id=\"patch_161\">\r\n    <path clip-path=\"url(#pb86d5e0e6f)\" d=\"M 511.013921 550.8 \r\nL 511.430615 550.8 \r\nL 511.430615 395.485714 \r\nL 511.013921 395.485714 \r\nz\r\n\" style=\"fill:#1f77b4;\"/>\r\n   </g>\r\n   <g id=\"patch_162\">\r\n    <path clip-path=\"url(#pb86d5e0e6f)\" d=\"M 513.09739 550.8 \r\nL 513.514084 550.8 \r\nL 513.514084 343.714286 \r\nL 513.09739 343.714286 \r\nz\r\n\" style=\"fill:#1f77b4;\"/>\r\n   </g>\r\n   <g id=\"patch_163\">\r\n    <path clip-path=\"url(#pb86d5e0e6f)\" d=\"M 515.18086 550.8 \r\nL 515.597554 550.8 \r\nL 515.597554 343.714286 \r\nL 515.18086 343.714286 \r\nz\r\n\" style=\"fill:#1f77b4;\"/>\r\n   </g>\r\n   <g id=\"patch_164\">\r\n    <path clip-path=\"url(#pb86d5e0e6f)\" d=\"M 517.264329 550.8 \r\nL 517.681023 550.8 \r\nL 517.681023 499.028571 \r\nL 517.264329 499.028571 \r\nz\r\n\" style=\"fill:#1f77b4;\"/>\r\n   </g>\r\n   <g id=\"patch_165\">\r\n    <path clip-path=\"url(#pb86d5e0e6f)\" d=\"M 519.347799 550.8 \r\nL 519.764493 550.8 \r\nL 519.764493 499.028571 \r\nL 519.347799 499.028571 \r\nz\r\n\" style=\"fill:#1f77b4;\"/>\r\n   </g>\r\n   <g id=\"patch_166\">\r\n    <path clip-path=\"url(#pb86d5e0e6f)\" d=\"M 520.389533 550.8 \r\nL 520.806227 550.8 \r\nL 520.806227 499.028571 \r\nL 520.389533 499.028571 \r\nz\r\n\" style=\"fill:#1f77b4;\"/>\r\n   </g>\r\n   <g id=\"patch_167\">\r\n    <path clip-path=\"url(#pb86d5e0e6f)\" d=\"M 522.473003 550.8 \r\nL 522.889697 550.8 \r\nL 522.889697 395.485714 \r\nL 522.473003 395.485714 \r\nz\r\n\" style=\"fill:#1f77b4;\"/>\r\n   </g>\r\n   <g id=\"patch_168\">\r\n    <path clip-path=\"url(#pb86d5e0e6f)\" d=\"M 524.556472 550.8 \r\nL 524.973166 550.8 \r\nL 524.973166 343.714286 \r\nL 524.556472 343.714286 \r\nz\r\n\" style=\"fill:#1f77b4;\"/>\r\n   </g>\r\n   <g id=\"patch_169\">\r\n    <path clip-path=\"url(#pb86d5e0e6f)\" d=\"M 526.639942 550.8 \r\nL 527.056636 550.8 \r\nL 527.056636 343.714286 \r\nL 526.639942 343.714286 \r\nz\r\n\" style=\"fill:#1f77b4;\"/>\r\n   </g>\r\n   <g id=\"patch_170\">\r\n    <path clip-path=\"url(#pb86d5e0e6f)\" d=\"M 528.723411 550.8 \r\nL 529.140105 550.8 \r\nL 529.140105 343.714286 \r\nL 528.723411 343.714286 \r\nz\r\n\" style=\"fill:#1f77b4;\"/>\r\n   </g>\r\n   <g id=\"patch_171\">\r\n    <path clip-path=\"url(#pb86d5e0e6f)\" d=\"M 530.806881 550.8 \r\nL 531.223575 550.8 \r\nL 531.223575 343.714286 \r\nL 530.806881 343.714286 \r\nz\r\n\" style=\"fill:#1f77b4;\"/>\r\n   </g>\r\n   <g id=\"patch_172\">\r\n    <path clip-path=\"url(#pb86d5e0e6f)\" d=\"M 532.89035 550.8 \r\nL 533.307044 550.8 \r\nL 533.307044 343.714286 \r\nL 532.89035 343.714286 \r\nz\r\n\" style=\"fill:#1f77b4;\"/>\r\n   </g>\r\n   <g id=\"patch_173\">\r\n    <path clip-path=\"url(#pb86d5e0e6f)\" d=\"M 534.97382 550.8 \r\nL 535.390514 550.8 \r\nL 535.390514 343.714286 \r\nL 534.97382 343.714286 \r\nz\r\n\" style=\"fill:#1f77b4;\"/>\r\n   </g>\r\n   <g id=\"patch_174\">\r\n    <path clip-path=\"url(#pb86d5e0e6f)\" d=\"M 537.057289 550.8 \r\nL 537.473983 550.8 \r\nL 537.473983 343.714286 \r\nL 537.057289 343.714286 \r\nz\r\n\" style=\"fill:#1f77b4;\"/>\r\n   </g>\r\n   <g id=\"patch_175\">\r\n    <path clip-path=\"url(#pb86d5e0e6f)\" d=\"M 539.140759 550.8 \r\nL 539.557452 550.8 \r\nL 539.557452 343.714286 \r\nL 539.140759 343.714286 \r\nz\r\n\" style=\"fill:#1f77b4;\"/>\r\n   </g>\r\n   <g id=\"patch_176\">\r\n    <path clip-path=\"url(#pb86d5e0e6f)\" d=\"M 541.224228 550.8 \r\nL 541.640922 550.8 \r\nL 541.640922 343.714286 \r\nL 541.224228 343.714286 \r\nz\r\n\" style=\"fill:#1f77b4;\"/>\r\n   </g>\r\n   <g id=\"patch_177\">\r\n    <path clip-path=\"url(#pb86d5e0e6f)\" d=\"M 543.307697 550.8 \r\nL 543.724391 550.8 \r\nL 543.724391 343.714286 \r\nL 543.307697 343.714286 \r\nz\r\n\" style=\"fill:#1f77b4;\"/>\r\n   </g>\r\n   <g id=\"patch_178\">\r\n    <path clip-path=\"url(#pb86d5e0e6f)\" d=\"M 545.391167 550.8 \r\nL 545.807861 550.8 \r\nL 545.807861 343.714286 \r\nL 545.391167 343.714286 \r\nz\r\n\" style=\"fill:#1f77b4;\"/>\r\n   </g>\r\n   <g id=\"patch_179\">\r\n    <path clip-path=\"url(#pb86d5e0e6f)\" d=\"M 547.474636 550.8 \r\nL 547.89133 550.8 \r\nL 547.89133 447.257143 \r\nL 547.474636 447.257143 \r\nz\r\n\" style=\"fill:#1f77b4;\"/>\r\n   </g>\r\n   <g id=\"patch_180\">\r\n    <path clip-path=\"url(#pb86d5e0e6f)\" d=\"M 549.558106 550.8 \r\nL 549.9748 550.8 \r\nL 549.9748 343.714286 \r\nL 549.558106 343.714286 \r\nz\r\n\" style=\"fill:#1f77b4;\"/>\r\n   </g>\r\n   <g id=\"patch_181\">\r\n    <path clip-path=\"url(#pb86d5e0e6f)\" d=\"M 551.641575 550.8 \r\nL 552.058269 550.8 \r\nL 552.058269 343.714286 \r\nL 551.641575 343.714286 \r\nz\r\n\" style=\"fill:#1f77b4;\"/>\r\n   </g>\r\n   <g id=\"patch_182\">\r\n    <path clip-path=\"url(#pb86d5e0e6f)\" d=\"M 553.725045 550.8 \r\nL 554.141739 550.8 \r\nL 554.141739 343.714286 \r\nL 553.725045 343.714286 \r\nz\r\n\" style=\"fill:#1f77b4;\"/>\r\n   </g>\r\n   <g id=\"patch_183\">\r\n    <path clip-path=\"url(#pb86d5e0e6f)\" d=\"M 555.808514 550.8 \r\nL 556.225208 550.8 \r\nL 556.225208 395.485714 \r\nL 555.808514 395.485714 \r\nz\r\n\" style=\"fill:#1f77b4;\"/>\r\n   </g>\r\n   <g id=\"patch_184\">\r\n    <path clip-path=\"url(#pb86d5e0e6f)\" d=\"M 557.891984 550.8 \r\nL 558.308678 550.8 \r\nL 558.308678 343.714286 \r\nL 557.891984 343.714286 \r\nz\r\n\" style=\"fill:#1f77b4;\"/>\r\n   </g>\r\n   <g id=\"patch_185\">\r\n    <path clip-path=\"url(#pb86d5e0e6f)\" d=\"M 559.975453 550.8 \r\nL 560.392147 550.8 \r\nL 560.392147 343.714286 \r\nL 559.975453 343.714286 \r\nz\r\n\" style=\"fill:#1f77b4;\"/>\r\n   </g>\r\n   <g id=\"patch_186\">\r\n    <path clip-path=\"url(#pb86d5e0e6f)\" d=\"M 562.058923 550.8 \r\nL 562.475617 550.8 \r\nL 562.475617 343.714286 \r\nL 562.058923 343.714286 \r\nz\r\n\" style=\"fill:#1f77b4;\"/>\r\n   </g>\r\n   <g id=\"patch_187\">\r\n    <path clip-path=\"url(#pb86d5e0e6f)\" d=\"M 564.142392 550.8 \r\nL 564.559086 550.8 \r\nL 564.559086 343.714286 \r\nL 564.142392 343.714286 \r\nz\r\n\" style=\"fill:#1f77b4;\"/>\r\n   </g>\r\n   <g id=\"patch_188\">\r\n    <path clip-path=\"url(#pb86d5e0e6f)\" d=\"M 566.225862 550.8 \r\nL 566.642555 550.8 \r\nL 566.642555 343.714286 \r\nL 566.225862 343.714286 \r\nz\r\n\" style=\"fill:#1f77b4;\"/>\r\n   </g>\r\n   <g id=\"patch_189\">\r\n    <path clip-path=\"url(#pb86d5e0e6f)\" d=\"M 568.309331 550.8 \r\nL 568.726025 550.8 \r\nL 568.726025 343.714286 \r\nL 568.309331 343.714286 \r\nz\r\n\" style=\"fill:#1f77b4;\"/>\r\n   </g>\r\n   <g id=\"patch_190\">\r\n    <path clip-path=\"url(#pb86d5e0e6f)\" d=\"M 570.392801 550.8 \r\nL 570.809494 550.8 \r\nL 570.809494 343.714286 \r\nL 570.392801 343.714286 \r\nz\r\n\" style=\"fill:#1f77b4;\"/>\r\n   </g>\r\n   <g id=\"patch_191\">\r\n    <path clip-path=\"url(#pb86d5e0e6f)\" d=\"M 572.47627 550.8 \r\nL 572.892964 550.8 \r\nL 572.892964 343.714286 \r\nL 572.47627 343.714286 \r\nz\r\n\" style=\"fill:#1f77b4;\"/>\r\n   </g>\r\n   <g id=\"patch_192\">\r\n    <path clip-path=\"url(#pb86d5e0e6f)\" d=\"M 574.559739 550.8 \r\nL 574.976433 550.8 \r\nL 574.976433 343.714286 \r\nL 574.559739 343.714286 \r\nz\r\n\" style=\"fill:#1f77b4;\"/>\r\n   </g>\r\n   <g id=\"patch_193\">\r\n    <path clip-path=\"url(#pb86d5e0e6f)\" d=\"M 576.643209 550.8 \r\nL 577.059903 550.8 \r\nL 577.059903 343.714286 \r\nL 576.643209 343.714286 \r\nz\r\n\" style=\"fill:#1f77b4;\"/>\r\n   </g>\r\n   <g id=\"patch_194\">\r\n    <path clip-path=\"url(#pb86d5e0e6f)\" d=\"M 578.726678 550.8 \r\nL 579.143372 550.8 \r\nL 579.143372 395.485714 \r\nL 578.726678 395.485714 \r\nz\r\n\" style=\"fill:#1f77b4;\"/>\r\n   </g>\r\n   <g id=\"patch_195\">\r\n    <path clip-path=\"url(#pb86d5e0e6f)\" d=\"M 580.810148 550.8 \r\nL 581.226842 550.8 \r\nL 581.226842 343.714286 \r\nL 580.810148 343.714286 \r\nz\r\n\" style=\"fill:#1f77b4;\"/>\r\n   </g>\r\n   <g id=\"patch_196\">\r\n    <path clip-path=\"url(#pb86d5e0e6f)\" d=\"M 582.893617 550.8 \r\nL 583.310311 550.8 \r\nL 583.310311 343.714286 \r\nL 582.893617 343.714286 \r\nz\r\n\" style=\"fill:#1f77b4;\"/>\r\n   </g>\r\n   <g id=\"patch_197\">\r\n    <path clip-path=\"url(#pb86d5e0e6f)\" d=\"M 584.977087 550.8 \r\nL 585.393781 550.8 \r\nL 585.393781 395.485714 \r\nL 584.977087 395.485714 \r\nz\r\n\" style=\"fill:#1f77b4;\"/>\r\n   </g>\r\n   <g id=\"patch_198\">\r\n    <path clip-path=\"url(#pb86d5e0e6f)\" d=\"M 587.060556 550.8 \r\nL 587.47725 550.8 \r\nL 587.47725 343.714286 \r\nL 587.060556 343.714286 \r\nz\r\n\" style=\"fill:#1f77b4;\"/>\r\n   </g>\r\n   <g id=\"patch_199\">\r\n    <path clip-path=\"url(#pb86d5e0e6f)\" d=\"M 589.144026 550.8 \r\nL 589.56072 550.8 \r\nL 589.56072 343.714286 \r\nL 589.144026 343.714286 \r\nz\r\n\" style=\"fill:#1f77b4;\"/>\r\n   </g>\r\n   <g id=\"patch_200\">\r\n    <path clip-path=\"url(#pb86d5e0e6f)\" d=\"M 591.227495 550.8 \r\nL 591.644189 550.8 \r\nL 591.644189 343.714286 \r\nL 591.227495 343.714286 \r\nz\r\n\" style=\"fill:#1f77b4;\"/>\r\n   </g>\r\n   <g id=\"patch_201\">\r\n    <path clip-path=\"url(#pb86d5e0e6f)\" d=\"M 593.310965 550.8 \r\nL 593.727658 550.8 \r\nL 593.727658 395.485714 \r\nL 593.310965 395.485714 \r\nz\r\n\" style=\"fill:#1f77b4;\"/>\r\n   </g>\r\n   <g id=\"patch_202\">\r\n    <path clip-path=\"url(#pb86d5e0e6f)\" d=\"M 595.394434 550.8 \r\nL 595.811128 550.8 \r\nL 595.811128 343.714286 \r\nL 595.394434 343.714286 \r\nz\r\n\" style=\"fill:#1f77b4;\"/>\r\n   </g>\r\n   <g id=\"patch_203\">\r\n    <path clip-path=\"url(#pb86d5e0e6f)\" d=\"M 597.477904 550.8 \r\nL 597.894597 550.8 \r\nL 597.894597 499.028571 \r\nL 597.477904 499.028571 \r\nz\r\n\" style=\"fill:#1f77b4;\"/>\r\n   </g>\r\n   <g id=\"patch_204\">\r\n    <path clip-path=\"url(#pb86d5e0e6f)\" d=\"M 599.561373 550.8 \r\nL 599.978067 550.8 \r\nL 599.978067 343.714286 \r\nL 599.561373 343.714286 \r\nz\r\n\" style=\"fill:#1f77b4;\"/>\r\n   </g>\r\n   <g id=\"patch_205\">\r\n    <path clip-path=\"url(#pb86d5e0e6f)\" d=\"M 601.644842 550.8 \r\nL 602.061536 550.8 \r\nL 602.061536 343.714286 \r\nL 601.644842 343.714286 \r\nz\r\n\" style=\"fill:#1f77b4;\"/>\r\n   </g>\r\n   <g id=\"patch_206\">\r\n    <path clip-path=\"url(#pb86d5e0e6f)\" d=\"M 603.728312 550.8 \r\nL 604.145006 550.8 \r\nL 604.145006 343.714286 \r\nL 603.728312 343.714286 \r\nz\r\n\" style=\"fill:#1f77b4;\"/>\r\n   </g>\r\n   <g id=\"patch_207\">\r\n    <path clip-path=\"url(#pb86d5e0e6f)\" d=\"M 605.811781 550.8 \r\nL 606.228475 550.8 \r\nL 606.228475 343.714286 \r\nL 605.811781 343.714286 \r\nz\r\n\" style=\"fill:#1f77b4;\"/>\r\n   </g>\r\n   <g id=\"patch_208\">\r\n    <path clip-path=\"url(#pb86d5e0e6f)\" d=\"M 607.374383 550.8 \r\nL 607.791077 550.8 \r\nL 607.791077 395.485714 \r\nL 607.374383 395.485714 \r\nz\r\n\" style=\"fill:#1f77b4;\"/>\r\n   </g>\r\n   <g id=\"patch_209\">\r\n    <path clip-path=\"url(#pb86d5e0e6f)\" d=\"M 609.457853 550.8 \r\nL 609.874547 550.8 \r\nL 609.874547 343.714286 \r\nL 609.457853 343.714286 \r\nz\r\n\" style=\"fill:#1f77b4;\"/>\r\n   </g>\r\n   <g id=\"patch_210\">\r\n    <path clip-path=\"url(#pb86d5e0e6f)\" d=\"M 611.541322 550.8 \r\nL 611.958016 550.8 \r\nL 611.958016 343.714286 \r\nL 611.541322 343.714286 \r\nz\r\n\" style=\"fill:#1f77b4;\"/>\r\n   </g>\r\n   <g id=\"patch_211\">\r\n    <path clip-path=\"url(#pb86d5e0e6f)\" d=\"M 613.624792 550.8 \r\nL 614.041486 550.8 \r\nL 614.041486 343.714286 \r\nL 613.624792 343.714286 \r\nz\r\n\" style=\"fill:#1f77b4;\"/>\r\n   </g>\r\n   <g id=\"patch_212\">\r\n    <path clip-path=\"url(#pb86d5e0e6f)\" d=\"M 615.708261 550.8 \r\nL 616.124955 550.8 \r\nL 616.124955 343.714286 \r\nL 615.708261 343.714286 \r\nz\r\n\" style=\"fill:#1f77b4;\"/>\r\n   </g>\r\n   <g id=\"patch_213\">\r\n    <path clip-path=\"url(#pb86d5e0e6f)\" d=\"M 617.791731 550.8 \r\nL 618.208425 550.8 \r\nL 618.208425 343.714286 \r\nL 617.791731 343.714286 \r\nz\r\n\" style=\"fill:#1f77b4;\"/>\r\n   </g>\r\n   <g id=\"patch_214\">\r\n    <path clip-path=\"url(#pb86d5e0e6f)\" d=\"M 619.8752 550.8 \r\nL 620.291894 550.8 \r\nL 620.291894 395.485714 \r\nL 619.8752 395.485714 \r\nz\r\n\" style=\"fill:#1f77b4;\"/>\r\n   </g>\r\n   <g id=\"patch_215\">\r\n    <path clip-path=\"url(#pb86d5e0e6f)\" d=\"M 621.437802 550.8 \r\nL 621.854496 550.8 \r\nL 621.854496 395.485714 \r\nL 621.437802 395.485714 \r\nz\r\n\" style=\"fill:#1f77b4;\"/>\r\n   </g>\r\n   <g id=\"patch_216\">\r\n    <path clip-path=\"url(#pb86d5e0e6f)\" d=\"M 623.521272 550.8 \r\nL 623.937966 550.8 \r\nL 623.937966 343.714286 \r\nL 623.521272 343.714286 \r\nz\r\n\" style=\"fill:#1f77b4;\"/>\r\n   </g>\r\n   <g id=\"patch_217\">\r\n    <path clip-path=\"url(#pb86d5e0e6f)\" d=\"M 625.604741 550.8 \r\nL 626.021435 550.8 \r\nL 626.021435 343.714286 \r\nL 625.604741 343.714286 \r\nz\r\n\" style=\"fill:#1f77b4;\"/>\r\n   </g>\r\n   <g id=\"patch_218\">\r\n    <path clip-path=\"url(#pb86d5e0e6f)\" d=\"M 627.688211 550.8 \r\nL 628.104905 550.8 \r\nL 628.104905 343.714286 \r\nL 627.688211 343.714286 \r\nz\r\n\" style=\"fill:#1f77b4;\"/>\r\n   </g>\r\n   <g id=\"patch_219\">\r\n    <path clip-path=\"url(#pb86d5e0e6f)\" d=\"M 629.77168 550.8 \r\nL 630.188374 550.8 \r\nL 630.188374 343.714286 \r\nL 629.77168 343.714286 \r\nz\r\n\" style=\"fill:#1f77b4;\"/>\r\n   </g>\r\n   <g id=\"patch_220\">\r\n    <path clip-path=\"url(#pb86d5e0e6f)\" d=\"M 631.85515 550.8 \r\nL 632.271844 550.8 \r\nL 632.271844 343.714286 \r\nL 631.85515 343.714286 \r\nz\r\n\" style=\"fill:#1f77b4;\"/>\r\n   </g>\r\n   <g id=\"patch_221\">\r\n    <path clip-path=\"url(#pb86d5e0e6f)\" d=\"M 633.938619 550.8 \r\nL 634.355313 550.8 \r\nL 634.355313 343.714286 \r\nL 633.938619 343.714286 \r\nz\r\n\" style=\"fill:#1f77b4;\"/>\r\n   </g>\r\n   <g id=\"patch_222\">\r\n    <path clip-path=\"url(#pb86d5e0e6f)\" d=\"M 636.022089 550.8 \r\nL 636.438782 550.8 \r\nL 636.438782 343.714286 \r\nL 636.022089 343.714286 \r\nz\r\n\" style=\"fill:#1f77b4;\"/>\r\n   </g>\r\n   <g id=\"patch_223\">\r\n    <path clip-path=\"url(#pb86d5e0e6f)\" d=\"M 638.105558 550.8 \r\nL 638.522252 550.8 \r\nL 638.522252 343.714286 \r\nL 638.105558 343.714286 \r\nz\r\n\" style=\"fill:#1f77b4;\"/>\r\n   </g>\r\n   <g id=\"patch_224\">\r\n    <path clip-path=\"url(#pb86d5e0e6f)\" d=\"M 640.189027 550.8 \r\nL 640.605721 550.8 \r\nL 640.605721 343.714286 \r\nL 640.189027 343.714286 \r\nz\r\n\" style=\"fill:#1f77b4;\"/>\r\n   </g>\r\n   <g id=\"patch_225\">\r\n    <path clip-path=\"url(#pb86d5e0e6f)\" d=\"M 642.272497 550.8 \r\nL 642.689191 550.8 \r\nL 642.689191 343.714286 \r\nL 642.272497 343.714286 \r\nz\r\n\" style=\"fill:#1f77b4;\"/>\r\n   </g>\r\n   <g id=\"patch_226\">\r\n    <path clip-path=\"url(#pb86d5e0e6f)\" d=\"M 644.355966 550.8 \r\nL 644.77266 550.8 \r\nL 644.77266 343.714286 \r\nL 644.355966 343.714286 \r\nz\r\n\" style=\"fill:#1f77b4;\"/>\r\n   </g>\r\n   <g id=\"patch_227\">\r\n    <path clip-path=\"url(#pb86d5e0e6f)\" d=\"M 646.439436 550.8 \r\nL 646.85613 550.8 \r\nL 646.85613 343.714286 \r\nL 646.439436 343.714286 \r\nz\r\n\" style=\"fill:#1f77b4;\"/>\r\n   </g>\r\n   <g id=\"patch_228\">\r\n    <path clip-path=\"url(#pb86d5e0e6f)\" d=\"M 648.522905 550.8 \r\nL 648.939599 550.8 \r\nL 648.939599 343.714286 \r\nL 648.522905 343.714286 \r\nz\r\n\" style=\"fill:#1f77b4;\"/>\r\n   </g>\r\n   <g id=\"patch_229\">\r\n    <path clip-path=\"url(#pb86d5e0e6f)\" d=\"M 650.606375 550.8 \r\nL 651.023069 550.8 \r\nL 651.023069 343.714286 \r\nL 650.606375 343.714286 \r\nz\r\n\" style=\"fill:#1f77b4;\"/>\r\n   </g>\r\n   <g id=\"patch_230\">\r\n    <path clip-path=\"url(#pb86d5e0e6f)\" d=\"M 652.689844 550.8 \r\nL 653.106538 550.8 \r\nL 653.106538 343.714286 \r\nL 652.689844 343.714286 \r\nz\r\n\" style=\"fill:#1f77b4;\"/>\r\n   </g>\r\n   <g id=\"patch_231\">\r\n    <path clip-path=\"url(#pb86d5e0e6f)\" d=\"M 654.773314 550.8 \r\nL 655.190008 550.8 \r\nL 655.190008 343.714286 \r\nL 654.773314 343.714286 \r\nz\r\n\" style=\"fill:#1f77b4;\"/>\r\n   </g>\r\n   <g id=\"patch_232\">\r\n    <path clip-path=\"url(#pb86d5e0e6f)\" d=\"M 656.856783 550.8 \r\nL 657.273477 550.8 \r\nL 657.273477 343.714286 \r\nL 656.856783 343.714286 \r\nz\r\n\" style=\"fill:#1f77b4;\"/>\r\n   </g>\r\n   <g id=\"patch_233\">\r\n    <path clip-path=\"url(#pb86d5e0e6f)\" d=\"M 658.940253 550.8 \r\nL 659.356947 550.8 \r\nL 659.356947 343.714286 \r\nL 658.940253 343.714286 \r\nz\r\n\" style=\"fill:#1f77b4;\"/>\r\n   </g>\r\n   <g id=\"patch_234\">\r\n    <path clip-path=\"url(#pb86d5e0e6f)\" d=\"M 661.023722 550.8 \r\nL 661.440416 550.8 \r\nL 661.440416 343.714286 \r\nL 661.023722 343.714286 \r\nz\r\n\" style=\"fill:#1f77b4;\"/>\r\n   </g>\r\n   <g id=\"patch_235\">\r\n    <path clip-path=\"url(#pb86d5e0e6f)\" d=\"M 663.107192 550.8 \r\nL 663.523885 550.8 \r\nL 663.523885 395.485714 \r\nL 663.107192 395.485714 \r\nz\r\n\" style=\"fill:#1f77b4;\"/>\r\n   </g>\r\n   <g id=\"patch_236\">\r\n    <path clip-path=\"url(#pb86d5e0e6f)\" d=\"M 665.190661 550.8 \r\nL 665.607355 550.8 \r\nL 665.607355 343.714286 \r\nL 665.190661 343.714286 \r\nz\r\n\" style=\"fill:#1f77b4;\"/>\r\n   </g>\r\n   <g id=\"patch_237\">\r\n    <path clip-path=\"url(#pb86d5e0e6f)\" d=\"M 667.27413 550.8 \r\nL 667.690824 550.8 \r\nL 667.690824 343.714286 \r\nL 667.27413 343.714286 \r\nz\r\n\" style=\"fill:#1f77b4;\"/>\r\n   </g>\r\n   <g id=\"patch_238\">\r\n    <path clip-path=\"url(#pb86d5e0e6f)\" d=\"M 669.3576 550.8 \r\nL 669.774294 550.8 \r\nL 669.774294 343.714286 \r\nL 669.3576 343.714286 \r\nz\r\n\" style=\"fill:#1f77b4;\"/>\r\n   </g>\r\n   <g id=\"patch_239\">\r\n    <path clip-path=\"url(#pb86d5e0e6f)\" d=\"M 671.441069 550.8 \r\nL 671.857763 550.8 \r\nL 671.857763 343.714286 \r\nL 671.441069 343.714286 \r\nz\r\n\" style=\"fill:#1f77b4;\"/>\r\n   </g>\r\n   <g id=\"patch_240\">\r\n    <path clip-path=\"url(#pb86d5e0e6f)\" d=\"M 673.524539 550.8 \r\nL 673.941233 550.8 \r\nL 673.941233 343.714286 \r\nL 673.524539 343.714286 \r\nz\r\n\" style=\"fill:#1f77b4;\"/>\r\n   </g>\r\n   <g id=\"patch_241\">\r\n    <path clip-path=\"url(#pb86d5e0e6f)\" d=\"M 675.608008 550.8 \r\nL 676.024702 550.8 \r\nL 676.024702 343.714286 \r\nL 675.608008 343.714286 \r\nz\r\n\" style=\"fill:#1f77b4;\"/>\r\n   </g>\r\n   <g id=\"patch_242\">\r\n    <path clip-path=\"url(#pb86d5e0e6f)\" d=\"M 677.691478 550.8 \r\nL 678.108172 550.8 \r\nL 678.108172 343.714286 \r\nL 677.691478 343.714286 \r\nz\r\n\" style=\"fill:#1f77b4;\"/>\r\n   </g>\r\n   <g id=\"patch_243\">\r\n    <path clip-path=\"url(#pb86d5e0e6f)\" d=\"M 679.774947 550.8 \r\nL 680.191641 550.8 \r\nL 680.191641 343.714286 \r\nL 679.774947 343.714286 \r\nz\r\n\" style=\"fill:#1f77b4;\"/>\r\n   </g>\r\n   <g id=\"patch_244\">\r\n    <path clip-path=\"url(#pb86d5e0e6f)\" d=\"M 681.858417 550.8 \r\nL 682.275111 550.8 \r\nL 682.275111 343.714286 \r\nL 681.858417 343.714286 \r\nz\r\n\" style=\"fill:#1f77b4;\"/>\r\n   </g>\r\n   <g id=\"patch_245\">\r\n    <path clip-path=\"url(#pb86d5e0e6f)\" d=\"M 683.941886 550.8 \r\nL 684.35858 550.8 \r\nL 684.35858 343.714286 \r\nL 683.941886 343.714286 \r\nz\r\n\" style=\"fill:#1f77b4;\"/>\r\n   </g>\r\n   <g id=\"patch_246\">\r\n    <path clip-path=\"url(#pb86d5e0e6f)\" d=\"M 686.025356 550.8 \r\nL 686.44205 550.8 \r\nL 686.44205 343.714286 \r\nL 686.025356 343.714286 \r\nz\r\n\" style=\"fill:#1f77b4;\"/>\r\n   </g>\r\n   <g id=\"patch_247\">\r\n    <path clip-path=\"url(#pb86d5e0e6f)\" d=\"M 688.108825 550.8 \r\nL 688.525519 550.8 \r\nL 688.525519 343.714286 \r\nL 688.108825 343.714286 \r\nz\r\n\" style=\"fill:#1f77b4;\"/>\r\n   </g>\r\n   <g id=\"patch_248\">\r\n    <path clip-path=\"url(#pb86d5e0e6f)\" d=\"M 690.192295 550.8 \r\nL 690.608988 550.8 \r\nL 690.608988 343.714286 \r\nL 690.192295 343.714286 \r\nz\r\n\" style=\"fill:#1f77b4;\"/>\r\n   </g>\r\n   <g id=\"patch_249\">\r\n    <path clip-path=\"url(#pb86d5e0e6f)\" d=\"M 692.275764 550.8 \r\nL 692.692458 550.8 \r\nL 692.692458 343.714286 \r\nL 692.275764 343.714286 \r\nz\r\n\" style=\"fill:#1f77b4;\"/>\r\n   </g>\r\n   <g id=\"patch_250\">\r\n    <path clip-path=\"url(#pb86d5e0e6f)\" d=\"M 694.359233 550.8 \r\nL 694.775927 550.8 \r\nL 694.775927 395.485714 \r\nL 694.359233 395.485714 \r\nz\r\n\" style=\"fill:#1f77b4;\"/>\r\n   </g>\r\n   <g id=\"patch_251\">\r\n    <path clip-path=\"url(#pb86d5e0e6f)\" d=\"M 696.442703 550.8 \r\nL 696.859397 550.8 \r\nL 696.859397 343.714286 \r\nL 696.442703 343.714286 \r\nz\r\n\" style=\"fill:#1f77b4;\"/>\r\n   </g>\r\n   <g id=\"patch_252\">\r\n    <path clip-path=\"url(#pb86d5e0e6f)\" d=\"M 698.526172 550.8 \r\nL 698.942866 550.8 \r\nL 698.942866 343.714286 \r\nL 698.526172 343.714286 \r\nz\r\n\" style=\"fill:#1f77b4;\"/>\r\n   </g>\r\n   <g id=\"patch_253\">\r\n    <path clip-path=\"url(#pb86d5e0e6f)\" d=\"M 700.609642 550.8 \r\nL 701.026336 550.8 \r\nL 701.026336 343.714286 \r\nL 700.609642 343.714286 \r\nz\r\n\" style=\"fill:#1f77b4;\"/>\r\n   </g>\r\n   <g id=\"patch_254\">\r\n    <path clip-path=\"url(#pb86d5e0e6f)\" d=\"M 702.693111 550.8 \r\nL 703.109805 550.8 \r\nL 703.109805 343.714286 \r\nL 702.693111 343.714286 \r\nz\r\n\" style=\"fill:#1f77b4;\"/>\r\n   </g>\r\n   <g id=\"patch_255\">\r\n    <path clip-path=\"url(#pb86d5e0e6f)\" d=\"M 704.776581 550.8 \r\nL 705.193275 550.8 \r\nL 705.193275 343.714286 \r\nL 704.776581 343.714286 \r\nz\r\n\" style=\"fill:#1f77b4;\"/>\r\n   </g>\r\n   <g id=\"patch_256\">\r\n    <path clip-path=\"url(#pb86d5e0e6f)\" d=\"M 705.818316 550.8 \r\nL 706.235009 550.8 \r\nL 706.235009 447.257143 \r\nL 705.818316 447.257143 \r\nz\r\n\" style=\"fill:#1f77b4;\"/>\r\n   </g>\r\n   <g id=\"patch_257\">\r\n    <path clip-path=\"url(#pb86d5e0e6f)\" d=\"M 707.901785 550.8 \r\nL 708.318479 550.8 \r\nL 708.318479 343.714286 \r\nL 707.901785 343.714286 \r\nz\r\n\" style=\"fill:#1f77b4;\"/>\r\n   </g>\r\n   <g id=\"patch_258\">\r\n    <path clip-path=\"url(#pb86d5e0e6f)\" d=\"M 709.985254 550.8 \r\nL 710.401948 550.8 \r\nL 710.401948 343.714286 \r\nL 709.985254 343.714286 \r\nz\r\n\" style=\"fill:#1f77b4;\"/>\r\n   </g>\r\n   <g id=\"patch_259\">\r\n    <path clip-path=\"url(#pb86d5e0e6f)\" d=\"M 712.068724 550.8 \r\nL 712.485418 550.8 \r\nL 712.485418 343.714286 \r\nL 712.068724 343.714286 \r\nz\r\n\" style=\"fill:#1f77b4;\"/>\r\n   </g>\r\n   <g id=\"patch_260\">\r\n    <path clip-path=\"url(#pb86d5e0e6f)\" d=\"M 714.152193 550.8 \r\nL 714.568887 550.8 \r\nL 714.568887 343.714286 \r\nL 714.152193 343.714286 \r\nz\r\n\" style=\"fill:#1f77b4;\"/>\r\n   </g>\r\n   <g id=\"patch_261\">\r\n    <path clip-path=\"url(#pb86d5e0e6f)\" d=\"M 716.235663 550.8 \r\nL 716.652357 550.8 \r\nL 716.652357 343.714286 \r\nL 716.235663 343.714286 \r\nz\r\n\" style=\"fill:#1f77b4;\"/>\r\n   </g>\r\n   <g id=\"patch_262\">\r\n    <path clip-path=\"url(#pb86d5e0e6f)\" d=\"M 718.319132 550.8 \r\nL 718.735826 550.8 \r\nL 718.735826 343.714286 \r\nL 718.319132 343.714286 \r\nz\r\n\" style=\"fill:#1f77b4;\"/>\r\n   </g>\r\n   <g id=\"patch_263\">\r\n    <path clip-path=\"url(#pb86d5e0e6f)\" d=\"M 720.402602 550.8 \r\nL 720.819296 550.8 \r\nL 720.819296 343.714286 \r\nL 720.402602 343.714286 \r\nz\r\n\" style=\"fill:#1f77b4;\"/>\r\n   </g>\r\n   <g id=\"patch_264\">\r\n    <path clip-path=\"url(#pb86d5e0e6f)\" d=\"M 722.486071 550.8 \r\nL 722.902765 550.8 \r\nL 722.902765 343.714286 \r\nL 722.486071 343.714286 \r\nz\r\n\" style=\"fill:#1f77b4;\"/>\r\n   </g>\r\n   <g id=\"patch_265\">\r\n    <path clip-path=\"url(#pb86d5e0e6f)\" d=\"M 724.569541 550.8 \r\nL 724.986235 550.8 \r\nL 724.986235 343.714286 \r\nL 724.569541 343.714286 \r\nz\r\n\" style=\"fill:#1f77b4;\"/>\r\n   </g>\r\n   <g id=\"patch_266\">\r\n    <path clip-path=\"url(#pb86d5e0e6f)\" d=\"M 726.65301 550.8 \r\nL 727.069704 550.8 \r\nL 727.069704 343.714286 \r\nL 726.65301 343.714286 \r\nz\r\n\" style=\"fill:#1f77b4;\"/>\r\n   </g>\r\n   <g id=\"patch_267\">\r\n    <path clip-path=\"url(#pb86d5e0e6f)\" d=\"M 728.73648 550.8 \r\nL 729.153174 550.8 \r\nL 729.153174 343.714286 \r\nL 728.73648 343.714286 \r\nz\r\n\" style=\"fill:#1f77b4;\"/>\r\n   </g>\r\n   <g id=\"patch_268\">\r\n    <path clip-path=\"url(#pb86d5e0e6f)\" d=\"M 730.819949 550.8 \r\nL 731.236643 550.8 \r\nL 731.236643 343.714286 \r\nL 730.819949 343.714286 \r\nz\r\n\" style=\"fill:#1f77b4;\"/>\r\n   </g>\r\n   <g id=\"patch_269\">\r\n    <path clip-path=\"url(#pb86d5e0e6f)\" d=\"M 732.903419 550.8 \r\nL 733.320112 550.8 \r\nL 733.320112 343.714286 \r\nL 732.903419 343.714286 \r\nz\r\n\" style=\"fill:#1f77b4;\"/>\r\n   </g>\r\n   <g id=\"patch_270\">\r\n    <path clip-path=\"url(#pb86d5e0e6f)\" d=\"M 734.986888 550.8 \r\nL 735.403582 550.8 \r\nL 735.403582 343.714286 \r\nL 734.986888 343.714286 \r\nz\r\n\" style=\"fill:#1f77b4;\"/>\r\n   </g>\r\n   <g id=\"patch_271\">\r\n    <path clip-path=\"url(#pb86d5e0e6f)\" d=\"M 737.070357 550.8 \r\nL 737.487051 550.8 \r\nL 737.487051 343.714286 \r\nL 737.070357 343.714286 \r\nz\r\n\" style=\"fill:#1f77b4;\"/>\r\n   </g>\r\n   <g id=\"patch_272\">\r\n    <path clip-path=\"url(#pb86d5e0e6f)\" d=\"M 739.153827 550.8 \r\nL 739.570521 550.8 \r\nL 739.570521 343.714286 \r\nL 739.153827 343.714286 \r\nz\r\n\" style=\"fill:#1f77b4;\"/>\r\n   </g>\r\n   <g id=\"patch_273\">\r\n    <path clip-path=\"url(#pb86d5e0e6f)\" d=\"M 741.237296 550.8 \r\nL 741.65399 550.8 \r\nL 741.65399 343.714286 \r\nL 741.237296 343.714286 \r\nz\r\n\" style=\"fill:#1f77b4;\"/>\r\n   </g>\r\n   <g id=\"patch_274\">\r\n    <path clip-path=\"url(#pb86d5e0e6f)\" d=\"M 743.320766 550.8 \r\nL 743.73746 550.8 \r\nL 743.73746 343.714286 \r\nL 743.320766 343.714286 \r\nz\r\n\" style=\"fill:#1f77b4;\"/>\r\n   </g>\r\n   <g id=\"patch_275\">\r\n    <path clip-path=\"url(#pb86d5e0e6f)\" d=\"M 745.404235 550.8 \r\nL 745.820929 550.8 \r\nL 745.820929 343.714286 \r\nL 745.404235 343.714286 \r\nz\r\n\" style=\"fill:#1f77b4;\"/>\r\n   </g>\r\n   <g id=\"patch_276\">\r\n    <path clip-path=\"url(#pb86d5e0e6f)\" d=\"M 747.487705 550.8 \r\nL 747.904399 550.8 \r\nL 747.904399 343.714286 \r\nL 747.487705 343.714286 \r\nz\r\n\" style=\"fill:#1f77b4;\"/>\r\n   </g>\r\n   <g id=\"patch_277\">\r\n    <path clip-path=\"url(#pb86d5e0e6f)\" d=\"M 749.571174 550.8 \r\nL 749.987868 550.8 \r\nL 749.987868 343.714286 \r\nL 749.571174 343.714286 \r\nz\r\n\" style=\"fill:#1f77b4;\"/>\r\n   </g>\r\n   <g id=\"patch_278\">\r\n    <path clip-path=\"url(#pb86d5e0e6f)\" d=\"M 751.654644 550.8 \r\nL 752.071338 550.8 \r\nL 752.071338 343.714286 \r\nL 751.654644 343.714286 \r\nz\r\n\" style=\"fill:#1f77b4;\"/>\r\n   </g>\r\n   <g id=\"patch_279\">\r\n    <path clip-path=\"url(#pb86d5e0e6f)\" d=\"M 753.738113 550.8 \r\nL 754.154807 550.8 \r\nL 754.154807 343.714286 \r\nL 753.738113 343.714286 \r\nz\r\n\" style=\"fill:#1f77b4;\"/>\r\n   </g>\r\n   <g id=\"patch_280\">\r\n    <path clip-path=\"url(#pb86d5e0e6f)\" d=\"M 755.821583 550.8 \r\nL 756.238277 550.8 \r\nL 756.238277 343.714286 \r\nL 755.821583 343.714286 \r\nz\r\n\" style=\"fill:#1f77b4;\"/>\r\n   </g>\r\n   <g id=\"patch_281\">\r\n    <path clip-path=\"url(#pb86d5e0e6f)\" d=\"M 757.905052 550.8 \r\nL 758.321746 550.8 \r\nL 758.321746 343.714286 \r\nL 757.905052 343.714286 \r\nz\r\n\" style=\"fill:#1f77b4;\"/>\r\n   </g>\r\n   <g id=\"patch_282\">\r\n    <path clip-path=\"url(#pb86d5e0e6f)\" d=\"M 759.988522 550.8 \r\nL 760.405215 550.8 \r\nL 760.405215 343.714286 \r\nL 759.988522 343.714286 \r\nz\r\n\" style=\"fill:#1f77b4;\"/>\r\n   </g>\r\n   <g id=\"patch_283\">\r\n    <path clip-path=\"url(#pb86d5e0e6f)\" d=\"M 762.071991 550.8 \r\nL 762.488685 550.8 \r\nL 762.488685 343.714286 \r\nL 762.071991 343.714286 \r\nz\r\n\" style=\"fill:#1f77b4;\"/>\r\n   </g>\r\n   <g id=\"patch_284\">\r\n    <path clip-path=\"url(#pb86d5e0e6f)\" d=\"M 764.15546 550.8 \r\nL 764.572154 550.8 \r\nL 764.572154 343.714286 \r\nL 764.15546 343.714286 \r\nz\r\n\" style=\"fill:#1f77b4;\"/>\r\n   </g>\r\n   <g id=\"patch_285\">\r\n    <path clip-path=\"url(#pb86d5e0e6f)\" d=\"M 766.23893 550.8 \r\nL 766.655624 550.8 \r\nL 766.655624 343.714286 \r\nL 766.23893 343.714286 \r\nz\r\n\" style=\"fill:#1f77b4;\"/>\r\n   </g>\r\n   <g id=\"patch_286\">\r\n    <path clip-path=\"url(#pb86d5e0e6f)\" d=\"M 768.322399 550.8 \r\nL 768.739093 550.8 \r\nL 768.739093 343.714286 \r\nL 768.322399 343.714286 \r\nz\r\n\" style=\"fill:#1f77b4;\"/>\r\n   </g>\r\n   <g id=\"patch_287\">\r\n    <path clip-path=\"url(#pb86d5e0e6f)\" d=\"M 770.405869 550.8 \r\nL 770.822563 550.8 \r\nL 770.822563 343.714286 \r\nL 770.405869 343.714286 \r\nz\r\n\" style=\"fill:#1f77b4;\"/>\r\n   </g>\r\n   <g id=\"patch_288\">\r\n    <path clip-path=\"url(#pb86d5e0e6f)\" d=\"M 772.489338 550.8 \r\nL 772.906032 550.8 \r\nL 772.906032 343.714286 \r\nL 772.489338 343.714286 \r\nz\r\n\" style=\"fill:#1f77b4;\"/>\r\n   </g>\r\n   <g id=\"patch_289\">\r\n    <path clip-path=\"url(#pb86d5e0e6f)\" d=\"M 774.572808 550.8 \r\nL 774.989502 550.8 \r\nL 774.989502 343.714286 \r\nL 774.572808 343.714286 \r\nz\r\n\" style=\"fill:#1f77b4;\"/>\r\n   </g>\r\n   <g id=\"patch_290\">\r\n    <path clip-path=\"url(#pb86d5e0e6f)\" d=\"M 776.656277 550.8 \r\nL 777.072971 550.8 \r\nL 777.072971 343.714286 \r\nL 776.656277 343.714286 \r\nz\r\n\" style=\"fill:#1f77b4;\"/>\r\n   </g>\r\n   <g id=\"patch_291\">\r\n    <path clip-path=\"url(#pb86d5e0e6f)\" d=\"M 778.739747 550.8 \r\nL 779.156441 550.8 \r\nL 779.156441 343.714286 \r\nL 778.739747 343.714286 \r\nz\r\n\" style=\"fill:#1f77b4;\"/>\r\n   </g>\r\n   <g id=\"patch_292\">\r\n    <path clip-path=\"url(#pb86d5e0e6f)\" d=\"M 780.823216 550.8 \r\nL 781.23991 550.8 \r\nL 781.23991 395.485714 \r\nL 780.823216 395.485714 \r\nz\r\n\" style=\"fill:#1f77b4;\"/>\r\n   </g>\r\n   <g id=\"patch_293\">\r\n    <path clip-path=\"url(#pb86d5e0e6f)\" d=\"M 782.906686 550.8 \r\nL 783.32338 550.8 \r\nL 783.32338 343.714286 \r\nL 782.906686 343.714286 \r\nz\r\n\" style=\"fill:#1f77b4;\"/>\r\n   </g>\r\n   <g id=\"patch_294\">\r\n    <path clip-path=\"url(#pb86d5e0e6f)\" d=\"M 784.990155 550.8 \r\nL 785.406849 550.8 \r\nL 785.406849 395.485714 \r\nL 784.990155 395.485714 \r\nz\r\n\" style=\"fill:#1f77b4;\"/>\r\n   </g>\r\n   <g id=\"patch_295\">\r\n    <path clip-path=\"url(#pb86d5e0e6f)\" d=\"M 787.073625 550.8 \r\nL 787.490318 550.8 \r\nL 787.490318 343.714286 \r\nL 787.073625 343.714286 \r\nz\r\n\" style=\"fill:#1f77b4;\"/>\r\n   </g>\r\n   <g id=\"patch_296\">\r\n    <path clip-path=\"url(#pb86d5e0e6f)\" d=\"M 789.157094 550.8 \r\nL 789.573788 550.8 \r\nL 789.573788 343.714286 \r\nL 789.157094 343.714286 \r\nz\r\n\" style=\"fill:#1f77b4;\"/>\r\n   </g>\r\n   <g id=\"patch_297\">\r\n    <path clip-path=\"url(#pb86d5e0e6f)\" d=\"M 791.240563 550.8 \r\nL 791.657257 550.8 \r\nL 791.657257 343.714286 \r\nL 791.240563 343.714286 \r\nz\r\n\" style=\"fill:#1f77b4;\"/>\r\n   </g>\r\n   <g id=\"patch_298\">\r\n    <path clip-path=\"url(#pb86d5e0e6f)\" d=\"M 793.324033 550.8 \r\nL 793.740727 550.8 \r\nL 793.740727 343.714286 \r\nL 793.324033 343.714286 \r\nz\r\n\" style=\"fill:#1f77b4;\"/>\r\n   </g>\r\n   <g id=\"patch_299\">\r\n    <path clip-path=\"url(#pb86d5e0e6f)\" d=\"M 795.407502 550.8 \r\nL 795.824196 550.8 \r\nL 795.824196 343.714286 \r\nL 795.407502 343.714286 \r\nz\r\n\" style=\"fill:#1f77b4;\"/>\r\n   </g>\r\n   <g id=\"patch_300\">\r\n    <path clip-path=\"url(#pb86d5e0e6f)\" d=\"M 797.490972 550.8 \r\nL 797.907666 550.8 \r\nL 797.907666 343.714286 \r\nL 797.490972 343.714286 \r\nz\r\n\" style=\"fill:#1f77b4;\"/>\r\n   </g>\r\n   <g id=\"patch_301\">\r\n    <path clip-path=\"url(#pb86d5e0e6f)\" d=\"M 799.574441 550.8 \r\nL 799.991135 550.8 \r\nL 799.991135 343.714286 \r\nL 799.574441 343.714286 \r\nz\r\n\" style=\"fill:#1f77b4;\"/>\r\n   </g>\r\n   <g id=\"patch_302\">\r\n    <path clip-path=\"url(#pb86d5e0e6f)\" d=\"M 801.657911 550.8 \r\nL 802.074605 550.8 \r\nL 802.074605 343.714286 \r\nL 801.657911 343.714286 \r\nz\r\n\" style=\"fill:#1f77b4;\"/>\r\n   </g>\r\n   <g id=\"patch_303\">\r\n    <path clip-path=\"url(#pb86d5e0e6f)\" d=\"M 803.74138 550.8 \r\nL 804.158074 550.8 \r\nL 804.158074 343.714286 \r\nL 803.74138 343.714286 \r\nz\r\n\" style=\"fill:#1f77b4;\"/>\r\n   </g>\r\n   <g id=\"patch_304\">\r\n    <path clip-path=\"url(#pb86d5e0e6f)\" d=\"M 805.82485 550.8 \r\nL 806.241544 550.8 \r\nL 806.241544 343.714286 \r\nL 805.82485 343.714286 \r\nz\r\n\" style=\"fill:#1f77b4;\"/>\r\n   </g>\r\n   <g id=\"patch_305\">\r\n    <path clip-path=\"url(#pb86d5e0e6f)\" d=\"M 807.908319 550.8 \r\nL 808.325013 550.8 \r\nL 808.325013 343.714286 \r\nL 807.908319 343.714286 \r\nz\r\n\" style=\"fill:#1f77b4;\"/>\r\n   </g>\r\n   <g id=\"patch_306\">\r\n    <path clip-path=\"url(#pb86d5e0e6f)\" d=\"M 809.991789 550.8 \r\nL 810.408483 550.8 \r\nL 810.408483 343.714286 \r\nL 809.991789 343.714286 \r\nz\r\n\" style=\"fill:#1f77b4;\"/>\r\n   </g>\r\n   <g id=\"patch_307\">\r\n    <path clip-path=\"url(#pb86d5e0e6f)\" d=\"M 812.075258 550.8 \r\nL 812.491952 550.8 \r\nL 812.491952 343.714286 \r\nL 812.075258 343.714286 \r\nz\r\n\" style=\"fill:#1f77b4;\"/>\r\n   </g>\r\n   <g id=\"patch_308\">\r\n    <path clip-path=\"url(#pb86d5e0e6f)\" d=\"M 813.63786 550.8 \r\nL 814.054554 550.8 \r\nL 814.054554 395.485714 \r\nL 813.63786 395.485714 \r\nz\r\n\" style=\"fill:#1f77b4;\"/>\r\n   </g>\r\n   <g id=\"patch_309\">\r\n    <path clip-path=\"url(#pb86d5e0e6f)\" d=\"M 815.72133 550.8 \r\nL 816.138024 550.8 \r\nL 816.138024 343.714286 \r\nL 815.72133 343.714286 \r\nz\r\n\" style=\"fill:#1f77b4;\"/>\r\n   </g>\r\n   <g id=\"patch_310\">\r\n    <path clip-path=\"url(#pb86d5e0e6f)\" d=\"M 817.804799 550.8 \r\nL 818.221493 550.8 \r\nL 818.221493 343.714286 \r\nL 817.804799 343.714286 \r\nz\r\n\" style=\"fill:#1f77b4;\"/>\r\n   </g>\r\n   <g id=\"patch_311\">\r\n    <path clip-path=\"url(#pb86d5e0e6f)\" d=\"M 819.888269 550.8 \r\nL 820.304962 550.8 \r\nL 820.304962 343.714286 \r\nL 819.888269 343.714286 \r\nz\r\n\" style=\"fill:#1f77b4;\"/>\r\n   </g>\r\n   <g id=\"patch_312\">\r\n    <path clip-path=\"url(#pb86d5e0e6f)\" d=\"M 821.971738 550.8 \r\nL 822.388432 550.8 \r\nL 822.388432 343.714286 \r\nL 821.971738 343.714286 \r\nz\r\n\" style=\"fill:#1f77b4;\"/>\r\n   </g>\r\n   <g id=\"patch_313\">\r\n    <path clip-path=\"url(#pb86d5e0e6f)\" d=\"M 824.055208 550.8 \r\nL 824.471901 550.8 \r\nL 824.471901 343.714286 \r\nL 824.055208 343.714286 \r\nz\r\n\" style=\"fill:#1f77b4;\"/>\r\n   </g>\r\n   <g id=\"patch_314\">\r\n    <path clip-path=\"url(#pb86d5e0e6f)\" d=\"M 826.138677 550.8 \r\nL 826.555371 550.8 \r\nL 826.555371 343.714286 \r\nL 826.138677 343.714286 \r\nz\r\n\" style=\"fill:#1f77b4;\"/>\r\n   </g>\r\n   <g id=\"patch_315\">\r\n    <path clip-path=\"url(#pb86d5e0e6f)\" d=\"M 828.222146 550.8 \r\nL 828.63884 550.8 \r\nL 828.63884 343.714286 \r\nL 828.222146 343.714286 \r\nz\r\n\" style=\"fill:#1f77b4;\"/>\r\n   </g>\r\n   <g id=\"patch_316\">\r\n    <path clip-path=\"url(#pb86d5e0e6f)\" d=\"M 830.305616 550.8 \r\nL 830.72231 550.8 \r\nL 830.72231 136.628571 \r\nL 830.305616 136.628571 \r\nz\r\n\" style=\"fill:#1f77b4;\"/>\r\n   </g>\r\n   <g id=\"patch_317\">\r\n    <path clip-path=\"url(#pb86d5e0e6f)\" d=\"M 832.389085 550.8 \r\nL 832.805779 550.8 \r\nL 832.805779 136.628571 \r\nL 832.389085 136.628571 \r\nz\r\n\" style=\"fill:#1f77b4;\"/>\r\n   </g>\r\n   <g id=\"patch_318\">\r\n    <path clip-path=\"url(#pb86d5e0e6f)\" d=\"M 834.472555 550.8 \r\nL 834.889249 550.8 \r\nL 834.889249 136.628571 \r\nL 834.472555 136.628571 \r\nz\r\n\" style=\"fill:#1f77b4;\"/>\r\n   </g>\r\n   <g id=\"patch_319\">\r\n    <path clip-path=\"url(#pb86d5e0e6f)\" d=\"M 836.556024 550.8 \r\nL 836.972718 550.8 \r\nL 836.972718 136.628571 \r\nL 836.556024 136.628571 \r\nz\r\n\" style=\"fill:#1f77b4;\"/>\r\n   </g>\r\n   <g id=\"patch_320\">\r\n    <path clip-path=\"url(#pb86d5e0e6f)\" d=\"M 838.639494 550.8 \r\nL 839.056188 550.8 \r\nL 839.056188 136.628571 \r\nL 838.639494 136.628571 \r\nz\r\n\" style=\"fill:#1f77b4;\"/>\r\n   </g>\r\n   <g id=\"patch_321\">\r\n    <path clip-path=\"url(#pb86d5e0e6f)\" d=\"M 840.722963 550.8 \r\nL 841.139657 550.8 \r\nL 841.139657 343.714286 \r\nL 840.722963 343.714286 \r\nz\r\n\" style=\"fill:#1f77b4;\"/>\r\n   </g>\r\n   <g id=\"patch_322\">\r\n    <path clip-path=\"url(#pb86d5e0e6f)\" d=\"M 842.806433 550.8 \r\nL 843.223127 550.8 \r\nL 843.223127 343.714286 \r\nL 842.806433 343.714286 \r\nz\r\n\" style=\"fill:#1f77b4;\"/>\r\n   </g>\r\n   <g id=\"patch_323\">\r\n    <path clip-path=\"url(#pb86d5e0e6f)\" d=\"M 844.889902 550.8 \r\nL 845.306596 550.8 \r\nL 845.306596 343.714286 \r\nL 844.889902 343.714286 \r\nz\r\n\" style=\"fill:#1f77b4;\"/>\r\n   </g>\r\n   <g id=\"patch_324\">\r\n    <path clip-path=\"url(#pb86d5e0e6f)\" d=\"M 846.973372 550.8 \r\nL 847.390065 550.8 \r\nL 847.390065 343.714286 \r\nL 846.973372 343.714286 \r\nz\r\n\" style=\"fill:#1f77b4;\"/>\r\n   </g>\r\n   <g id=\"patch_325\">\r\n    <path clip-path=\"url(#pb86d5e0e6f)\" d=\"M 849.056841 550.8 \r\nL 849.473535 550.8 \r\nL 849.473535 343.714286 \r\nL 849.056841 343.714286 \r\nz\r\n\" style=\"fill:#1f77b4;\"/>\r\n   </g>\r\n   <g id=\"patch_326\">\r\n    <path clip-path=\"url(#pb86d5e0e6f)\" d=\"M 851.140311 550.8 \r\nL 851.557004 550.8 \r\nL 851.557004 343.714286 \r\nL 851.140311 343.714286 \r\nz\r\n\" style=\"fill:#1f77b4;\"/>\r\n   </g>\r\n   <g id=\"patch_327\">\r\n    <path clip-path=\"url(#pb86d5e0e6f)\" d=\"M 853.22378 550.8 \r\nL 853.640474 550.8 \r\nL 853.640474 343.714286 \r\nL 853.22378 343.714286 \r\nz\r\n\" style=\"fill:#1f77b4;\"/>\r\n   </g>\r\n   <g id=\"patch_328\">\r\n    <path clip-path=\"url(#pb86d5e0e6f)\" d=\"M 855.307249 550.8 \r\nL 855.723943 550.8 \r\nL 855.723943 343.714286 \r\nL 855.307249 343.714286 \r\nz\r\n\" style=\"fill:#1f77b4;\"/>\r\n   </g>\r\n   <g id=\"patch_329\">\r\n    <path clip-path=\"url(#pb86d5e0e6f)\" d=\"M 857.390719 550.8 \r\nL 857.807413 550.8 \r\nL 857.807413 343.714286 \r\nL 857.390719 343.714286 \r\nz\r\n\" style=\"fill:#1f77b4;\"/>\r\n   </g>\r\n   <g id=\"patch_330\">\r\n    <path clip-path=\"url(#pb86d5e0e6f)\" d=\"M 859.474188 550.8 \r\nL 859.890882 550.8 \r\nL 859.890882 343.714286 \r\nL 859.474188 343.714286 \r\nz\r\n\" style=\"fill:#1f77b4;\"/>\r\n   </g>\r\n   <g id=\"patch_331\">\r\n    <path clip-path=\"url(#pb86d5e0e6f)\" d=\"M 861.557658 550.8 \r\nL 861.974352 550.8 \r\nL 861.974352 343.714286 \r\nL 861.557658 343.714286 \r\nz\r\n\" style=\"fill:#1f77b4;\"/>\r\n   </g>\r\n   <g id=\"patch_332\">\r\n    <path clip-path=\"url(#pb86d5e0e6f)\" d=\"M 863.641127 550.8 \r\nL 864.057821 550.8 \r\nL 864.057821 343.714286 \r\nL 863.641127 343.714286 \r\nz\r\n\" style=\"fill:#1f77b4;\"/>\r\n   </g>\r\n   <g id=\"patch_333\">\r\n    <path clip-path=\"url(#pb86d5e0e6f)\" d=\"M 865.724597 550.8 \r\nL 866.141291 550.8 \r\nL 866.141291 343.714286 \r\nL 865.724597 343.714286 \r\nz\r\n\" style=\"fill:#1f77b4;\"/>\r\n   </g>\r\n   <g id=\"patch_334\">\r\n    <path clip-path=\"url(#pb86d5e0e6f)\" d=\"M 867.808066 550.8 \r\nL 868.22476 550.8 \r\nL 868.22476 343.714286 \r\nL 867.808066 343.714286 \r\nz\r\n\" style=\"fill:#1f77b4;\"/>\r\n   </g>\r\n   <g id=\"patch_335\">\r\n    <path clip-path=\"url(#pb86d5e0e6f)\" d=\"M 869.891536 550.8 \r\nL 870.30823 550.8 \r\nL 870.30823 343.714286 \r\nL 869.891536 343.714286 \r\nz\r\n\" style=\"fill:#1f77b4;\"/>\r\n   </g>\r\n   <g id=\"patch_336\">\r\n    <path clip-path=\"url(#pb86d5e0e6f)\" d=\"M 871.975005 550.8 \r\nL 872.391699 550.8 \r\nL 872.391699 343.714286 \r\nL 871.975005 343.714286 \r\nz\r\n\" style=\"fill:#1f77b4;\"/>\r\n   </g>\r\n   <g id=\"patch_337\">\r\n    <path clip-path=\"url(#pb86d5e0e6f)\" d=\"M 874.058475 550.8 \r\nL 874.475168 550.8 \r\nL 874.475168 343.714286 \r\nL 874.058475 343.714286 \r\nz\r\n\" style=\"fill:#1f77b4;\"/>\r\n   </g>\r\n   <g id=\"patch_338\">\r\n    <path clip-path=\"url(#pb86d5e0e6f)\" d=\"M 876.141944 550.8 \r\nL 876.558638 550.8 \r\nL 876.558638 343.714286 \r\nL 876.141944 343.714286 \r\nz\r\n\" style=\"fill:#1f77b4;\"/>\r\n   </g>\r\n   <g id=\"patch_339\">\r\n    <path clip-path=\"url(#pb86d5e0e6f)\" d=\"M 878.225414 550.8 \r\nL 878.642107 550.8 \r\nL 878.642107 343.714286 \r\nL 878.225414 343.714286 \r\nz\r\n\" style=\"fill:#1f77b4;\"/>\r\n   </g>\r\n   <g id=\"patch_340\">\r\n    <path clip-path=\"url(#pb86d5e0e6f)\" d=\"M 880.308883 550.8 \r\nL 880.725577 550.8 \r\nL 880.725577 343.714286 \r\nL 880.308883 343.714286 \r\nz\r\n\" style=\"fill:#1f77b4;\"/>\r\n   </g>\r\n   <g id=\"patch_341\">\r\n    <path clip-path=\"url(#pb86d5e0e6f)\" d=\"M 882.392352 550.8 \r\nL 882.809046 550.8 \r\nL 882.809046 343.714286 \r\nL 882.392352 343.714286 \r\nz\r\n\" style=\"fill:#1f77b4;\"/>\r\n   </g>\r\n   <g id=\"patch_342\">\r\n    <path clip-path=\"url(#pb86d5e0e6f)\" d=\"M 884.475822 550.8 \r\nL 884.892516 550.8 \r\nL 884.892516 343.714286 \r\nL 884.475822 343.714286 \r\nz\r\n\" style=\"fill:#1f77b4;\"/>\r\n   </g>\r\n   <g id=\"patch_343\">\r\n    <path clip-path=\"url(#pb86d5e0e6f)\" d=\"M 886.559291 550.8 \r\nL 886.975985 550.8 \r\nL 886.975985 343.714286 \r\nL 886.559291 343.714286 \r\nz\r\n\" style=\"fill:#1f77b4;\"/>\r\n   </g>\r\n   <g id=\"patch_344\">\r\n    <path clip-path=\"url(#pb86d5e0e6f)\" d=\"M 888.642761 550.8 \r\nL 889.059455 550.8 \r\nL 889.059455 343.714286 \r\nL 888.642761 343.714286 \r\nz\r\n\" style=\"fill:#1f77b4;\"/>\r\n   </g>\r\n   <g id=\"patch_345\">\r\n    <path clip-path=\"url(#pb86d5e0e6f)\" d=\"M 890.72623 550.8 \r\nL 891.142924 550.8 \r\nL 891.142924 343.714286 \r\nL 890.72623 343.714286 \r\nz\r\n\" style=\"fill:#1f77b4;\"/>\r\n   </g>\r\n   <g id=\"patch_346\">\r\n    <path clip-path=\"url(#pb86d5e0e6f)\" d=\"M 892.8097 550.8 \r\nL 893.226394 550.8 \r\nL 893.226394 343.714286 \r\nL 892.8097 343.714286 \r\nz\r\n\" style=\"fill:#1f77b4;\"/>\r\n   </g>\r\n   <g id=\"patch_347\">\r\n    <path clip-path=\"url(#pb86d5e0e6f)\" d=\"M 894.893169 550.8 \r\nL 895.309863 550.8 \r\nL 895.309863 343.714286 \r\nL 894.893169 343.714286 \r\nz\r\n\" style=\"fill:#1f77b4;\"/>\r\n   </g>\r\n   <g id=\"patch_348\">\r\n    <path clip-path=\"url(#pb86d5e0e6f)\" d=\"M 896.976639 550.8 \r\nL 897.393333 550.8 \r\nL 897.393333 343.714286 \r\nL 896.976639 343.714286 \r\nz\r\n\" style=\"fill:#1f77b4;\"/>\r\n   </g>\r\n   <g id=\"patch_349\">\r\n    <path clip-path=\"url(#pb86d5e0e6f)\" d=\"M 899.060108 550.8 \r\nL 899.476802 550.8 \r\nL 899.476802 343.714286 \r\nL 899.060108 343.714286 \r\nz\r\n\" style=\"fill:#1f77b4;\"/>\r\n   </g>\r\n   <g id=\"patch_350\">\r\n    <path clip-path=\"url(#pb86d5e0e6f)\" d=\"M 901.143578 550.8 \r\nL 901.560271 550.8 \r\nL 901.560271 343.714286 \r\nL 901.143578 343.714286 \r\nz\r\n\" style=\"fill:#1f77b4;\"/>\r\n   </g>\r\n   <g id=\"patch_351\">\r\n    <path clip-path=\"url(#pb86d5e0e6f)\" d=\"M 903.227047 550.8 \r\nL 903.643741 550.8 \r\nL 903.643741 343.714286 \r\nL 903.227047 343.714286 \r\nz\r\n\" style=\"fill:#1f77b4;\"/>\r\n   </g>\r\n   <g id=\"patch_352\">\r\n    <path clip-path=\"url(#pb86d5e0e6f)\" d=\"M 905.310517 550.8 \r\nL 905.72721 550.8 \r\nL 905.72721 343.714286 \r\nL 905.310517 343.714286 \r\nz\r\n\" style=\"fill:#1f77b4;\"/>\r\n   </g>\r\n   <g id=\"patch_353\">\r\n    <path clip-path=\"url(#pb86d5e0e6f)\" d=\"M 907.393986 550.8 \r\nL 907.81068 550.8 \r\nL 907.81068 343.714286 \r\nL 907.393986 343.714286 \r\nz\r\n\" style=\"fill:#1f77b4;\"/>\r\n   </g>\r\n   <g id=\"patch_354\">\r\n    <path clip-path=\"url(#pb86d5e0e6f)\" d=\"M 909.477455 550.8 \r\nL 909.894149 550.8 \r\nL 909.894149 343.714286 \r\nL 909.477455 343.714286 \r\nz\r\n\" style=\"fill:#1f77b4;\"/>\r\n   </g>\r\n   <g id=\"patch_355\">\r\n    <path clip-path=\"url(#pb86d5e0e6f)\" d=\"M 911.560925 550.8 \r\nL 911.977619 550.8 \r\nL 911.977619 343.714286 \r\nL 911.560925 343.714286 \r\nz\r\n\" style=\"fill:#1f77b4;\"/>\r\n   </g>\r\n   <g id=\"patch_356\">\r\n    <path clip-path=\"url(#pb86d5e0e6f)\" d=\"M 913.644394 550.8 \r\nL 914.061088 550.8 \r\nL 914.061088 343.714286 \r\nL 913.644394 343.714286 \r\nz\r\n\" style=\"fill:#1f77b4;\"/>\r\n   </g>\r\n   <g id=\"patch_357\">\r\n    <path clip-path=\"url(#pb86d5e0e6f)\" d=\"M 915.727864 550.8 \r\nL 916.144558 550.8 \r\nL 916.144558 343.714286 \r\nL 915.727864 343.714286 \r\nz\r\n\" style=\"fill:#1f77b4;\"/>\r\n   </g>\r\n   <g id=\"patch_358\">\r\n    <path clip-path=\"url(#pb86d5e0e6f)\" d=\"M 917.811333 550.8 \r\nL 918.228027 550.8 \r\nL 918.228027 343.714286 \r\nL 917.811333 343.714286 \r\nz\r\n\" style=\"fill:#1f77b4;\"/>\r\n   </g>\r\n   <g id=\"patch_359\">\r\n    <path clip-path=\"url(#pb86d5e0e6f)\" d=\"M 919.894803 550.8 \r\nL 920.311497 550.8 \r\nL 920.311497 343.714286 \r\nL 919.894803 343.714286 \r\nz\r\n\" style=\"fill:#1f77b4;\"/>\r\n   </g>\r\n   <g id=\"patch_360\">\r\n    <path clip-path=\"url(#pb86d5e0e6f)\" d=\"M 921.978272 550.8 \r\nL 922.394966 550.8 \r\nL 922.394966 343.714286 \r\nL 921.978272 343.714286 \r\nz\r\n\" style=\"fill:#1f77b4;\"/>\r\n   </g>\r\n   <g id=\"patch_361\">\r\n    <path clip-path=\"url(#pb86d5e0e6f)\" d=\"M 924.061742 550.8 \r\nL 924.478436 550.8 \r\nL 924.478436 343.714286 \r\nL 924.061742 343.714286 \r\nz\r\n\" style=\"fill:#1f77b4;\"/>\r\n   </g>\r\n   <g id=\"patch_362\">\r\n    <path clip-path=\"url(#pb86d5e0e6f)\" d=\"M 926.145211 550.8 \r\nL 926.561905 550.8 \r\nL 926.561905 343.714286 \r\nL 926.145211 343.714286 \r\nz\r\n\" style=\"fill:#1f77b4;\"/>\r\n   </g>\r\n   <g id=\"patch_363\">\r\n    <path clip-path=\"url(#pb86d5e0e6f)\" d=\"M 928.228681 550.8 \r\nL 928.645375 550.8 \r\nL 928.645375 343.714286 \r\nL 928.228681 343.714286 \r\nz\r\n\" style=\"fill:#1f77b4;\"/>\r\n   </g>\r\n   <g id=\"patch_364\">\r\n    <path clip-path=\"url(#pb86d5e0e6f)\" d=\"M 930.31215 550.8 \r\nL 930.728844 550.8 \r\nL 930.728844 343.714286 \r\nL 930.31215 343.714286 \r\nz\r\n\" style=\"fill:#1f77b4;\"/>\r\n   </g>\r\n   <g id=\"patch_365\">\r\n    <path clip-path=\"url(#pb86d5e0e6f)\" d=\"M 932.39562 550.8 \r\nL 932.812313 550.8 \r\nL 932.812313 343.714286 \r\nL 932.39562 343.714286 \r\nz\r\n\" style=\"fill:#1f77b4;\"/>\r\n   </g>\r\n   <g id=\"patch_366\">\r\n    <path clip-path=\"url(#pb86d5e0e6f)\" d=\"M 934.479089 550.8 \r\nL 934.895783 550.8 \r\nL 934.895783 343.714286 \r\nL 934.479089 343.714286 \r\nz\r\n\" style=\"fill:#1f77b4;\"/>\r\n   </g>\r\n   <g id=\"patch_367\">\r\n    <path clip-path=\"url(#pb86d5e0e6f)\" d=\"M 936.562558 550.8 \r\nL 936.979252 550.8 \r\nL 936.979252 343.714286 \r\nL 936.562558 343.714286 \r\nz\r\n\" style=\"fill:#1f77b4;\"/>\r\n   </g>\r\n   <g id=\"patch_368\">\r\n    <path clip-path=\"url(#pb86d5e0e6f)\" d=\"M 938.646028 550.8 \r\nL 939.062722 550.8 \r\nL 939.062722 343.714286 \r\nL 938.646028 343.714286 \r\nz\r\n\" style=\"fill:#1f77b4;\"/>\r\n   </g>\r\n   <g id=\"patch_369\">\r\n    <path clip-path=\"url(#pb86d5e0e6f)\" d=\"M 940.729497 550.8 \r\nL 941.146191 550.8 \r\nL 941.146191 343.714286 \r\nL 940.729497 343.714286 \r\nz\r\n\" style=\"fill:#1f77b4;\"/>\r\n   </g>\r\n   <g id=\"patch_370\">\r\n    <path clip-path=\"url(#pb86d5e0e6f)\" d=\"M 942.812967 550.8 \r\nL 943.229661 550.8 \r\nL 943.229661 343.714286 \r\nL 942.812967 343.714286 \r\nz\r\n\" style=\"fill:#1f77b4;\"/>\r\n   </g>\r\n   <g id=\"patch_371\">\r\n    <path clip-path=\"url(#pb86d5e0e6f)\" d=\"M 943.854702 550.8 \r\nL 944.271395 550.8 \r\nL 944.271395 447.257143 \r\nL 943.854702 447.257143 \r\nz\r\n\" style=\"fill:#1f77b4;\"/>\r\n   </g>\r\n   <g id=\"patch_372\">\r\n    <path clip-path=\"url(#pb86d5e0e6f)\" d=\"M 945.938171 550.8 \r\nL 946.354865 550.8 \r\nL 946.354865 343.714286 \r\nL 945.938171 343.714286 \r\nz\r\n\" style=\"fill:#1f77b4;\"/>\r\n   </g>\r\n   <g id=\"patch_373\">\r\n    <path clip-path=\"url(#pb86d5e0e6f)\" d=\"M 948.02164 550.8 \r\nL 948.438334 550.8 \r\nL 948.438334 343.714286 \r\nL 948.02164 343.714286 \r\nz\r\n\" style=\"fill:#1f77b4;\"/>\r\n   </g>\r\n   <g id=\"patch_374\">\r\n    <path clip-path=\"url(#pb86d5e0e6f)\" d=\"M 950.10511 550.8 \r\nL 950.521804 550.8 \r\nL 950.521804 343.714286 \r\nL 950.10511 343.714286 \r\nz\r\n\" style=\"fill:#1f77b4;\"/>\r\n   </g>\r\n   <g id=\"patch_375\">\r\n    <path clip-path=\"url(#pb86d5e0e6f)\" d=\"M 952.188579 550.8 \r\nL 952.605273 550.8 \r\nL 952.605273 343.714286 \r\nL 952.188579 343.714286 \r\nz\r\n\" style=\"fill:#1f77b4;\"/>\r\n   </g>\r\n   <g id=\"patch_376\">\r\n    <path clip-path=\"url(#pb86d5e0e6f)\" d=\"M 954.272049 550.8 \r\nL 954.688743 550.8 \r\nL 954.688743 343.714286 \r\nL 954.272049 343.714286 \r\nz\r\n\" style=\"fill:#1f77b4;\"/>\r\n   </g>\r\n   <g id=\"patch_377\">\r\n    <path clip-path=\"url(#pb86d5e0e6f)\" d=\"M 956.355518 550.8 \r\nL 956.772212 550.8 \r\nL 956.772212 343.714286 \r\nL 956.355518 343.714286 \r\nz\r\n\" style=\"fill:#1f77b4;\"/>\r\n   </g>\r\n   <g id=\"patch_378\">\r\n    <path clip-path=\"url(#pb86d5e0e6f)\" d=\"M 958.438988 550.8 \r\nL 958.855682 550.8 \r\nL 958.855682 343.714286 \r\nL 958.438988 343.714286 \r\nz\r\n\" style=\"fill:#1f77b4;\"/>\r\n   </g>\r\n   <g id=\"patch_379\">\r\n    <path clip-path=\"url(#pb86d5e0e6f)\" d=\"M 960.522457 550.8 \r\nL 960.939151 550.8 \r\nL 960.939151 343.714286 \r\nL 960.522457 343.714286 \r\nz\r\n\" style=\"fill:#1f77b4;\"/>\r\n   </g>\r\n   <g id=\"patch_380\">\r\n    <path clip-path=\"url(#pb86d5e0e6f)\" d=\"M 962.605927 550.8 \r\nL 963.022621 550.8 \r\nL 963.022621 343.714286 \r\nL 962.605927 343.714286 \r\nz\r\n\" style=\"fill:#1f77b4;\"/>\r\n   </g>\r\n   <g id=\"patch_381\">\r\n    <path clip-path=\"url(#pb86d5e0e6f)\" d=\"M 964.689396 550.8 \r\nL 965.10609 550.8 \r\nL 965.10609 343.714286 \r\nL 964.689396 343.714286 \r\nz\r\n\" style=\"fill:#1f77b4;\"/>\r\n   </g>\r\n   <g id=\"patch_382\">\r\n    <path clip-path=\"url(#pb86d5e0e6f)\" d=\"M 966.772866 550.8 \r\nL 967.18956 550.8 \r\nL 967.18956 343.714286 \r\nL 966.772866 343.714286 \r\nz\r\n\" style=\"fill:#1f77b4;\"/>\r\n   </g>\r\n   <g id=\"patch_383\">\r\n    <path clip-path=\"url(#pb86d5e0e6f)\" d=\"M 968.856335 550.8 \r\nL 969.273029 550.8 \r\nL 969.273029 395.485714 \r\nL 968.856335 395.485714 \r\nz\r\n\" style=\"fill:#1f77b4;\"/>\r\n   </g>\r\n   <g id=\"patch_384\">\r\n    <path clip-path=\"url(#pb86d5e0e6f)\" d=\"M 970.939805 550.8 \r\nL 971.356498 550.8 \r\nL 971.356498 343.714286 \r\nL 970.939805 343.714286 \r\nz\r\n\" style=\"fill:#1f77b4;\"/>\r\n   </g>\r\n   <g id=\"patch_385\">\r\n    <path clip-path=\"url(#pb86d5e0e6f)\" d=\"M 973.023274 550.8 \r\nL 973.439968 550.8 \r\nL 973.439968 343.714286 \r\nL 973.023274 343.714286 \r\nz\r\n\" style=\"fill:#1f77b4;\"/>\r\n   </g>\r\n   <g id=\"patch_386\">\r\n    <path clip-path=\"url(#pb86d5e0e6f)\" d=\"M 975.106744 550.8 \r\nL 975.523437 550.8 \r\nL 975.523437 343.714286 \r\nL 975.106744 343.714286 \r\nz\r\n\" style=\"fill:#1f77b4;\"/>\r\n   </g>\r\n   <g id=\"patch_387\">\r\n    <path clip-path=\"url(#pb86d5e0e6f)\" d=\"M 977.190213 550.8 \r\nL 977.606907 550.8 \r\nL 977.606907 343.714286 \r\nL 977.190213 343.714286 \r\nz\r\n\" style=\"fill:#1f77b4;\"/>\r\n   </g>\r\n   <g id=\"patch_388\">\r\n    <path clip-path=\"url(#pb86d5e0e6f)\" d=\"M 979.273682 550.8 \r\nL 979.690376 550.8 \r\nL 979.690376 343.714286 \r\nL 979.273682 343.714286 \r\nz\r\n\" style=\"fill:#1f77b4;\"/>\r\n   </g>\r\n   <g id=\"patch_389\">\r\n    <path clip-path=\"url(#pb86d5e0e6f)\" d=\"M 981.357152 550.8 \r\nL 981.773846 550.8 \r\nL 981.773846 343.714286 \r\nL 981.357152 343.714286 \r\nz\r\n\" style=\"fill:#1f77b4;\"/>\r\n   </g>\r\n   <g id=\"patch_390\">\r\n    <path clip-path=\"url(#pb86d5e0e6f)\" d=\"M 983.440621 550.8 \r\nL 983.857315 550.8 \r\nL 983.857315 343.714286 \r\nL 983.440621 343.714286 \r\nz\r\n\" style=\"fill:#1f77b4;\"/>\r\n   </g>\r\n   <g id=\"patch_391\">\r\n    <path clip-path=\"url(#pb86d5e0e6f)\" d=\"M 985.524091 550.8 \r\nL 985.940785 550.8 \r\nL 985.940785 343.714286 \r\nL 985.524091 343.714286 \r\nz\r\n\" style=\"fill:#1f77b4;\"/>\r\n   </g>\r\n   <g id=\"patch_392\">\r\n    <path clip-path=\"url(#pb86d5e0e6f)\" d=\"M 987.60756 550.8 \r\nL 988.024254 550.8 \r\nL 988.024254 343.714286 \r\nL 987.60756 343.714286 \r\nz\r\n\" style=\"fill:#1f77b4;\"/>\r\n   </g>\r\n   <g id=\"patch_393\">\r\n    <path clip-path=\"url(#pb86d5e0e6f)\" d=\"M 989.69103 550.8 \r\nL 990.107724 550.8 \r\nL 990.107724 343.714286 \r\nL 989.69103 343.714286 \r\nz\r\n\" style=\"fill:#1f77b4;\"/>\r\n   </g>\r\n   <g id=\"patch_394\">\r\n    <path clip-path=\"url(#pb86d5e0e6f)\" d=\"M 991.774499 550.8 \r\nL 992.191193 550.8 \r\nL 992.191193 343.714286 \r\nL 991.774499 343.714286 \r\nz\r\n\" style=\"fill:#1f77b4;\"/>\r\n   </g>\r\n   <g id=\"patch_395\">\r\n    <path clip-path=\"url(#pb86d5e0e6f)\" d=\"M 993.857969 550.8 \r\nL 994.274663 550.8 \r\nL 994.274663 343.714286 \r\nL 993.857969 343.714286 \r\nz\r\n\" style=\"fill:#1f77b4;\"/>\r\n   </g>\r\n   <g id=\"patch_396\">\r\n    <path clip-path=\"url(#pb86d5e0e6f)\" d=\"M 995.941438 550.8 \r\nL 996.358132 550.8 \r\nL 996.358132 343.714286 \r\nL 995.941438 343.714286 \r\nz\r\n\" style=\"fill:#1f77b4;\"/>\r\n   </g>\r\n   <g id=\"patch_397\">\r\n    <path clip-path=\"url(#pb86d5e0e6f)\" d=\"M 998.024908 550.8 \r\nL 998.441601 550.8 \r\nL 998.441601 343.714286 \r\nL 998.024908 343.714286 \r\nz\r\n\" style=\"fill:#1f77b4;\"/>\r\n   </g>\r\n   <g id=\"patch_398\">\r\n    <path clip-path=\"url(#pb86d5e0e6f)\" d=\"M 1000.108377 550.8 \r\nL 1000.525071 550.8 \r\nL 1000.525071 343.714286 \r\nL 1000.108377 343.714286 \r\nz\r\n\" style=\"fill:#1f77b4;\"/>\r\n   </g>\r\n   <g id=\"patch_399\">\r\n    <path clip-path=\"url(#pb86d5e0e6f)\" d=\"M 1002.191847 550.8 \r\nL 1002.60854 550.8 \r\nL 1002.60854 343.714286 \r\nL 1002.191847 343.714286 \r\nz\r\n\" style=\"fill:#1f77b4;\"/>\r\n   </g>\r\n   <g id=\"patch_400\">\r\n    <path clip-path=\"url(#pb86d5e0e6f)\" d=\"M 1004.275316 550.8 \r\nL 1004.69201 550.8 \r\nL 1004.69201 343.714286 \r\nL 1004.275316 343.714286 \r\nz\r\n\" style=\"fill:#1f77b4;\"/>\r\n   </g>\r\n   <g id=\"patch_401\">\r\n    <path clip-path=\"url(#pb86d5e0e6f)\" d=\"M 1006.358785 550.8 \r\nL 1006.775479 550.8 \r\nL 1006.775479 343.714286 \r\nL 1006.358785 343.714286 \r\nz\r\n\" style=\"fill:#1f77b4;\"/>\r\n   </g>\r\n   <g id=\"patch_402\">\r\n    <path clip-path=\"url(#pb86d5e0e6f)\" d=\"M 1008.442255 550.8 \r\nL 1008.858949 550.8 \r\nL 1008.858949 343.714286 \r\nL 1008.442255 343.714286 \r\nz\r\n\" style=\"fill:#1f77b4;\"/>\r\n   </g>\r\n   <g id=\"patch_403\">\r\n    <path clip-path=\"url(#pb86d5e0e6f)\" d=\"M 1010.525724 550.8 \r\nL 1010.942418 550.8 \r\nL 1010.942418 343.714286 \r\nL 1010.525724 343.714286 \r\nz\r\n\" style=\"fill:#1f77b4;\"/>\r\n   </g>\r\n   <g id=\"patch_404\">\r\n    <path clip-path=\"url(#pb86d5e0e6f)\" d=\"M 1012.609194 550.8 \r\nL 1013.025888 550.8 \r\nL 1013.025888 343.714286 \r\nL 1012.609194 343.714286 \r\nz\r\n\" style=\"fill:#1f77b4;\"/>\r\n   </g>\r\n   <g id=\"patch_405\">\r\n    <path clip-path=\"url(#pb86d5e0e6f)\" d=\"M 1014.692663 550.8 \r\nL 1015.109357 550.8 \r\nL 1015.109357 343.714286 \r\nL 1014.692663 343.714286 \r\nz\r\n\" style=\"fill:#1f77b4;\"/>\r\n   </g>\r\n   <g id=\"patch_406\">\r\n    <path clip-path=\"url(#pb86d5e0e6f)\" d=\"M 1016.776133 550.8 \r\nL 1017.192827 550.8 \r\nL 1017.192827 343.714286 \r\nL 1016.776133 343.714286 \r\nz\r\n\" style=\"fill:#1f77b4;\"/>\r\n   </g>\r\n   <g id=\"patch_407\">\r\n    <path clip-path=\"url(#pb86d5e0e6f)\" d=\"M 1018.859602 550.8 \r\nL 1019.276296 550.8 \r\nL 1019.276296 343.714286 \r\nL 1018.859602 343.714286 \r\nz\r\n\" style=\"fill:#1f77b4;\"/>\r\n   </g>\r\n   <g id=\"patch_408\">\r\n    <path clip-path=\"url(#pb86d5e0e6f)\" d=\"M 1020.943072 550.8 \r\nL 1021.359766 550.8 \r\nL 1021.359766 343.714286 \r\nL 1020.943072 343.714286 \r\nz\r\n\" style=\"fill:#1f77b4;\"/>\r\n   </g>\r\n   <g id=\"patch_409\">\r\n    <path clip-path=\"url(#pb86d5e0e6f)\" d=\"M 1023.026541 550.8 \r\nL 1023.443235 550.8 \r\nL 1023.443235 343.714286 \r\nL 1023.026541 343.714286 \r\nz\r\n\" style=\"fill:#1f77b4;\"/>\r\n   </g>\r\n   <g id=\"patch_410\">\r\n    <path clip-path=\"url(#pb86d5e0e6f)\" d=\"M 1025.110011 550.8 \r\nL 1025.526704 550.8 \r\nL 1025.526704 343.714286 \r\nL 1025.110011 343.714286 \r\nz\r\n\" style=\"fill:#1f77b4;\"/>\r\n   </g>\r\n   <g id=\"patch_411\">\r\n    <path clip-path=\"url(#pb86d5e0e6f)\" d=\"M 1027.19348 550.8 \r\nL 1027.610174 550.8 \r\nL 1027.610174 343.714286 \r\nL 1027.19348 343.714286 \r\nz\r\n\" style=\"fill:#1f77b4;\"/>\r\n   </g>\r\n   <g id=\"patch_412\">\r\n    <path clip-path=\"url(#pb86d5e0e6f)\" d=\"M 1029.27695 550.8 \r\nL 1029.693643 550.8 \r\nL 1029.693643 343.714286 \r\nL 1029.27695 343.714286 \r\nz\r\n\" style=\"fill:#1f77b4;\"/>\r\n   </g>\r\n   <g id=\"patch_413\">\r\n    <path clip-path=\"url(#pb86d5e0e6f)\" d=\"M 1031.360419 550.8 \r\nL 1031.777113 550.8 \r\nL 1031.777113 343.714286 \r\nL 1031.360419 343.714286 \r\nz\r\n\" style=\"fill:#1f77b4;\"/>\r\n   </g>\r\n   <g id=\"patch_414\">\r\n    <path clip-path=\"url(#pb86d5e0e6f)\" d=\"M 1033.443888 550.8 \r\nL 1033.860582 550.8 \r\nL 1033.860582 343.714286 \r\nL 1033.443888 343.714286 \r\nz\r\n\" style=\"fill:#1f77b4;\"/>\r\n   </g>\r\n   <g id=\"patch_415\">\r\n    <path clip-path=\"url(#pb86d5e0e6f)\" d=\"M 1035.527358 550.8 \r\nL 1035.944052 550.8 \r\nL 1035.944052 343.714286 \r\nL 1035.527358 343.714286 \r\nz\r\n\" style=\"fill:#1f77b4;\"/>\r\n   </g>\r\n   <g id=\"patch_416\">\r\n    <path clip-path=\"url(#pb86d5e0e6f)\" d=\"M 1037.610827 550.8 \r\nL 1038.027521 550.8 \r\nL 1038.027521 343.714286 \r\nL 1037.610827 343.714286 \r\nz\r\n\" style=\"fill:#1f77b4;\"/>\r\n   </g>\r\n   <g id=\"patch_417\">\r\n    <path clip-path=\"url(#pb86d5e0e6f)\" d=\"M 1039.694297 550.8 \r\nL 1040.110991 550.8 \r\nL 1040.110991 343.714286 \r\nL 1039.694297 343.714286 \r\nz\r\n\" style=\"fill:#1f77b4;\"/>\r\n   </g>\r\n   <g id=\"patch_418\">\r\n    <path clip-path=\"url(#pb86d5e0e6f)\" d=\"M 1041.777766 550.8 \r\nL 1042.19446 550.8 \r\nL 1042.19446 343.714286 \r\nL 1041.777766 343.714286 \r\nz\r\n\" style=\"fill:#1f77b4;\"/>\r\n   </g>\r\n   <g id=\"patch_419\">\r\n    <path clip-path=\"url(#pb86d5e0e6f)\" d=\"M 1043.861236 550.8 \r\nL 1044.27793 550.8 \r\nL 1044.27793 343.714286 \r\nL 1043.861236 343.714286 \r\nz\r\n\" style=\"fill:#1f77b4;\"/>\r\n   </g>\r\n   <g id=\"patch_420\">\r\n    <path clip-path=\"url(#pb86d5e0e6f)\" d=\"M 1045.944705 550.8 \r\nL 1046.361399 550.8 \r\nL 1046.361399 343.714286 \r\nL 1045.944705 343.714286 \r\nz\r\n\" style=\"fill:#1f77b4;\"/>\r\n   </g>\r\n   <g id=\"patch_421\">\r\n    <path clip-path=\"url(#pb86d5e0e6f)\" d=\"M 1048.028175 550.8 \r\nL 1048.444869 550.8 \r\nL 1048.444869 343.714286 \r\nL 1048.028175 343.714286 \r\nz\r\n\" style=\"fill:#1f77b4;\"/>\r\n   </g>\r\n   <g id=\"patch_422\">\r\n    <path clip-path=\"url(#pb86d5e0e6f)\" d=\"M 1050.111644 550.8 \r\nL 1050.528338 550.8 \r\nL 1050.528338 343.714286 \r\nL 1050.111644 343.714286 \r\nz\r\n\" style=\"fill:#1f77b4;\"/>\r\n   </g>\r\n   <g id=\"patch_423\">\r\n    <path clip-path=\"url(#pb86d5e0e6f)\" d=\"M 1052.195114 550.8 \r\nL 1052.611807 550.8 \r\nL 1052.611807 343.714286 \r\nL 1052.195114 343.714286 \r\nz\r\n\" style=\"fill:#1f77b4;\"/>\r\n   </g>\r\n   <g id=\"patch_424\">\r\n    <path clip-path=\"url(#pb86d5e0e6f)\" d=\"M 1054.278583 550.8 \r\nL 1054.695277 550.8 \r\nL 1054.695277 343.714286 \r\nL 1054.278583 343.714286 \r\nz\r\n\" style=\"fill:#1f77b4;\"/>\r\n   </g>\r\n   <g id=\"patch_425\">\r\n    <path clip-path=\"url(#pb86d5e0e6f)\" d=\"M 1056.362053 550.8 \r\nL 1056.778746 550.8 \r\nL 1056.778746 343.714286 \r\nL 1056.362053 343.714286 \r\nz\r\n\" style=\"fill:#1f77b4;\"/>\r\n   </g>\r\n   <g id=\"patch_426\">\r\n    <path clip-path=\"url(#pb86d5e0e6f)\" d=\"M 1058.445522 550.8 \r\nL 1058.862216 550.8 \r\nL 1058.862216 343.714286 \r\nL 1058.445522 343.714286 \r\nz\r\n\" style=\"fill:#1f77b4;\"/>\r\n   </g>\r\n   <g id=\"patch_427\">\r\n    <path clip-path=\"url(#pb86d5e0e6f)\" d=\"M 1060.528991 550.8 \r\nL 1060.945685 550.8 \r\nL 1060.945685 343.714286 \r\nL 1060.528991 343.714286 \r\nz\r\n\" style=\"fill:#1f77b4;\"/>\r\n   </g>\r\n   <g id=\"patch_428\">\r\n    <path clip-path=\"url(#pb86d5e0e6f)\" d=\"M 1062.612461 550.8 \r\nL 1063.029155 550.8 \r\nL 1063.029155 343.714286 \r\nL 1062.612461 343.714286 \r\nz\r\n\" style=\"fill:#1f77b4;\"/>\r\n   </g>\r\n   <g id=\"patch_429\">\r\n    <path clip-path=\"url(#pb86d5e0e6f)\" d=\"M 1064.69593 550.8 \r\nL 1065.112624 550.8 \r\nL 1065.112624 343.714286 \r\nL 1064.69593 343.714286 \r\nz\r\n\" style=\"fill:#1f77b4;\"/>\r\n   </g>\r\n   <g id=\"patch_430\">\r\n    <path clip-path=\"url(#pb86d5e0e6f)\" d=\"M 1066.7794 550.8 \r\nL 1067.196094 550.8 \r\nL 1067.196094 343.714286 \r\nL 1066.7794 343.714286 \r\nz\r\n\" style=\"fill:#1f77b4;\"/>\r\n   </g>\r\n   <g id=\"patch_431\">\r\n    <path clip-path=\"url(#pb86d5e0e6f)\" d=\"M 1068.862869 550.8 \r\nL 1069.279563 550.8 \r\nL 1069.279563 343.714286 \r\nL 1068.862869 343.714286 \r\nz\r\n\" style=\"fill:#1f77b4;\"/>\r\n   </g>\r\n   <g id=\"patch_432\">\r\n    <path clip-path=\"url(#pb86d5e0e6f)\" d=\"M 1070.946339 550.8 \r\nL 1071.363033 550.8 \r\nL 1071.363033 343.714286 \r\nL 1070.946339 343.714286 \r\nz\r\n\" style=\"fill:#1f77b4;\"/>\r\n   </g>\r\n   <g id=\"patch_433\">\r\n    <path clip-path=\"url(#pb86d5e0e6f)\" d=\"M 1073.029808 550.8 \r\nL 1073.446502 550.8 \r\nL 1073.446502 343.714286 \r\nL 1073.029808 343.714286 \r\nz\r\n\" style=\"fill:#1f77b4;\"/>\r\n   </g>\r\n   <g id=\"patch_434\">\r\n    <path clip-path=\"url(#pb86d5e0e6f)\" d=\"M 1075.113278 550.8 \r\nL 1075.529972 550.8 \r\nL 1075.529972 343.714286 \r\nL 1075.113278 343.714286 \r\nz\r\n\" style=\"fill:#1f77b4;\"/>\r\n   </g>\r\n   <g id=\"patch_435\">\r\n    <path clip-path=\"url(#pb86d5e0e6f)\" d=\"M 1077.196747 550.8 \r\nL 1077.613441 550.8 \r\nL 1077.613441 343.714286 \r\nL 1077.196747 343.714286 \r\nz\r\n\" style=\"fill:#1f77b4;\"/>\r\n   </g>\r\n   <g id=\"patch_436\">\r\n    <path clip-path=\"url(#pb86d5e0e6f)\" d=\"M 1079.280217 550.8 \r\nL 1079.696911 550.8 \r\nL 1079.696911 343.714286 \r\nL 1079.280217 343.714286 \r\nz\r\n\" style=\"fill:#1f77b4;\"/>\r\n   </g>\r\n   <g id=\"patch_437\">\r\n    <path clip-path=\"url(#pb86d5e0e6f)\" d=\"M 1081.363686 550.8 \r\nL 1081.78038 550.8 \r\nL 1081.78038 343.714286 \r\nL 1081.363686 343.714286 \r\nz\r\n\" style=\"fill:#1f77b4;\"/>\r\n   </g>\r\n   <g id=\"patch_438\">\r\n    <path clip-path=\"url(#pb86d5e0e6f)\" d=\"M 1083.447156 550.8 \r\nL 1083.863849 550.8 \r\nL 1083.863849 343.714286 \r\nL 1083.447156 343.714286 \r\nz\r\n\" style=\"fill:#1f77b4;\"/>\r\n   </g>\r\n   <g id=\"patch_439\">\r\n    <path clip-path=\"url(#pb86d5e0e6f)\" d=\"M 1085.530625 550.8 \r\nL 1085.947319 550.8 \r\nL 1085.947319 343.714286 \r\nL 1085.530625 343.714286 \r\nz\r\n\" style=\"fill:#1f77b4;\"/>\r\n   </g>\r\n   <g id=\"patch_440\">\r\n    <path clip-path=\"url(#pb86d5e0e6f)\" d=\"M 1087.614094 550.8 \r\nL 1088.030788 550.8 \r\nL 1088.030788 343.714286 \r\nL 1087.614094 343.714286 \r\nz\r\n\" style=\"fill:#1f77b4;\"/>\r\n   </g>\r\n   <g id=\"patch_441\">\r\n    <path clip-path=\"url(#pb86d5e0e6f)\" d=\"M 1089.697564 550.8 \r\nL 1090.114258 550.8 \r\nL 1090.114258 343.714286 \r\nL 1089.697564 343.714286 \r\nz\r\n\" style=\"fill:#1f77b4;\"/>\r\n   </g>\r\n   <g id=\"patch_442\">\r\n    <path clip-path=\"url(#pb86d5e0e6f)\" d=\"M 1091.781033 550.8 \r\nL 1092.197727 550.8 \r\nL 1092.197727 395.485714 \r\nL 1091.781033 395.485714 \r\nz\r\n\" style=\"fill:#1f77b4;\"/>\r\n   </g>\r\n   <g id=\"matplotlib.axis_1\">\r\n    <g id=\"xtick_1\">\r\n     <g id=\"line2d_1\">\r\n      <defs>\r\n       <path d=\"M 0 0 \r\nL 0 3.5 \r\n\" id=\"m358cf6be6a\" style=\"stroke:#000000;stroke-width:0.8;\"/>\r\n      </defs>\r\n      <g>\r\n       <use style=\"stroke:#000000;stroke-width:0.8;\" x=\"75.256283\" xlink:href=\"#m358cf6be6a\" y=\"550.8\"/>\r\n      </g>\r\n     </g>\r\n     <g id=\"text_1\">\r\n      <!-- 0 -->\r\n      <g transform=\"translate(72.075033 565.398438)scale(0.1 -0.1)\">\r\n       <defs>\r\n        <path d=\"M 31.78125 66.40625 \r\nQ 24.171875 66.40625 20.328125 58.90625 \r\nQ 16.5 51.421875 16.5 36.375 \r\nQ 16.5 21.390625 20.328125 13.890625 \r\nQ 24.171875 6.390625 31.78125 6.390625 \r\nQ 39.453125 6.390625 43.28125 13.890625 \r\nQ 47.125 21.390625 47.125 36.375 \r\nQ 47.125 51.421875 43.28125 58.90625 \r\nQ 39.453125 66.40625 31.78125 66.40625 \r\nz\r\nM 31.78125 74.21875 \r\nQ 44.046875 74.21875 50.515625 64.515625 \r\nQ 56.984375 54.828125 56.984375 36.375 \r\nQ 56.984375 17.96875 50.515625 8.265625 \r\nQ 44.046875 -1.421875 31.78125 -1.421875 \r\nQ 19.53125 -1.421875 13.0625 8.265625 \r\nQ 6.59375 17.96875 6.59375 36.375 \r\nQ 6.59375 54.828125 13.0625 64.515625 \r\nQ 19.53125 74.21875 31.78125 74.21875 \r\nz\r\n\" id=\"DejaVuSans-48\"/>\r\n       </defs>\r\n       <use xlink:href=\"#DejaVuSans-48\"/>\r\n      </g>\r\n     </g>\r\n    </g>\r\n    <g id=\"xtick_2\">\r\n     <g id=\"line2d_2\">\r\n      <g>\r\n       <use style=\"stroke:#000000;stroke-width:0.8;\" x=\"205.473124\" xlink:href=\"#m358cf6be6a\" y=\"550.8\"/>\r\n      </g>\r\n     </g>\r\n     <g id=\"text_2\">\r\n      <!-- 250 -->\r\n      <g transform=\"translate(195.929374 565.398438)scale(0.1 -0.1)\">\r\n       <defs>\r\n        <path d=\"M 19.1875 8.296875 \r\nL 53.609375 8.296875 \r\nL 53.609375 0 \r\nL 7.328125 0 \r\nL 7.328125 8.296875 \r\nQ 12.9375 14.109375 22.625 23.890625 \r\nQ 32.328125 33.6875 34.8125 36.53125 \r\nQ 39.546875 41.84375 41.421875 45.53125 \r\nQ 43.3125 49.21875 43.3125 52.78125 \r\nQ 43.3125 58.59375 39.234375 62.25 \r\nQ 35.15625 65.921875 28.609375 65.921875 \r\nQ 23.96875 65.921875 18.8125 64.3125 \r\nQ 13.671875 62.703125 7.8125 59.421875 \r\nL 7.8125 69.390625 \r\nQ 13.765625 71.78125 18.9375 73 \r\nQ 24.125 74.21875 28.421875 74.21875 \r\nQ 39.75 74.21875 46.484375 68.546875 \r\nQ 53.21875 62.890625 53.21875 53.421875 \r\nQ 53.21875 48.921875 51.53125 44.890625 \r\nQ 49.859375 40.875 45.40625 35.40625 \r\nQ 44.1875 33.984375 37.640625 27.21875 \r\nQ 31.109375 20.453125 19.1875 8.296875 \r\nz\r\n\" id=\"DejaVuSans-50\"/>\r\n        <path d=\"M 10.796875 72.90625 \r\nL 49.515625 72.90625 \r\nL 49.515625 64.59375 \r\nL 19.828125 64.59375 \r\nL 19.828125 46.734375 \r\nQ 21.96875 47.46875 24.109375 47.828125 \r\nQ 26.265625 48.1875 28.421875 48.1875 \r\nQ 40.625 48.1875 47.75 41.5 \r\nQ 54.890625 34.8125 54.890625 23.390625 \r\nQ 54.890625 11.625 47.5625 5.09375 \r\nQ 40.234375 -1.421875 26.90625 -1.421875 \r\nQ 22.3125 -1.421875 17.546875 -0.640625 \r\nQ 12.796875 0.140625 7.71875 1.703125 \r\nL 7.71875 11.625 \r\nQ 12.109375 9.234375 16.796875 8.0625 \r\nQ 21.484375 6.890625 26.703125 6.890625 \r\nQ 35.15625 6.890625 40.078125 11.328125 \r\nQ 45.015625 15.765625 45.015625 23.390625 \r\nQ 45.015625 31 40.078125 35.4375 \r\nQ 35.15625 39.890625 26.703125 39.890625 \r\nQ 22.75 39.890625 18.8125 39.015625 \r\nQ 14.890625 38.140625 10.796875 36.28125 \r\nz\r\n\" id=\"DejaVuSans-53\"/>\r\n       </defs>\r\n       <use xlink:href=\"#DejaVuSans-50\"/>\r\n       <use x=\"63.623047\" xlink:href=\"#DejaVuSans-53\"/>\r\n       <use x=\"127.246094\" xlink:href=\"#DejaVuSans-48\"/>\r\n      </g>\r\n     </g>\r\n    </g>\r\n    <g id=\"xtick_3\">\r\n     <g id=\"line2d_3\">\r\n      <g>\r\n       <use style=\"stroke:#000000;stroke-width:0.8;\" x=\"335.689966\" xlink:href=\"#m358cf6be6a\" y=\"550.8\"/>\r\n      </g>\r\n     </g>\r\n     <g id=\"text_3\">\r\n      <!-- 500 -->\r\n      <g transform=\"translate(326.146216 565.398438)scale(0.1 -0.1)\">\r\n       <use xlink:href=\"#DejaVuSans-53\"/>\r\n       <use x=\"63.623047\" xlink:href=\"#DejaVuSans-48\"/>\r\n       <use x=\"127.246094\" xlink:href=\"#DejaVuSans-48\"/>\r\n      </g>\r\n     </g>\r\n    </g>\r\n    <g id=\"xtick_4\">\r\n     <g id=\"line2d_4\">\r\n      <g>\r\n       <use style=\"stroke:#000000;stroke-width:0.8;\" x=\"465.906807\" xlink:href=\"#m358cf6be6a\" y=\"550.8\"/>\r\n      </g>\r\n     </g>\r\n     <g id=\"text_4\">\r\n      <!-- 750 -->\r\n      <g transform=\"translate(456.363057 565.398438)scale(0.1 -0.1)\">\r\n       <defs>\r\n        <path d=\"M 8.203125 72.90625 \r\nL 55.078125 72.90625 \r\nL 55.078125 68.703125 \r\nL 28.609375 0 \r\nL 18.3125 0 \r\nL 43.21875 64.59375 \r\nL 8.203125 64.59375 \r\nz\r\n\" id=\"DejaVuSans-55\"/>\r\n       </defs>\r\n       <use xlink:href=\"#DejaVuSans-55\"/>\r\n       <use x=\"63.623047\" xlink:href=\"#DejaVuSans-53\"/>\r\n       <use x=\"127.246094\" xlink:href=\"#DejaVuSans-48\"/>\r\n      </g>\r\n     </g>\r\n    </g>\r\n    <g id=\"xtick_5\">\r\n     <g id=\"line2d_5\">\r\n      <g>\r\n       <use style=\"stroke:#000000;stroke-width:0.8;\" x=\"596.123648\" xlink:href=\"#m358cf6be6a\" y=\"550.8\"/>\r\n      </g>\r\n     </g>\r\n     <g id=\"text_5\">\r\n      <!-- 1000 -->\r\n      <g transform=\"translate(583.398648 565.398438)scale(0.1 -0.1)\">\r\n       <defs>\r\n        <path d=\"M 12.40625 8.296875 \r\nL 28.515625 8.296875 \r\nL 28.515625 63.921875 \r\nL 10.984375 60.40625 \r\nL 10.984375 69.390625 \r\nL 28.421875 72.90625 \r\nL 38.28125 72.90625 \r\nL 38.28125 8.296875 \r\nL 54.390625 8.296875 \r\nL 54.390625 0 \r\nL 12.40625 0 \r\nz\r\n\" id=\"DejaVuSans-49\"/>\r\n       </defs>\r\n       <use xlink:href=\"#DejaVuSans-49\"/>\r\n       <use x=\"63.623047\" xlink:href=\"#DejaVuSans-48\"/>\r\n       <use x=\"127.246094\" xlink:href=\"#DejaVuSans-48\"/>\r\n       <use x=\"190.869141\" xlink:href=\"#DejaVuSans-48\"/>\r\n      </g>\r\n     </g>\r\n    </g>\r\n    <g id=\"xtick_6\">\r\n     <g id=\"line2d_6\">\r\n      <g>\r\n       <use style=\"stroke:#000000;stroke-width:0.8;\" x=\"726.34049\" xlink:href=\"#m358cf6be6a\" y=\"550.8\"/>\r\n      </g>\r\n     </g>\r\n     <g id=\"text_6\">\r\n      <!-- 1250 -->\r\n      <g transform=\"translate(713.61549 565.398438)scale(0.1 -0.1)\">\r\n       <use xlink:href=\"#DejaVuSans-49\"/>\r\n       <use x=\"63.623047\" xlink:href=\"#DejaVuSans-50\"/>\r\n       <use x=\"127.246094\" xlink:href=\"#DejaVuSans-53\"/>\r\n       <use x=\"190.869141\" xlink:href=\"#DejaVuSans-48\"/>\r\n      </g>\r\n     </g>\r\n    </g>\r\n    <g id=\"xtick_7\">\r\n     <g id=\"line2d_7\">\r\n      <g>\r\n       <use style=\"stroke:#000000;stroke-width:0.8;\" x=\"856.557331\" xlink:href=\"#m358cf6be6a\" y=\"550.8\"/>\r\n      </g>\r\n     </g>\r\n     <g id=\"text_7\">\r\n      <!-- 1500 -->\r\n      <g transform=\"translate(843.832331 565.398438)scale(0.1 -0.1)\">\r\n       <use xlink:href=\"#DejaVuSans-49\"/>\r\n       <use x=\"63.623047\" xlink:href=\"#DejaVuSans-53\"/>\r\n       <use x=\"127.246094\" xlink:href=\"#DejaVuSans-48\"/>\r\n       <use x=\"190.869141\" xlink:href=\"#DejaVuSans-48\"/>\r\n      </g>\r\n     </g>\r\n    </g>\r\n    <g id=\"xtick_8\">\r\n     <g id=\"line2d_8\">\r\n      <g>\r\n       <use style=\"stroke:#000000;stroke-width:0.8;\" x=\"986.774172\" xlink:href=\"#m358cf6be6a\" y=\"550.8\"/>\r\n      </g>\r\n     </g>\r\n     <g id=\"text_8\">\r\n      <!-- 1750 -->\r\n      <g transform=\"translate(974.049172 565.398438)scale(0.1 -0.1)\">\r\n       <use xlink:href=\"#DejaVuSans-49\"/>\r\n       <use x=\"63.623047\" xlink:href=\"#DejaVuSans-55\"/>\r\n       <use x=\"127.246094\" xlink:href=\"#DejaVuSans-53\"/>\r\n       <use x=\"190.869141\" xlink:href=\"#DejaVuSans-48\"/>\r\n      </g>\r\n     </g>\r\n    </g>\r\n    <g id=\"xtick_9\">\r\n     <g id=\"line2d_9\">\r\n      <g>\r\n       <use style=\"stroke:#000000;stroke-width:0.8;\" x=\"1116.991014\" xlink:href=\"#m358cf6be6a\" y=\"550.8\"/>\r\n      </g>\r\n     </g>\r\n     <g id=\"text_9\">\r\n      <!-- 2000 -->\r\n      <g transform=\"translate(1104.266014 565.398438)scale(0.1 -0.1)\">\r\n       <use xlink:href=\"#DejaVuSans-50\"/>\r\n       <use x=\"63.623047\" xlink:href=\"#DejaVuSans-48\"/>\r\n       <use x=\"127.246094\" xlink:href=\"#DejaVuSans-48\"/>\r\n       <use x=\"190.869141\" xlink:href=\"#DejaVuSans-48\"/>\r\n      </g>\r\n     </g>\r\n    </g>\r\n   </g>\r\n   <g id=\"matplotlib.axis_2\">\r\n    <g id=\"ytick_1\">\r\n     <g id=\"line2d_10\">\r\n      <defs>\r\n       <path d=\"M 0 0 \r\nL -3.5 0 \r\n\" id=\"m9f3a556a9f\" style=\"stroke:#000000;stroke-width:0.8;\"/>\r\n      </defs>\r\n      <g>\r\n       <use style=\"stroke:#000000;stroke-width:0.8;\" x=\"26.925\" xlink:href=\"#m9f3a556a9f\" y=\"550.8\"/>\r\n      </g>\r\n     </g>\r\n     <g id=\"text_10\">\r\n      <!-- 0 -->\r\n      <g transform=\"translate(13.5625 554.599219)scale(0.1 -0.1)\">\r\n       <use xlink:href=\"#DejaVuSans-48\"/>\r\n      </g>\r\n     </g>\r\n    </g>\r\n    <g id=\"ytick_2\">\r\n     <g id=\"line2d_11\">\r\n      <g>\r\n       <use style=\"stroke:#000000;stroke-width:0.8;\" x=\"26.925\" xlink:href=\"#m9f3a556a9f\" y=\"447.257143\"/>\r\n      </g>\r\n     </g>\r\n     <g id=\"text_11\">\r\n      <!-- 2 -->\r\n      <g transform=\"translate(13.5625 451.056362)scale(0.1 -0.1)\">\r\n       <use xlink:href=\"#DejaVuSans-50\"/>\r\n      </g>\r\n     </g>\r\n    </g>\r\n    <g id=\"ytick_3\">\r\n     <g id=\"line2d_12\">\r\n      <g>\r\n       <use style=\"stroke:#000000;stroke-width:0.8;\" x=\"26.925\" xlink:href=\"#m9f3a556a9f\" y=\"343.714286\"/>\r\n      </g>\r\n     </g>\r\n     <g id=\"text_12\">\r\n      <!-- 4 -->\r\n      <g transform=\"translate(13.5625 347.513504)scale(0.1 -0.1)\">\r\n       <defs>\r\n        <path d=\"M 37.796875 64.3125 \r\nL 12.890625 25.390625 \r\nL 37.796875 25.390625 \r\nz\r\nM 35.203125 72.90625 \r\nL 47.609375 72.90625 \r\nL 47.609375 25.390625 \r\nL 58.015625 25.390625 \r\nL 58.015625 17.1875 \r\nL 47.609375 17.1875 \r\nL 47.609375 0 \r\nL 37.796875 0 \r\nL 37.796875 17.1875 \r\nL 4.890625 17.1875 \r\nL 4.890625 26.703125 \r\nz\r\n\" id=\"DejaVuSans-52\"/>\r\n       </defs>\r\n       <use xlink:href=\"#DejaVuSans-52\"/>\r\n      </g>\r\n     </g>\r\n    </g>\r\n    <g id=\"ytick_4\">\r\n     <g id=\"line2d_13\">\r\n      <g>\r\n       <use style=\"stroke:#000000;stroke-width:0.8;\" x=\"26.925\" xlink:href=\"#m9f3a556a9f\" y=\"240.171429\"/>\r\n      </g>\r\n     </g>\r\n     <g id=\"text_13\">\r\n      <!-- 6 -->\r\n      <g transform=\"translate(13.5625 243.970647)scale(0.1 -0.1)\">\r\n       <defs>\r\n        <path d=\"M 33.015625 40.375 \r\nQ 26.375 40.375 22.484375 35.828125 \r\nQ 18.609375 31.296875 18.609375 23.390625 \r\nQ 18.609375 15.53125 22.484375 10.953125 \r\nQ 26.375 6.390625 33.015625 6.390625 \r\nQ 39.65625 6.390625 43.53125 10.953125 \r\nQ 47.40625 15.53125 47.40625 23.390625 \r\nQ 47.40625 31.296875 43.53125 35.828125 \r\nQ 39.65625 40.375 33.015625 40.375 \r\nz\r\nM 52.59375 71.296875 \r\nL 52.59375 62.3125 \r\nQ 48.875 64.0625 45.09375 64.984375 \r\nQ 41.3125 65.921875 37.59375 65.921875 \r\nQ 27.828125 65.921875 22.671875 59.328125 \r\nQ 17.53125 52.734375 16.796875 39.40625 \r\nQ 19.671875 43.65625 24.015625 45.921875 \r\nQ 28.375 48.1875 33.59375 48.1875 \r\nQ 44.578125 48.1875 50.953125 41.515625 \r\nQ 57.328125 34.859375 57.328125 23.390625 \r\nQ 57.328125 12.15625 50.6875 5.359375 \r\nQ 44.046875 -1.421875 33.015625 -1.421875 \r\nQ 20.359375 -1.421875 13.671875 8.265625 \r\nQ 6.984375 17.96875 6.984375 36.375 \r\nQ 6.984375 53.65625 15.1875 63.9375 \r\nQ 23.390625 74.21875 37.203125 74.21875 \r\nQ 40.921875 74.21875 44.703125 73.484375 \r\nQ 48.484375 72.75 52.59375 71.296875 \r\nz\r\n\" id=\"DejaVuSans-54\"/>\r\n       </defs>\r\n       <use xlink:href=\"#DejaVuSans-54\"/>\r\n      </g>\r\n     </g>\r\n    </g>\r\n    <g id=\"ytick_5\">\r\n     <g id=\"line2d_14\">\r\n      <g>\r\n       <use style=\"stroke:#000000;stroke-width:0.8;\" x=\"26.925\" xlink:href=\"#m9f3a556a9f\" y=\"136.628571\"/>\r\n      </g>\r\n     </g>\r\n     <g id=\"text_14\">\r\n      <!-- 8 -->\r\n      <g transform=\"translate(13.5625 140.42779)scale(0.1 -0.1)\">\r\n       <defs>\r\n        <path d=\"M 31.78125 34.625 \r\nQ 24.75 34.625 20.71875 30.859375 \r\nQ 16.703125 27.09375 16.703125 20.515625 \r\nQ 16.703125 13.921875 20.71875 10.15625 \r\nQ 24.75 6.390625 31.78125 6.390625 \r\nQ 38.8125 6.390625 42.859375 10.171875 \r\nQ 46.921875 13.96875 46.921875 20.515625 \r\nQ 46.921875 27.09375 42.890625 30.859375 \r\nQ 38.875 34.625 31.78125 34.625 \r\nz\r\nM 21.921875 38.8125 \r\nQ 15.578125 40.375 12.03125 44.71875 \r\nQ 8.5 49.078125 8.5 55.328125 \r\nQ 8.5 64.0625 14.71875 69.140625 \r\nQ 20.953125 74.21875 31.78125 74.21875 \r\nQ 42.671875 74.21875 48.875 69.140625 \r\nQ 55.078125 64.0625 55.078125 55.328125 \r\nQ 55.078125 49.078125 51.53125 44.71875 \r\nQ 48 40.375 41.703125 38.8125 \r\nQ 48.828125 37.15625 52.796875 32.3125 \r\nQ 56.78125 27.484375 56.78125 20.515625 \r\nQ 56.78125 9.90625 50.3125 4.234375 \r\nQ 43.84375 -1.421875 31.78125 -1.421875 \r\nQ 19.734375 -1.421875 13.25 4.234375 \r\nQ 6.78125 9.90625 6.78125 20.515625 \r\nQ 6.78125 27.484375 10.78125 32.3125 \r\nQ 14.796875 37.15625 21.921875 38.8125 \r\nz\r\nM 18.3125 54.390625 \r\nQ 18.3125 48.734375 21.84375 45.5625 \r\nQ 25.390625 42.390625 31.78125 42.390625 \r\nQ 38.140625 42.390625 41.71875 45.5625 \r\nQ 45.3125 48.734375 45.3125 54.390625 \r\nQ 45.3125 60.0625 41.71875 63.234375 \r\nQ 38.140625 66.40625 31.78125 66.40625 \r\nQ 25.390625 66.40625 21.84375 63.234375 \r\nQ 18.3125 60.0625 18.3125 54.390625 \r\nz\r\n\" id=\"DejaVuSans-56\"/>\r\n       </defs>\r\n       <use xlink:href=\"#DejaVuSans-56\"/>\r\n      </g>\r\n     </g>\r\n    </g>\r\n    <g id=\"ytick_6\">\r\n     <g id=\"line2d_15\">\r\n      <g>\r\n       <use style=\"stroke:#000000;stroke-width:0.8;\" x=\"26.925\" xlink:href=\"#m9f3a556a9f\" y=\"33.085714\"/>\r\n      </g>\r\n     </g>\r\n     <g id=\"text_15\">\r\n      <!-- 10 -->\r\n      <g transform=\"translate(7.2 36.884933)scale(0.1 -0.1)\">\r\n       <use xlink:href=\"#DejaVuSans-49\"/>\r\n       <use x=\"63.623047\" xlink:href=\"#DejaVuSans-48\"/>\r\n      </g>\r\n     </g>\r\n    </g>\r\n   </g>\r\n   <g id=\"patch_443\">\r\n    <path d=\"M 26.925 550.8 \r\nL 26.925 7.2 \r\n\" style=\"fill:none;stroke:#000000;stroke-linecap:square;stroke-linejoin:miter;stroke-width:0.8;\"/>\r\n   </g>\r\n   <g id=\"patch_444\">\r\n    <path d=\"M 1142.925 550.8 \r\nL 1142.925 7.2 \r\n\" style=\"fill:none;stroke:#000000;stroke-linecap:square;stroke-linejoin:miter;stroke-width:0.8;\"/>\r\n   </g>\r\n   <g id=\"patch_445\">\r\n    <path d=\"M 26.925 550.8 \r\nL 1142.925 550.8 \r\n\" style=\"fill:none;stroke:#000000;stroke-linecap:square;stroke-linejoin:miter;stroke-width:0.8;\"/>\r\n   </g>\r\n   <g id=\"patch_446\">\r\n    <path d=\"M 26.925 7.2 \r\nL 1142.925 7.2 \r\n\" style=\"fill:none;stroke:#000000;stroke-linecap:square;stroke-linejoin:miter;stroke-width:0.8;\"/>\r\n   </g>\r\n  </g>\r\n </g>\r\n <defs>\r\n  <clipPath id=\"pb86d5e0e6f\">\r\n   <rect height=\"543.6\" width=\"1116\" x=\"26.925\" y=\"7.2\"/>\r\n  </clipPath>\r\n </defs>\r\n</svg>\r\n",
      "image/png": "[encoded data removed]"
     },
     "metadata": {
      "needs_background": "light"
     }
    }
   ],
   "source": [
    "import matplotlib.pyplot as plt\n",
    "\n",
    "ref_counts = df['REF'].groupby(df['REF']).count()\n",
    "plt.figure(figsize=(20,10))\n",
    "plt.bar(ref_counts.index.values, ref_counts)\n",
    "plt.show()"
   ]
  },
  {
   "cell_type": "markdown",
   "metadata": {
    "colab_type": "text",
    "id": "_j-xZZC_XcY7"
   },
   "source": [
    "From this chart we can see that 'REF' values repeat between 1 and 9 times with 4 being the most common. Overall, there isn't much interesting data or data repair for this column."
   ]
  },
  {
   "cell_type": "markdown",
   "metadata": {
    "colab_type": "text",
    "id": "ceaB_NaubW1x"
   },
   "source": [
    "### Column: Review Date"
   ]
  },
  {
   "cell_type": "markdown",
   "metadata": {
    "colab_type": "text",
    "id": "nOgnWofebcQx"
   },
   "source": [
    "Review date is the date that the review for a given row was actually published. It is a numeric column.\n",
    "\n",
    "First, let's see if any data is missing."
   ]
  },
  {
   "cell_type": "code",
   "execution_count": 50,
   "metadata": {
    "colab": {},
    "colab_type": "code",
    "id": "Bx71DI97brba"
   },
   "outputs": [
    {
     "output_type": "execute_result",
     "data": {
      "text/plain": [
       "False"
      ]
     },
     "metadata": {},
     "execution_count": 50
    }
   ],
   "source": [
    "df['Review Date'].isna().any()"
   ]
  },
  {
   "cell_type": "markdown",
   "metadata": {
    "colab_type": "text",
    "id": "357tRDRpb1v3"
   },
   "source": [
    "No missing data. Good.\n",
    "\n",
    "Now we can check some basic statistics about the data."
   ]
  },
  {
   "cell_type": "code",
   "execution_count": 51,
   "metadata": {
    "colab": {},
    "colab_type": "code",
    "id": "nTjNEeYub6np"
   },
   "outputs": [
    {
     "output_type": "execute_result",
     "data": {
      "text/plain": [
       "count    1795.000000\n",
       "mean     2012.325348\n",
       "std         2.927210\n",
       "min      2006.000000\n",
       "25%      2010.000000\n",
       "50%      2013.000000\n",
       "75%      2015.000000\n",
       "max      2017.000000\n",
       "Name: Review Date, dtype: float64"
      ]
     },
     "metadata": {},
     "execution_count": 51
    }
   ],
   "source": [
    "df['Review Date'].describe()"
   ]
  },
  {
   "cell_type": "markdown",
   "metadata": {
    "colab_type": "text",
    "id": "e8t6UURbb9QW"
   },
   "source": [
    "We can see publication dates ranging from 2006 through 2017, which seems like reasonable years. If we had seen dates from the 1800s or the future, we should be worried. This range seems well within reason, though.\n",
    "\n",
    "There isn't much else that we need to do for this column. Since we only have a few years when reviews were posted, we can create a visualization showing how many reviews were posted each year."
   ]
  },
  {
   "cell_type": "markdown",
   "metadata": {
    "colab_type": "text",
    "id": "ftNn3yb5cj2e"
   },
   "source": [
    "#### Exercise 7: Reviews Per Year\n",
    "\n",
    "Create a visualization that shows the number of reviews that were created each year."
   ]
  },
  {
   "cell_type": "markdown",
   "metadata": {
    "colab_type": "text",
    "id": "h9b2S5Dkct1w"
   },
   "source": [
    "**Student Solution**"
   ]
  },
  {
   "cell_type": "code",
   "execution_count": 52,
   "metadata": {
    "colab": {},
    "colab_type": "code",
    "id": "YGsp-igoczGx"
   },
   "outputs": [
    {
     "output_type": "display_data",
     "data": {
      "text/plain": "<Figure size 864x432 with 1 Axes>",
      "image/svg+xml": "<?xml version=\"1.0\" encoding=\"utf-8\" standalone=\"no\"?>\r\n<!DOCTYPE svg PUBLIC \"-//W3C//DTD SVG 1.1//EN\"\r\n  \"http://www.w3.org/Graphics/SVG/1.1/DTD/svg11.dtd\">\r\n<!-- Created with matplotlib (https://matplotlib.org/) -->\r\n<svg height=\"389.07375pt\" version=\"1.1\" viewBox=\"0 0 723.765625 389.07375\" width=\"723.765625pt\" xmlns=\"http://www.w3.org/2000/svg\" xmlns:xlink=\"http://www.w3.org/1999/xlink\">\r\n <metadata>\r\n  <rdf:RDF xmlns:cc=\"http://creativecommons.org/ns#\" xmlns:dc=\"http://purl.org/dc/elements/1.1/\" xmlns:rdf=\"http://www.w3.org/1999/02/22-rdf-syntax-ns#\">\r\n   <cc:Work>\r\n    <dc:type rdf:resource=\"http://purl.org/dc/dcmitype/StillImage\"/>\r\n    <dc:date>2021-04-13T23:11:10.307954</dc:date>\r\n    <dc:format>image/svg+xml</dc:format>\r\n    <dc:creator>\r\n     <cc:Agent>\r\n      <dc:title>Matplotlib v3.3.4, https://matplotlib.org/</dc:title>\r\n     </cc:Agent>\r\n    </dc:creator>\r\n   </cc:Work>\r\n  </rdf:RDF>\r\n </metadata>\r\n <defs>\r\n  <style type=\"text/css\">*{stroke-linecap:butt;stroke-linejoin:round;}</style>\r\n </defs>\r\n <g id=\"figure_1\">\r\n  <g id=\"patch_1\">\r\n   <path d=\"M 0 389.07375 \r\nL 723.765625 389.07375 \r\nL 723.765625 0 \r\nL 0 0 \r\nz\r\n\" style=\"fill:none;\"/>\r\n  </g>\r\n  <g id=\"axes_1\">\r\n   <g id=\"patch_2\">\r\n    <path d=\"M 46.965625 351.5175 \r\nL 716.565625 351.5175 \r\nL 716.565625 25.3575 \r\nL 46.965625 25.3575 \r\nz\r\n\" style=\"fill:#ffffff;\"/>\r\n   </g>\r\n   <g id=\"matplotlib.axis_1\">\r\n    <g id=\"xtick_1\">\r\n     <g id=\"line2d_1\">\r\n      <defs>\r\n       <path d=\"M 0 0 \r\nL 0 3.5 \r\n\" id=\"m13e81740d2\" style=\"stroke:#000000;stroke-width:0.8;\"/>\r\n      </defs>\r\n      <g>\r\n       <use style=\"stroke:#000000;stroke-width:0.8;\" x=\"77.401989\" xlink:href=\"#m13e81740d2\" y=\"351.5175\"/>\r\n      </g>\r\n     </g>\r\n     <g id=\"text_1\">\r\n      <!-- 2006 -->\r\n      <g transform=\"translate(64.676989 366.115937)scale(0.1 -0.1)\">\r\n       <defs>\r\n        <path d=\"M 19.1875 8.296875 \r\nL 53.609375 8.296875 \r\nL 53.609375 0 \r\nL 7.328125 0 \r\nL 7.328125 8.296875 \r\nQ 12.9375 14.109375 22.625 23.890625 \r\nQ 32.328125 33.6875 34.8125 36.53125 \r\nQ 39.546875 41.84375 41.421875 45.53125 \r\nQ 43.3125 49.21875 43.3125 52.78125 \r\nQ 43.3125 58.59375 39.234375 62.25 \r\nQ 35.15625 65.921875 28.609375 65.921875 \r\nQ 23.96875 65.921875 18.8125 64.3125 \r\nQ 13.671875 62.703125 7.8125 59.421875 \r\nL 7.8125 69.390625 \r\nQ 13.765625 71.78125 18.9375 73 \r\nQ 24.125 74.21875 28.421875 74.21875 \r\nQ 39.75 74.21875 46.484375 68.546875 \r\nQ 53.21875 62.890625 53.21875 53.421875 \r\nQ 53.21875 48.921875 51.53125 44.890625 \r\nQ 49.859375 40.875 45.40625 35.40625 \r\nQ 44.1875 33.984375 37.640625 27.21875 \r\nQ 31.109375 20.453125 19.1875 8.296875 \r\nz\r\n\" id=\"DejaVuSans-50\"/>\r\n        <path d=\"M 31.78125 66.40625 \r\nQ 24.171875 66.40625 20.328125 58.90625 \r\nQ 16.5 51.421875 16.5 36.375 \r\nQ 16.5 21.390625 20.328125 13.890625 \r\nQ 24.171875 6.390625 31.78125 6.390625 \r\nQ 39.453125 6.390625 43.28125 13.890625 \r\nQ 47.125 21.390625 47.125 36.375 \r\nQ 47.125 51.421875 43.28125 58.90625 \r\nQ 39.453125 66.40625 31.78125 66.40625 \r\nz\r\nM 31.78125 74.21875 \r\nQ 44.046875 74.21875 50.515625 64.515625 \r\nQ 56.984375 54.828125 56.984375 36.375 \r\nQ 56.984375 17.96875 50.515625 8.265625 \r\nQ 44.046875 -1.421875 31.78125 -1.421875 \r\nQ 19.53125 -1.421875 13.0625 8.265625 \r\nQ 6.59375 17.96875 6.59375 36.375 \r\nQ 6.59375 54.828125 13.0625 64.515625 \r\nQ 19.53125 74.21875 31.78125 74.21875 \r\nz\r\n\" id=\"DejaVuSans-48\"/>\r\n        <path d=\"M 33.015625 40.375 \r\nQ 26.375 40.375 22.484375 35.828125 \r\nQ 18.609375 31.296875 18.609375 23.390625 \r\nQ 18.609375 15.53125 22.484375 10.953125 \r\nQ 26.375 6.390625 33.015625 6.390625 \r\nQ 39.65625 6.390625 43.53125 10.953125 \r\nQ 47.40625 15.53125 47.40625 23.390625 \r\nQ 47.40625 31.296875 43.53125 35.828125 \r\nQ 39.65625 40.375 33.015625 40.375 \r\nz\r\nM 52.59375 71.296875 \r\nL 52.59375 62.3125 \r\nQ 48.875 64.0625 45.09375 64.984375 \r\nQ 41.3125 65.921875 37.59375 65.921875 \r\nQ 27.828125 65.921875 22.671875 59.328125 \r\nQ 17.53125 52.734375 16.796875 39.40625 \r\nQ 19.671875 43.65625 24.015625 45.921875 \r\nQ 28.375 48.1875 33.59375 48.1875 \r\nQ 44.578125 48.1875 50.953125 41.515625 \r\nQ 57.328125 34.859375 57.328125 23.390625 \r\nQ 57.328125 12.15625 50.6875 5.359375 \r\nQ 44.046875 -1.421875 33.015625 -1.421875 \r\nQ 20.359375 -1.421875 13.671875 8.265625 \r\nQ 6.984375 17.96875 6.984375 36.375 \r\nQ 6.984375 53.65625 15.1875 63.9375 \r\nQ 23.390625 74.21875 37.203125 74.21875 \r\nQ 40.921875 74.21875 44.703125 73.484375 \r\nQ 48.484375 72.75 52.59375 71.296875 \r\nz\r\n\" id=\"DejaVuSans-54\"/>\r\n       </defs>\r\n       <use xlink:href=\"#DejaVuSans-50\"/>\r\n       <use x=\"63.623047\" xlink:href=\"#DejaVuSans-48\"/>\r\n       <use x=\"127.246094\" xlink:href=\"#DejaVuSans-48\"/>\r\n       <use x=\"190.869141\" xlink:href=\"#DejaVuSans-54\"/>\r\n      </g>\r\n     </g>\r\n    </g>\r\n    <g id=\"xtick_2\">\r\n     <g id=\"line2d_2\">\r\n      <g>\r\n       <use style=\"stroke:#000000;stroke-width:0.8;\" x=\"188.079675\" xlink:href=\"#m13e81740d2\" y=\"351.5175\"/>\r\n      </g>\r\n     </g>\r\n     <g id=\"text_2\">\r\n      <!-- 2008 -->\r\n      <g transform=\"translate(175.354675 366.115937)scale(0.1 -0.1)\">\r\n       <defs>\r\n        <path d=\"M 31.78125 34.625 \r\nQ 24.75 34.625 20.71875 30.859375 \r\nQ 16.703125 27.09375 16.703125 20.515625 \r\nQ 16.703125 13.921875 20.71875 10.15625 \r\nQ 24.75 6.390625 31.78125 6.390625 \r\nQ 38.8125 6.390625 42.859375 10.171875 \r\nQ 46.921875 13.96875 46.921875 20.515625 \r\nQ 46.921875 27.09375 42.890625 30.859375 \r\nQ 38.875 34.625 31.78125 34.625 \r\nz\r\nM 21.921875 38.8125 \r\nQ 15.578125 40.375 12.03125 44.71875 \r\nQ 8.5 49.078125 8.5 55.328125 \r\nQ 8.5 64.0625 14.71875 69.140625 \r\nQ 20.953125 74.21875 31.78125 74.21875 \r\nQ 42.671875 74.21875 48.875 69.140625 \r\nQ 55.078125 64.0625 55.078125 55.328125 \r\nQ 55.078125 49.078125 51.53125 44.71875 \r\nQ 48 40.375 41.703125 38.8125 \r\nQ 48.828125 37.15625 52.796875 32.3125 \r\nQ 56.78125 27.484375 56.78125 20.515625 \r\nQ 56.78125 9.90625 50.3125 4.234375 \r\nQ 43.84375 -1.421875 31.78125 -1.421875 \r\nQ 19.734375 -1.421875 13.25 4.234375 \r\nQ 6.78125 9.90625 6.78125 20.515625 \r\nQ 6.78125 27.484375 10.78125 32.3125 \r\nQ 14.796875 37.15625 21.921875 38.8125 \r\nz\r\nM 18.3125 54.390625 \r\nQ 18.3125 48.734375 21.84375 45.5625 \r\nQ 25.390625 42.390625 31.78125 42.390625 \r\nQ 38.140625 42.390625 41.71875 45.5625 \r\nQ 45.3125 48.734375 45.3125 54.390625 \r\nQ 45.3125 60.0625 41.71875 63.234375 \r\nQ 38.140625 66.40625 31.78125 66.40625 \r\nQ 25.390625 66.40625 21.84375 63.234375 \r\nQ 18.3125 60.0625 18.3125 54.390625 \r\nz\r\n\" id=\"DejaVuSans-56\"/>\r\n       </defs>\r\n       <use xlink:href=\"#DejaVuSans-50\"/>\r\n       <use x=\"63.623047\" xlink:href=\"#DejaVuSans-48\"/>\r\n       <use x=\"127.246094\" xlink:href=\"#DejaVuSans-48\"/>\r\n       <use x=\"190.869141\" xlink:href=\"#DejaVuSans-56\"/>\r\n      </g>\r\n     </g>\r\n    </g>\r\n    <g id=\"xtick_3\">\r\n     <g id=\"line2d_3\">\r\n      <g>\r\n       <use style=\"stroke:#000000;stroke-width:0.8;\" x=\"298.757361\" xlink:href=\"#m13e81740d2\" y=\"351.5175\"/>\r\n      </g>\r\n     </g>\r\n     <g id=\"text_3\">\r\n      <!-- 2010 -->\r\n      <g transform=\"translate(286.032361 366.115937)scale(0.1 -0.1)\">\r\n       <defs>\r\n        <path d=\"M 12.40625 8.296875 \r\nL 28.515625 8.296875 \r\nL 28.515625 63.921875 \r\nL 10.984375 60.40625 \r\nL 10.984375 69.390625 \r\nL 28.421875 72.90625 \r\nL 38.28125 72.90625 \r\nL 38.28125 8.296875 \r\nL 54.390625 8.296875 \r\nL 54.390625 0 \r\nL 12.40625 0 \r\nz\r\n\" id=\"DejaVuSans-49\"/>\r\n       </defs>\r\n       <use xlink:href=\"#DejaVuSans-50\"/>\r\n       <use x=\"63.623047\" xlink:href=\"#DejaVuSans-48\"/>\r\n       <use x=\"127.246094\" xlink:href=\"#DejaVuSans-49\"/>\r\n       <use x=\"190.869141\" xlink:href=\"#DejaVuSans-48\"/>\r\n      </g>\r\n     </g>\r\n    </g>\r\n    <g id=\"xtick_4\">\r\n     <g id=\"line2d_4\">\r\n      <g>\r\n       <use style=\"stroke:#000000;stroke-width:0.8;\" x=\"409.435046\" xlink:href=\"#m13e81740d2\" y=\"351.5175\"/>\r\n      </g>\r\n     </g>\r\n     <g id=\"text_4\">\r\n      <!-- 2012 -->\r\n      <g transform=\"translate(396.710046 366.115937)scale(0.1 -0.1)\">\r\n       <use xlink:href=\"#DejaVuSans-50\"/>\r\n       <use x=\"63.623047\" xlink:href=\"#DejaVuSans-48\"/>\r\n       <use x=\"127.246094\" xlink:href=\"#DejaVuSans-49\"/>\r\n       <use x=\"190.869141\" xlink:href=\"#DejaVuSans-50\"/>\r\n      </g>\r\n     </g>\r\n    </g>\r\n    <g id=\"xtick_5\">\r\n     <g id=\"line2d_5\">\r\n      <g>\r\n       <use style=\"stroke:#000000;stroke-width:0.8;\" x=\"520.112732\" xlink:href=\"#m13e81740d2\" y=\"351.5175\"/>\r\n      </g>\r\n     </g>\r\n     <g id=\"text_5\">\r\n      <!-- 2014 -->\r\n      <g transform=\"translate(507.387732 366.115937)scale(0.1 -0.1)\">\r\n       <defs>\r\n        <path d=\"M 37.796875 64.3125 \r\nL 12.890625 25.390625 \r\nL 37.796875 25.390625 \r\nz\r\nM 35.203125 72.90625 \r\nL 47.609375 72.90625 \r\nL 47.609375 25.390625 \r\nL 58.015625 25.390625 \r\nL 58.015625 17.1875 \r\nL 47.609375 17.1875 \r\nL 47.609375 0 \r\nL 37.796875 0 \r\nL 37.796875 17.1875 \r\nL 4.890625 17.1875 \r\nL 4.890625 26.703125 \r\nz\r\n\" id=\"DejaVuSans-52\"/>\r\n       </defs>\r\n       <use xlink:href=\"#DejaVuSans-50\"/>\r\n       <use x=\"63.623047\" xlink:href=\"#DejaVuSans-48\"/>\r\n       <use x=\"127.246094\" xlink:href=\"#DejaVuSans-49\"/>\r\n       <use x=\"190.869141\" xlink:href=\"#DejaVuSans-52\"/>\r\n      </g>\r\n     </g>\r\n    </g>\r\n    <g id=\"xtick_6\">\r\n     <g id=\"line2d_6\">\r\n      <g>\r\n       <use style=\"stroke:#000000;stroke-width:0.8;\" x=\"630.790418\" xlink:href=\"#m13e81740d2\" y=\"351.5175\"/>\r\n      </g>\r\n     </g>\r\n     <g id=\"text_6\">\r\n      <!-- 2016 -->\r\n      <g transform=\"translate(618.065418 366.115937)scale(0.1 -0.1)\">\r\n       <use xlink:href=\"#DejaVuSans-50\"/>\r\n       <use x=\"63.623047\" xlink:href=\"#DejaVuSans-48\"/>\r\n       <use x=\"127.246094\" xlink:href=\"#DejaVuSans-49\"/>\r\n       <use x=\"190.869141\" xlink:href=\"#DejaVuSans-54\"/>\r\n      </g>\r\n     </g>\r\n    </g>\r\n    <g id=\"text_7\">\r\n     <!-- Year -->\r\n     <g transform=\"translate(371.178125 379.794062)scale(0.1 -0.1)\">\r\n      <defs>\r\n       <path d=\"M -0.203125 72.90625 \r\nL 10.40625 72.90625 \r\nL 30.609375 42.921875 \r\nL 50.6875 72.90625 \r\nL 61.28125 72.90625 \r\nL 35.5 34.71875 \r\nL 35.5 0 \r\nL 25.59375 0 \r\nL 25.59375 34.71875 \r\nz\r\n\" id=\"DejaVuSans-89\"/>\r\n       <path d=\"M 56.203125 29.59375 \r\nL 56.203125 25.203125 \r\nL 14.890625 25.203125 \r\nQ 15.484375 15.921875 20.484375 11.0625 \r\nQ 25.484375 6.203125 34.421875 6.203125 \r\nQ 39.59375 6.203125 44.453125 7.46875 \r\nQ 49.3125 8.734375 54.109375 11.28125 \r\nL 54.109375 2.78125 \r\nQ 49.265625 0.734375 44.1875 -0.34375 \r\nQ 39.109375 -1.421875 33.890625 -1.421875 \r\nQ 20.796875 -1.421875 13.15625 6.1875 \r\nQ 5.515625 13.8125 5.515625 26.8125 \r\nQ 5.515625 40.234375 12.765625 48.109375 \r\nQ 20.015625 56 32.328125 56 \r\nQ 43.359375 56 49.78125 48.890625 \r\nQ 56.203125 41.796875 56.203125 29.59375 \r\nz\r\nM 47.21875 32.234375 \r\nQ 47.125 39.59375 43.09375 43.984375 \r\nQ 39.0625 48.390625 32.421875 48.390625 \r\nQ 24.90625 48.390625 20.390625 44.140625 \r\nQ 15.875 39.890625 15.1875 32.171875 \r\nz\r\n\" id=\"DejaVuSans-101\"/>\r\n       <path d=\"M 34.28125 27.484375 \r\nQ 23.390625 27.484375 19.1875 25 \r\nQ 14.984375 22.515625 14.984375 16.5 \r\nQ 14.984375 11.71875 18.140625 8.90625 \r\nQ 21.296875 6.109375 26.703125 6.109375 \r\nQ 34.1875 6.109375 38.703125 11.40625 \r\nQ 43.21875 16.703125 43.21875 25.484375 \r\nL 43.21875 27.484375 \r\nz\r\nM 52.203125 31.203125 \r\nL 52.203125 0 \r\nL 43.21875 0 \r\nL 43.21875 8.296875 \r\nQ 40.140625 3.328125 35.546875 0.953125 \r\nQ 30.953125 -1.421875 24.3125 -1.421875 \r\nQ 15.921875 -1.421875 10.953125 3.296875 \r\nQ 6 8.015625 6 15.921875 \r\nQ 6 25.140625 12.171875 29.828125 \r\nQ 18.359375 34.515625 30.609375 34.515625 \r\nL 43.21875 34.515625 \r\nL 43.21875 35.40625 \r\nQ 43.21875 41.609375 39.140625 45 \r\nQ 35.0625 48.390625 27.6875 48.390625 \r\nQ 23 48.390625 18.546875 47.265625 \r\nQ 14.109375 46.140625 10.015625 43.890625 \r\nL 10.015625 52.203125 \r\nQ 14.9375 54.109375 19.578125 55.046875 \r\nQ 24.21875 56 28.609375 56 \r\nQ 40.484375 56 46.34375 49.84375 \r\nQ 52.203125 43.703125 52.203125 31.203125 \r\nz\r\n\" id=\"DejaVuSans-97\"/>\r\n       <path d=\"M 41.109375 46.296875 \r\nQ 39.59375 47.171875 37.8125 47.578125 \r\nQ 36.03125 48 33.890625 48 \r\nQ 26.265625 48 22.1875 43.046875 \r\nQ 18.109375 38.09375 18.109375 28.8125 \r\nL 18.109375 0 \r\nL 9.078125 0 \r\nL 9.078125 54.6875 \r\nL 18.109375 54.6875 \r\nL 18.109375 46.1875 \r\nQ 20.953125 51.171875 25.484375 53.578125 \r\nQ 30.03125 56 36.53125 56 \r\nQ 37.453125 56 38.578125 55.875 \r\nQ 39.703125 55.765625 41.0625 55.515625 \r\nz\r\n\" id=\"DejaVuSans-114\"/>\r\n      </defs>\r\n      <use xlink:href=\"#DejaVuSans-89\"/>\r\n      <use x=\"47.833984\" xlink:href=\"#DejaVuSans-101\"/>\r\n      <use x=\"109.357422\" xlink:href=\"#DejaVuSans-97\"/>\r\n      <use x=\"170.636719\" xlink:href=\"#DejaVuSans-114\"/>\r\n     </g>\r\n    </g>\r\n   </g>\r\n   <g id=\"matplotlib.axis_2\">\r\n    <g id=\"ytick_1\">\r\n     <g id=\"line2d_7\">\r\n      <defs>\r\n       <path d=\"M 0 0 \r\nL -3.5 0 \r\n\" id=\"mded456ff43\" style=\"stroke:#000000;stroke-width:0.8;\"/>\r\n      </defs>\r\n      <g>\r\n       <use style=\"stroke:#000000;stroke-width:0.8;\" x=\"46.965625\" xlink:href=\"#mded456ff43\" y=\"307.154741\"/>\r\n      </g>\r\n     </g>\r\n     <g id=\"text_8\">\r\n      <!-- 50 -->\r\n      <g transform=\"translate(27.240625 310.95396)scale(0.1 -0.1)\">\r\n       <defs>\r\n        <path d=\"M 10.796875 72.90625 \r\nL 49.515625 72.90625 \r\nL 49.515625 64.59375 \r\nL 19.828125 64.59375 \r\nL 19.828125 46.734375 \r\nQ 21.96875 47.46875 24.109375 47.828125 \r\nQ 26.265625 48.1875 28.421875 48.1875 \r\nQ 40.625 48.1875 47.75 41.5 \r\nQ 54.890625 34.8125 54.890625 23.390625 \r\nQ 54.890625 11.625 47.5625 5.09375 \r\nQ 40.234375 -1.421875 26.90625 -1.421875 \r\nQ 22.3125 -1.421875 17.546875 -0.640625 \r\nQ 12.796875 0.140625 7.71875 1.703125 \r\nL 7.71875 11.625 \r\nQ 12.109375 9.234375 16.796875 8.0625 \r\nQ 21.484375 6.890625 26.703125 6.890625 \r\nQ 35.15625 6.890625 40.078125 11.328125 \r\nQ 45.015625 15.765625 45.015625 23.390625 \r\nQ 45.015625 31 40.078125 35.4375 \r\nQ 35.15625 39.890625 26.703125 39.890625 \r\nQ 22.75 39.890625 18.8125 39.015625 \r\nQ 14.890625 38.140625 10.796875 36.28125 \r\nz\r\n\" id=\"DejaVuSans-53\"/>\r\n       </defs>\r\n       <use xlink:href=\"#DejaVuSans-53\"/>\r\n       <use x=\"63.623047\" xlink:href=\"#DejaVuSans-48\"/>\r\n      </g>\r\n     </g>\r\n    </g>\r\n    <g id=\"ytick_2\">\r\n     <g id=\"line2d_8\">\r\n      <g>\r\n       <use style=\"stroke:#000000;stroke-width:0.8;\" x=\"46.965625\" xlink:href=\"#mded456ff43\" y=\"250.352234\"/>\r\n      </g>\r\n     </g>\r\n     <g id=\"text_9\">\r\n      <!-- 100 -->\r\n      <g transform=\"translate(20.878125 254.151452)scale(0.1 -0.1)\">\r\n       <use xlink:href=\"#DejaVuSans-49\"/>\r\n       <use x=\"63.623047\" xlink:href=\"#DejaVuSans-48\"/>\r\n       <use x=\"127.246094\" xlink:href=\"#DejaVuSans-48\"/>\r\n      </g>\r\n     </g>\r\n    </g>\r\n    <g id=\"ytick_3\">\r\n     <g id=\"line2d_9\">\r\n      <g>\r\n       <use style=\"stroke:#000000;stroke-width:0.8;\" x=\"46.965625\" xlink:href=\"#mded456ff43\" y=\"193.549726\"/>\r\n      </g>\r\n     </g>\r\n     <g id=\"text_10\">\r\n      <!-- 150 -->\r\n      <g transform=\"translate(20.878125 197.348944)scale(0.1 -0.1)\">\r\n       <use xlink:href=\"#DejaVuSans-49\"/>\r\n       <use x=\"63.623047\" xlink:href=\"#DejaVuSans-53\"/>\r\n       <use x=\"127.246094\" xlink:href=\"#DejaVuSans-48\"/>\r\n      </g>\r\n     </g>\r\n    </g>\r\n    <g id=\"ytick_4\">\r\n     <g id=\"line2d_10\">\r\n      <g>\r\n       <use style=\"stroke:#000000;stroke-width:0.8;\" x=\"46.965625\" xlink:href=\"#mded456ff43\" y=\"136.747218\"/>\r\n      </g>\r\n     </g>\r\n     <g id=\"text_11\">\r\n      <!-- 200 -->\r\n      <g transform=\"translate(20.878125 140.546437)scale(0.1 -0.1)\">\r\n       <use xlink:href=\"#DejaVuSans-50\"/>\r\n       <use x=\"63.623047\" xlink:href=\"#DejaVuSans-48\"/>\r\n       <use x=\"127.246094\" xlink:href=\"#DejaVuSans-48\"/>\r\n      </g>\r\n     </g>\r\n    </g>\r\n    <g id=\"ytick_5\">\r\n     <g id=\"line2d_11\">\r\n      <g>\r\n       <use style=\"stroke:#000000;stroke-width:0.8;\" x=\"46.965625\" xlink:href=\"#mded456ff43\" y=\"79.94471\"/>\r\n      </g>\r\n     </g>\r\n     <g id=\"text_12\">\r\n      <!-- 250 -->\r\n      <g transform=\"translate(20.878125 83.743929)scale(0.1 -0.1)\">\r\n       <use xlink:href=\"#DejaVuSans-50\"/>\r\n       <use x=\"63.623047\" xlink:href=\"#DejaVuSans-53\"/>\r\n       <use x=\"127.246094\" xlink:href=\"#DejaVuSans-48\"/>\r\n      </g>\r\n     </g>\r\n    </g>\r\n    <g id=\"text_13\">\r\n     <!-- Reviews -->\r\n     <g transform=\"translate(14.798438 208.882031)rotate(-90)scale(0.1 -0.1)\">\r\n      <defs>\r\n       <path d=\"M 44.390625 34.1875 \r\nQ 47.5625 33.109375 50.5625 29.59375 \r\nQ 53.5625 26.078125 56.59375 19.921875 \r\nL 66.609375 0 \r\nL 56 0 \r\nL 46.6875 18.703125 \r\nQ 43.0625 26.03125 39.671875 28.421875 \r\nQ 36.28125 30.8125 30.421875 30.8125 \r\nL 19.671875 30.8125 \r\nL 19.671875 0 \r\nL 9.8125 0 \r\nL 9.8125 72.90625 \r\nL 32.078125 72.90625 \r\nQ 44.578125 72.90625 50.734375 67.671875 \r\nQ 56.890625 62.453125 56.890625 51.90625 \r\nQ 56.890625 45.015625 53.6875 40.46875 \r\nQ 50.484375 35.9375 44.390625 34.1875 \r\nz\r\nM 19.671875 64.796875 \r\nL 19.671875 38.921875 \r\nL 32.078125 38.921875 \r\nQ 39.203125 38.921875 42.84375 42.21875 \r\nQ 46.484375 45.515625 46.484375 51.90625 \r\nQ 46.484375 58.296875 42.84375 61.546875 \r\nQ 39.203125 64.796875 32.078125 64.796875 \r\nz\r\n\" id=\"DejaVuSans-82\"/>\r\n       <path d=\"M 2.984375 54.6875 \r\nL 12.5 54.6875 \r\nL 29.59375 8.796875 \r\nL 46.6875 54.6875 \r\nL 56.203125 54.6875 \r\nL 35.6875 0 \r\nL 23.484375 0 \r\nz\r\n\" id=\"DejaVuSans-118\"/>\r\n       <path d=\"M 9.421875 54.6875 \r\nL 18.40625 54.6875 \r\nL 18.40625 0 \r\nL 9.421875 0 \r\nz\r\nM 9.421875 75.984375 \r\nL 18.40625 75.984375 \r\nL 18.40625 64.59375 \r\nL 9.421875 64.59375 \r\nz\r\n\" id=\"DejaVuSans-105\"/>\r\n       <path d=\"M 4.203125 54.6875 \r\nL 13.1875 54.6875 \r\nL 24.421875 12.015625 \r\nL 35.59375 54.6875 \r\nL 46.1875 54.6875 \r\nL 57.421875 12.015625 \r\nL 68.609375 54.6875 \r\nL 77.59375 54.6875 \r\nL 63.28125 0 \r\nL 52.6875 0 \r\nL 40.921875 44.828125 \r\nL 29.109375 0 \r\nL 18.5 0 \r\nz\r\n\" id=\"DejaVuSans-119\"/>\r\n       <path d=\"M 44.28125 53.078125 \r\nL 44.28125 44.578125 \r\nQ 40.484375 46.53125 36.375 47.5 \r\nQ 32.28125 48.484375 27.875 48.484375 \r\nQ 21.1875 48.484375 17.84375 46.4375 \r\nQ 14.5 44.390625 14.5 40.28125 \r\nQ 14.5 37.15625 16.890625 35.375 \r\nQ 19.28125 33.59375 26.515625 31.984375 \r\nL 29.59375 31.296875 \r\nQ 39.15625 29.25 43.1875 25.515625 \r\nQ 47.21875 21.78125 47.21875 15.09375 \r\nQ 47.21875 7.46875 41.1875 3.015625 \r\nQ 35.15625 -1.421875 24.609375 -1.421875 \r\nQ 20.21875 -1.421875 15.453125 -0.5625 \r\nQ 10.6875 0.296875 5.421875 2 \r\nL 5.421875 11.28125 \r\nQ 10.40625 8.6875 15.234375 7.390625 \r\nQ 20.0625 6.109375 24.8125 6.109375 \r\nQ 31.15625 6.109375 34.5625 8.28125 \r\nQ 37.984375 10.453125 37.984375 14.40625 \r\nQ 37.984375 18.0625 35.515625 20.015625 \r\nQ 33.0625 21.96875 24.703125 23.78125 \r\nL 21.578125 24.515625 \r\nQ 13.234375 26.265625 9.515625 29.90625 \r\nQ 5.8125 33.546875 5.8125 39.890625 \r\nQ 5.8125 47.609375 11.28125 51.796875 \r\nQ 16.75 56 26.8125 56 \r\nQ 31.78125 56 36.171875 55.265625 \r\nQ 40.578125 54.546875 44.28125 53.078125 \r\nz\r\n\" id=\"DejaVuSans-115\"/>\r\n      </defs>\r\n      <use xlink:href=\"#DejaVuSans-82\"/>\r\n      <use x=\"64.982422\" xlink:href=\"#DejaVuSans-101\"/>\r\n      <use x=\"126.505859\" xlink:href=\"#DejaVuSans-118\"/>\r\n      <use x=\"185.685547\" xlink:href=\"#DejaVuSans-105\"/>\r\n      <use x=\"213.46875\" xlink:href=\"#DejaVuSans-101\"/>\r\n      <use x=\"274.992188\" xlink:href=\"#DejaVuSans-119\"/>\r\n      <use x=\"356.779297\" xlink:href=\"#DejaVuSans-115\"/>\r\n     </g>\r\n    </g>\r\n   </g>\r\n   <g id=\"line2d_12\">\r\n    <path clip-path=\"url(#p3e671d0905)\" d=\"M 77.401989 282.161638 \r\nL 132.740832 276.481387 \r\nL 188.079675 258.304585 \r\nL 243.418518 224.22308 \r\nL 298.757361 237.855682 \r\nL 354.096204 176.508973 \r\nL 409.435046 142.427469 \r\nL 464.773889 154.92402 \r\nL 520.112732 83.352861 \r\nL 575.451575 40.182955 \r\nL 630.790418 115.162265 \r\nL 686.129261 336.692045 \r\n\" style=\"fill:none;stroke:#1f77b4;stroke-linecap:square;stroke-width:1.5;\"/>\r\n   </g>\r\n   <g id=\"patch_3\">\r\n    <path d=\"M 46.965625 351.5175 \r\nL 46.965625 25.3575 \r\n\" style=\"fill:none;stroke:#000000;stroke-linecap:square;stroke-linejoin:miter;stroke-width:0.8;\"/>\r\n   </g>\r\n   <g id=\"patch_4\">\r\n    <path d=\"M 716.565625 351.5175 \r\nL 716.565625 25.3575 \r\n\" style=\"fill:none;stroke:#000000;stroke-linecap:square;stroke-linejoin:miter;stroke-width:0.8;\"/>\r\n   </g>\r\n   <g id=\"patch_5\">\r\n    <path d=\"M 46.965625 351.5175 \r\nL 716.565625 351.5175 \r\n\" style=\"fill:none;stroke:#000000;stroke-linecap:square;stroke-linejoin:miter;stroke-width:0.8;\"/>\r\n   </g>\r\n   <g id=\"patch_6\">\r\n    <path d=\"M 46.965625 25.3575 \r\nL 716.565625 25.3575 \r\n\" style=\"fill:none;stroke:#000000;stroke-linecap:square;stroke-linejoin:miter;stroke-width:0.8;\"/>\r\n   </g>\r\n   <g id=\"text_14\">\r\n    <!-- Reviews Per Year -->\r\n    <g transform=\"translate(314.284375 19.3575)scale(0.16 -0.16)\">\r\n     <defs>\r\n      <path id=\"DejaVuSans-32\"/>\r\n      <path d=\"M 19.671875 64.796875 \r\nL 19.671875 37.40625 \r\nL 32.078125 37.40625 \r\nQ 38.96875 37.40625 42.71875 40.96875 \r\nQ 46.484375 44.53125 46.484375 51.125 \r\nQ 46.484375 57.671875 42.71875 61.234375 \r\nQ 38.96875 64.796875 32.078125 64.796875 \r\nz\r\nM 9.8125 72.90625 \r\nL 32.078125 72.90625 \r\nQ 44.34375 72.90625 50.609375 67.359375 \r\nQ 56.890625 61.8125 56.890625 51.125 \r\nQ 56.890625 40.328125 50.609375 34.8125 \r\nQ 44.34375 29.296875 32.078125 29.296875 \r\nL 19.671875 29.296875 \r\nL 19.671875 0 \r\nL 9.8125 0 \r\nz\r\n\" id=\"DejaVuSans-80\"/>\r\n     </defs>\r\n     <use xlink:href=\"#DejaVuSans-82\"/>\r\n     <use x=\"64.982422\" xlink:href=\"#DejaVuSans-101\"/>\r\n     <use x=\"126.505859\" xlink:href=\"#DejaVuSans-118\"/>\r\n     <use x=\"185.685547\" xlink:href=\"#DejaVuSans-105\"/>\r\n     <use x=\"213.46875\" xlink:href=\"#DejaVuSans-101\"/>\r\n     <use x=\"274.992188\" xlink:href=\"#DejaVuSans-119\"/>\r\n     <use x=\"356.779297\" xlink:href=\"#DejaVuSans-115\"/>\r\n     <use x=\"408.878906\" xlink:href=\"#DejaVuSans-32\"/>\r\n     <use x=\"440.666016\" xlink:href=\"#DejaVuSans-80\"/>\r\n     <use x=\"497.34375\" xlink:href=\"#DejaVuSans-101\"/>\r\n     <use x=\"558.867188\" xlink:href=\"#DejaVuSans-114\"/>\r\n     <use x=\"599.980469\" xlink:href=\"#DejaVuSans-32\"/>\r\n     <use x=\"631.767578\" xlink:href=\"#DejaVuSans-89\"/>\r\n     <use x=\"679.601562\" xlink:href=\"#DejaVuSans-101\"/>\r\n     <use x=\"741.125\" xlink:href=\"#DejaVuSans-97\"/>\r\n     <use x=\"802.404297\" xlink:href=\"#DejaVuSans-114\"/>\r\n    </g>\r\n   </g>\r\n  </g>\r\n </g>\r\n <defs>\r\n  <clipPath id=\"p3e671d0905\">\r\n   <rect height=\"326.16\" width=\"669.6\" x=\"46.965625\" y=\"25.3575\"/>\r\n  </clipPath>\r\n </defs>\r\n</svg>\r\n",
      "image/png": "[encoded data removed]"
     },
     "metadata": {
      "needs_background": "light"
     }
    }
   ],
   "source": [
    "# Reviews Per Year Visualization\n",
    "visual_s = df.groupby('Review Date').count().Company\n",
    "plt.figure(figsize = (12, 6))\n",
    "plt.plot(visual_s.index, visual_s.values)\n",
    "plt.title('Reviews Per Year', fontsize = 16)\n",
    "plt.xlabel('Year')\n",
    "plt.ylabel('Reviews')\n",
    "plt.show()"
   ]
  },
  {
   "cell_type": "markdown",
   "metadata": {
    "colab_type": "text",
    "id": "T-or1La-c6y7"
   },
   "source": [
    "---"
   ]
  },
  {
   "cell_type": "markdown",
   "metadata": {
    "colab_type": "text",
    "id": "mX_nMXjMdrVT"
   },
   "source": [
    "### Column: Rating"
   ]
  },
  {
   "cell_type": "markdown",
   "metadata": {
    "colab_type": "text",
    "id": "k_GIPUeC08Gz"
   },
   "source": [
    "We have now made it to the rating column. The rating is the \"*expert rating for the bar*.\"  From the [documentation](https://www.kaggle.com/rtatman/chocolate-bar-ratings), the possible ratings are:\n",
    "\n",
    "Rating | Meaning\n",
    "-------|---------\n",
    "5 | Elite (Transcending beyond the ordinary limits)\n",
    "4 | Premium (Superior flavor development, character and style)\n",
    "3 | Satisfactory (3.0) to praiseworthy(3.75) (well made with special qualities)\n",
    "2 | Disappointing (Passable but contains at least one significant flaw)\n",
    "1 | Unpleasant (mostly unpalatable)\n",
    "\n",
    "Let's take a look at ratings. First off, are any missing?"
   ]
  },
  {
   "cell_type": "code",
   "execution_count": 53,
   "metadata": {
    "colab": {},
    "colab_type": "code",
    "id": "mbpdYmLt3vam"
   },
   "outputs": [
    {
     "output_type": "execute_result",
     "data": {
      "text/plain": [
       "False"
      ]
     },
     "metadata": {},
     "execution_count": 53
    }
   ],
   "source": [
    "df['Rating'].isna().any()"
   ]
  },
  {
   "cell_type": "markdown",
   "metadata": {
    "colab_type": "text",
    "id": "Vgj0-juX30CC"
   },
   "source": [
    "Nothing missing. Let's describe the column of data."
   ]
  },
  {
   "cell_type": "code",
   "execution_count": 54,
   "metadata": {
    "colab": {},
    "colab_type": "code",
    "id": "ux0NkE4X33A-"
   },
   "outputs": [
    {
     "output_type": "execute_result",
     "data": {
      "text/plain": [
       "count    1795.000000\n",
       "mean        3.185933\n",
       "std         0.478062\n",
       "min         1.000000\n",
       "25%         2.875000\n",
       "50%         3.250000\n",
       "75%         3.500000\n",
       "max         5.000000\n",
       "Name: Rating, dtype: float64"
      ]
     },
     "metadata": {},
     "execution_count": 54
    }
   ],
   "source": [
    "df['Rating'].describe()"
   ]
  },
  {
   "cell_type": "markdown",
   "metadata": {
    "colab_type": "text",
    "id": "I8bbhS454MRY"
   },
   "source": [
    "It looks like our ratings are indeed floating point values and that they range from 1.0 to 5.0. But are they really continuous?"
   ]
  },
  {
   "cell_type": "code",
   "execution_count": 55,
   "metadata": {
    "colab": {},
    "colab_type": "code",
    "id": "M8Sh68jo4TPO"
   },
   "outputs": [
    {
     "output_type": "execute_result",
     "data": {
      "text/plain": [
       "[1.0, 1.5, 1.75, 2.0, 2.25, 2.5, 2.75, 3.0, 3.25, 3.5, 3.75, 4.0, 5.0]"
      ]
     },
     "metadata": {},
     "execution_count": 55
    }
   ],
   "source": [
    "sorted(df['Rating'].unique())"
   ]
  },
  {
   "cell_type": "markdown",
   "metadata": {
    "colab_type": "text",
    "id": "06Xu3zAoyI1R"
   },
   "source": [
    "Interestingly enough, the values don't seem to be continuous, but instead seem to be divided into quarters. Instead of infinite possible values between 1.0 and 5.0, we really have 17 possible values: 1.0, 1.25, 1.5, 1.75, 2.0, 2.25, 2.5, 2.75, 3.0, 3.25, 3.5, 3.75, 4.0, 4.25, 4.5, 4.75, 5.0.\n",
    "\n",
    "What does this mean for us?\n",
    "\n",
    "It means that downstream we might be able to use a regression or categorical model in order to predict these values.\n",
    "\n",
    "If we think about the ratings numbers, their relative position matters. For example, a 4.0 chocolate is better than a 2.0 chocolate. But does the magnitude matter? Is a 4.0 chocolate twice as good as a 2.0 chocolate? What does that even mean?\n",
    "\n",
    "Let's set our modelers up for success and create a new column that they can use to potentially build models for our data."
   ]
  },
  {
   "cell_type": "markdown",
   "metadata": {
    "colab_type": "text",
    "id": "31Ca5wI4zqA_"
   },
   "source": [
    "#### Exercise 8: Ratings as Categories\n",
    "\n",
    "In this exercise we are going to create a new column called 'Grade'. Grade is a categorical rating system that maps the following ratings to grades:\n",
    "\n",
    "Rating | Grade\n",
    "-------|------\n",
    "5.00   | A\n",
    "4.75   | B\n",
    "4.50   | C\n",
    "4.25   | D\n",
    "4.00   | E\n",
    "3.75   | F\n",
    "3.50   | G\n",
    "3.25   | H\n",
    "3.00   | I\n",
    "2.75   | J\n",
    "2.50   | K\n",
    "2.25   | L\n",
    "2.00   | M\n",
    "1.75   | N\n",
    "1.50   | O\n",
    "1.25   | P\n",
    "1.00   | Q\n",
    "\n",
    "Create the 'Grade' column and add it to our chocolate bar `DataFrame`."
   ]
  },
  {
   "cell_type": "markdown",
   "metadata": {
    "colab_type": "text",
    "id": "l8taMl3U0cv2"
   },
   "source": [
    "**Student Solution**"
   ]
  },
  {
   "cell_type": "code",
   "execution_count": 56,
   "metadata": {
    "colab": {},
    "colab_type": "code",
    "id": "3ZvVNGDe0cNw"
   },
   "outputs": [
    {
     "output_type": "execute_result",
     "data": {
      "text/plain": [
       "    Company Company Location Bean Type Specific Bean Origin Broad Bean Origin  \\\n",
       "0  A. Morin           France   Unknown          Agua Grande          Sao Tome   \n",
       "1  A. Morin           France   Unknown                Kpime              Togo   \n",
       "2  A. Morin           France   Unknown               Atsane              Togo   \n",
       "3  A. Morin           France   Unknown                Akata              Togo   \n",
       "4  A. Morin           France   Unknown               Quilla              Peru   \n",
       "\n",
       "   Cocoa Percent   REF  Review Date  Rating Grade  \n",
       "0           63.0  1876         2016    3.75     F  \n",
       "1           70.0  1676         2015    2.75     J  \n",
       "2           70.0  1676         2015    3.00     I  \n",
       "3           70.0  1680         2015    3.50     G  \n",
       "4           70.0  1704         2015    3.50     G  "
      ],
      "text/html": "<div>\n<style scoped>\n    .dataframe tbody tr th:only-of-type {\n        vertical-align: middle;\n    }\n\n    .dataframe tbody tr th {\n        vertical-align: top;\n    }\n\n    .dataframe thead th {\n        text-align: right;\n    }\n</style>\n<table border=\"1\" class=\"dataframe\">\n  <thead>\n    <tr style=\"text-align: right;\">\n      <th></th>\n      <th>Company</th>\n      <th>Company Location</th>\n      <th>Bean Type</th>\n      <th>Specific Bean Origin</th>\n      <th>Broad Bean Origin</th>\n      <th>Cocoa Percent</th>\n      <th>REF</th>\n      <th>Review Date</th>\n      <th>Rating</th>\n      <th>Grade</th>\n    </tr>\n  </thead>\n  <tbody>\n    <tr>\n      <th>0</th>\n      <td>A. Morin</td>\n      <td>France</td>\n      <td>Unknown</td>\n      <td>Agua Grande</td>\n      <td>Sao Tome</td>\n      <td>63.0</td>\n      <td>1876</td>\n      <td>2016</td>\n      <td>3.75</td>\n      <td>F</td>\n    </tr>\n    <tr>\n      <th>1</th>\n      <td>A. Morin</td>\n      <td>France</td>\n      <td>Unknown</td>\n      <td>Kpime</td>\n      <td>Togo</td>\n      <td>70.0</td>\n      <td>1676</td>\n      <td>2015</td>\n      <td>2.75</td>\n      <td>J</td>\n    </tr>\n    <tr>\n      <th>2</th>\n      <td>A. Morin</td>\n      <td>France</td>\n      <td>Unknown</td>\n      <td>Atsane</td>\n      <td>Togo</td>\n      <td>70.0</td>\n      <td>1676</td>\n      <td>2015</td>\n      <td>3.00</td>\n      <td>I</td>\n    </tr>\n    <tr>\n      <th>3</th>\n      <td>A. Morin</td>\n      <td>France</td>\n      <td>Unknown</td>\n      <td>Akata</td>\n      <td>Togo</td>\n      <td>70.0</td>\n      <td>1680</td>\n      <td>2015</td>\n      <td>3.50</td>\n      <td>G</td>\n    </tr>\n    <tr>\n      <th>4</th>\n      <td>A. Morin</td>\n      <td>France</td>\n      <td>Unknown</td>\n      <td>Quilla</td>\n      <td>Peru</td>\n      <td>70.0</td>\n      <td>1704</td>\n      <td>2015</td>\n      <td>3.50</td>\n      <td>G</td>\n    </tr>\n  </tbody>\n</table>\n</div>"
     },
     "metadata": {},
     "execution_count": 56
    }
   ],
   "source": [
    "# Your Code Goes Here\n",
    "rating = [5.00, 4.75, 4.50, 4.25, 4.00, 3.75, 3.50, 3.25, 3.00, 2.75, 2.50, 2.25, 2.00, 1.75, 1.50, 1.25, 1.00]\n",
    "grade = list('ABCDEFGHIJKLMNOPQ')\n",
    "grade_df = pd.DataFrame({'Rating' : rating, 'Grade' : grade})\n",
    "\n",
    "df = df.merge(grade_df, on = 'Rating', how = 'left')\n",
    "df.head()"
   ]
  },
  {
   "cell_type": "markdown",
   "metadata": {
    "colab_type": "text",
    "id": "sOKQItqF0gR3"
   },
   "source": [
    "---"
   ]
  },
  {
   "cell_type": "markdown",
   "metadata": {
    "colab_type": "text",
    "id": "e0E6_seMAPNg"
   },
   "source": [
    "## Onward\n",
    "\n",
    "We've now explored every column in our dataset. We have filled in missing values and repaired obviously bad data.\n",
    "\n",
    "As you can imagine, you can spend near infinite time trying to get a dataset into shape for analysis and modeling. It is common to hear that up to 60% to 80% of a data scientist's time is spent working on the data before it is fed to a model!\n",
    "\n",
    "In this lab, we only tried to get the data into the state that it was intended to be in. Once we get into modeling, we will learn even more data manipulation techniques that need to be used in order to get models to train well on the data.\n",
    "\n",
    "But we aren't quite ready for model building yet. There is still more Exploratory Data Analysis (EDA) to do. In part 2 of this unit, we will look more closely at the relationships between the columns."
   ]
  }
 ],
 "metadata": {
  "colab": {
   "collapsed_sections": [
    "copyright",
    "xi_YNmlW-Cm0",
    "VJtC2KkqLXHL",
    "PEb_Kz9MSAeQ",
    "j8pEWWVjTLNJ",
    "zU1-9OnmvsLd",
    "uRWrqLn_c3lF"
   ],
   "include_colab_link": true,
   "name": "Exploratory Data Analysis: Part 1 - Data Preprocessing",
   "private_outputs": true,
   "provenance": [],
   "toc_visible": true
  },
  "kernelspec": {
   "display_name": "Python 3",
   "language": "python",
   "name": "python3"
  },
  "language_info": {
   "codemirror_mode": {
    "name": "ipython",
    "version": 3
   },
   "file_extension": ".py",
   "mimetype": "text/x-python",
   "name": "python",
   "nbconvert_exporter": "python",
   "pygments_lexer": "ipython3",
   "version": "3.8.7-final"
  }
 },
 "nbformat": 4,
 "nbformat_minor": 1
}