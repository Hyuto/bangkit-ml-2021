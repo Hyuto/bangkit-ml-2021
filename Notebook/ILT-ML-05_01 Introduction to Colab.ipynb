{
 "cells": [
  {
   "cell_type": "markdown",
   "metadata": {
    "colab_type": "text",
    "id": "dbFvArrIXqfN"
   },
   "source": [
    "# Introduction to Colab"
   ]
  },
  {
   "cell_type": "markdown",
   "metadata": {
    "colab_type": "text",
    "id": "daV71zU2X1zE"
   },
   "source": [
    "In this unit we will explore [Colaboratory](https://colab.research.google.com/) (Colab for short). Colab is a tool for notebook-based programming. This style of programming turns out to be a great platform for machine learning education and research!\n",
    "\n",
    "A **notebook** is a file that contains code, documentation, and output from the execution of the code. [Jupyter](https://jupyter.org/) is currently the most popular form of notebook.\n",
    "\n",
    "Jupyter notebooks can be edited and executed locally. It turns out that they are also very effective when they are hosted in the cloud. **Colab** is just that. Colab is a platform that stores notebooks in Google Drive and executes the code in the notebooks on virtual machines in the cloud. This allows for a zero-setup instant environment for working on data science problems."
   ]
  },
  {
   "cell_type": "markdown",
   "metadata": {
    "colab_type": "text",
    "id": "KqM1IXX-Qg19"
   },
   "source": [
    "# Notebooks"
   ]
  },
  {
   "cell_type": "markdown",
   "metadata": {
    "colab_type": "text",
    "id": "SvlbyEdQQipr"
   },
   "source": [
    "Colab notebooks are *almost* exactly the same as Jupyter notebooks. You can open a notebook created in Jupyter in Colab, and vice versa. Since Colab is running online and created by Google, it has a few different features related to integration with Google products. In practice this shouldn't affect you during this course. If you do find yourself downloading the notebooks and running them directly in Jupyter, you might have to adapt your notebook when a Google-specific feature is used."
   ]
  },
  {
   "cell_type": "markdown",
   "metadata": {
    "colab_type": "text",
    "id": "JyG45Qk3qQLS"
   },
   "source": [
    "# Cells\n",
    "\n",
    "A notebook is a list of cells. There are two types of cells: code cells and text cells. We'll work with both in this lab."
   ]
  },
  {
   "cell_type": "markdown",
   "metadata": {
    "colab_type": "text",
    "id": "KR921S_OQSHG"
   },
   "source": [
    "## Code Cells\n",
    "\n",
    "Below is a **code cell**. You can click in the cell to select it. To execute the code in the cell you have a few options:\n",
    "\n",
    "1. Click the **Play icon** in the left gutter of the cell.\n",
    "1. Type **Cmd/Ctrl+Enter** to run the cell in place.\n",
    "1. Type **Shift+Enter** to run the cell and move focus to the next cell (adding one if none exists).\n",
    "1. Type **Alt+Enter** to run the cell and insert a new code cell immediately below it.\n",
    "1. Click the **Runtime** menu and select **Run the focused cell**.\n",
    "\n",
    "\n",
    "You'll notice in the **Runtime** menu, there are also options for running all cells, cells before, cells after, and the selected cells.\n"
   ]
  },
  {
   "cell_type": "code",
   "execution_count": 1,
   "metadata": {
    "cellView": "both",
    "colab": {},
    "colab_type": "code",
    "id": "WUtu4316QSHL"
   },
   "outputs": [
    {
     "data": {
      "text/plain": [
       "10"
      ]
     },
     "execution_count": 1,
     "metadata": {},
     "output_type": "execute_result"
    }
   ],
   "source": [
    "a = 10\n",
    "a"
   ]
  },
  {
   "cell_type": "markdown",
   "metadata": {
    "colab_type": "text",
    "id": "mFkIwIJ7eePI"
   },
   "source": [
    "After you run a cell, you can see the output displayed immediately after the cell.\n",
    "\n",
    "You might have also noticed a little delay the first time you ran the code cell. This is related to *runtimes*, which we will talk about soon.\n",
    "\n",
    "When you run code, Colab passes that code to [IPython](https://ipython.org/) to execute. The IPython session doesn't restart for every code cell, so you can do things like set a variable in one block:"
   ]
  },
  {
   "cell_type": "code",
   "execution_count": 2,
   "metadata": {
    "colab": {},
    "colab_type": "code",
    "id": "Ipb6008E2TxE"
   },
   "outputs": [],
   "source": [
    "a = 1000"
   ]
  },
  {
   "cell_type": "markdown",
   "metadata": {
    "colab_type": "text",
    "id": "JQA6EPT92WGh"
   },
   "source": [
    "And then use that variable in another block."
   ]
  },
  {
   "cell_type": "code",
   "execution_count": 3,
   "metadata": {
    "colab": {},
    "colab_type": "code",
    "id": "k6_QRa1K2ad5"
   },
   "outputs": [
    {
     "name": "stdout",
     "output_type": "stream",
     "text": [
      "1000\n"
     ]
    }
   ],
   "source": [
    "print(a)"
   ]
  },
  {
   "cell_type": "markdown",
   "metadata": {
    "colab_type": "text",
    "id": "V9-lin4U2b4J"
   },
   "source": [
    "It doesn't matter which order the code blocks show up in a notebook. What matters is the order that they are executed in.\n",
    "\n",
    "In the two code blocks below we define a variable in one and print the variable in the other. If you run the first block before the second, you'll get an error. If you run the second and then the first, everything will work fine."
   ]
  },
  {
   "cell_type": "code",
   "execution_count": 4,
   "metadata": {
    "colab": {},
    "colab_type": "code",
    "id": "9BKNBbI_23aM"
   },
   "outputs": [],
   "source": [
    "# This cell should be executed first since it defines 'b'.\n",
    "\n",
    "b = 1234"
   ]
  },
  {
   "cell_type": "code",
   "execution_count": 5,
   "metadata": {
    "colab": {},
    "colab_type": "code",
    "id": "N5cAZ-PI2wmQ"
   },
   "outputs": [
    {
     "name": "stdout",
     "output_type": "stream",
     "text": [
      "1234\n"
     ]
    }
   ],
   "source": [
    "# This cell should be executed after the subsequent cell.\n",
    "\n",
    "print(b)"
   ]
  },
  {
   "cell_type": "markdown",
   "metadata": {
    "colab_type": "text",
    "id": "5aOFZBYB2-wM"
   },
   "source": [
    "Most programs execute in a very defined flow. The nature of an interactive programming environment allows you to run code cells in any order that fits your workflow. This can be very convenient, but it can also lead to tricky bugs where variables have unexpected values due to the order in which the data scientist ran them in their exploration."
   ]
  },
  {
   "cell_type": "markdown",
   "metadata": {
    "colab_type": "text",
    "id": "MdNWfU5CXf85"
   },
   "source": [
    "### Exercise 1: Writing and Running Code in Colab\n",
    "\n",
    "This Colab runs Python 3 code. Let's write and execute some Python in the cell below.\n",
    "\n",
    "Write the following code in the student solution cell:\n",
    "\n",
    "```python\n",
    "  print(\"Hello Colab!\")\n",
    "```\n",
    "\n",
    "And then run the cell."
   ]
  },
  {
   "cell_type": "markdown",
   "metadata": {
    "colab_type": "text",
    "id": "3P43OsXyXstY"
   },
   "source": [
    "**Student Solution**"
   ]
  },
  {
   "cell_type": "code",
   "execution_count": 6,
   "metadata": {
    "colab": {},
    "colab_type": "code",
    "id": "7XC61ICLXvng"
   },
   "outputs": [
    {
     "name": "stdout",
     "output_type": "stream",
     "text": [
      "Hello Colab!\n"
     ]
    }
   ],
   "source": [
    "# Your Solution Goes Here\n",
    "print(\"Hello Colab!\")"
   ]
  },
  {
   "cell_type": "markdown",
   "metadata": {
    "colab_type": "text",
    "id": "aVm95g57XyBr"
   },
   "source": [
    "---"
   ]
  },
  {
   "cell_type": "markdown",
   "metadata": {
    "colab_type": "text",
    "id": "Wej_mEyXQSHc"
   },
   "source": [
    "### Shell Commands\n",
    "\n",
    "When you run code through a notebook, that code is running on a computer somewhere. With Colab, that machine is likely a virtual machine in one of Google's data centers. These machines are full [Linux](https://www.linux.org/) installations.\n",
    "\n",
    "Linux offers many powerful commands through what is known as a **shell**. You can access these commands using the exclamation point, `!`, at the start of a line.\n",
    "\n",
    "For example, the shell command to list all of the files in a directory is `ls`. To run `ls` in the shell simply type `!ls` into a code cell, and execute it.\n",
    "\n",
    "You can see `ls` in action below."
   ]
  },
  {
   "cell_type": "code",
   "execution_count": 7,
   "metadata": {
    "cellView": "both",
    "colab": {},
    "colab_type": "code",
    "id": "5OCYEvK5QSHf"
   },
   "outputs": [
    {
     "name": "stdout",
     "output_type": "stream",
     "text": [
      " Assets\r\n",
      "'ILT-ML-05_01 Introduction to Colab.ipynb'\r\n",
      "'ILT-ML-05_02 Introduction to Pandas.ipynb'\r\n",
      "'ILT-ML-05_03 Intermediate Pandas.ipynb'\r\n",
      "'ILT-ML-05_04 Visualizations.ipynb'\r\n",
      "'ILT-ML-05_05 Acquiring Data.ipynb'\r\n",
      "'ILT-ML-05_06 Exploratory Data Analysis 1.ipynb'\r\n",
      "'ILT-ML-05_07 Exploratory Data Analysis 2.ipynb'\r\n",
      "'ILT-ML-05_08 Project Data Processing.ipynb'\r\n",
      "'ILT-ML-06_01 Introduction to scikit-learn.ipynb'\r\n",
      "'ILT-ML-06_02 Linear Regression with scikit-learn.ipynb'\r\n",
      "'ILT-ML-06_03 Regression Quality.ipynb'\r\n",
      "'ILT-ML-06_04 Polynomial Regression.ipynb'\r\n",
      "'ILT-ML-06_05 Introduction to TensorFlow.ipynb'\r\n",
      "'ILT-ML-06_06 Linear Regression with TensorFlow.ipynb'\r\n",
      "'ILT-ML-06_07 Regression with TensorFlow.ipynb'\r\n",
      "'ILT-ML-06_08 Regression Project.ipynb'\r\n",
      "'ILT-ML-07_01 Binary Classification.ipynb'\r\n",
      "'ILT-ML-07_02 Multiclass Classification.ipynb'\r\n",
      "'ILT-ML-07_03 Classification with Tensorflow.ipynb'\r\n",
      "'ILT-ML-07_04 Classification project.ipynb'\r\n",
      "'ILT-ML-07_05 Introduction to Image Classification.ipynb'\r\n",
      "'ILT-ML-07_06 Pil.ipynb'\r\n",
      "'ILT-ML-07_07 Open CV.ipynb'\r\n",
      "'ILT-ML-07_08 Video Processing.ipynb'\r\n",
      "'ILT-ML-07_09 Saving and Loading Models.ipynb'\r\n",
      "'ILT-ML-07_Video Processing Project.ipynb'\r\n"
     ]
    }
   ],
   "source": [
    "!ls"
   ]
  },
  {
   "cell_type": "markdown",
   "metadata": {
    "colab_type": "text",
    "id": "y8Da6JWKQSHh"
   },
   "source": [
    "There are many more shell commands. The University of Washington has a nice [reference card](https://courses.cs.washington.edu/courses/cse390a/14au/bash.html) listing some of the more common commands."
   ]
  },
  {
   "cell_type": "markdown",
   "metadata": {
    "colab_type": "text",
    "id": "LBJIg-yAzgTO"
   },
   "source": [
    "#### Exercise 2: Running Shell Commands\n",
    "\n",
    "Find the shell command that displays the current working directory. Execute that command in a code block."
   ]
  },
  {
   "cell_type": "markdown",
   "metadata": {
    "colab_type": "text",
    "id": "Vk71J8skztND"
   },
   "source": [
    "**Student Solution**"
   ]
  },
  {
   "cell_type": "code",
   "execution_count": 8,
   "metadata": {
    "colab": {},
    "colab_type": "code",
    "id": "pXZccOpDzu3q"
   },
   "outputs": [
    {
     "name": "stdout",
     "output_type": "stream",
     "text": [
      "/mnt/c/Users/Wahyu Setianto/Desktop/bangkit/Bangkit/Notebook\r\n"
     ]
    }
   ],
   "source": [
    "# Your Solution Goes Here\n",
    "!pwd"
   ]
  },
  {
   "cell_type": "markdown",
   "metadata": {
    "colab_type": "text",
    "id": "3tlDKq0ZzzEI"
   },
   "source": [
    "---"
   ]
  },
  {
   "cell_type": "markdown",
   "metadata": {
    "colab_type": "text",
    "id": "qM4myQGfQboQ"
   },
   "source": [
    "### Magics\n",
    "\n",
    "We've seen Python code and shell commands in code blocks. There are other commands called **magics** that can change how a line or cell works. This is a concept native to Jupyter, so you can consult the [documentation  for Jupyter's magics](http://nbviewer.jupyter.org/github/ipython/ipython/blob/1.x/examples/notebooks/Cell%20Magics.ipynb) to see a list of magics. \n",
    "\n",
    "Line magics start with a single percentage mark, `%`, and are limited to operating on one line of the cell.\n",
    "\n",
    "For instance, the `%timeit` magic below runs the line of code passed to it multiple times and records those times.\n"
   ]
  },
  {
   "cell_type": "code",
   "execution_count": 9,
   "metadata": {
    "colab": {},
    "colab_type": "code",
    "id": "QoL7bveg5Itq"
   },
   "outputs": [
    {
     "name": "stdout",
     "output_type": "stream",
     "text": [
      "The slowest run took 10.19 times longer than the fastest. This could mean that an intermediate result is being cached.\n",
      "29.9 ms ± 27.2 ms per loop (mean ± std. dev. of 7 runs, 10 loops each)\n"
     ]
    }
   ],
   "source": [
    "import numpy as np\n",
    "\n",
    "%timeit np.linalg.eigvals(np.random.rand(100, 100))"
   ]
  },
  {
   "cell_type": "markdown",
   "metadata": {
    "colab_type": "text",
    "id": "9hz9eC7Z6aqF"
   },
   "source": [
    "Cell magics start with two percentage signs, `%%`, and apply to all subsequent content in the cell. For example, the `%%html` magic interprets the cell as HTML and outputs rendered HTML instead of raw text."
   ]
  },
  {
   "cell_type": "code",
   "execution_count": 10,
   "metadata": {
    "cellView": "both",
    "colab": {},
    "colab_type": "code",
    "id": "odfM-_GxWbCy"
   },
   "outputs": [
    {
     "data": {
      "text/html": [
       "<marquee style='width: 30%; color: blue;'><b>Whee!</b></marquee>\n"
      ],
      "text/plain": [
       "<IPython.core.display.HTML object>"
      ]
     },
     "metadata": {},
     "output_type": "display_data"
    }
   ],
   "source": [
    "%%html\n",
    "<marquee style='width: 30%; color: blue;'><b>Whee!</b></marquee>"
   ]
  },
  {
   "cell_type": "markdown",
   "metadata": {
    "colab_type": "text",
    "id": "3s91nVGX7Wh_"
   },
   "source": [
    "#### Exercise 3: Magics for Shell Commands\n",
    "\n",
    "We have seen how to run a shell command using the exclamation point, `!`. You can also use a shell magic to run shell commands without having to prefix each with `!`.\n",
    "\n",
    "Find a magic that tells Colab to interpret a code cell as Bash (a common Linux shell), then run the `ls` command using that magic."
   ]
  },
  {
   "cell_type": "markdown",
   "metadata": {
    "colab_type": "text",
    "id": "wAkfaBuv73EW"
   },
   "source": [
    "**Student Solution**"
   ]
  },
  {
   "cell_type": "code",
   "execution_count": 11,
   "metadata": {},
   "outputs": [
    {
     "name": "stdout",
     "output_type": "stream",
     "text": [
      "Assets\n",
      "ILT-ML-05_01 Introduction to Colab.ipynb\n",
      "ILT-ML-05_02 Introduction to Pandas.ipynb\n",
      "ILT-ML-05_03 Intermediate Pandas.ipynb\n",
      "ILT-ML-05_04 Visualizations.ipynb\n",
      "ILT-ML-05_05 Acquiring Data.ipynb\n",
      "ILT-ML-05_06 Exploratory Data Analysis 1.ipynb\n",
      "ILT-ML-05_07 Exploratory Data Analysis 2.ipynb\n",
      "ILT-ML-05_08 Project Data Processing.ipynb\n",
      "ILT-ML-06_01 Introduction to scikit-learn.ipynb\n",
      "ILT-ML-06_02 Linear Regression with scikit-learn.ipynb\n",
      "ILT-ML-06_03 Regression Quality.ipynb\n",
      "ILT-ML-06_04 Polynomial Regression.ipynb\n",
      "ILT-ML-06_05 Introduction to TensorFlow.ipynb\n",
      "ILT-ML-06_06 Linear Regression with TensorFlow.ipynb\n",
      "ILT-ML-06_07 Regression with TensorFlow.ipynb\n",
      "ILT-ML-06_08 Regression Project.ipynb\n",
      "ILT-ML-07_01 Binary Classification.ipynb\n",
      "ILT-ML-07_02 Multiclass Classification.ipynb\n",
      "ILT-ML-07_03 Classification with Tensorflow.ipynb\n",
      "ILT-ML-07_04 Classification project.ipynb\n",
      "ILT-ML-07_05 Introduction to Image Classification.ipynb\n",
      "ILT-ML-07_06 Pil.ipynb\n",
      "ILT-ML-07_07 Open CV.ipynb\n",
      "ILT-ML-07_08 Video Processing.ipynb\n",
      "ILT-ML-07_09 Saving and Loading Models.ipynb\n",
      "ILT-ML-07_Video Processing Project.ipynb\n"
     ]
    }
   ],
   "source": [
    "%%bash\n",
    "# Your Solution Goes Here\n",
    "ls"
   ]
  },
  {
   "cell_type": "markdown",
   "metadata": {
    "colab_type": "text",
    "id": "Km-SBeCn8CsG"
   },
   "source": [
    "---"
   ]
  },
  {
   "cell_type": "markdown",
   "metadata": {
    "colab_type": "text",
    "id": "Kw3O9cSS8hx3"
   },
   "source": [
    "### Charts and Graphs\n",
    "\n",
    "Colab also allows for charts and graphs to be displayed inline. Don't pay too much attention to the code below, but notice that when you run the code block, a chart is displayed in the output."
   ]
  },
  {
   "cell_type": "code",
   "execution_count": 12,
   "metadata": {
    "colab": {},
    "colab_type": "code",
    "id": "KKhPj2yc8s3J"
   },
   "outputs": [
    {
     "data": {
      "image/png": "[encoded data removed]",
      "text/plain": [
       "<Figure size 432x288 with 1 Axes>"
      ]
     },
     "metadata": {
      "needs_background": "light"
     },
     "output_type": "display_data"
    }
   ],
   "source": [
    "import numpy as np\n",
    "from matplotlib import pyplot as plt\n",
    "\n",
    "ys = 200 + np.random.randn(100)\n",
    "x = [x for x in range(len(ys))]\n",
    "\n",
    "plt.plot(x, ys, '-')\n",
    "plt.fill_between(x, ys, 195, where=(ys > 195), facecolor='g', alpha=0.6)\n",
    "\n",
    "plt.title(\"Fills and Alpha Example\")\n",
    "plt.show()"
   ]
  },
  {
   "cell_type": "markdown",
   "metadata": {
    "colab_type": "text",
    "id": "d4L9TOP9QSHn"
   },
   "source": [
    "### Getting Help\n",
    "\n",
    "Colab provides hints to explore attributes of Python objects, as well as to quickly view documentation strings. As an example, first run the following cell to import the [`numpy`](http://www.numpy.org) module."
   ]
  },
  {
   "cell_type": "code",
   "execution_count": 13,
   "metadata": {
    "cellView": "both",
    "colab": {},
    "colab_type": "code",
    "id": "Q0JKWcmtQSHp"
   },
   "outputs": [],
   "source": [
    "import numpy as np"
   ]
  },
  {
   "cell_type": "markdown",
   "metadata": {
    "colab_type": "text",
    "id": "1M890-bXeyYp"
   },
   "source": [
    "Now, insert your cursor after `np.random` below and type a dot: `.`. Wait just a moment, and you should see a drop-down list of all of the attributes of `np.random`.\n",
    "\n",
    "If you don't see the drop-down list, try pressing the **Tab** key. Some platforms have slightly different triggers for the suggested completions."
   ]
  },
  {
   "cell_type": "code",
   "execution_count": 14,
   "metadata": {
    "cellView": "both",
    "colab": {},
    "colab_type": "code",
    "id": "j6QRIfUHQSHq"
   },
   "outputs": [
    {
     "data": {
      "text/plain": [
       "<module 'numpy.random' from '/usr/local/lib/python3.8/dist-packages/numpy/random/__init__.py'>"
      ]
     },
     "execution_count": 14,
     "metadata": {},
     "output_type": "execute_result"
    }
   ],
   "source": [
    "np.random"
   ]
  },
  {
   "cell_type": "markdown",
   "metadata": {
    "colab_type": "text",
    "id": "g6MfomFhQSHs"
   },
   "source": [
    "If you type an opening parenthesis after `np.random.rand` below, you should see a pop-up with documentation about the function. If not, try pressing the **Tab** key."
   ]
  },
  {
   "cell_type": "code",
   "execution_count": 15,
   "metadata": {
    "cellView": "both",
    "colab": {},
    "colab_type": "code",
    "id": "SD0XnrVhQSHt"
   },
   "outputs": [
    {
     "data": {
      "text/plain": [
       "<function RandomState.rand>"
      ]
     },
     "execution_count": 15,
     "metadata": {},
     "output_type": "execute_result"
    }
   ],
   "source": [
    "np.random.rand"
   ]
  },
  {
   "cell_type": "markdown",
   "metadata": {
    "colab_type": "text",
    "id": "9ReRLQaxJ-zP"
   },
   "source": [
    "To open the documentation in a persistent pane at the bottom or right-hand side of your screen, add a **?** after the object or method name and execute the cell using **Cmd/Ctrl+Enter**:"
   ]
  },
  {
   "cell_type": "code",
   "execution_count": 16,
   "metadata": {
    "cellView": "both",
    "colab": {},
    "colab_type": "code",
    "id": "YgQ6Tu7DK17l"
   },
   "outputs": [],
   "source": [
    "np.random?"
   ]
  },
  {
   "cell_type": "markdown",
   "metadata": {
    "colab_type": "text",
    "id": "Id6tDF1HQSHD"
   },
   "source": [
    "## Text Cells\n",
    "\n",
    "Now that we've seen an example of a code cell, this is a **text cell**.\n",
    "\n",
    "To edit a text cell, **double-click** on the cell.  When you do, you'll notice there are extra asterisk characters around the word \"double-click\".  That's because Colab text cells use markdown syntax (described more below).\n",
    "\n",
    "### Markdown\n",
    "\n",
    "There are two ways of specifying format within a text cell. The first is by using the icons which are visible when you're editing text. You can specify the size of the text, make the text bold or italic, format the text as code text, make the text a clickable URL, display an image, indentation, bulleted texts, or insert a horizontal separator line. Another way is to type the markdown syntax yourself. A reference to the markdown supported by Colab can be found in [this notebook](https://colab.research.google.com/notebooks/markdown_guide.ipynb).\n",
    "\n"
   ]
  },
  {
   "cell_type": "markdown",
   "metadata": {
    "colab_type": "text",
    "id": "2W5cUbESRD-D"
   },
   "source": [
    "### Basic Formatting\n",
    "\n",
    "Bold text can be achieved with double-asterisks like `**bold text**` or double-underscores like `__bold text__`.\n",
    "\n",
    "```\n",
    "The **runtime** supports __Python__ programming.\n",
    "```\n",
    "\n",
    "> The **runtime** supports __Python__ programming.\n",
    "\n",
    "Italic text can be achieved with single-asterisks like `*italic text*` or single-underscores like `_italic text_`.\n",
    "\n",
    "\n",
    "```\n",
    "The *runtime* supports _Python_ programming.\n",
    "```\n",
    "\n",
    "> The *runtime* supports _Python_ programming.\n",
    "\n",
    "Strikethrough can be achieved with double-tilde like `~~strikethrough~~`.\n",
    "\n",
    "```\n",
    "The runtime supports ~~Python~~ programming.\n",
    "```\n",
    "\n",
    "> The runtime supports ~~Python~~ programming."
   ]
  },
  {
   "cell_type": "markdown",
   "metadata": {
    "colab_type": "text",
    "id": "BjvUP7c6fzF0"
   },
   "source": [
    "#### Exercise 4: Basic Formatting With Markdown\n",
    "\n",
    "In the student solution cell below replace:\n",
    "\n",
    "```\n",
    "Your Solution Goes Here\n",
    "```\n",
    "\n",
    "With the following text:\n",
    "\n",
    "```\n",
    "The quick brown fox jumps over the very extremely lazy dog.\n",
    "```\n",
    "\n",
    "Then  markdown that does the following:\n",
    "\n",
    "1. Italicize the words `quick`, `jumps`, and `lazy`.\n",
    "1. Strike through the words `very extremely` with one piece of markdown.\n",
    "1. Bold the words `fox` and `dog`."
   ]
  },
  {
   "cell_type": "markdown",
   "metadata": {
    "colab_type": "text",
    "id": "hmbSY79ljopg"
   },
   "source": [
    "**Student Solution**"
   ]
  },
  {
   "cell_type": "markdown",
   "metadata": {
    "colab_type": "text",
    "id": "aWcki5u9it0S"
   },
   "source": [
    "The *quick* brown **fox** *jumps* over the ~~very extremely~~ *lazy* **dog**."
   ]
  },
  {
   "cell_type": "markdown",
   "metadata": {
    "colab_type": "text",
    "id": "hR6hyVZ8j2Gk"
   },
   "source": [
    "---"
   ]
  },
  {
   "cell_type": "markdown",
   "metadata": {
    "colab_type": "text",
    "id": "YIcVMgIbSN_O"
   },
   "source": [
    "### Lists\n",
    "\n",
    "Lists can be added to text cells. For **ordered lists** use numbers:\n",
    "\n",
    "```\n",
    "1. Apples\n",
    "1. Oranges\n",
    "1. Kiwi\n",
    "```\n",
    "\n",
    "Becomes:\n",
    "\n",
    "> 1. Apples\n",
    "> 1. Oranges\n",
    "> 1. Kiwi\n",
    "\n",
    "Notice that the number was always one. This doesn't have to be the case. You could get the same effect with:\n",
    "\n",
    "```\n",
    "1. Apples\n",
    "2. Oranges\n",
    "3. Kiwi\n",
    "```\n",
    "\n",
    "However, this can get messy when you want to reorder the list. Just stick to using `1` and make future maintenance of your text cell easier.\n",
    "\n",
    "If ordinals don't matter, you can get an bulleted lists using asterisks:\n",
    "\n",
    "```\n",
    "* Apples\n",
    "* Oranges\n",
    "* Kiwi\n",
    "```\n",
    "\n",
    "Becomes:\n",
    "\n",
    "> * Apples\n",
    "> * Oranges\n",
    "> * Kiwi\n",
    "\n",
    "And finally, you can nest lists using indentation:\n",
    "\n",
    "```\n",
    "* Apples\n",
    "  1. Fugi\n",
    "  1. Gaia\n",
    "  1. Cosmic Crisp\n",
    "* Oranges\n",
    "  1. Valencia\n",
    "  1. Navel\n",
    "* Kiwi\n",
    "  * Artic\n",
    "  * Hardy\n",
    "```\n",
    "\n",
    "Becomes:\n",
    "\n",
    "> * Apples\n",
    ">   1. Fugi\n",
    ">   1. Gaia\n",
    ">   1. Cosmic Crisp\n",
    "> * Oranges\n",
    ">   1. Valencia\n",
    ">   1. Navel\n",
    "> * Kiwi\n",
    ">   1. Artic\n",
    ">   1. Hardy"
   ]
  },
  {
   "cell_type": "markdown",
   "metadata": {
    "colab_type": "text",
    "id": "kgAqYNcHntTJ"
   },
   "source": [
    "#### Exercise 5: Making Lists\n",
    "\n",
    "Create the following text in markdown.\n",
    "\n",
    "![List to create in markdown: Copyright Google](https://i.imgur.com/MKGHfhN.png)"
   ]
  },
  {
   "cell_type": "markdown",
   "metadata": {
    "colab_type": "text",
    "id": "A3NaNpJ0oAw7"
   },
   "source": [
    "**Student Solution**"
   ]
  },
  {
   "cell_type": "markdown",
   "metadata": {
    "colab_type": "text",
    "id": "Tmi1c_qjoCYS"
   },
   "source": [
    "* Data\n",
    "    1. Fetch\n",
    "    2. Decompress\n",
    "    3. Analyze\n",
    "    4. Clean\n",
    "* Model\n",
    "    1. Build\n",
    "    2. Test\n",
    "* Deployment\n",
    "    1. Deploy\n",
    "    2. Monitor"
   ]
  },
  {
   "cell_type": "markdown",
   "metadata": {
    "colab_type": "text",
    "id": "B-ghh7w4oGbg"
   },
   "source": [
    "---"
   ]
  },
  {
   "cell_type": "markdown",
   "metadata": {
    "colab_type": "text",
    "id": "o4LuhxG9QH7y"
   },
   "source": [
    "### Links\n",
    "\n",
    "It is possible to link to external resources in markdown using square brackets and parentheses:\n",
    "\n",
    "`[...](...)`\n",
    "\n",
    "The text to be displayed is placed in the square brackets and a URL is placed in the parentheses like:\n",
    "\n",
    "`[Colaboratory](https://research.google.com/colaboratory)`\n",
    "\n",
    "Which becomes:\n",
    "\n",
    "[Colaboratory](https://research.google.com/colaboratory)"
   ]
  },
  {
   "cell_type": "markdown",
   "metadata": {
    "colab_type": "text",
    "id": "u9fKe3m_sbQn"
   },
   "source": [
    "#### Exercise 6: Links to Resources\n",
    "\n",
    "We will be using a toolkit called `scikit-learn` in this course. The URL for the user guide is `https://scikit-learn.org/stable/user_guide.html`. Create a link with the text `scikit-learn User Guide` that links to `https://scikit-learn.org/stable/user_guide.html`."
   ]
  },
  {
   "cell_type": "markdown",
   "metadata": {
    "colab_type": "text",
    "id": "bSTadCWfsvIj"
   },
   "source": [
    "**Student Solution**"
   ]
  },
  {
   "cell_type": "markdown",
   "metadata": {
    "colab_type": "text",
    "id": "3tULOZDSsxwT"
   },
   "source": [
    "[scikit-learn](https://scikit-learn.org/stable/user_guide.html)\n",
    "\n",
    "[scikit-learn User Guide](https://scikit-learn.org/stable/user_guide.html)"
   ]
  },
  {
   "cell_type": "markdown",
   "metadata": {
    "colab_type": "text",
    "id": "FZceym-Cs03x"
   },
   "source": [
    "---"
   ]
  },
  {
   "cell_type": "markdown",
   "metadata": {
    "colab_type": "text",
    "id": "tJTt8et3Ptja"
   },
   "source": [
    "### Tables\n",
    "\n",
    "It is also possible to represent data in text cells in a tabular format. Tables consist of rows and columns. Columns are separated by vertical bars:\n",
    "\n",
    "```\n",
    "Column 1 | Column 2 | Column 3\n",
    "```\n",
    "\n",
    "Each new line in a table is another row:\n",
    "\n",
    "```\n",
    "Row 1 Column 1 | Row 1 Column 2\n",
    "Row 2 Column 1 | Row 2 Column 2\n",
    "```\n",
    "\n",
    "You can also add a header column by separating the first row (containing header data) from the remaining rows using a row containing three dashes, `---`, per column.\n",
    "\n",
    "Putting it all together:\n",
    "\n",
    "\n",
    "```\n",
    "Language | Creator(s)\n",
    "--- | ---\n",
    "Python | Guido van Rossum\n",
    "R | Ross Ihaka, Robert Gentleman\n",
    "Java | James Gosling\n",
    "```\n",
    "\n",
    "Becomes:\n",
    "\n",
    "Language | Creator(s)\n",
    "--- | ---\n",
    "Python | Guido van Rossum\n",
    "R | Ross Ihaka, Robert Gentleman\n",
    "Java | James Gosling\n"
   ]
  },
  {
   "cell_type": "markdown",
   "metadata": {
    "colab_type": "text",
    "id": "4o_BM422uzfa"
   },
   "source": [
    "#### Exercise 7: Creating Tables\n",
    "\n",
    "Using markdown, create the following table:\n",
    "\n",
    "![Table](https://i.imgur.com/RunAbi1.png)"
   ]
  },
  {
   "cell_type": "markdown",
   "metadata": {
    "colab_type": "text",
    "id": "BMFHIcL6u7kx"
   },
   "source": [
    "**Student Solution**"
   ]
  },
  {
   "cell_type": "markdown",
   "metadata": {
    "colab_type": "text",
    "id": "4ixqYkZyu9Gj"
   },
   "source": [
    "| Toolkit | Year Created | Language(s) |\n",
    "| :-----: | :----------- | :----------- |\n",
    "| Tensorflow | 2015 | C++, Python, CUDA |\n",
    "| scikit-learn | 2010 | Python |\n",
    "| Pytorch | 2016 | C++, Python, CUDA |"
   ]
  },
  {
   "cell_type": "markdown",
   "metadata": {
    "colab_type": "text",
    "id": "kmC5AhuavEIX"
   },
   "source": [
    "---"
   ]
  },
  {
   "cell_type": "markdown",
   "metadata": {
    "colab_type": "text",
    "id": "6CzkBr0rOy0S"
   },
   "source": [
    "### Math Notations\n",
    "\n",
    "In the fields of data science and machine learning, it is sometimes useful to express ideas as mathematical equations. Using [LaTeX](http://www.latex-project.org/) syntax and [MathJax](https://www.mathjax.org) rendering, Colab allows in-line equation building.\n",
    "\n",
    "Simply enclose valid LaTeX in a pair of **\\$** signs.\n",
    "\n",
    "For example: \n",
    "\n",
    "```\n",
    "$\\sqrt{3x-1}+(1+x)^2$\n",
    "```\n",
    "\n",
    "Becomes:\n",
    "\n",
    "$\\sqrt{3x-1}+(1+x)^2.$\n"
   ]
  },
  {
   "cell_type": "markdown",
   "metadata": {
    "colab_type": "text",
    "id": "YGiYfOWh-Xlb"
   },
   "source": [
    "#### Exercise 7: Write a Formula\n",
    "\n",
    "The Pythagorean Theorem is represented in two forms below. Create these with inline LaTeX.\n",
    "\n",
    "![Pythagorean Theorem](https://i.imgur.com/F5eKQEQ.png)"
   ]
  },
  {
   "cell_type": "markdown",
   "metadata": {},
   "source": [
    "$a^2 + b^2 = c^2$\n",
    "\n",
    "$c^2 = \\sqrt{a^2 + b^2}$"
   ]
  },
  {
   "cell_type": "markdown",
   "metadata": {
    "colab_type": "text",
    "id": "7bqjkGKwQSHW"
   },
   "source": [
    "## Adding and Moving Cells\n",
    "You can add new cells by using the **+ CODE** and **+ TEXT** buttons that show when you hover between cells. These buttons are also in the toolbar above the notebook where they can be used to add a cell *below* the currently selected cell.\n",
    "\n",
    "You can move a cell by selecting it and clicking **Cell Up** or **Cell Down** in the top toolbar. \n",
    "\n",
    "Consecutive cells can be selected by \"lasso selection\" by dragging from outside one cell and through the group.  Non-adjacent cells can be selected concurrently by clicking one and then holding down **Cmd/Ctrl** while clicking another.  Similarly, using **Shift** instead of **Cmd/Ctrl** will select all intermediate cells."
   ]
  },
  {
   "cell_type": "markdown",
   "metadata": {
    "colab_type": "text",
    "id": "4hfV37gxpP_c"
   },
   "source": [
    "## Commenting on a Cell\n",
    "You can comment on a Colaboratory notebook like you would on a Google Doc. Comments are attached to cells and are displayed next to the cell they refer to. If you have **comment-only** permissions, you will see a comment button on the top right of the cell when you hover over it.\n",
    "\n",
    "If you have edit or comment permissions, you can comment on a cell in one of three ways: \n",
    "\n",
    "1. Select a cell and click the comment button in the toolbar above the top-right corner of the cell.\n",
    "1. Right click a text cell and select **Add a comment** from the context menu.\n",
    "3. Use the shortcut **Cmd/Ctrl+Shift+M** to add a comment to the currently selected cell. \n",
    "\n",
    "You can resolve and reply to comments, and you can target comments to specific collaborators by typing *+[email address]* (e.g., `+user@domain.com`). Addressed collaborators will be emailed. \n",
    "\n",
    "The Comment button in the top-right corner of the page shows all comments attached to the notebook."
   ]
  },
  {
   "cell_type": "markdown",
   "metadata": {
    "colab_type": "text",
    "id": "aro-UJgUQSH1"
   },
   "source": [
    "# Integration with Drive\n",
    "\n",
    "Colaboratory is integrated with Google Drive. It allows you to share, comment, and collaborate on the same document with multiple people:\n",
    "\n",
    "* The **SHARE** button (top-right of the toolbar) allows you to share the notebook and control permissions set on it.\n",
    "\n",
    "* **File->Save a Copy in Drive...** creates a copy of the notebook in Drive.\n",
    "\n",
    "* **File->Save** saves the File to Drive. **File->Save and pin revision** pins the version so it doesn't get deleted from the revision history. \n",
    "\n",
    "* **File->Revision history** shows the notebook's revision history. \n",
    "\n",
    "* Multiple people can **collaboratively edit** the same notebook at the same time. Like Google Docs, you can see collaborators both within the document (top right, left of the comments button) and within a cell (right of the cell). "
   ]
  },
  {
   "cell_type": "markdown",
   "metadata": {
    "colab_type": "text",
    "id": "8UrvD7d908su"
   },
   "source": [
    "# Runtimes\n",
    "\n",
    "In this course, we will typically use the default Python 3 runtime provided by Colab. But what is a runtime anyway?\n",
    "\n",
    "When you run code through Colab, that code is not running on the machine that you are directly using by default. Instead, Colab sends your code to a **virtual machine** running on Google Cloud Platform.\n",
    "\n",
    "This machine has a specific version of Python and supporting libraries installed on it. The machine has processors, RAM, disk space, and other attributes you'd expect on any computer.\n",
    "\n",
    "When you first attempt to run a code cell in a Colab, a new runtime is created for you. Colab keeps your virtual machine running for a few hours and then turns it off.\n",
    "\n",
    "There are ways to connect to custom runtimes, but that is beyond the scope of this introductory lab.\n",
    "\n",
    "## Runtime Actions\n",
    "\n",
    "There are some runtime actions that you can perform. In the 'Runtime' menu in the toolbar you can find options to:\n",
    "\n",
    "* Run the current cell\n",
    "* Run all code cells\n",
    "* Run all code cells before/after the current cell\n",
    "* Run a selected subset of code cells\n",
    "\n",
    "You can also find options to restart the runtime. This is handy when you've been working in a notebook for a while and aren't sure what state it is in. A restart clears the memory and, optionally, reruns all of the cells.\n",
    "\n",
    "If you have installed modules, downloaded files, or changed the non-RAM state of the runtime in any way, you can even \"Factory reset\" the runtime to get it back into a pristine state.\n",
    "\n",
    "## Runtime Configuration\n",
    "\n",
    "In the 'Runtime' menu you can also click 'Change Runtime Type' where you can toggle between Python 2 and Python 3, use hardware acceleration (GPUs or TPUs), and choose to store runtime output or not in the notebook."
   ]
  }
 ],
 "metadata": {
  "colab": {
   "collapsed_sections": [
    "copyright",
    "yuQGPc5-Xz02",
    "zJElTVo0zwtE",
    "uX6X-y6t8AET"
   ],
   "include_colab_link": true,
   "name": "Introduction to Colab",
   "private_outputs": true,
   "provenance": [],
   "toc_visible": true
  },
  "kernelspec": {
   "display_name": "Python 3",
   "language": "python",
   "name": "python3"
  },
  "language_info": {
   "codemirror_mode": {
    "name": "ipython",
    "version": 3
   },
   "file_extension": ".py",
   "mimetype": "text/x-python",
   "name": "python",
   "nbconvert_exporter": "python",
   "pygments_lexer": "ipython3",
   "version": "3.8.5"
  }
 },
 "nbformat": 4,
 "nbformat_minor": 1
}
