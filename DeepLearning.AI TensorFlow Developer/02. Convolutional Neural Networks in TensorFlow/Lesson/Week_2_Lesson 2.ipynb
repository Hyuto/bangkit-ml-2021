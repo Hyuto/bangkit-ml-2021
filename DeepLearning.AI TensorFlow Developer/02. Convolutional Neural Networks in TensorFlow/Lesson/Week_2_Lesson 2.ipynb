{
  "nbformat": 4,
  "nbformat_minor": 0,
  "metadata": {
    "accelerator": "GPU",
    "colab": {
      "name": "Course 2 - Part 4 - Lesson 4 - Notebook.ipynb",
      "provenance": [],
      "collapsed_sections": [],
      "toc_visible": true
    },
    "kernelspec": {
      "display_name": "Python 3",
      "name": "python3"
    }
  },
  "cells": [
    {
      "cell_type": "code",
      "metadata": {
        "colab": {
          "base_uri": "https://localhost:8080/"
        },
        "id": "RXZT2UsyIVe_",
        "outputId": "8f95f912-f03e-4705-deaf-640b5a43c895"
      },
      "source": [
        "!wget --no-check-certificate \\\n",
        "    https://storage.googleapis.com/laurencemoroney-blog.appspot.com/horse-or-human.zip \\\n",
        "    -O /tmp/horse-or-human.zip\n",
        "\n",
        "!wget --no-check-certificate \\\n",
        "    https://storage.googleapis.com/laurencemoroney-blog.appspot.com/validation-horse-or-human.zip \\\n",
        "    -O /tmp/validation-horse-or-human.zip\n",
        "  \n",
        "import os\n",
        "import zipfile\n",
        "\n",
        "local_zip = '/tmp/horse-or-human.zip'\n",
        "zip_ref = zipfile.ZipFile(local_zip, 'r')\n",
        "zip_ref.extractall('/tmp/horse-or-human')\n",
        "local_zip = '/tmp/validation-horse-or-human.zip'\n",
        "zip_ref = zipfile.ZipFile(local_zip, 'r')\n",
        "zip_ref.extractall('/tmp/validation-horse-or-human')\n",
        "zip_ref.close()\n",
        "# Directory with our training horse pictures\n",
        "train_horse_dir = os.path.join('/tmp/horse-or-human/horses')\n",
        "\n",
        "# Directory with our training human pictures\n",
        "train_human_dir = os.path.join('/tmp/horse-or-human/humans')\n",
        "\n",
        "# Directory with our training horse pictures\n",
        "validation_horse_dir = os.path.join('/tmp/validation-horse-or-human/horses')\n",
        "\n",
        "# Directory with our training human pictures\n",
        "validation_human_dir = os.path.join('/tmp/validation-horse-or-human/humans')"
      ],
      "execution_count": 1,
      "outputs": [
        {
          "output_type": "stream",
          "text": [
            "--2021-04-08 13:37:59--  https://storage.googleapis.com/laurencemoroney-blog.appspot.com/horse-or-human.zip\n",
            "Resolving storage.googleapis.com (storage.googleapis.com)... 172.217.214.128, 172.253.119.128, 108.177.120.128, ...\n",
            "Connecting to storage.googleapis.com (storage.googleapis.com)|172.217.214.128|:443... connected.\n",
            "HTTP request sent, awaiting response... 200 OK\n",
            "Length: 149574867 (143M) [application/zip]\n",
            "Saving to: ‘/tmp/horse-or-human.zip’\n",
            "\n",
            "/tmp/horse-or-human 100%[===================>] 142.65M   119MB/s    in 1.2s    \n",
            "\n",
            "2021-04-08 13:38:00 (119 MB/s) - ‘/tmp/horse-or-human.zip’ saved [149574867/149574867]\n",
            "\n",
            "--2021-04-08 13:38:00--  https://storage.googleapis.com/laurencemoroney-blog.appspot.com/validation-horse-or-human.zip\n",
            "Resolving storage.googleapis.com (storage.googleapis.com)... 142.250.136.128, 142.250.148.128, 74.125.124.128, ...\n",
            "Connecting to storage.googleapis.com (storage.googleapis.com)|142.250.136.128|:443... connected.\n",
            "HTTP request sent, awaiting response... 200 OK\n",
            "Length: 11480187 (11M) [application/zip]\n",
            "Saving to: ‘/tmp/validation-horse-or-human.zip’\n",
            "\n",
            "/tmp/validation-hor 100%[===================>]  10.95M  66.4MB/s    in 0.2s    \n",
            "\n",
            "2021-04-08 13:38:01 (66.4 MB/s) - ‘/tmp/validation-horse-or-human.zip’ saved [11480187/11480187]\n",
            "\n"
          ],
          "name": "stdout"
        }
      ]
    },
    {
      "cell_type": "markdown",
      "metadata": {
        "id": "5oqBkNBJmtUv"
      },
      "source": [
        "## Building a Small Model from Scratch\n",
        "\n",
        "But before we continue, let's start defining the model:\n",
        "\n",
        "Step 1 will be to import tensorflow."
      ]
    },
    {
      "cell_type": "code",
      "metadata": {
        "id": "qvfZg3LQbD-5"
      },
      "source": [
        "import tensorflow as tf"
      ],
      "execution_count": 2,
      "outputs": []
    },
    {
      "cell_type": "markdown",
      "metadata": {
        "id": "BnhYCP4tdqjC"
      },
      "source": [
        "We then add convolutional layers as in the previous example, and flatten the final result to feed into the densely connected layers."
      ]
    },
    {
      "cell_type": "markdown",
      "metadata": {
        "id": "gokG5HKpdtzm"
      },
      "source": [
        "Finally we add the densely connected layers. \n",
        "\n",
        "Note that because we are facing a two-class classification problem, i.e. a *binary classification problem*, we will end our network with a [*sigmoid* activation](https://wikipedia.org/wiki/Sigmoid_function), so that the output of our network will be a single scalar between 0 and 1, encoding the probability that the current image is class 1 (as opposed to class 0)."
      ]
    },
    {
      "cell_type": "code",
      "metadata": {
        "id": "PixZ2s5QbYQ3"
      },
      "source": [
        "model = tf.keras.models.Sequential([\n",
        "    # Note the input shape is the desired size of the image 300x300 with 3 bytes color\n",
        "    # This is the first convolution\n",
        "    tf.keras.layers.Conv2D(16, (3,3), activation='relu', input_shape=(300, 300, 3)),\n",
        "    tf.keras.layers.MaxPooling2D(2, 2),\n",
        "    # The second convolution\n",
        "    tf.keras.layers.Conv2D(32, (3,3), activation='relu'),\n",
        "    tf.keras.layers.MaxPooling2D(2,2),\n",
        "    # The third convolution\n",
        "    tf.keras.layers.Conv2D(64, (3,3), activation='relu'),\n",
        "    tf.keras.layers.MaxPooling2D(2,2),\n",
        "    # The fourth convolution\n",
        "    tf.keras.layers.Conv2D(64, (3,3), activation='relu'),\n",
        "    tf.keras.layers.MaxPooling2D(2,2),\n",
        "    # The fifth convolution\n",
        "    tf.keras.layers.Conv2D(64, (3,3), activation='relu'),\n",
        "    tf.keras.layers.MaxPooling2D(2,2),\n",
        "    # Flatten the results to feed into a DNN\n",
        "    tf.keras.layers.Flatten(),\n",
        "    # 512 neuron hidden layer\n",
        "    tf.keras.layers.Dense(512, activation='relu'),\n",
        "    # Only 1 output neuron. It will contain a value from 0-1 where 0 for 1 class ('horses') and 1 for the other ('humans')\n",
        "    tf.keras.layers.Dense(1, activation='sigmoid')\n",
        "])"
      ],
      "execution_count": 3,
      "outputs": []
    },
    {
      "cell_type": "code",
      "metadata": {
        "id": "8DHWhFP_uhq3"
      },
      "source": [
        "from tensorflow.keras.optimizers import RMSprop\n",
        "\n",
        "model.compile(loss='binary_crossentropy',\n",
        "              optimizer=RMSprop(lr=1e-4),\n",
        "              metrics=['accuracy'])"
      ],
      "execution_count": 4,
      "outputs": []
    },
    {
      "cell_type": "code",
      "metadata": {
        "colab": {
          "base_uri": "https://localhost:8080/"
        },
        "id": "ClebU9NJg99G",
        "outputId": "fba0749f-5f55-42a2-f173-26e249366b07"
      },
      "source": [
        "from tensorflow.keras.preprocessing.image import ImageDataGenerator\n",
        "\n",
        "# All images will be rescaled by 1./255\n",
        "train_datagen = ImageDataGenerator(\n",
        "      rescale=1./255,\n",
        "      rotation_range=40,\n",
        "      width_shift_range=0.2,\n",
        "      height_shift_range=0.2,\n",
        "      shear_range=0.2,\n",
        "      zoom_range=0.2,\n",
        "      horizontal_flip=True,\n",
        "      fill_mode='nearest')\n",
        "\n",
        "validation_datagen = ImageDataGenerator(rescale=1/255)\n",
        "\n",
        "# Flow training images in batches of 128 using train_datagen generator\n",
        "train_generator = train_datagen.flow_from_directory(\n",
        "        '/tmp/horse-or-human/',  # This is the source directory for training images\n",
        "        target_size=(300, 300),  # All images will be resized to 150x150\n",
        "        batch_size=128,\n",
        "        # Since we use binary_crossentropy loss, we need binary labels\n",
        "        class_mode='binary')\n",
        "\n",
        "# Flow training images in batches of 128 using train_datagen generator\n",
        "validation_generator = validation_datagen.flow_from_directory(\n",
        "        '/tmp/validation-horse-or-human/',  # This is the source directory for training images\n",
        "        target_size=(300, 300),  # All images will be resized to 150x150\n",
        "        batch_size=32,\n",
        "        # Since we use binary_crossentropy loss, we need binary labels\n",
        "        class_mode='binary')"
      ],
      "execution_count": 5,
      "outputs": [
        {
          "output_type": "stream",
          "text": [
            "Found 1027 images belonging to 2 classes.\n",
            "Found 256 images belonging to 2 classes.\n"
          ],
          "name": "stdout"
        }
      ]
    },
    {
      "cell_type": "code",
      "metadata": {
        "colab": {
          "base_uri": "https://localhost:8080/"
        },
        "id": "Fb1_lgobv81m",
        "outputId": "c595e192-4c48-491c-d3bd-f5d469d145c8"
      },
      "source": [
        "history = model.fit(\n",
        "      train_generator,\n",
        "      steps_per_epoch=8,  \n",
        "      epochs=100,\n",
        "      verbose=1,\n",
        "      validation_data = validation_generator,\n",
        "      validation_steps=8)"
      ],
      "execution_count": 6,
      "outputs": [
        {
          "output_type": "stream",
          "text": [
            "Epoch 1/100\n",
            "8/8 [==============================] - 55s 4s/step - loss: 0.6932 - accuracy: 0.5570 - val_loss: 0.6792 - val_accuracy: 0.5000\n",
            "Epoch 2/100\n",
            "8/8 [==============================] - 25s 3s/step - loss: 0.6768 - accuracy: 0.6012 - val_loss: 0.7364 - val_accuracy: 0.5000\n",
            "Epoch 3/100\n",
            "8/8 [==============================] - 25s 3s/step - loss: 0.6498 - accuracy: 0.6052 - val_loss: 0.6337 - val_accuracy: 0.5391\n",
            "Epoch 4/100\n",
            "8/8 [==============================] - 25s 4s/step - loss: 0.6077 - accuracy: 0.7092 - val_loss: 0.6048 - val_accuracy: 0.6016\n",
            "Epoch 5/100\n",
            "8/8 [==============================] - 24s 3s/step - loss: 0.5727 - accuracy: 0.7142 - val_loss: 0.7924 - val_accuracy: 0.5000\n",
            "Epoch 6/100\n",
            "8/8 [==============================] - 24s 3s/step - loss: 0.6746 - accuracy: 0.6267 - val_loss: 0.7290 - val_accuracy: 0.5000\n",
            "Epoch 7/100\n",
            "8/8 [==============================] - 24s 3s/step - loss: 0.5527 - accuracy: 0.7113 - val_loss: 0.6035 - val_accuracy: 0.5898\n",
            "Epoch 8/100\n",
            "8/8 [==============================] - 24s 3s/step - loss: 0.5319 - accuracy: 0.7434 - val_loss: 0.4738 - val_accuracy: 0.8516\n",
            "Epoch 9/100\n",
            "8/8 [==============================] - 24s 3s/step - loss: 0.5495 - accuracy: 0.7043 - val_loss: 0.5685 - val_accuracy: 0.6094\n",
            "Epoch 10/100\n",
            "8/8 [==============================] - 24s 3s/step - loss: 0.5163 - accuracy: 0.7713 - val_loss: 0.7109 - val_accuracy: 0.5469\n",
            "Epoch 11/100\n",
            "8/8 [==============================] - 24s 3s/step - loss: 0.5487 - accuracy: 0.6889 - val_loss: 0.7667 - val_accuracy: 0.5391\n",
            "Epoch 12/100\n",
            "8/8 [==============================] - 24s 3s/step - loss: 0.4785 - accuracy: 0.7934 - val_loss: 0.6389 - val_accuracy: 0.6094\n",
            "Epoch 13/100\n",
            "8/8 [==============================] - 24s 3s/step - loss: 0.4936 - accuracy: 0.7837 - val_loss: 1.1043 - val_accuracy: 0.5156\n",
            "Epoch 14/100\n",
            "8/8 [==============================] - 24s 3s/step - loss: 0.4944 - accuracy: 0.7362 - val_loss: 0.9281 - val_accuracy: 0.5469\n",
            "Epoch 15/100\n",
            "8/8 [==============================] - 24s 3s/step - loss: 0.4816 - accuracy: 0.7661 - val_loss: 1.5801 - val_accuracy: 0.5000\n",
            "Epoch 16/100\n",
            "8/8 [==============================] - 25s 4s/step - loss: 0.5427 - accuracy: 0.7387 - val_loss: 0.8807 - val_accuracy: 0.5742\n",
            "Epoch 17/100\n",
            "8/8 [==============================] - 25s 3s/step - loss: 0.4676 - accuracy: 0.7818 - val_loss: 0.6162 - val_accuracy: 0.6484\n",
            "Epoch 18/100\n",
            "8/8 [==============================] - 25s 3s/step - loss: 0.4303 - accuracy: 0.8043 - val_loss: 0.3140 - val_accuracy: 0.9102\n",
            "Epoch 19/100\n",
            "8/8 [==============================] - 25s 3s/step - loss: 0.6988 - accuracy: 0.7092 - val_loss: 1.1341 - val_accuracy: 0.5586\n",
            "Epoch 20/100\n",
            "8/8 [==============================] - 25s 3s/step - loss: 0.4113 - accuracy: 0.8110 - val_loss: 0.4930 - val_accuracy: 0.7852\n",
            "Epoch 21/100\n",
            "8/8 [==============================] - 25s 3s/step - loss: 0.4881 - accuracy: 0.7713 - val_loss: 0.9258 - val_accuracy: 0.5781\n",
            "Epoch 22/100\n",
            "8/8 [==============================] - 25s 3s/step - loss: 0.4441 - accuracy: 0.7904 - val_loss: 1.0289 - val_accuracy: 0.6055\n",
            "Epoch 23/100\n",
            "8/8 [==============================] - 25s 3s/step - loss: 0.4186 - accuracy: 0.8290 - val_loss: 1.0481 - val_accuracy: 0.5938\n",
            "Epoch 24/100\n",
            "8/8 [==============================] - 25s 4s/step - loss: 0.3626 - accuracy: 0.8538 - val_loss: 1.2654 - val_accuracy: 0.5859\n",
            "Epoch 25/100\n",
            "8/8 [==============================] - 28s 3s/step - loss: 0.3978 - accuracy: 0.8270 - val_loss: 1.3885 - val_accuracy: 0.5625\n",
            "Epoch 26/100\n",
            "8/8 [==============================] - 25s 3s/step - loss: 0.3659 - accuracy: 0.8380 - val_loss: 1.2814 - val_accuracy: 0.5898\n",
            "Epoch 27/100\n",
            "8/8 [==============================] - 25s 3s/step - loss: 0.4728 - accuracy: 0.7684 - val_loss: 0.9152 - val_accuracy: 0.6289\n",
            "Epoch 28/100\n",
            "8/8 [==============================] - 25s 3s/step - loss: 0.3877 - accuracy: 0.8330 - val_loss: 1.0160 - val_accuracy: 0.6289\n",
            "Epoch 29/100\n",
            "8/8 [==============================] - 25s 3s/step - loss: 0.3446 - accuracy: 0.8649 - val_loss: 1.2801 - val_accuracy: 0.5977\n",
            "Epoch 30/100\n",
            "8/8 [==============================] - 25s 4s/step - loss: 0.3630 - accuracy: 0.8244 - val_loss: 1.5340 - val_accuracy: 0.5625\n",
            "Epoch 31/100\n",
            "8/8 [==============================] - 25s 3s/step - loss: 0.4144 - accuracy: 0.8224 - val_loss: 1.3805 - val_accuracy: 0.6016\n",
            "Epoch 32/100\n",
            "8/8 [==============================] - 25s 3s/step - loss: 0.3929 - accuracy: 0.8264 - val_loss: 1.3239 - val_accuracy: 0.6094\n",
            "Epoch 33/100\n",
            "8/8 [==============================] - 25s 3s/step - loss: 0.3437 - accuracy: 0.8601 - val_loss: 1.1208 - val_accuracy: 0.6484\n",
            "Epoch 34/100\n",
            "8/8 [==============================] - 28s 3s/step - loss: 0.2960 - accuracy: 0.8793 - val_loss: 1.4505 - val_accuracy: 0.6133\n",
            "Epoch 35/100\n",
            "8/8 [==============================] - 25s 3s/step - loss: 0.3283 - accuracy: 0.8594 - val_loss: 1.3314 - val_accuracy: 0.6016\n",
            "Epoch 36/100\n",
            "8/8 [==============================] - 25s 3s/step - loss: 0.2974 - accuracy: 0.8738 - val_loss: 2.0967 - val_accuracy: 0.5586\n",
            "Epoch 37/100\n",
            "8/8 [==============================] - 25s 3s/step - loss: 0.3850 - accuracy: 0.8200 - val_loss: 1.4224 - val_accuracy: 0.5977\n",
            "Epoch 38/100\n",
            "8/8 [==============================] - 25s 3s/step - loss: 0.3017 - accuracy: 0.8816 - val_loss: 1.6352 - val_accuracy: 0.5820\n",
            "Epoch 39/100\n",
            "8/8 [==============================] - 25s 4s/step - loss: 0.5595 - accuracy: 0.7732 - val_loss: 1.7918 - val_accuracy: 0.5703\n",
            "Epoch 40/100\n",
            "8/8 [==============================] - 25s 3s/step - loss: 0.2833 - accuracy: 0.8877 - val_loss: 1.3580 - val_accuracy: 0.6016\n",
            "Epoch 41/100\n",
            "8/8 [==============================] - 25s 3s/step - loss: 0.2541 - accuracy: 0.8970 - val_loss: 1.5179 - val_accuracy: 0.6094\n",
            "Epoch 42/100\n",
            "8/8 [==============================] - 25s 4s/step - loss: 0.3368 - accuracy: 0.8606 - val_loss: 1.4670 - val_accuracy: 0.6328\n",
            "Epoch 43/100\n",
            "8/8 [==============================] - 25s 3s/step - loss: 0.2488 - accuracy: 0.9045 - val_loss: 1.2856 - val_accuracy: 0.6562\n",
            "Epoch 44/100\n",
            "8/8 [==============================] - 25s 3s/step - loss: 0.3320 - accuracy: 0.8543 - val_loss: 1.4762 - val_accuracy: 0.6523\n",
            "Epoch 45/100\n",
            "8/8 [==============================] - 25s 3s/step - loss: 0.2703 - accuracy: 0.8841 - val_loss: 1.0708 - val_accuracy: 0.7188\n",
            "Epoch 46/100\n",
            "8/8 [==============================] - 28s 3s/step - loss: 0.4612 - accuracy: 0.7977 - val_loss: 1.7306 - val_accuracy: 0.6289\n",
            "Epoch 47/100\n",
            "8/8 [==============================] - 25s 3s/step - loss: 0.2956 - accuracy: 0.8823 - val_loss: 1.5241 - val_accuracy: 0.6367\n",
            "Epoch 48/100\n",
            "8/8 [==============================] - 25s 3s/step - loss: 0.2217 - accuracy: 0.9156 - val_loss: 2.0572 - val_accuracy: 0.5820\n",
            "Epoch 49/100\n",
            "8/8 [==============================] - 25s 3s/step - loss: 0.2866 - accuracy: 0.8728 - val_loss: 1.7667 - val_accuracy: 0.6211\n",
            "Epoch 50/100\n",
            "8/8 [==============================] - 25s 3s/step - loss: 0.2241 - accuracy: 0.9165 - val_loss: 1.2706 - val_accuracy: 0.6758\n",
            "Epoch 51/100\n",
            "8/8 [==============================] - 25s 3s/step - loss: 0.2617 - accuracy: 0.8943 - val_loss: 1.9526 - val_accuracy: 0.6016\n",
            "Epoch 52/100\n",
            "8/8 [==============================] - 25s 3s/step - loss: 0.2241 - accuracy: 0.9099 - val_loss: 2.0983 - val_accuracy: 0.6094\n",
            "Epoch 53/100\n",
            "8/8 [==============================] - 25s 3s/step - loss: 0.2518 - accuracy: 0.8971 - val_loss: 1.6245 - val_accuracy: 0.6094\n",
            "Epoch 54/100\n",
            "8/8 [==============================] - 25s 3s/step - loss: 0.2523 - accuracy: 0.8950 - val_loss: 1.3013 - val_accuracy: 0.6797\n",
            "Epoch 55/100\n",
            "8/8 [==============================] - 25s 4s/step - loss: 0.3141 - accuracy: 0.8774 - val_loss: 2.1832 - val_accuracy: 0.5977\n",
            "Epoch 56/100\n",
            "8/8 [==============================] - 25s 3s/step - loss: 0.2088 - accuracy: 0.9235 - val_loss: 1.5732 - val_accuracy: 0.6289\n",
            "Epoch 57/100\n",
            "8/8 [==============================] - 25s 3s/step - loss: 0.2346 - accuracy: 0.9028 - val_loss: 2.8993 - val_accuracy: 0.5234\n",
            "Epoch 58/100\n",
            "8/8 [==============================] - 25s 3s/step - loss: 0.2970 - accuracy: 0.8743 - val_loss: 1.8363 - val_accuracy: 0.6250\n",
            "Epoch 59/100\n",
            "8/8 [==============================] - 25s 3s/step - loss: 0.2070 - accuracy: 0.9078 - val_loss: 1.8071 - val_accuracy: 0.6328\n",
            "Epoch 60/100\n",
            "8/8 [==============================] - 27s 3s/step - loss: 0.2010 - accuracy: 0.9256 - val_loss: 1.1165 - val_accuracy: 0.6914\n",
            "Epoch 61/100\n",
            "8/8 [==============================] - 25s 3s/step - loss: 0.2113 - accuracy: 0.9235 - val_loss: 1.5338 - val_accuracy: 0.6602\n",
            "Epoch 62/100\n",
            "8/8 [==============================] - 25s 3s/step - loss: 0.2445 - accuracy: 0.9047 - val_loss: 1.6345 - val_accuracy: 0.6250\n",
            "Epoch 63/100\n",
            "8/8 [==============================] - 25s 3s/step - loss: 0.1736 - accuracy: 0.9358 - val_loss: 1.0850 - val_accuracy: 0.7148\n",
            "Epoch 64/100\n",
            "8/8 [==============================] - 25s 3s/step - loss: 0.2510 - accuracy: 0.8841 - val_loss: 1.8929 - val_accuracy: 0.6328\n",
            "Epoch 65/100\n",
            "8/8 [==============================] - 25s 3s/step - loss: 0.2192 - accuracy: 0.9080 - val_loss: 2.1059 - val_accuracy: 0.6211\n",
            "Epoch 66/100\n",
            "8/8 [==============================] - 27s 3s/step - loss: 0.1785 - accuracy: 0.9254 - val_loss: 2.7648 - val_accuracy: 0.5781\n",
            "Epoch 67/100\n",
            "8/8 [==============================] - 25s 3s/step - loss: 0.1967 - accuracy: 0.9330 - val_loss: 1.9658 - val_accuracy: 0.6367\n",
            "Epoch 68/100\n",
            "8/8 [==============================] - 25s 3s/step - loss: 0.2228 - accuracy: 0.9021 - val_loss: 2.0133 - val_accuracy: 0.6289\n",
            "Epoch 69/100\n",
            "8/8 [==============================] - 25s 3s/step - loss: 0.1476 - accuracy: 0.9400 - val_loss: 1.0339 - val_accuracy: 0.7305\n",
            "Epoch 70/100\n",
            "8/8 [==============================] - 25s 3s/step - loss: 0.2981 - accuracy: 0.8681 - val_loss: 1.5077 - val_accuracy: 0.6484\n",
            "Epoch 71/100\n",
            "8/8 [==============================] - 25s 3s/step - loss: 0.2086 - accuracy: 0.9110 - val_loss: 2.4893 - val_accuracy: 0.5508\n",
            "Epoch 72/100\n",
            "8/8 [==============================] - 25s 3s/step - loss: 0.1934 - accuracy: 0.9192 - val_loss: 1.7241 - val_accuracy: 0.6641\n",
            "Epoch 73/100\n",
            "8/8 [==============================] - 25s 3s/step - loss: 0.1552 - accuracy: 0.9364 - val_loss: 2.0644 - val_accuracy: 0.6250\n",
            "Epoch 74/100\n",
            "8/8 [==============================] - 25s 3s/step - loss: 0.1571 - accuracy: 0.9513 - val_loss: 3.5968 - val_accuracy: 0.5195\n",
            "Epoch 75/100\n",
            "8/8 [==============================] - 25s 3s/step - loss: 0.2521 - accuracy: 0.8801 - val_loss: 2.1491 - val_accuracy: 0.6211\n",
            "Epoch 76/100\n",
            "8/8 [==============================] - 25s 3s/step - loss: 0.1957 - accuracy: 0.9146 - val_loss: 2.0853 - val_accuracy: 0.6367\n",
            "Epoch 77/100\n",
            "8/8 [==============================] - 25s 3s/step - loss: 0.1802 - accuracy: 0.9346 - val_loss: 1.4509 - val_accuracy: 0.6719\n",
            "Epoch 78/100\n",
            "8/8 [==============================] - 24s 3s/step - loss: 0.1588 - accuracy: 0.9501 - val_loss: 3.2831 - val_accuracy: 0.5273\n",
            "Epoch 79/100\n",
            "8/8 [==============================] - 24s 3s/step - loss: 0.2012 - accuracy: 0.9105 - val_loss: 2.5985 - val_accuracy: 0.5977\n",
            "Epoch 80/100\n",
            "8/8 [==============================] - 25s 3s/step - loss: 0.1782 - accuracy: 0.9516 - val_loss: 3.0462 - val_accuracy: 0.5820\n",
            "Epoch 81/100\n",
            "8/8 [==============================] - 25s 3s/step - loss: 0.1747 - accuracy: 0.9350 - val_loss: 3.0943 - val_accuracy: 0.5391\n",
            "Epoch 82/100\n",
            "8/8 [==============================] - 25s 3s/step - loss: 0.2234 - accuracy: 0.9088 - val_loss: 2.0127 - val_accuracy: 0.6367\n",
            "Epoch 83/100\n",
            "8/8 [==============================] - 24s 3s/step - loss: 0.1376 - accuracy: 0.9521 - val_loss: 3.3115 - val_accuracy: 0.5430\n",
            "Epoch 84/100\n",
            "8/8 [==============================] - 27s 3s/step - loss: 0.1918 - accuracy: 0.9197 - val_loss: 2.5500 - val_accuracy: 0.6250\n",
            "Epoch 85/100\n",
            "8/8 [==============================] - 25s 3s/step - loss: 0.2867 - accuracy: 0.8951 - val_loss: 2.2665 - val_accuracy: 0.6172\n",
            "Epoch 86/100\n",
            "8/8 [==============================] - 25s 3s/step - loss: 0.1303 - accuracy: 0.9599 - val_loss: 3.0042 - val_accuracy: 0.5703\n",
            "Epoch 87/100\n",
            "8/8 [==============================] - 25s 3s/step - loss: 0.2614 - accuracy: 0.9002 - val_loss: 2.0467 - val_accuracy: 0.6523\n",
            "Epoch 88/100\n",
            "8/8 [==============================] - 24s 3s/step - loss: 0.1423 - accuracy: 0.9509 - val_loss: 3.8127 - val_accuracy: 0.5312\n",
            "Epoch 89/100\n",
            "8/8 [==============================] - 24s 3s/step - loss: 0.1842 - accuracy: 0.9280 - val_loss: 2.4666 - val_accuracy: 0.6250\n",
            "Epoch 90/100\n",
            "8/8 [==============================] - 24s 3s/step - loss: 0.1252 - accuracy: 0.9584 - val_loss: 2.8749 - val_accuracy: 0.5977\n",
            "Epoch 91/100\n",
            "8/8 [==============================] - 24s 3s/step - loss: 0.1677 - accuracy: 0.9347 - val_loss: 2.4470 - val_accuracy: 0.6250\n",
            "Epoch 92/100\n",
            "8/8 [==============================] - 27s 3s/step - loss: 0.1578 - accuracy: 0.9426 - val_loss: 1.7428 - val_accuracy: 0.6602\n",
            "Epoch 93/100\n",
            "8/8 [==============================] - 25s 3s/step - loss: 0.1230 - accuracy: 0.9575 - val_loss: 3.0586 - val_accuracy: 0.5938\n",
            "Epoch 94/100\n",
            "8/8 [==============================] - 25s 3s/step - loss: 0.1594 - accuracy: 0.9440 - val_loss: 2.5501 - val_accuracy: 0.6250\n",
            "Epoch 95/100\n",
            "8/8 [==============================] - 25s 3s/step - loss: 0.1134 - accuracy: 0.9577 - val_loss: 4.5096 - val_accuracy: 0.5273\n",
            "Epoch 96/100\n",
            "8/8 [==============================] - 25s 3s/step - loss: 0.2150 - accuracy: 0.9046 - val_loss: 2.9093 - val_accuracy: 0.6094\n",
            "Epoch 97/100\n",
            "8/8 [==============================] - 25s 3s/step - loss: 0.0847 - accuracy: 0.9772 - val_loss: 3.7305 - val_accuracy: 0.5508\n",
            "Epoch 98/100\n",
            "8/8 [==============================] - 25s 3s/step - loss: 0.1872 - accuracy: 0.9133 - val_loss: 1.6482 - val_accuracy: 0.6875\n",
            "Epoch 99/100\n",
            "8/8 [==============================] - 25s 3s/step - loss: 0.1711 - accuracy: 0.9124 - val_loss: 3.2884 - val_accuracy: 0.5898\n",
            "Epoch 100/100\n",
            "8/8 [==============================] - 25s 4s/step - loss: 0.4693 - accuracy: 0.8202 - val_loss: 2.6867 - val_accuracy: 0.6094\n"
          ],
          "name": "stdout"
        }
      ]
    },
    {
      "cell_type": "code",
      "metadata": {
        "colab": {
          "base_uri": "https://localhost:8080/",
          "height": 545
        },
        "id": "7zNPRWOVJdOH",
        "outputId": "b2373e1a-5ac6-4c8b-959f-649f9d9d1a0f"
      },
      "source": [
        "import matplotlib.pyplot as plt\n",
        "acc = history.history['accuracy']\n",
        "val_acc = history.history['val_accuracy']\n",
        "loss = history.history['loss']\n",
        "val_loss = history.history['val_loss']\n",
        "\n",
        "epochs = range(len(acc))\n",
        "\n",
        "plt.plot(epochs, acc, 'r', label='Training accuracy')\n",
        "plt.plot(epochs, val_acc, 'b', label='Validation accuracy')\n",
        "plt.title('Training and validation accuracy')\n",
        "\n",
        "plt.figure()\n",
        "\n",
        "plt.plot(epochs, loss, 'r', label='Training Loss')\n",
        "plt.plot(epochs, val_loss, 'b', label='Validation Loss')\n",
        "plt.title('Training and validation loss')\n",
        "plt.legend()\n",
        "\n",
        "plt.show()"
      ],
      "execution_count": 7,
      "outputs": [
        {
          "output_type": "display_data",
          "data": {
            "image/png": "[encoded data removed]",
            "text/plain": [
              "<Figure size 432x288 with 1 Axes>"
            ]
          },
          "metadata": {
            "tags": [],
            "needs_background": "light"
          }
        },
        {
          "output_type": "display_data",
          "data": {
            "image/png": "[encoded data removed]",
            "text/plain": [
              "<Figure size 432x288 with 1 Axes>"
            ]
          },
          "metadata": {
            "tags": [],
            "needs_background": "light"
          }
        }
      ]
    }
  ]
}