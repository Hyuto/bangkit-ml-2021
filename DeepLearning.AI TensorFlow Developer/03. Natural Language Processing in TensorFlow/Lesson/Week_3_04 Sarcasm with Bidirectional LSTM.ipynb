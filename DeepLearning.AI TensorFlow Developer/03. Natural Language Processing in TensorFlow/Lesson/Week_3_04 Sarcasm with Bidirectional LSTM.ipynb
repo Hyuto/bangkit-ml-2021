{
  "nbformat": 4,
  "nbformat_minor": 0,
  "metadata": {
    "accelerator": "GPU",
    "colab": {
      "name": "Course 3 - Week 3 - Lesson 2.ipynb",
      "provenance": [],
      "collapsed_sections": [],
      "toc_visible": true
    },
    "kernelspec": {
      "display_name": "Python 3",
      "language": "python",
      "name": "python3"
    },
    "language_info": {
      "codemirror_mode": {
        "name": "ipython",
        "version": 3
      },
      "file_extension": ".py",
      "mimetype": "text/x-python",
      "name": "python",
      "nbconvert_exporter": "python",
      "pygments_lexer": "ipython3",
      "version": "3.7.6"
    }
  },
  "cells": [
    {
      "cell_type": "code",
      "metadata": {
        "colab": {
          "base_uri": "https://localhost:8080/"
        },
        "id": "jGwXGIXvFhXW",
        "outputId": "4a09de3b-8fc4-44a3-bcc9-9137df415f68"
      },
      "source": [
        "import numpy as np\n",
        "\n",
        "import json\n",
        "import tensorflow as tf\n",
        "\n",
        "from tensorflow.keras.preprocessing.text import Tokenizer\n",
        "from tensorflow.keras.preprocessing.sequence import pad_sequences\n",
        "\n",
        "!wget --no-check-certificate \\\n",
        "    https://storage.googleapis.com/laurencemoroney-blog.appspot.com/sarcasm.json \\\n",
        "    -O /tmp/sarcasm.json\n",
        "\n",
        "vocab_size = 1000\n",
        "embedding_dim = 16\n",
        "max_length = 120\n",
        "trunc_type='post'\n",
        "padding_type='post'\n",
        "oov_tok = \"<OOV>\"\n",
        "training_size = 20000\n",
        "\n",
        "\n",
        "with open(\"/tmp/sarcasm.json\", 'r') as f:\n",
        "    datastore = json.load(f)\n",
        "\n",
        "\n",
        "sentences = []\n",
        "labels = []\n",
        "urls = []\n",
        "for item in datastore:\n",
        "    sentences.append(item['headline'])\n",
        "    labels.append(item['is_sarcastic'])\n",
        "\n",
        "training_sentences = sentences[0:training_size]\n",
        "testing_sentences = sentences[training_size:]\n",
        "training_labels = labels[0:training_size]\n",
        "testing_labels = labels[training_size:]\n",
        "\n",
        "tokenizer = Tokenizer(num_words=vocab_size, oov_token=oov_tok)\n",
        "tokenizer.fit_on_texts(training_sentences)\n",
        "\n",
        "word_index = tokenizer.word_index\n",
        "\n",
        "training_sequences = tokenizer.texts_to_sequences(training_sentences)\n",
        "training_padded = pad_sequences(training_sequences, maxlen=max_length, padding=padding_type, truncating=trunc_type)\n",
        "\n",
        "testing_sequences = tokenizer.texts_to_sequences(testing_sentences)\n",
        "testing_padded = pad_sequences(testing_sequences, maxlen=max_length, padding=padding_type, truncating=trunc_type)\n",
        "\n",
        "model = tf.keras.Sequential([\n",
        "    tf.keras.layers.Embedding(vocab_size, embedding_dim, input_length=max_length),\n",
        "    tf.keras.layers.Bidirectional(tf.keras.layers.LSTM(32)),\n",
        "    tf.keras.layers.Dense(24, activation='relu'),\n",
        "    tf.keras.layers.Dense(1, activation='sigmoid')\n",
        "])\n",
        "model.compile(loss='binary_crossentropy',optimizer='adam',metrics=['accuracy'])\n",
        "model.summary()\n",
        "\n",
        "num_epochs = 50\n",
        "training_padded = np.array(training_padded)\n",
        "training_labels = np.array(training_labels)\n",
        "testing_padded = np.array(testing_padded)\n",
        "testing_labels = np.array(testing_labels)\n",
        "history = model.fit(training_padded, training_labels, epochs=num_epochs, validation_data=(testing_padded, testing_labels), verbose=1)\n"
      ],
      "execution_count": 1,
      "outputs": [
        {
          "output_type": "stream",
          "text": [
            "--2021-04-08 17:55:03--  https://storage.googleapis.com/laurencemoroney-blog.appspot.com/sarcasm.json\n",
            "Resolving storage.googleapis.com (storage.googleapis.com)... 142.250.73.240, 172.253.115.128, 142.250.73.208, ...\n",
            "Connecting to storage.googleapis.com (storage.googleapis.com)|142.250.73.240|:443... connected.\n",
            "HTTP request sent, awaiting response... 200 OK\n",
            "Length: 5643545 (5.4M) [application/json]\n",
            "Saving to: ‘/tmp/sarcasm.json’\n",
            "\n",
            "\r/tmp/sarcasm.json     0%[                    ]       0  --.-KB/s               \r/tmp/sarcasm.json   100%[===================>]   5.38M  --.-KB/s    in 0.05s   \n",
            "\n",
            "2021-04-08 17:55:03 (106 MB/s) - ‘/tmp/sarcasm.json’ saved [5643545/5643545]\n",
            "\n",
            "Model: \"sequential\"\n",
            "_________________________________________________________________\n",
            "Layer (type)                 Output Shape              Param #   \n",
            "=================================================================\n",
            "embedding (Embedding)        (None, 120, 16)           16000     \n",
            "_________________________________________________________________\n",
            "bidirectional (Bidirectional (None, 64)                12544     \n",
            "_________________________________________________________________\n",
            "dense (Dense)                (None, 24)                1560      \n",
            "_________________________________________________________________\n",
            "dense_1 (Dense)              (None, 1)                 25        \n",
            "=================================================================\n",
            "Total params: 30,129\n",
            "Trainable params: 30,129\n",
            "Non-trainable params: 0\n",
            "_________________________________________________________________\n",
            "Epoch 1/50\n",
            "625/625 [==============================] - 42s 14ms/step - loss: 0.5429 - accuracy: 0.6918 - val_loss: 0.3903 - val_accuracy: 0.8189\n",
            "Epoch 2/50\n",
            "625/625 [==============================] - 7s 12ms/step - loss: 0.3531 - accuracy: 0.8388 - val_loss: 0.3813 - val_accuracy: 0.8278\n",
            "Epoch 3/50\n",
            "625/625 [==============================] - 7s 12ms/step - loss: 0.3332 - accuracy: 0.8497 - val_loss: 0.3778 - val_accuracy: 0.8261\n",
            "Epoch 4/50\n",
            "625/625 [==============================] - 7s 12ms/step - loss: 0.3118 - accuracy: 0.8637 - val_loss: 0.3718 - val_accuracy: 0.8314\n",
            "Epoch 5/50\n",
            "625/625 [==============================] - 7s 12ms/step - loss: 0.2994 - accuracy: 0.8669 - val_loss: 0.3712 - val_accuracy: 0.8383\n",
            "Epoch 6/50\n",
            "625/625 [==============================] - 7s 12ms/step - loss: 0.2848 - accuracy: 0.8762 - val_loss: 0.3794 - val_accuracy: 0.8335\n",
            "Epoch 7/50\n",
            "625/625 [==============================] - 7s 12ms/step - loss: 0.2745 - accuracy: 0.8800 - val_loss: 0.4072 - val_accuracy: 0.8161\n",
            "Epoch 8/50\n",
            "625/625 [==============================] - 8s 12ms/step - loss: 0.2660 - accuracy: 0.8832 - val_loss: 0.3906 - val_accuracy: 0.8299\n",
            "Epoch 9/50\n",
            "625/625 [==============================] - 8s 12ms/step - loss: 0.2572 - accuracy: 0.8894 - val_loss: 0.4090 - val_accuracy: 0.8267\n",
            "Epoch 10/50\n",
            "625/625 [==============================] - 8s 12ms/step - loss: 0.2412 - accuracy: 0.8962 - val_loss: 0.3957 - val_accuracy: 0.8301\n",
            "Epoch 11/50\n",
            "625/625 [==============================] - 7s 12ms/step - loss: 0.2368 - accuracy: 0.8996 - val_loss: 0.4285 - val_accuracy: 0.8241\n",
            "Epoch 12/50\n",
            "625/625 [==============================] - 7s 12ms/step - loss: 0.2296 - accuracy: 0.9006 - val_loss: 0.4297 - val_accuracy: 0.8249\n",
            "Epoch 13/50\n",
            "625/625 [==============================] - 8s 12ms/step - loss: 0.2292 - accuracy: 0.9030 - val_loss: 0.4631 - val_accuracy: 0.8262\n",
            "Epoch 14/50\n",
            "625/625 [==============================] - 7s 12ms/step - loss: 0.2195 - accuracy: 0.9058 - val_loss: 0.4663 - val_accuracy: 0.8244\n",
            "Epoch 15/50\n",
            "625/625 [==============================] - 8s 12ms/step - loss: 0.2154 - accuracy: 0.9105 - val_loss: 0.4937 - val_accuracy: 0.8252\n",
            "Epoch 16/50\n",
            "625/625 [==============================] - 7s 12ms/step - loss: 0.2033 - accuracy: 0.9138 - val_loss: 0.5019 - val_accuracy: 0.8241\n",
            "Epoch 17/50\n",
            "625/625 [==============================] - 7s 12ms/step - loss: 0.1975 - accuracy: 0.9189 - val_loss: 0.5314 - val_accuracy: 0.8210\n",
            "Epoch 18/50\n",
            "625/625 [==============================] - 8s 12ms/step - loss: 0.1938 - accuracy: 0.9195 - val_loss: 0.5225 - val_accuracy: 0.8226\n",
            "Epoch 19/50\n",
            "625/625 [==============================] - 8s 12ms/step - loss: 0.1824 - accuracy: 0.9271 - val_loss: 0.5378 - val_accuracy: 0.8179\n",
            "Epoch 20/50\n",
            "625/625 [==============================] - 7s 12ms/step - loss: 0.1787 - accuracy: 0.9286 - val_loss: 0.5969 - val_accuracy: 0.8190\n",
            "Epoch 21/50\n",
            "625/625 [==============================] - 7s 12ms/step - loss: 0.1658 - accuracy: 0.9355 - val_loss: 0.6318 - val_accuracy: 0.8161\n",
            "Epoch 22/50\n",
            "625/625 [==============================] - 8s 12ms/step - loss: 0.1602 - accuracy: 0.9340 - val_loss: 0.6359 - val_accuracy: 0.8134\n",
            "Epoch 23/50\n",
            "625/625 [==============================] - 8s 12ms/step - loss: 0.1557 - accuracy: 0.9368 - val_loss: 0.6617 - val_accuracy: 0.8134\n",
            "Epoch 24/50\n",
            "625/625 [==============================] - 7s 12ms/step - loss: 0.1533 - accuracy: 0.9389 - val_loss: 0.6595 - val_accuracy: 0.8101\n",
            "Epoch 25/50\n",
            "625/625 [==============================] - 7s 12ms/step - loss: 0.1450 - accuracy: 0.9429 - val_loss: 0.7500 - val_accuracy: 0.8103\n",
            "Epoch 26/50\n",
            "625/625 [==============================] - 8s 12ms/step - loss: 0.1406 - accuracy: 0.9432 - val_loss: 0.7466 - val_accuracy: 0.8074\n",
            "Epoch 27/50\n",
            "625/625 [==============================] - 7s 12ms/step - loss: 0.1323 - accuracy: 0.9470 - val_loss: 0.8289 - val_accuracy: 0.8103\n",
            "Epoch 28/50\n",
            "625/625 [==============================] - 7s 12ms/step - loss: 0.1231 - accuracy: 0.9504 - val_loss: 0.7988 - val_accuracy: 0.8070\n",
            "Epoch 29/50\n",
            "625/625 [==============================] - 7s 12ms/step - loss: 0.1195 - accuracy: 0.9515 - val_loss: 0.8642 - val_accuracy: 0.8037\n",
            "Epoch 30/50\n",
            "625/625 [==============================] - 7s 12ms/step - loss: 0.1162 - accuracy: 0.9536 - val_loss: 0.8346 - val_accuracy: 0.8083\n",
            "Epoch 31/50\n",
            "625/625 [==============================] - 7s 12ms/step - loss: 0.1022 - accuracy: 0.9587 - val_loss: 0.9392 - val_accuracy: 0.8111\n",
            "Epoch 32/50\n",
            "625/625 [==============================] - 7s 12ms/step - loss: 0.1074 - accuracy: 0.9553 - val_loss: 1.0551 - val_accuracy: 0.7989\n",
            "Epoch 33/50\n",
            "625/625 [==============================] - 7s 12ms/step - loss: 0.1097 - accuracy: 0.9534 - val_loss: 1.0394 - val_accuracy: 0.8052\n",
            "Epoch 34/50\n",
            "625/625 [==============================] - 7s 12ms/step - loss: 0.0984 - accuracy: 0.9583 - val_loss: 1.0973 - val_accuracy: 0.7976\n",
            "Epoch 35/50\n",
            "625/625 [==============================] - 7s 12ms/step - loss: 0.0947 - accuracy: 0.9584 - val_loss: 1.0946 - val_accuracy: 0.8059\n",
            "Epoch 36/50\n",
            "625/625 [==============================] - 8s 12ms/step - loss: 0.0864 - accuracy: 0.9642 - val_loss: 1.1496 - val_accuracy: 0.7983\n",
            "Epoch 37/50\n",
            "625/625 [==============================] - 7s 12ms/step - loss: 0.0800 - accuracy: 0.9636 - val_loss: 1.1582 - val_accuracy: 0.7991\n",
            "Epoch 38/50\n",
            "625/625 [==============================] - 7s 12ms/step - loss: 0.0782 - accuracy: 0.9663 - val_loss: 1.2887 - val_accuracy: 0.8050\n",
            "Epoch 39/50\n",
            "625/625 [==============================] - 8s 12ms/step - loss: 0.0741 - accuracy: 0.9677 - val_loss: 1.3614 - val_accuracy: 0.7997\n",
            "Epoch 40/50\n",
            "625/625 [==============================] - 8s 12ms/step - loss: 0.0754 - accuracy: 0.9660 - val_loss: 1.3726 - val_accuracy: 0.7976\n",
            "Epoch 41/50\n",
            "625/625 [==============================] - 8s 12ms/step - loss: 0.0773 - accuracy: 0.9668 - val_loss: 1.3835 - val_accuracy: 0.8001\n",
            "Epoch 42/50\n",
            "625/625 [==============================] - 8s 12ms/step - loss: 0.0786 - accuracy: 0.9653 - val_loss: 1.4606 - val_accuracy: 0.8007\n",
            "Epoch 43/50\n",
            "625/625 [==============================] - 8s 12ms/step - loss: 0.0634 - accuracy: 0.9705 - val_loss: 1.5955 - val_accuracy: 0.7955\n",
            "Epoch 44/50\n",
            "625/625 [==============================] - 8s 12ms/step - loss: 0.0629 - accuracy: 0.9701 - val_loss: 1.4662 - val_accuracy: 0.8027\n",
            "Epoch 45/50\n",
            "625/625 [==============================] - 8s 12ms/step - loss: 0.0676 - accuracy: 0.9696 - val_loss: 1.4800 - val_accuracy: 0.7985\n",
            "Epoch 46/50\n",
            "625/625 [==============================] - 8s 12ms/step - loss: 0.0580 - accuracy: 0.9729 - val_loss: 1.6442 - val_accuracy: 0.8022\n",
            "Epoch 47/50\n",
            "625/625 [==============================] - 8s 12ms/step - loss: 0.0589 - accuracy: 0.9725 - val_loss: 1.7905 - val_accuracy: 0.7961\n",
            "Epoch 48/50\n",
            "625/625 [==============================] - 8s 12ms/step - loss: 0.0592 - accuracy: 0.9714 - val_loss: 1.6488 - val_accuracy: 0.8004\n",
            "Epoch 49/50\n",
            "625/625 [==============================] - 8s 12ms/step - loss: 0.0531 - accuracy: 0.9753 - val_loss: 1.7643 - val_accuracy: 0.7974\n",
            "Epoch 50/50\n",
            "625/625 [==============================] - 8s 12ms/step - loss: 0.0563 - accuracy: 0.9729 - val_loss: 1.7599 - val_accuracy: 0.7971\n"
          ],
          "name": "stdout"
        }
      ]
    },
    {
      "cell_type": "code",
      "metadata": {
        "colab": {
          "base_uri": "https://localhost:8080/",
          "height": 541
        },
        "id": "g9DC6dmLF8DC",
        "outputId": "187e47a4-53c5-4d25-d817-c96d646489c4"
      },
      "source": [
        "import matplotlib.pyplot as plt\n",
        "\n",
        "\n",
        "def plot_graphs(history, string):\n",
        "  plt.plot(history.history[string])\n",
        "  plt.plot(history.history['val_'+string])\n",
        "  plt.xlabel(\"Epochs\")\n",
        "  plt.ylabel(string)\n",
        "  plt.legend([string, 'val_'+string])\n",
        "  plt.show()\n",
        "\n",
        "plot_graphs(history, 'accuracy')\n",
        "plot_graphs(history, 'loss')"
      ],
      "execution_count": 2,
      "outputs": [
        {
          "output_type": "display_data",
          "data": {
            "image/png": "[encoded data removed]",
            "text/plain": [
              "<Figure size 432x288 with 1 Axes>"
            ]
          },
          "metadata": {
            "tags": [],
            "needs_background": "light"
          }
        },
        {
          "output_type": "display_data",
          "data": {
            "image/png": "[encoded data removed]",
            "text/plain": [
              "<Figure size 432x288 with 1 Axes>"
            ]
          },
          "metadata": {
            "tags": [],
            "needs_background": "light"
          }
        }
      ]
    },
    {
      "cell_type": "code",
      "metadata": {
        "id": "7ZEZIUppGhdi"
      },
      "source": [
        "model.save(\"test.h5\")"
      ],
      "execution_count": 3,
      "outputs": []
    }
  ]
}