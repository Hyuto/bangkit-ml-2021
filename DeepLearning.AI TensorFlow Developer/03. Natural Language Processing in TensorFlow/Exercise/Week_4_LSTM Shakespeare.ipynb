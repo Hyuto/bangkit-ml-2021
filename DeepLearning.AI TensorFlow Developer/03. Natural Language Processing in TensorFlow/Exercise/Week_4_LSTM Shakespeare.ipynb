{
  "nbformat": 4,
  "nbformat_minor": 0,
  "metadata": {
    "accelerator": "GPU",
    "colab": {
      "name": "NLP_Week4_Exercise_Shakespeare_Question.ipynb",
      "provenance": []
    },
    "kernelspec": {
      "display_name": "Python 3",
      "name": "python3"
    }
  },
  "cells": [
    {
      "cell_type": "code",
      "metadata": {
        "id": "BOwsuGQQY9OL"
      },
      "source": [
        "from tensorflow.keras.preprocessing.sequence import pad_sequences\n",
        "from tensorflow.keras.layers import Embedding, LSTM, Dense, Dropout, Bidirectional\n",
        "from tensorflow.keras.preprocessing.text import Tokenizer\n",
        "from tensorflow.keras.models import Sequential\n",
        "from tensorflow.keras.optimizers import Adam\n",
        "### YOUR CODE HERE\n",
        "# Figure out how to import regularizers\n",
        "from tensorflow.keras.regularizers import *\n",
        "###\n",
        "import tensorflow.keras.utils as ku \n",
        "import numpy as np "
      ],
      "execution_count": 2,
      "outputs": []
    },
    {
      "cell_type": "code",
      "metadata": {
        "colab": {
          "base_uri": "https://localhost:8080/"
        },
        "id": "PRnDnCW-Z7qv",
        "outputId": "d0a08237-19c4-409e-d761-7b50bcac23c1"
      },
      "source": [
        "tokenizer = Tokenizer()\n",
        "!wget --no-check-certificate \\\n",
        "    https://storage.googleapis.com/laurencemoroney-blog.appspot.com/sonnets.txt \\\n",
        "    -O /tmp/sonnets.txt\n",
        "data = open('/tmp/sonnets.txt').read()\n",
        "\n",
        "corpus = data.lower().split(\"\\n\")\n",
        "\n",
        "\n",
        "tokenizer.fit_on_texts(corpus)\n",
        "total_words = len(tokenizer.word_index) + 1\n",
        "\n",
        "# create input sequences using list of tokens\n",
        "input_sequences = []\n",
        "for line in corpus:\n",
        "\ttoken_list = tokenizer.texts_to_sequences([line])[0]\n",
        "\tfor i in range(1, len(token_list)):\n",
        "\t\tn_gram_sequence = token_list[:i+1]\n",
        "\t\tinput_sequences.append(n_gram_sequence)\n",
        "\n",
        "\n",
        "# pad sequences \n",
        "max_sequence_len = max([len(x) for x in input_sequences])\n",
        "input_sequences = np.array(pad_sequences(input_sequences, maxlen=max_sequence_len, padding='pre'))\n",
        "\n",
        "# create predictors and label\n",
        "predictors, label = input_sequences[:,:-1],input_sequences[:,-1]\n",
        "\n",
        "label = ku.to_categorical(label, num_classes=total_words)"
      ],
      "execution_count": 3,
      "outputs": [
        {
          "output_type": "stream",
          "text": [
            "--2021-04-06 18:32:45--  https://storage.googleapis.com/laurencemoroney-blog.appspot.com/sonnets.txt\n",
            "Resolving storage.googleapis.com (storage.googleapis.com)... 172.217.7.240, 172.217.13.240, 172.217.13.80, ...\n",
            "Connecting to storage.googleapis.com (storage.googleapis.com)|172.217.7.240|:443... connected.\n",
            "HTTP request sent, awaiting response... 200 OK\n",
            "Length: 93578 (91K) [text/plain]\n",
            "Saving to: ‘/tmp/sonnets.txt’\n",
            "\n",
            "\r/tmp/sonnets.txt      0%[                    ]       0  --.-KB/s               \r/tmp/sonnets.txt    100%[===================>]  91.38K  --.-KB/s    in 0.001s  \n",
            "\n",
            "2021-04-06 18:32:45 (131 MB/s) - ‘/tmp/sonnets.txt’ saved [93578/93578]\n",
            "\n"
          ],
          "name": "stdout"
        }
      ]
    },
    {
      "cell_type": "code",
      "metadata": {
        "colab": {
          "base_uri": "https://localhost:8080/"
        },
        "id": "w9vH8Y59ajYL",
        "outputId": "bae40baa-a0f2-412f-b847-66cfca76d945"
      },
      "source": [
        "model = Sequential()\n",
        "model.add(Embedding(total_words, 100, input_length = max_sequence_len - 1))\n",
        "model.add(Bidirectional(LSTM(128, return_sequences=True)))\n",
        "model.add(Dropout(0.15))\n",
        "model.add(LSTM(64))\n",
        "model.add(Dense(total_words // 2, activation='relu', \n",
        "          kernel_regularizer = L2(0.01)))\n",
        "model.add(Dense(total_words, activation='softmax'))\n",
        "# Pick an optimizer\n",
        "model.compile(loss='categorical_crossentropy', \n",
        "              optimizer=Adam(), metrics=['accuracy'])\n",
        "print(model.summary())\n"
      ],
      "execution_count": 4,
      "outputs": [
        {
          "output_type": "stream",
          "text": [
            "Model: \"sequential\"\n",
            "_________________________________________________________________\n",
            "Layer (type)                 Output Shape              Param #   \n",
            "=================================================================\n",
            "embedding (Embedding)        (None, 10, 100)           321100    \n",
            "_________________________________________________________________\n",
            "bidirectional (Bidirectional (None, 10, 256)           234496    \n",
            "_________________________________________________________________\n",
            "dropout (Dropout)            (None, 10, 256)           0         \n",
            "_________________________________________________________________\n",
            "lstm_1 (LSTM)                (None, 64)                82176     \n",
            "_________________________________________________________________\n",
            "dense (Dense)                (None, 1605)              104325    \n",
            "_________________________________________________________________\n",
            "dense_1 (Dense)              (None, 3211)              5156866   \n",
            "=================================================================\n",
            "Total params: 5,898,963\n",
            "Trainable params: 5,898,963\n",
            "Non-trainable params: 0\n",
            "_________________________________________________________________\n",
            "None\n"
          ],
          "name": "stdout"
        }
      ]
    },
    {
      "cell_type": "code",
      "metadata": {
        "colab": {
          "base_uri": "https://localhost:8080/"
        },
        "id": "AIg2f1HBxqof",
        "outputId": "442cc44d-59dc-4612-c104-922e4bf11e7d"
      },
      "source": [
        " history = model.fit(predictors, label, epochs=100, verbose=1)"
      ],
      "execution_count": 5,
      "outputs": [
        {
          "output_type": "stream",
          "text": [
            "Epoch 1/100\n",
            "484/484 [==============================] - 12s 12ms/step - loss: 7.2389 - accuracy: 0.0213\n",
            "Epoch 2/100\n",
            "484/484 [==============================] - 6s 12ms/step - loss: 6.4543 - accuracy: 0.0226\n",
            "Epoch 3/100\n",
            "484/484 [==============================] - 6s 12ms/step - loss: 6.3259 - accuracy: 0.0282\n",
            "Epoch 4/100\n",
            "484/484 [==============================] - 6s 12ms/step - loss: 6.2351 - accuracy: 0.0292\n",
            "Epoch 5/100\n",
            "484/484 [==============================] - 6s 11ms/step - loss: 6.1244 - accuracy: 0.0385\n",
            "Epoch 6/100\n",
            "484/484 [==============================] - 5s 11ms/step - loss: 6.0511 - accuracy: 0.0401\n",
            "Epoch 7/100\n",
            "484/484 [==============================] - 6s 12ms/step - loss: 5.9882 - accuracy: 0.0398\n",
            "Epoch 8/100\n",
            "484/484 [==============================] - 6s 12ms/step - loss: 5.8905 - accuracy: 0.0453\n",
            "Epoch 9/100\n",
            "484/484 [==============================] - 6s 11ms/step - loss: 5.8061 - accuracy: 0.0499\n",
            "Epoch 10/100\n",
            "484/484 [==============================] - 6s 12ms/step - loss: 5.7366 - accuracy: 0.0565\n",
            "Epoch 11/100\n",
            "484/484 [==============================] - 6s 11ms/step - loss: 5.6240 - accuracy: 0.0626\n",
            "Epoch 12/100\n",
            "484/484 [==============================] - 6s 12ms/step - loss: 5.5012 - accuracy: 0.0697\n",
            "Epoch 13/100\n",
            "484/484 [==============================] - 6s 12ms/step - loss: 5.3849 - accuracy: 0.0750\n",
            "Epoch 14/100\n",
            "484/484 [==============================] - 6s 12ms/step - loss: 5.3191 - accuracy: 0.0764\n",
            "Epoch 15/100\n",
            "484/484 [==============================] - 6s 12ms/step - loss: 5.2394 - accuracy: 0.0803\n",
            "Epoch 16/100\n",
            "484/484 [==============================] - 6s 12ms/step - loss: 5.1330 - accuracy: 0.0876\n",
            "Epoch 17/100\n",
            "484/484 [==============================] - 6s 11ms/step - loss: 5.0300 - accuracy: 0.0983\n",
            "Epoch 18/100\n",
            "484/484 [==============================] - 6s 11ms/step - loss: 4.9483 - accuracy: 0.1124\n",
            "Epoch 19/100\n",
            "484/484 [==============================] - 6s 12ms/step - loss: 4.8571 - accuracy: 0.1099\n",
            "Epoch 20/100\n",
            "484/484 [==============================] - 6s 12ms/step - loss: 4.7304 - accuracy: 0.1222\n",
            "Epoch 21/100\n",
            "484/484 [==============================] - 5s 11ms/step - loss: 4.6422 - accuracy: 0.1284\n",
            "Epoch 22/100\n",
            "484/484 [==============================] - 6s 11ms/step - loss: 4.5392 - accuracy: 0.1389\n",
            "Epoch 23/100\n",
            "484/484 [==============================] - 6s 12ms/step - loss: 4.4266 - accuracy: 0.1503\n",
            "Epoch 24/100\n",
            "484/484 [==============================] - 6s 12ms/step - loss: 4.3429 - accuracy: 0.1572\n",
            "Epoch 25/100\n",
            "484/484 [==============================] - 6s 12ms/step - loss: 4.2367 - accuracy: 0.1772\n",
            "Epoch 26/100\n",
            "484/484 [==============================] - 6s 12ms/step - loss: 4.1369 - accuracy: 0.1827\n",
            "Epoch 27/100\n",
            "484/484 [==============================] - 6s 11ms/step - loss: 4.0435 - accuracy: 0.1966\n",
            "Epoch 28/100\n",
            "484/484 [==============================] - 6s 12ms/step - loss: 3.9371 - accuracy: 0.2129\n",
            "Epoch 29/100\n",
            "484/484 [==============================] - 5s 11ms/step - loss: 3.8768 - accuracy: 0.2187\n",
            "Epoch 30/100\n",
            "484/484 [==============================] - 6s 11ms/step - loss: 3.7621 - accuracy: 0.2442\n",
            "Epoch 31/100\n",
            "484/484 [==============================] - 6s 12ms/step - loss: 3.6562 - accuracy: 0.2715\n",
            "Epoch 32/100\n",
            "484/484 [==============================] - 6s 12ms/step - loss: 3.5763 - accuracy: 0.2845\n",
            "Epoch 33/100\n",
            "484/484 [==============================] - 6s 12ms/step - loss: 3.5127 - accuracy: 0.3026\n",
            "Epoch 34/100\n",
            "484/484 [==============================] - 6s 12ms/step - loss: 3.4273 - accuracy: 0.3140\n",
            "Epoch 35/100\n",
            "484/484 [==============================] - 6s 12ms/step - loss: 3.3000 - accuracy: 0.3453\n",
            "Epoch 36/100\n",
            "484/484 [==============================] - 6s 12ms/step - loss: 3.2290 - accuracy: 0.3565\n",
            "Epoch 37/100\n",
            "484/484 [==============================] - 6s 12ms/step - loss: 3.1701 - accuracy: 0.3749\n",
            "Epoch 38/100\n",
            "484/484 [==============================] - 6s 11ms/step - loss: 3.1065 - accuracy: 0.3891\n",
            "Epoch 39/100\n",
            "484/484 [==============================] - 6s 12ms/step - loss: 3.0283 - accuracy: 0.4033\n",
            "Epoch 40/100\n",
            "484/484 [==============================] - 6s 12ms/step - loss: 2.9271 - accuracy: 0.4237\n",
            "Epoch 41/100\n",
            "484/484 [==============================] - 6s 12ms/step - loss: 2.9135 - accuracy: 0.4310\n",
            "Epoch 42/100\n",
            "484/484 [==============================] - 6s 11ms/step - loss: 2.8293 - accuracy: 0.4534\n",
            "Epoch 43/100\n",
            "484/484 [==============================] - 6s 11ms/step - loss: 2.7686 - accuracy: 0.4681\n",
            "Epoch 44/100\n",
            "484/484 [==============================] - 5s 11ms/step - loss: 2.7161 - accuracy: 0.4794\n",
            "Epoch 45/100\n",
            "484/484 [==============================] - 6s 11ms/step - loss: 2.6586 - accuracy: 0.4859\n",
            "Epoch 46/100\n",
            "484/484 [==============================] - 6s 12ms/step - loss: 2.6072 - accuracy: 0.5023\n",
            "Epoch 47/100\n",
            "484/484 [==============================] - 6s 11ms/step - loss: 2.5415 - accuracy: 0.5191\n",
            "Epoch 48/100\n",
            "484/484 [==============================] - 6s 12ms/step - loss: 2.4859 - accuracy: 0.5317\n",
            "Epoch 49/100\n",
            "484/484 [==============================] - 6s 12ms/step - loss: 2.4452 - accuracy: 0.5370\n",
            "Epoch 50/100\n",
            "484/484 [==============================] - 5s 11ms/step - loss: 2.3940 - accuracy: 0.5520\n",
            "Epoch 51/100\n",
            "484/484 [==============================] - 6s 11ms/step - loss: 2.3484 - accuracy: 0.5620\n",
            "Epoch 52/100\n",
            "484/484 [==============================] - 5s 11ms/step - loss: 2.2791 - accuracy: 0.5849\n",
            "Epoch 53/100\n",
            "484/484 [==============================] - 6s 11ms/step - loss: 2.2329 - accuracy: 0.5883\n",
            "Epoch 54/100\n",
            "484/484 [==============================] - 6s 11ms/step - loss: 2.2044 - accuracy: 0.5960\n",
            "Epoch 55/100\n",
            "484/484 [==============================] - 5s 11ms/step - loss: 2.1589 - accuracy: 0.6017\n",
            "Epoch 56/100\n",
            "484/484 [==============================] - 5s 11ms/step - loss: 2.1318 - accuracy: 0.6121\n",
            "Epoch 57/100\n",
            "484/484 [==============================] - 5s 11ms/step - loss: 2.0904 - accuracy: 0.6202\n",
            "Epoch 58/100\n",
            "484/484 [==============================] - 5s 11ms/step - loss: 2.0618 - accuracy: 0.6233\n",
            "Epoch 59/100\n",
            "484/484 [==============================] - 5s 11ms/step - loss: 2.0265 - accuracy: 0.6268\n",
            "Epoch 60/100\n",
            "484/484 [==============================] - 5s 11ms/step - loss: 1.9902 - accuracy: 0.6418\n",
            "Epoch 61/100\n",
            "484/484 [==============================] - 6s 12ms/step - loss: 1.9739 - accuracy: 0.6486\n",
            "Epoch 62/100\n",
            "484/484 [==============================] - 5s 11ms/step - loss: 1.9167 - accuracy: 0.6548\n",
            "Epoch 63/100\n",
            "484/484 [==============================] - 5s 11ms/step - loss: 1.9037 - accuracy: 0.6510\n",
            "Epoch 64/100\n",
            "484/484 [==============================] - 5s 11ms/step - loss: 1.8408 - accuracy: 0.6727\n",
            "Epoch 65/100\n",
            "484/484 [==============================] - 5s 11ms/step - loss: 1.8344 - accuracy: 0.6737\n",
            "Epoch 66/100\n",
            "484/484 [==============================] - 5s 11ms/step - loss: 1.8122 - accuracy: 0.6763\n",
            "Epoch 67/100\n",
            "484/484 [==============================] - 6s 11ms/step - loss: 1.7902 - accuracy: 0.6808\n",
            "Epoch 68/100\n",
            "484/484 [==============================] - 5s 11ms/step - loss: 1.7462 - accuracy: 0.6889\n",
            "Epoch 69/100\n",
            "484/484 [==============================] - 6s 11ms/step - loss: 1.7192 - accuracy: 0.6981\n",
            "Epoch 70/100\n",
            "484/484 [==============================] - 6s 11ms/step - loss: 1.6851 - accuracy: 0.7036\n",
            "Epoch 71/100\n",
            "484/484 [==============================] - 5s 11ms/step - loss: 1.6798 - accuracy: 0.7053\n",
            "Epoch 72/100\n",
            "484/484 [==============================] - 6s 11ms/step - loss: 1.6558 - accuracy: 0.7062\n",
            "Epoch 73/100\n",
            "484/484 [==============================] - 5s 11ms/step - loss: 1.6291 - accuracy: 0.7108\n",
            "Epoch 74/100\n",
            "484/484 [==============================] - 6s 11ms/step - loss: 1.6033 - accuracy: 0.7207\n",
            "Epoch 75/100\n",
            "484/484 [==============================] - 6s 11ms/step - loss: 1.5714 - accuracy: 0.7256\n",
            "Epoch 76/100\n",
            "484/484 [==============================] - 6s 11ms/step - loss: 1.5678 - accuracy: 0.7268\n",
            "Epoch 77/100\n",
            "484/484 [==============================] - 5s 11ms/step - loss: 1.5424 - accuracy: 0.7341\n",
            "Epoch 78/100\n",
            "484/484 [==============================] - 5s 11ms/step - loss: 1.5034 - accuracy: 0.7408\n",
            "Epoch 79/100\n",
            "484/484 [==============================] - 6s 12ms/step - loss: 1.4967 - accuracy: 0.7414\n",
            "Epoch 80/100\n",
            "484/484 [==============================] - 5s 11ms/step - loss: 1.4628 - accuracy: 0.7504\n",
            "Epoch 81/100\n",
            "484/484 [==============================] - 6s 11ms/step - loss: 1.4746 - accuracy: 0.7454\n",
            "Epoch 82/100\n",
            "484/484 [==============================] - 5s 11ms/step - loss: 1.4418 - accuracy: 0.7501\n",
            "Epoch 83/100\n",
            "484/484 [==============================] - 6s 11ms/step - loss: 1.4493 - accuracy: 0.7502\n",
            "Epoch 84/100\n",
            "484/484 [==============================] - 6s 11ms/step - loss: 1.3959 - accuracy: 0.7616\n",
            "Epoch 85/100\n",
            "484/484 [==============================] - 5s 11ms/step - loss: 1.3747 - accuracy: 0.7709\n",
            "Epoch 86/100\n",
            "484/484 [==============================] - 5s 11ms/step - loss: 1.3708 - accuracy: 0.7663\n",
            "Epoch 87/100\n",
            "484/484 [==============================] - 6s 12ms/step - loss: 1.3467 - accuracy: 0.7689\n",
            "Epoch 88/100\n",
            "484/484 [==============================] - 5s 11ms/step - loss: 1.3288 - accuracy: 0.7725\n",
            "Epoch 89/100\n",
            "484/484 [==============================] - 5s 11ms/step - loss: 1.2875 - accuracy: 0.7839\n",
            "Epoch 90/100\n",
            "484/484 [==============================] - 5s 11ms/step - loss: 1.3053 - accuracy: 0.7730\n",
            "Epoch 91/100\n",
            "484/484 [==============================] - 6s 11ms/step - loss: 1.2956 - accuracy: 0.7743\n",
            "Epoch 92/100\n",
            "484/484 [==============================] - 6s 12ms/step - loss: 1.2895 - accuracy: 0.7757\n",
            "Epoch 93/100\n",
            "484/484 [==============================] - 5s 11ms/step - loss: 1.2889 - accuracy: 0.7784\n",
            "Epoch 94/100\n",
            "484/484 [==============================] - 5s 11ms/step - loss: 1.2524 - accuracy: 0.7863\n",
            "Epoch 95/100\n",
            "484/484 [==============================] - 6s 12ms/step - loss: 1.2599 - accuracy: 0.7815\n",
            "Epoch 96/100\n",
            "484/484 [==============================] - 5s 11ms/step - loss: 1.2343 - accuracy: 0.7900\n",
            "Epoch 97/100\n",
            "484/484 [==============================] - 6s 11ms/step - loss: 1.2123 - accuracy: 0.7963\n",
            "Epoch 98/100\n",
            "484/484 [==============================] - 6s 11ms/step - loss: 1.2022 - accuracy: 0.7951\n",
            "Epoch 99/100\n",
            "484/484 [==============================] - 5s 11ms/step - loss: 1.2186 - accuracy: 0.7922\n",
            "Epoch 100/100\n",
            "484/484 [==============================] - 6s 12ms/step - loss: 1.1703 - accuracy: 0.7973\n"
          ],
          "name": "stdout"
        }
      ]
    },
    {
      "cell_type": "code",
      "metadata": {
        "colab": {
          "base_uri": "https://localhost:8080/",
          "height": 545
        },
        "id": "1fXTEO3GJ282",
        "outputId": "999e8e1b-4478-4e10-9457-184c34a31d7e"
      },
      "source": [
        "import matplotlib.pyplot as plt\n",
        "acc = history.history['accuracy']\n",
        "loss = history.history['loss']\n",
        "\n",
        "epochs = range(len(acc))\n",
        "\n",
        "plt.plot(epochs, acc, 'b', label='Training accuracy')\n",
        "plt.title('Training accuracy')\n",
        "\n",
        "plt.figure()\n",
        "\n",
        "plt.plot(epochs, loss, 'b', label='Training Loss')\n",
        "plt.title('Training loss')\n",
        "plt.legend()\n",
        "\n",
        "plt.show()"
      ],
      "execution_count": 6,
      "outputs": [
        {
          "output_type": "display_data",
          "data": {
            "image/png": "[encoded data removed]",
            "text/plain": [
              "<Figure size 432x288 with 1 Axes>"
            ]
          },
          "metadata": {
            "tags": [],
            "needs_background": "light"
          }
        },
        {
          "output_type": "display_data",
          "data": {
            "image/png": "[encoded data removed]",
            "text/plain": [
              "<Figure size 432x288 with 1 Axes>"
            ]
          },
          "metadata": {
            "tags": [],
            "needs_background": "light"
          }
        }
      ]
    },
    {
      "cell_type": "code",
      "metadata": {
        "colab": {
          "base_uri": "https://localhost:8080/"
        },
        "id": "6Vc6PHgxa6Hm",
        "outputId": "b4d23524-02f2-427f-8006-10ebfe2df93d"
      },
      "source": [
        "seed_text = \"Help me Obi Wan Kenobi, you're my only hope\"\n",
        "next_words = 100\n",
        "  \n",
        "for _ in range(next_words):\n",
        "\ttoken_list = tokenizer.texts_to_sequences([seed_text])[0]\n",
        "\ttoken_list = pad_sequences([token_list], maxlen=max_sequence_len-1, padding='pre')\n",
        "\tpredicted = model.predict_classes(token_list, verbose=0)\n",
        "\toutput_word = \"\"\n",
        "\tfor word, index in tokenizer.word_index.items():\n",
        "\t\tif index == predicted:\n",
        "\t\t\toutput_word = word\n",
        "\t\t\tbreak\n",
        "\tseed_text += \" \" + output_word\n",
        "print(seed_text)"
      ],
      "execution_count": 7,
      "outputs": [
        {
          "output_type": "stream",
          "text": [
            "/usr/local/lib/python3.7/dist-packages/tensorflow/python/keras/engine/sequential.py:450: UserWarning: `model.predict_classes()` is deprecated and will be removed after 2021-01-01. Please use instead:* `np.argmax(model.predict(x), axis=-1)`,   if your model does multi-class classification   (e.g. if it uses a `softmax` last-layer activation).* `(model.predict(x) > 0.5).astype(\"int32\")`,   if your model does binary classification   (e.g. if it uses a `sigmoid` last-layer activation).\n",
            "  warnings.warn('`model.predict_classes()` is deprecated and '\n"
          ],
          "name": "stderr"
        },
        {
          "output_type": "stream",
          "text": [
            "Help me Obi Wan Kenobi, you're my only hope should stand new hate might still thought forsworn me false much much lack so much wind true part so bright foes deem'd sort seen seen forsworn me true love true true spent lie thence in me remains is assure true eyes gone prove thee do make me blind will know alone prove thee do die it confounds blindness twain twain true parts so ' be give heart thought not have i forgot do see their leisure brought so precious touch'd knife state held rehearse set new new strong remedy spent decays decays seen keep bright a frame staineth staineth staineth\n"
          ],
          "name": "stdout"
        }
      ]
    }
  ]
}