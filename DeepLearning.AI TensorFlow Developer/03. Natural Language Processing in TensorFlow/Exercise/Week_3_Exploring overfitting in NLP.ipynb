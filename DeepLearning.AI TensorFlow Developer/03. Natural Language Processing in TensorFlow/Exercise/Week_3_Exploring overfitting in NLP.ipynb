{
  "nbformat": 4,
  "nbformat_minor": 0,
  "metadata": {
    "accelerator": "GPU",
    "colab": {
      "name": "NLP Course - Week 3 Exercise Question.ipynb",
      "provenance": [],
      "toc_visible": true
    },
    "kernelspec": {
      "display_name": "Python 3",
      "name": "python3"
    }
  },
  "cells": [
    {
      "cell_type": "code",
      "metadata": {
        "id": "hmA6EzkQJ5jt"
      },
      "source": [
        "import json\n",
        "import tensorflow as tf\n",
        "import csv\n",
        "import random\n",
        "import numpy as np\n",
        "\n",
        "from tensorflow.keras.preprocessing.text import Tokenizer\n",
        "from tensorflow.keras.preprocessing.sequence import pad_sequences\n",
        "from tensorflow.keras.utils import to_categorical\n",
        "from tensorflow.keras import regularizers\n",
        "\n",
        "\n",
        "embedding_dim = 100\n",
        "max_length = 16\n",
        "trunc_type='post'\n",
        "padding_type='post'\n",
        "oov_tok = \"<OOV>\"\n",
        "training_size = 160000 # 16000\n",
        "test_portion=.1\n",
        "\n",
        "corpus = []\n"
      ],
      "execution_count": 2,
      "outputs": []
    },
    {
      "cell_type": "code",
      "metadata": {
        "colab": {
          "base_uri": "https://localhost:8080/"
        },
        "id": "bM0l_dORKqE0",
        "outputId": "1c759f1d-a285-4f7e-eca4-1ffe0f003247"
      },
      "source": [
        "# Note that I cleaned the Stanford dataset to remove LATIN1 encoding to make it easier for Python CSV reader\n",
        "# You can do that yourself with:\n",
        "# iconv -f LATIN1 -t UTF8 training.1600000.processed.noemoticon.csv -o training_cleaned.csv\n",
        "# I then hosted it on my site to make it easier to use in this notebook\n",
        "\n",
        "!wget --no-check-certificate \\\n",
        "    https://storage.googleapis.com/laurencemoroney-blog.appspot.com/training_cleaned.csv \\\n",
        "    -O /tmp/training_cleaned.csv\n",
        "\n",
        "num_sentences = 0\n",
        "\n",
        "with open(\"/tmp/training_cleaned.csv\") as csvfile:\n",
        "    reader = csv.reader(csvfile, delimiter=',')\n",
        "    for row in reader:\n",
        "      # Your Code here. Create list items where the first item is the text, found in row[5], and the second is the label. Note that the label is a '0' or a '4' in the text. When it's the former, make\n",
        "      # your label to be 0, otherwise 1. Keep a count of the number of sentences in num_sentences\n",
        "        list_item=[row[5], 0 if row[0] == '0' else 1]\n",
        "        # YOUR CODE HERE\n",
        "        num_sentences = num_sentences + 1\n",
        "        corpus.append(list_item)\n"
      ],
      "execution_count": 3,
      "outputs": [
        {
          "output_type": "stream",
          "text": [
            "--2021-04-06 08:02:56--  https://storage.googleapis.com/laurencemoroney-blog.appspot.com/training_cleaned.csv\n",
            "Resolving storage.googleapis.com (storage.googleapis.com)... 74.125.142.128, 74.125.195.128, 74.125.20.128, ...\n",
            "Connecting to storage.googleapis.com (storage.googleapis.com)|74.125.142.128|:443... connected.\n",
            "HTTP request sent, awaiting response... 200 OK\n",
            "Length: 238942690 (228M) [application/octet-stream]\n",
            "Saving to: ‘/tmp/training_cleaned.csv’\n",
            "\n",
            "/tmp/training_clean 100%[===================>] 227.87M   144MB/s    in 1.6s    \n",
            "\n",
            "2021-04-06 08:02:58 (144 MB/s) - ‘/tmp/training_cleaned.csv’ saved [238942690/238942690]\n",
            "\n"
          ],
          "name": "stdout"
        }
      ]
    },
    {
      "cell_type": "code",
      "metadata": {
        "colab": {
          "base_uri": "https://localhost:8080/"
        },
        "id": "3kxblBUjEUX-",
        "outputId": "e169cf9a-b1ff-4a04-8f28-734380486d21"
      },
      "source": [
        "print(num_sentences)\n",
        "print(len(corpus))\n",
        "print(corpus[1])\n",
        "\n",
        "# Expected Output:\n",
        "# 1600000\n",
        "# 1600000\n",
        "# [\"is upset that he can't update his Facebook by texting it... and might cry as a result  School today also. Blah!\", 0]"
      ],
      "execution_count": 4,
      "outputs": [
        {
          "output_type": "stream",
          "text": [
            "1600000\n",
            "1600000\n",
            "[\"is upset that he can't update his Facebook by texting it... and might cry as a result  School today also. Blah!\", 0]\n"
          ],
          "name": "stdout"
        }
      ]
    },
    {
      "cell_type": "code",
      "metadata": {
        "id": "ohOGz24lsNAD"
      },
      "source": [
        "sentences=[]\n",
        "labels=[]\n",
        "random.shuffle(corpus)\n",
        "for x in range(training_size):\n",
        "    sentences.append(corpus[x][0])\n",
        "    labels.append(corpus[x][1])\n",
        "\n",
        "\n",
        "tokenizer = Tokenizer()\n",
        "tokenizer.fit_on_texts(sentences)\n",
        "\n",
        "word_index = tokenizer.word_index\n",
        "vocab_size=len(word_index)\n",
        "\n",
        "sequences = tokenizer.texts_to_sequences(sentences)\n",
        "padded = pad_sequences(sequences, maxlen=max_length, padding=padding_type, \n",
        "                       truncating=trunc_type)\n",
        "\n",
        "split = int(test_portion * training_size)\n",
        "\n",
        "test_sequences = np.array(padded[split:])\n",
        "training_sequences = np.array(padded[:split])\n",
        "test_labels = np.array(labels[split:])\n",
        "training_labels = np.array(labels[:split])"
      ],
      "execution_count": 5,
      "outputs": []
    },
    {
      "cell_type": "code",
      "metadata": {
        "colab": {
          "base_uri": "https://localhost:8080/"
        },
        "id": "gIrtRem1En3N",
        "outputId": "c1e919f8-73b7-45a8-b5f9-95c626a03f33"
      },
      "source": [
        "print(vocab_size)\n",
        "print(word_index['i'])\n",
        "# Expected Output\n",
        "# 138858\n",
        "# 1"
      ],
      "execution_count": 6,
      "outputs": [
        {
          "output_type": "stream",
          "text": [
            "138665\n",
            "1\n"
          ],
          "name": "stdout"
        }
      ]
    },
    {
      "cell_type": "code",
      "metadata": {
        "colab": {
          "base_uri": "https://localhost:8080/"
        },
        "id": "C1zdgJkusRh0",
        "outputId": "324342f9-503e-4794-8404-0acddac24fec"
      },
      "source": [
        "# Note this is the 100 dimension version of GloVe from Stanford\n",
        "# I unzipped and hosted it on my site to make this notebook easier\n",
        "!wget --no-check-certificate \\\n",
        "    https://resources.oreilly.com/conferences/natural-language-processing-with-deep-learning/raw/master/data/glove.6B.100d.txt \\\n",
        "    -O /tmp/glove.6B.100d.txt\n",
        "embeddings_index = {};\n",
        "with open('/tmp/glove.6B.100d.txt') as f:\n",
        "    for line in f:\n",
        "        values = line.split();\n",
        "        word = values[0];\n",
        "        coefs = np.asarray(values[1:], dtype='float32');\n",
        "        embeddings_index[word] = coefs;\n",
        "\n",
        "embeddings_matrix = np.zeros((vocab_size+1, embedding_dim));\n",
        "for word, i in word_index.items():\n",
        "    embedding_vector = embeddings_index.get(word);\n",
        "    if embedding_vector is not None:\n",
        "        embeddings_matrix[i] = embedding_vector;"
      ],
      "execution_count": 7,
      "outputs": [
        {
          "output_type": "stream",
          "text": [
            "--2021-04-06 08:03:11--  https://resources.oreilly.com/conferences/natural-language-processing-with-deep-learning/raw/master/data/glove.6B.100d.txt\n",
            "Resolving resources.oreilly.com (resources.oreilly.com)... 199.27.144.213, 199.27.144.212\n",
            "Connecting to resources.oreilly.com (resources.oreilly.com)|199.27.144.213|:443... connected.\n",
            "HTTP request sent, awaiting response... 200 OK\n",
            "Length: 347116733 (331M) [text/plain]\n",
            "Saving to: ‘/tmp/glove.6B.100d.txt’\n",
            "\n",
            "/tmp/glove.6B.100d. 100%[===================>] 331.04M  21.8MB/s    in 15s     \n",
            "\n",
            "2021-04-06 08:03:27 (21.5 MB/s) - ‘/tmp/glove.6B.100d.txt’ saved [347116733/347116733]\n",
            "\n"
          ],
          "name": "stdout"
        }
      ]
    },
    {
      "cell_type": "code",
      "metadata": {
        "colab": {
          "base_uri": "https://localhost:8080/"
        },
        "id": "71NLk_lpFLNt",
        "outputId": "c4331083-9e03-4983-bb56-9fbe19d94004"
      },
      "source": [
        "print(len(embeddings_matrix))\n",
        "# Expected Output\n",
        "# 138859"
      ],
      "execution_count": 8,
      "outputs": [
        {
          "output_type": "stream",
          "text": [
            "138666\n"
          ],
          "name": "stdout"
        }
      ]
    },
    {
      "cell_type": "code",
      "metadata": {
        "colab": {
          "base_uri": "https://localhost:8080/"
        },
        "id": "iKKvbuEBOGFz",
        "outputId": "affd4bc3-e758-483a-b80a-cfa0cfb0a878"
      },
      "source": [
        "model = tf.keras.Sequential([\n",
        "    tf.keras.layers.Embedding(vocab_size+1, embedding_dim, input_length=max_length, \n",
        "                              weights=[embeddings_matrix], trainable=False),\n",
        "    # YOUR CODE HERE - experiment with combining different types, such as convolutions and LSTMs\n",
        "    tf.keras.layers.Dropout(0.3),\n",
        "    tf.keras.layers.Conv1D(64, 3, activation='relu'),\n",
        "    tf.keras.layers.MaxPooling1D(),\n",
        "    tf.keras.layers.Dropout(0.6),\n",
        "    tf.keras.layers.Bidirectional(tf.keras.layers.LSTM(32)),\n",
        "    tf.keras.layers.Dropout(0.2),\n",
        "    tf.keras.layers.Dense(32, activation='relu'),\n",
        "    tf.keras.layers.Dense(1, activation='sigmoid')\n",
        "])\n",
        "model.compile(loss='binary_crossentropy',optimizer='adam',metrics=['accuracy'])\n",
        "model.summary()\n",
        "\n",
        "num_epochs = 50\n",
        "history = model.fit(training_sequences, training_labels, epochs=num_epochs, \n",
        "                    validation_data=(test_sequences, test_labels), verbose=2)\n",
        "\n",
        "print(\"Training Complete\")\n"
      ],
      "execution_count": 9,
      "outputs": [
        {
          "output_type": "stream",
          "text": [
            "Model: \"sequential\"\n",
            "_________________________________________________________________\n",
            "Layer (type)                 Output Shape              Param #   \n",
            "=================================================================\n",
            "embedding (Embedding)        (None, 16, 100)           13866600  \n",
            "_________________________________________________________________\n",
            "dropout (Dropout)            (None, 16, 100)           0         \n",
            "_________________________________________________________________\n",
            "conv1d (Conv1D)              (None, 14, 64)            19264     \n",
            "_________________________________________________________________\n",
            "max_pooling1d (MaxPooling1D) (None, 7, 64)             0         \n",
            "_________________________________________________________________\n",
            "dropout_1 (Dropout)          (None, 7, 64)             0         \n",
            "_________________________________________________________________\n",
            "bidirectional (Bidirectional (None, 64)                24832     \n",
            "_________________________________________________________________\n",
            "dropout_2 (Dropout)          (None, 64)                0         \n",
            "_________________________________________________________________\n",
            "dense (Dense)                (None, 32)                2080      \n",
            "_________________________________________________________________\n",
            "dense_1 (Dense)              (None, 1)                 33        \n",
            "=================================================================\n",
            "Total params: 13,912,809\n",
            "Trainable params: 46,209\n",
            "Non-trainable params: 13,866,600\n",
            "_________________________________________________________________\n",
            "Epoch 1/50\n",
            "500/500 - 17s - loss: 0.6631 - accuracy: 0.5931 - val_loss: 0.6100 - val_accuracy: 0.6708\n",
            "Epoch 2/50\n",
            "500/500 - 12s - loss: 0.6222 - accuracy: 0.6538 - val_loss: 0.5888 - val_accuracy: 0.6844\n",
            "Epoch 3/50\n",
            "500/500 - 12s - loss: 0.6090 - accuracy: 0.6656 - val_loss: 0.5784 - val_accuracy: 0.6909\n",
            "Epoch 4/50\n",
            "500/500 - 12s - loss: 0.5964 - accuracy: 0.6738 - val_loss: 0.5654 - val_accuracy: 0.7060\n",
            "Epoch 5/50\n",
            "500/500 - 12s - loss: 0.5902 - accuracy: 0.6816 - val_loss: 0.5575 - val_accuracy: 0.7092\n",
            "Epoch 6/50\n",
            "500/500 - 12s - loss: 0.5807 - accuracy: 0.6892 - val_loss: 0.5644 - val_accuracy: 0.7052\n",
            "Epoch 7/50\n",
            "500/500 - 12s - loss: 0.5770 - accuracy: 0.6915 - val_loss: 0.5514 - val_accuracy: 0.7166\n",
            "Epoch 8/50\n",
            "500/500 - 12s - loss: 0.5700 - accuracy: 0.7003 - val_loss: 0.5447 - val_accuracy: 0.7193\n",
            "Epoch 9/50\n",
            "500/500 - 12s - loss: 0.5683 - accuracy: 0.6989 - val_loss: 0.5440 - val_accuracy: 0.7204\n",
            "Epoch 10/50\n",
            "500/500 - 12s - loss: 0.5670 - accuracy: 0.6996 - val_loss: 0.5443 - val_accuracy: 0.7210\n",
            "Epoch 11/50\n",
            "500/500 - 12s - loss: 0.5614 - accuracy: 0.7066 - val_loss: 0.5435 - val_accuracy: 0.7206\n",
            "Epoch 12/50\n",
            "500/500 - 12s - loss: 0.5565 - accuracy: 0.7107 - val_loss: 0.5379 - val_accuracy: 0.7235\n",
            "Epoch 13/50\n",
            "500/500 - 12s - loss: 0.5551 - accuracy: 0.7124 - val_loss: 0.5414 - val_accuracy: 0.7250\n",
            "Epoch 14/50\n",
            "500/500 - 12s - loss: 0.5557 - accuracy: 0.7078 - val_loss: 0.5357 - val_accuracy: 0.7264\n",
            "Epoch 15/50\n",
            "500/500 - 12s - loss: 0.5472 - accuracy: 0.7203 - val_loss: 0.5340 - val_accuracy: 0.7293\n",
            "Epoch 16/50\n",
            "500/500 - 12s - loss: 0.5438 - accuracy: 0.7167 - val_loss: 0.5426 - val_accuracy: 0.7200\n",
            "Epoch 17/50\n",
            "500/500 - 12s - loss: 0.5452 - accuracy: 0.7172 - val_loss: 0.5361 - val_accuracy: 0.7261\n",
            "Epoch 18/50\n",
            "500/500 - 12s - loss: 0.5428 - accuracy: 0.7205 - val_loss: 0.5341 - val_accuracy: 0.7290\n",
            "Epoch 19/50\n",
            "500/500 - 12s - loss: 0.5381 - accuracy: 0.7250 - val_loss: 0.5300 - val_accuracy: 0.7303\n",
            "Epoch 20/50\n",
            "500/500 - 12s - loss: 0.5435 - accuracy: 0.7206 - val_loss: 0.5330 - val_accuracy: 0.7284\n",
            "Epoch 21/50\n",
            "500/500 - 12s - loss: 0.5402 - accuracy: 0.7212 - val_loss: 0.5323 - val_accuracy: 0.7314\n",
            "Epoch 22/50\n",
            "500/500 - 12s - loss: 0.5363 - accuracy: 0.7276 - val_loss: 0.5325 - val_accuracy: 0.7297\n",
            "Epoch 23/50\n",
            "500/500 - 12s - loss: 0.5355 - accuracy: 0.7261 - val_loss: 0.5309 - val_accuracy: 0.7295\n",
            "Epoch 24/50\n",
            "500/500 - 12s - loss: 0.5379 - accuracy: 0.7240 - val_loss: 0.5334 - val_accuracy: 0.7302\n",
            "Epoch 25/50\n",
            "500/500 - 12s - loss: 0.5359 - accuracy: 0.7284 - val_loss: 0.5315 - val_accuracy: 0.7314\n",
            "Epoch 26/50\n",
            "500/500 - 12s - loss: 0.5328 - accuracy: 0.7321 - val_loss: 0.5262 - val_accuracy: 0.7329\n",
            "Epoch 27/50\n",
            "500/500 - 12s - loss: 0.5315 - accuracy: 0.7295 - val_loss: 0.5291 - val_accuracy: 0.7341\n",
            "Epoch 28/50\n",
            "500/500 - 12s - loss: 0.5324 - accuracy: 0.7263 - val_loss: 0.5269 - val_accuracy: 0.7346\n",
            "Epoch 29/50\n",
            "500/500 - 12s - loss: 0.5281 - accuracy: 0.7377 - val_loss: 0.5291 - val_accuracy: 0.7321\n",
            "Epoch 30/50\n",
            "500/500 - 12s - loss: 0.5267 - accuracy: 0.7356 - val_loss: 0.5266 - val_accuracy: 0.7349\n",
            "Epoch 31/50\n",
            "500/500 - 12s - loss: 0.5315 - accuracy: 0.7333 - val_loss: 0.5336 - val_accuracy: 0.7309\n",
            "Epoch 32/50\n",
            "500/500 - 12s - loss: 0.5274 - accuracy: 0.7321 - val_loss: 0.5259 - val_accuracy: 0.7337\n",
            "Epoch 33/50\n",
            "500/500 - 12s - loss: 0.5293 - accuracy: 0.7297 - val_loss: 0.5245 - val_accuracy: 0.7350\n",
            "Epoch 34/50\n",
            "500/500 - 12s - loss: 0.5231 - accuracy: 0.7374 - val_loss: 0.5249 - val_accuracy: 0.7355\n",
            "Epoch 35/50\n",
            "500/500 - 12s - loss: 0.5251 - accuracy: 0.7347 - val_loss: 0.5251 - val_accuracy: 0.7351\n",
            "Epoch 36/50\n",
            "500/500 - 12s - loss: 0.5239 - accuracy: 0.7359 - val_loss: 0.5248 - val_accuracy: 0.7323\n",
            "Epoch 37/50\n",
            "500/500 - 12s - loss: 0.5227 - accuracy: 0.7345 - val_loss: 0.5248 - val_accuracy: 0.7352\n",
            "Epoch 38/50\n",
            "500/500 - 12s - loss: 0.5237 - accuracy: 0.7379 - val_loss: 0.5333 - val_accuracy: 0.7300\n",
            "Epoch 39/50\n",
            "500/500 - 12s - loss: 0.5204 - accuracy: 0.7344 - val_loss: 0.5296 - val_accuracy: 0.7329\n",
            "Epoch 40/50\n",
            "500/500 - 12s - loss: 0.5239 - accuracy: 0.7321 - val_loss: 0.5334 - val_accuracy: 0.7303\n",
            "Epoch 41/50\n",
            "500/500 - 12s - loss: 0.5180 - accuracy: 0.7432 - val_loss: 0.5239 - val_accuracy: 0.7360\n",
            "Epoch 42/50\n",
            "500/500 - 12s - loss: 0.5199 - accuracy: 0.7354 - val_loss: 0.5275 - val_accuracy: 0.7356\n",
            "Epoch 43/50\n",
            "500/500 - 12s - loss: 0.5158 - accuracy: 0.7414 - val_loss: 0.5246 - val_accuracy: 0.7374\n",
            "Epoch 44/50\n",
            "500/500 - 12s - loss: 0.5204 - accuracy: 0.7391 - val_loss: 0.5245 - val_accuracy: 0.7361\n",
            "Epoch 45/50\n",
            "500/500 - 12s - loss: 0.5202 - accuracy: 0.7349 - val_loss: 0.5282 - val_accuracy: 0.7345\n",
            "Epoch 46/50\n",
            "500/500 - 12s - loss: 0.5161 - accuracy: 0.7418 - val_loss: 0.5273 - val_accuracy: 0.7347\n",
            "Epoch 47/50\n",
            "500/500 - 12s - loss: 0.5177 - accuracy: 0.7414 - val_loss: 0.5281 - val_accuracy: 0.7352\n",
            "Epoch 48/50\n",
            "500/500 - 12s - loss: 0.5189 - accuracy: 0.7406 - val_loss: 0.5239 - val_accuracy: 0.7351\n",
            "Epoch 49/50\n",
            "500/500 - 12s - loss: 0.5149 - accuracy: 0.7418 - val_loss: 0.5244 - val_accuracy: 0.7348\n",
            "Epoch 50/50\n",
            "500/500 - 12s - loss: 0.5151 - accuracy: 0.7420 - val_loss: 0.5280 - val_accuracy: 0.7336\n",
            "Training Complete\n"
          ],
          "name": "stdout"
        }
      ]
    },
    {
      "cell_type": "code",
      "metadata": {
        "colab": {
          "base_uri": "https://localhost:8080/",
          "height": 606
        },
        "id": "qxju4ItJKO8F",
        "outputId": "3796e600-12c9-4f37-880f-feb2f62bd007"
      },
      "source": [
        "import matplotlib.image  as mpimg\n",
        "import matplotlib.pyplot as plt\n",
        "\n",
        "#-----------------------------------------------------------\n",
        "# Retrieve a list of list results on training and test data\n",
        "# sets for each training epoch\n",
        "#-----------------------------------------------------------\n",
        "acc=history.history['accuracy']\n",
        "val_acc=history.history['val_accuracy']\n",
        "loss=history.history['loss']\n",
        "val_loss=history.history['val_loss']\n",
        "\n",
        "epochs=range(len(acc)) # Get number of epochs\n",
        "\n",
        "#------------------------------------------------\n",
        "# Plot training and validation accuracy per epoch\n",
        "#------------------------------------------------\n",
        "plt.plot(epochs, acc, 'r')\n",
        "plt.plot(epochs, val_acc, 'b')\n",
        "plt.title('Training and validation accuracy')\n",
        "plt.xlabel(\"Epochs\")\n",
        "plt.ylabel(\"Accuracy\")\n",
        "plt.legend([\"Accuracy\", \"Validation Accuracy\"])\n",
        "\n",
        "plt.figure()\n",
        "\n",
        "#------------------------------------------------\n",
        "# Plot training and validation loss per epoch\n",
        "#------------------------------------------------\n",
        "plt.plot(epochs, loss, 'r')\n",
        "plt.plot(epochs, val_loss, 'b')\n",
        "plt.title('Training and validation loss')\n",
        "plt.xlabel(\"Epochs\")\n",
        "plt.ylabel(\"Loss\")\n",
        "plt.legend([\"Loss\", \"Validation Loss\"])\n",
        "\n",
        "plt.figure()\n",
        "\n",
        "\n",
        "# Expected Output\n",
        "# A chart where the validation loss does not increase sharply!"
      ],
      "execution_count": 10,
      "outputs": [
        {
          "output_type": "execute_result",
          "data": {
            "text/plain": [
              "<Figure size 432x288 with 0 Axes>"
            ]
          },
          "metadata": {
            "tags": []
          },
          "execution_count": 10
        },
        {
          "output_type": "display_data",
          "data": {
            "image/png": "[encoded data removed]",
            "text/plain": [
              "<Figure size 432x288 with 1 Axes>"
            ]
          },
          "metadata": {
            "tags": [],
            "needs_background": "light"
          }
        },
        {
          "output_type": "display_data",
          "data": {
            "image/png": "[encoded data removed]",
            "text/plain": [
              "<Figure size 432x288 with 1 Axes>"
            ]
          },
          "metadata": {
            "tags": [],
            "needs_background": "light"
          }
        },
        {
          "output_type": "display_data",
          "data": {
            "text/plain": [
              "<Figure size 432x288 with 0 Axes>"
            ]
          },
          "metadata": {
            "tags": []
          }
        }
      ]
    }
  ]
}